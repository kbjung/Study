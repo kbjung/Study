{
 "cells": [
  {
   "cell_type": "code",
   "execution_count": 2,
   "metadata": {},
   "outputs": [
    {
     "name": "stdout",
     "output_type": "stream",
     "text": [
      "완료! 출력 파일: 2025.09.04.목 창업 멤버 회의2_20250905_200110.txt\n"
     ]
    }
   ],
   "source": [
    "import json\n",
    "\n",
    "# 경로 설정\n",
    "file_name = '2025.09.04.목 창업 멤버 회의2_20250905_200110'\n",
    "input_json_path = f\"{file_name}.json\"  # 원본 JSON 파일 경로\n",
    "output_txt_path = f\"{file_name}.txt\"        # 출력할 텍스트 파일 경로\n",
    "\n",
    "# 밀리초 → \"MM:SS.CS\" 포맷 변환 함수\n",
    "def format_time(ms):\n",
    "    total_seconds = ms / 1000\n",
    "    minutes = int(total_seconds // 60)\n",
    "    seconds = int(total_seconds % 60)\n",
    "    centiseconds = int((total_seconds * 100) % 100)\n",
    "    return f\"{minutes:02d}:{seconds:02d}.{centiseconds:02d}\"\n",
    "\n",
    "# JSON 로드\n",
    "with open(input_json_path, \"r\", encoding=\"utf-8\") as f:\n",
    "    data = json.load(f)\n",
    "\n",
    "segments = data.get(\"segments\", [])\n",
    "lines = []\n",
    "\n",
    "# 정리된 텍스트 작성\n",
    "for seg in segments:\n",
    "    start = format_time(seg[\"start\"])\n",
    "    end = format_time(seg[\"end\"])\n",
    "    speaker = seg.get(\"speaker\", {}).get(\"name\", \"화자미상\")\n",
    "    text = seg.get(\"textEdited\", seg.get(\"text\", \"\")).strip()\n",
    "\n",
    "    if text:  # 빈 텍스트는 제외\n",
    "        lines.append(f\"{start} - {end} {speaker}\\n{text}\\n\")\n",
    "\n",
    "# 텍스트 파일로 저장\n",
    "with open(output_txt_path, \"w\", encoding=\"utf-8\") as f:\n",
    "    f.write(\"\\n\".join(lines))\n",
    "\n",
    "print(f\"완료! 출력 파일: {output_txt_path}\")\n"
   ]
  },
  {
   "cell_type": "code",
   "execution_count": null,
   "metadata": {},
   "outputs": [],
   "source": []
  }
 ],
 "metadata": {
  "kernelspec": {
   "display_name": "base",
   "language": "python",
   "name": "python3"
  },
  "language_info": {
   "codemirror_mode": {
    "name": "ipython",
    "version": 3
   },
   "file_extension": ".py",
   "mimetype": "text/x-python",
   "name": "python",
   "nbconvert_exporter": "python",
   "pygments_lexer": "ipython3",
   "version": "3.12.7"
  }
 },
 "nbformat": 4,
 "nbformat_minor": 2
}
