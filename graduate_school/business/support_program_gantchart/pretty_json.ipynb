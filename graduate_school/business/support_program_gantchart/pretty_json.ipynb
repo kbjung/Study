{
 "cells": [
  {
   "cell_type": "code",
   "execution_count": 1,
   "metadata": {},
   "outputs": [
    {
     "name": "stdout",
     "output_type": "stream",
     "text": [
      "정리된 JSON 저장 완료: 2025.09.04.목 인하대병원 미팅_pretty.json\n"
     ]
    }
   ],
   "source": [
    "import json\n",
    "\n",
    "# 원본 JSON 파일 경로\n",
    "file_name = '2025.09.04.목 인하대병원 미팅'\n",
    "input_path = f\"{file_name}.json\"\n",
    "\n",
    "# 보기 좋게 정리된 JSON 출력 파일 경로\n",
    "output_path = f\"{file_name}_pretty.json\"\n",
    "\n",
    "# JSON 파일 읽기\n",
    "with open(input_path, \"r\", encoding=\"utf-8\") as f:\n",
    "    data = json.load(f)\n",
    "\n",
    "# 예쁘게 줄바꿈 + 들여쓰기(4칸) 형식으로 저장\n",
    "with open(output_path, \"w\", encoding=\"utf-8\") as f:\n",
    "    json.dump(data, f, ensure_ascii=False, indent=4)\n",
    "\n",
    "print(f\"정리된 JSON 저장 완료: {output_path}\")\n"
   ]
  }
 ],
 "metadata": {
  "kernelspec": {
   "display_name": "base",
   "language": "python",
   "name": "python3"
  },
  "language_info": {
   "codemirror_mode": {
    "name": "ipython",
    "version": 3
   },
   "file_extension": ".py",
   "mimetype": "text/x-python",
   "name": "python",
   "nbconvert_exporter": "python",
   "pygments_lexer": "ipython3",
   "version": "3.12.7"
  }
 },
 "nbformat": 4,
 "nbformat_minor": 2
}
