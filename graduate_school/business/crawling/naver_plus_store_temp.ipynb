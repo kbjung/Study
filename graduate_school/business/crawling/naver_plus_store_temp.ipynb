{
 "cells": [
  {
   "cell_type": "code",
   "execution_count": 98,
   "metadata": {},
   "outputs": [],
   "source": [
    "from selenium import webdriver\n",
    "from selenium.webdriver.common.by import By\n",
    "from selenium.webdriver.common.keys import Keys\n",
    "from selenium.webdriver.chrome.service import Service\n",
    "from webdriver_manager.chrome import ChromeDriverManager\n",
    "\n",
    "from bs4 import BeautifulSoup\n",
    "import time, random\n",
    "import pandas as pd\n",
    "import json"
   ]
  },
  {
   "cell_type": "code",
   "execution_count": 99,
   "metadata": {},
   "outputs": [],
   "source": [
    "# 1. 웹 드라이버 설정\n",
    "service = Service(ChromeDriverManager().install())\n",
    "driver = webdriver.Chrome(service=service)\n",
    "driver.implicitly_wait(10)"
   ]
  },
  {
   "cell_type": "code",
   "execution_count": 111,
   "metadata": {},
   "outputs": [],
   "source": [
    "# 2. 네이버 쇼핑 페이지로 이동\n",
    "driver.get(\"https://shopping.naver.com/ns/home\")\n",
    "time.sleep(random.uniform(1, 2))"
   ]
  },
  {
   "cell_type": "code",
   "execution_count": 118,
   "metadata": {},
   "outputs": [],
   "source": [
    "# 3. 검색창을 찾아 검색어 입력\n",
    "search_keyword = \"탈모\"\n",
    "search_box_before = driver.find_element(By.CSS_SELECTOR, 'input#input_text')\n",
    "search_box_before.click()"
   ]
  },
  {
   "cell_type": "code",
   "execution_count": null,
   "metadata": {},
   "outputs": [],
   "source": [
    "search_box_before = driver.find_element(By.CSS_SELECTOR, 'input#input_text')\n",
    "search_box_before.send_keys(search_keyword)\n",
    "search_box_before.send_keys(Keys.ENTER)\n",
    "time.sleep(random.uniform(1, 2))"
   ]
  },
  {
   "cell_type": "code",
   "execution_count": 124,
   "metadata": {},
   "outputs": [
    {
     "name": "stdout",
     "output_type": "stream",
     "text": [
      "페이지 끝까지 스크롤하여 모든 상품을 로드합니다...\n",
      "스크롤 완료.\n"
     ]
    }
   ],
   "source": [
    "# 4. 페이지 끝까지 스크롤하여 모든 상품 로드\n",
    "print(\"페이지 끝까지 스크롤하여 모든 상품을 로드합니다...\")\n",
    "last_height = driver.execute_script(\"return document.body.scrollHeight\")\n",
    "while True:\n",
    "    driver.execute_script(\"window.scrollTo(0, document.body.scrollHeight);\")\n",
    "    time.sleep(random.uniform(1.5, 2.5)) # 페이지 로딩 대기\n",
    "    new_height = driver.execute_script(\"return document.body.scrollHeight\")\n",
    "    if new_height == last_height:\n",
    "        print(\"스크롤 완료.\")\n",
    "        break\n",
    "    last_height = new_height"
   ]
  },
  {
   "cell_type": "code",
   "execution_count": 125,
   "metadata": {},
   "outputs": [
    {
     "data": {
      "text/plain": [
       "'탈모 : 네이버+ 스토어 검색'"
      ]
     },
     "execution_count": 125,
     "metadata": {},
     "output_type": "execute_result"
    }
   ],
   "source": [
    "# 5. 최종 로드된 페이지 소스로 soup 객체 생성\n",
    "html = driver.page_source\n",
    "soup = BeautifulSoup(html, \"html.parser\")\n",
    "soup.title.text"
   ]
  },
  {
   "cell_type": "code",
   "execution_count": 127,
   "metadata": {},
   "outputs": [
    {
     "name": "stdout",
     "output_type": "stream",
     "text": [
      "총 50개의 상품을 수집합니다.\n"
     ]
    }
   ],
   "source": [
    "# 6. 모든 상품 카드 선택\n",
    "composite_card_list = soup.select('div.section_section__8wTvh div#composite-card-list ul.compositeCardList_product_list__Ih4JR li.compositeCardContainer_composite_card_container__jr8cb')\n",
    "print(f\"총 {len(composite_card_list)}개의 상품을 수집합니다.\")"
   ]
  },
  {
   "cell_type": "code",
   "execution_count": 87,
   "metadata": {},
   "outputs": [
    {
     "name": "stdout",
     "output_type": "stream",
     "text": [
      "<div class=\"basicProductCard_basic_product_card__TdrHT basicProductCard_view_type_grid2__vKr1n\">\n",
      " <a aria-labelledby=\"basic_product_card_information_10609048071\" class=\"basicProductCard_link__urzND _nlog_click _nlog_impression_element\" data-shp-abt_exps='[{\"serId\":\"shopping\",\"type\":\"oep\",\"expId\":\"NNS-ARA\",\"varId\":\"3\",\"value\":{\"bucket\":\"2\",\"is_control\":false},\"userType\":\"nnb\",\"provId\":\"\",\"sesnId\":\"\"}]' data-shp-action-uid=\"6930b6a8ba1544a58e1e81f09354a745\" data-shp-area=\"prod.pd\" data-shp-area-dtl='[{\"key\":\"view_type\",\"value\":\"1\"}]' data-shp-area-id=\"pd\" data-shp-area-type=\"slot\" data-shp-contents-dtl='[{\"key\":\"chnl_prod_no\",\"value\":\"10609048071\"},{\"key\":\"nv_mid\",\"value\":\"88153553661\"},{\"key\":\"click_url\",\"value\":\"https://smartstore.naver.com/main/products/10609048071\"},{\"key\":\"price\",\"value\":\"32000\"},{\"key\":\"cat_id\",\"value\":\"50000304\"},{\"key\":\"loungeonly_yn\",\"value\":\"n\"},{\"key\":\"purchase_yn\",\"value\":\"n\"},{\"key\":\"promotion_yn\",\"value\":\"n\"},{\"key\":\"coupontag_yn\",\"value\":\"n\"},{\"key\":\"n_pick_yn\",\"value\":\"n\"},{\"key\":\"nfa_type\",\"value\":\"도착보장\"},{\"key\":\"nfa_arv_ymd\",\"value\":\"2025-09-10\"},{\"key\":\"prod_nm\",\"value\":\"바이브랩 4주 솔루션 초록 탈모 샴푸 우디플로럴머스크, 500ml, 1개\"}]' data-shp-contents-grp=\"ad\" data-shp-contents-id=\"nad-a001-02-000000336880267\" data-shp-contents-provider-dtl='[{\"key\":\"chnl_no\",\"value\":101236937},{\"key\":\"adsr_type\",\"value\":\"smartstore\"}]' data-shp-contents-provider-id=\"4083158\" data-shp-contents-provider-type=\"mall_seq\" data-shp-contents-rank=\"1\" data-shp-contents-type=\"SA_prod\" data-shp-inventory=\"prod\" data-shp-nsc=\"svc.shopping.plusall\" data-shp-order_con='[{\"key\":\"sort\",\"value\":\"추천순\"},{\"key\":\"resort\",\"value\":\"ON\"}]' data-shp-page-key=\"100407255\" data-shp-sti=\"shopping\" data-shp-temp='[{\"key\":\"isps_yn\",\"value\":\"n\"}]' href=\"https://ader.naver.com/v1/6lCNUDBneamHvirMc4ysKHd5CRr_GmpH2DRQwqVL8ZptzM_vmckiYZ0Vg2RU0py-H7knNu9IDG_Z5IQMh6du02kvADikZBRPD-AfPlxBKgWOSzv9shS6mvwz9Jl-PMOBnCK3lDu-aSsC-nWanoFQFHORaGWRbK1YhjLdJP4Hh_tGVMKJXtfilH9sR5A7uIJ7NI6XBMFEHoyZEI1aAvT6Kr3sWYkc-RBo4d9PIcp1ueUXCY-YCMSKBwTb-T-V8EkWtT-Ef29Fi249qs9re5jR64Yegrk4D5CD_fxLViK1b-1HZFFtX2DnObKw5RFmWIsIRrgiKnrOC71UwKFJ-eqE9GcygHB1nJjY6p0pByDMRt67gT7nqfx4Ohs_6XsCOSzvWOLsrcyz-G2UsiHfX3N0Qoz18BOTpaEmvFHrGYU5Rlz9XR4XkHa6VNn0v1GrRv5gUym6E3EYd99BYSrWNeD-UQ==?c=pc.nplusstore.npla&amp;t=0\" target=\"_blank\">\n",
      " </a>\n",
      " <div class=\"productCardThumbnail_product_card_thumbnail__TlGeQ product_card_thumbnail\">\n",
      "  <div class=\"productCardThumbnail_thumbnail__KzO1N\">\n",
      "   <img alt=\"\" class=\"autoFitImg_auto_fit_img__fIpj4 autoFitImg_full_height__QCTGq productCardThumbnail_image__Li6iz scale\" data-src=\"https://searchad-phinf.pstatic.net/MjAyNTAzMTNfMjIx/MDAxNzQxODQyMTA5MDAz.yAvs5k6Al3UGUrXKwNDtFAweIidFjbFwos2up8BJsKAg.rStaRlwuh56Ngfbq70az2n7KdpwyfeK6iZs1GEk9e2kg.PNG/945568-e98c887d-c3b2-414e-8037-19ae5b6521f3.png?type=f300_300\" src=\"https://searchad-phinf.pstatic.net/MjAyNTAzMTNfMjIx/MDAxNzQxODQyMTA5MDAz.yAvs5k6Al3UGUrXKwNDtFAweIidFjbFwos2up8BJsKAg.rStaRlwuh56Ngfbq70az2n7KdpwyfeK6iZs1GEk9e2kg.PNG/945568-e98c887d-c3b2-414e-8037-19ae5b6521f3.png?type=f300_300\" style=\"opacity:1\"/>\n",
      "  </div>\n",
      "  <div class=\"productCardThumbnail_wrap_product_keep_button__XFwo_\">\n",
      "   <button class=\"productKeepButton_product_keep_button__Tvcf_ _nlog_click _nlog_impression_element\" data-shp-abt_exps='[{\"serId\":\"shopping\",\"type\":\"oep\",\"expId\":\"NNS-ARA\",\"varId\":\"3\",\"value\":{\"bucket\":\"2\",\"is_control\":false},\"userType\":\"nnb\",\"provId\":\"\",\"sesnId\":\"\"}]' data-shp-area=\"prod.mylist\" data-shp-area-id=\"mylist\" data-shp-area-type=\"slot\" data-shp-contents-dtl='[{\"key\":\"chnl_prod_no\",\"value\":\"10609048071\"},{\"key\":\"nv_mid\",\"value\":\"88153553661\"},{\"key\":\"click_url\",\"value\":\"https://smartstore.naver.com/main/products/10609048071\"},{\"key\":\"price\",\"value\":\"32000\"},{\"key\":\"cat_id\",\"value\":\"50000304\"},{\"key\":\"loungeonly_yn\",\"value\":\"n\"},{\"key\":\"purchase_yn\",\"value\":\"n\"},{\"key\":\"promotion_yn\",\"value\":\"n\"},{\"key\":\"coupontag_yn\",\"value\":\"n\"},{\"key\":\"n_pick_yn\",\"value\":\"n\"},{\"key\":\"nfa_type\",\"value\":\"도착보장\"},{\"key\":\"nfa_arv_ymd\",\"value\":\"2025-09-10\"},{\"key\":\"prod_nm\",\"value\":\"바이브랩 4주 솔루션 초록 탈모 샴푸 우디플로럴머스크, 500ml, 1개\"}]' data-shp-contents-grp=\"ad\" data-shp-contents-id=\"nad-a001-02-000000336880267\" data-shp-contents-provider-id=\"101236937\" data-shp-contents-provider-type=\"chnl_no\" data-shp-contents-type=\"SA_mylist\" data-shp-inventory=\"prod\" data-shp-nsc=\"svc.shopping.plusall\" data-shp-order_con='[{\"key\":\"sort\",\"value\":\"추천순\"},{\"key\":\"resort\",\"value\":\"ON\"}]' data-shp-page-key=\"100407255\" data-shp-sti=\"shopping\" type=\"button\">\n",
      "    <span class=\"productKeepButton_icon_area__iknoe\">\n",
      "     <svg class=\"productKeepButton_icon__1zm6d\" fill=\"none\" height=\"16\" viewbox=\"0 0 16 16\" width=\"16\" xmlns=\"http://www.w3.org/2000/svg\">\n",
      "      <path d=\"M10.81 6.142 8.785 8.088a1.423 1.423 0 0 1-1.93 0 1.25 1.25 0 0 1-.398-.91c0-.342.141-.665.398-.908l2.077-2.005a2.7 2.7 0 0 1 1.892-.765c.713 0 1.385.27 1.89.765 1 .976 1.049 2.551.131 3.567L7.99 12.5 3.286 7.975a2.58 2.58 0 0 1 0-3.71 2.68 2.68 0 0 1 1.89-.765c.617 0 1.204.203 1.68.579\" stroke=\"currentColor\" stroke-linecap=\"round\" stroke-linejoin=\"round\">\n",
      "      </path>\n",
      "     </svg>\n",
      "    </span>\n",
      "    <span class=\"blind\">\n",
      "     바이브랩 4주 솔루션 초록 탈모 샴푸 우디플로럴머스크, 500ml, 1개\n",
      "     <!-- -->\n",
      "     찜하기\n",
      "    </span>\n",
      "   </button>\n",
      "  </div>\n",
      " </div>\n",
      " <div class=\"basicProductCardInformation_basic_product_card_information__7v_uc basicProductCardInformation_view_type_grid2__mlh6E\" id=\"basic_product_card_information_10609048071\">\n",
      "  <div class=\"productCardMallLink_product_card_mall_link__H7GC2 productCardMallLink_view_type_grid2__ou5fk\">\n",
      "   <div class=\"productCardMallLink_advertisement_area__F7oL8\">\n",
      "    <span class=\"advertisementTooltipButton_advertisement_tooltip_button__GCy9w\">\n",
      "     <button aria-describedby=\":R14k1cqilafnrkq:\" class=\"advertisementTooltipButton_link__F7DaV _nlog_click\" data-shp-abt_exps='[{\"serId\":\"shopping\",\"type\":\"oep\",\"expId\":\"NNS-ARA\",\"varId\":\"3\",\"value\":{\"bucket\":\"2\",\"is_control\":false},\"userType\":\"nnb\",\"provId\":\"\",\"sesnId\":\"\"}]' data-shp-area=\"prod.adinfo\" data-shp-area-id=\"adinfo\" data-shp-area-type=\"action\" data-shp-inventory=\"prod\" data-shp-nsc=\"svc.shopping.plusall\" data-shp-page-key=\"100407255\" data-shp-sti=\"shopping\" type=\"button\">\n",
      "      <svg class=\"advertisementTooltipButton_icon___h160 advertisementTooltipButton_information__CSDa6\" fill=\"none\" height=\"18\" viewbox=\"0 0 40 18\" width=\"40\" xmlns=\"http://www.w3.org/2000/svg\">\n",
      "       <rect height=\"17\" rx=\"8.5\" stroke=\"#D9D9DC\" width=\"39\" x=\"0.5\" y=\"0.5\">\n",
      "       </rect>\n",
      "       <path d=\"M13.096 11.988c0 1.133-1.265 1.826-3.333 1.826s-3.311-.693-3.311-1.826 1.254-1.837 3.311-1.837 3.333.704 3.333 1.837m-.077-7.92v2.629h1.408v.946h-1.408v2.42h-1.122V4.068zm-1.705 4.29.099.836c-1.859.253-4.059.352-6.171.374l-.165-.946c.572 0 1.298 0 2.002-.011V6.697h1.122v1.892h.033c.99-.033 2.387-.143 3.08-.231m-.66-3.762c0 1.364-.077 2.365-.253 3.245L9.29 7.676c.132-.605.242-1.485.242-2.189H5.759v-.891zm-.891 6.468c-1.342 0-2.156.363-2.156.924s.836.924 2.156.924c1.364 0 2.178-.363 2.178-.924s-.825-.924-2.178-.924m13.64 1.375h-8.855v-.913h3.31V8.171h1.123v3.355h4.422zm-1.1-7.436c0 1.694-.033 3.872-.43 5.5l-1.077-.165c.286-1.276.374-3.102.374-4.422h-5.6v-.913z\" fill=\"#77777A\">\n",
      "       </path>\n",
      "       <circle cx=\"30.5\" cy=\"9\" r=\"5.3\" stroke=\"#77777A\" stroke-width=\"0.8\">\n",
      "       </circle>\n",
      "       <path d=\"M30.5 8v4\" stroke=\"#77777A\" stroke-width=\"0.8\">\n",
      "       </path>\n",
      "       <rect fill=\"#77777A\" height=\"1.2\" rx=\"0.6\" width=\"1.2\" x=\"29.9\" y=\"6\">\n",
      "       </rect>\n",
      "      </svg>\n",
      "      <span class=\"blind\">\n",
      "       광고\n",
      "      </span>\n",
      "     </button>\n",
      "    </span>\n",
      "   </div>\n",
      "   <a class=\"productCardMallLink_mall_link__eASxT _nlog_click _nlog_impression_element\" data-shp-abt_exps='[{\"serId\":\"shopping\",\"type\":\"oep\",\"expId\":\"NNS-ARA\",\"varId\":\"3\",\"value\":{\"bucket\":\"2\",\"is_control\":false},\"userType\":\"nnb\",\"provId\":\"\",\"sesnId\":\"\"}]' data-shp-area=\"prod.directstore\" data-shp-area-id=\"directstore\" data-shp-area-type=\"slot\" data-shp-contents-dtl='[{\"key\":\"click_url\",\"value\":\"https://smartstore.naver.com/main/products/10609048071\"}]' data-shp-contents-grp=\"ad\" data-shp-contents-provider-id=\"101236937\" data-shp-contents-provider-type=\"chnl_no\" data-shp-contents-type=\"SA_prod\" data-shp-inventory=\"prod\" data-shp-nsc=\"svc.shopping.plusall\" data-shp-order_con='[{\"key\":\"sort\",\"value\":\"추천순\"},{\"key\":\"resort\",\"value\":\"ON\"}]' data-shp-page-key=\"100407255\" data-shp-sti=\"shopping\" href=\"https://ader.naver.com/v1/6lCNUDBneamHvirMc4ysKHd5CRr_GmpH2DRQwqVL8ZptzM_vmckiYZ0Vg2RU0py-H7knNu9IDG_Z5IQMh6du02kvADikZBRPD-AfPlxBKgWOSzv9shS6mvwz9Jl-PMOBnCK3lDu-aSsC-nWanoFQFHORaGWRbK1YhjLdJP4Hh_tGVMKJXtfilH9sR5A7uIJ7NI6XBMFEHoyZEI1aAvT6Kr3sWYkc-RBo4d9PIcp1ueUXCY-YCMSKBwTb-T-V8EkWtT-Ef29Fi249qs9re5jR64Yegrk4D5CD_fxLViK1b-1HZFFtX2DnObKw5RFmWIsIRrgiKnrOC71UwKFJ-eqE9GcygHB1nJjY6p0pByDMRt67gT7nqfx4Ohs_6XsCOSzvWOLsrcyz-G2UsiHfX3N0Qoz18BOTpaEmvFHrGYU5Rlz9XR4XkHa6VNn0v1GrRv5gUym6E3EYd99BYSrWNeD-UQ==?c=pc.nplusstore.npla&amp;t=0\" target=\"_blank\">\n",
      "    <span class=\"productCardMallLink_mall_name__5oWPw\">\n",
      "     바이브랩\n",
      "    </span>\n",
      "    <div class=\"productCardMallBadge_product_card_mall_badge__UC_vY\">\n",
      "     <span class=\"productCardMallBadge_badge__9RLIo productCardMallBadge_rectangle_badge__AEPVM\">\n",
      "      공식\n",
      "     </span>\n",
      "    </div>\n",
      "    <svg class=\"productCardMallLink_icon_arrow__91Wlm\" fill=\"none\" height=\"12\" viewbox=\"0 0 12 12\" width=\"12\" xmlns=\"http://www.w3.org/2000/svg\">\n",
      "     <path d=\"M4.25 9.75 8 6 4.25 2.25\" stroke=\"currentColor\" stroke-linecap=\"round\" stroke-linejoin=\"round\">\n",
      "     </path>\n",
      "    </svg>\n",
      "   </a>\n",
      "  </div>\n",
      "  <strong class=\"productCardTitle_product_card_title__eQupA productCardTitle_view_type_grid2__4N618\">\n",
      "   바이브랩 4주 솔루션 초록 탈모 샴푸 우디플로럴머스크, 500ml, 1개\n",
      "  </strong>\n",
      "  <div class=\"basicProductCardInformation_wrap_price__largu\">\n",
      "   <div class=\"productCardPrice_product_card_price__4QIH0\">\n",
      "    <div class=\"priceTag_price_tag__T_z8R\">\n",
      "     <div class=\"priceTag_wrap_content__fTsdA\">\n",
      "      <div class=\"priceTag_wrap_price__ZvxPK\">\n",
      "       <span class=\"priceTag_price_area__iHlni\">\n",
      "        <span class=\"priceTag_number__1QW0R\">\n",
      "         32,000\n",
      "        </span>\n",
      "        <span class=\"priceTag_unit__IXyyy\">\n",
      "         원\n",
      "        </span>\n",
      "       </span>\n",
      "      </div>\n",
      "      <div class=\"unitPrice_unit_price__ZUlXI\">\n",
      "       (\n",
      "       <!-- -->\n",
      "       100\n",
      "       <!-- -->\n",
      "       ml\n",
      "       <!-- -->\n",
      "       당\n",
      "       <!-- -->\n",
      "       6,400\n",
      "       <!-- -->\n",
      "       원)\n",
      "      </div>\n",
      "      <div class=\"productCardDeliveryFeeInfo_product_card_delivery_fee_info__yQOwM\" style=\"width:100%\">\n",
      "       <span class=\"blind\">\n",
      "        배송비\n",
      "       </span>\n",
      "       <svg class=\"productCardDeliveryFeeInfo_icon__bKkwu\" fill=\"none\" height=\"16\" viewbox=\"0 0 16 16\" width=\"16\" xmlns=\"http://www.w3.org/2000/svg\">\n",
      "        <g clip-path=\"url(#IconDelivery16X16_svg__a)\" stroke=\"currentColor\">\n",
      "         <path clip-rule=\"evenodd\" d=\"M12.24 11.6a1.201 1.201 0 0 0-2.4 0 1.2 1.2 0 0 0 1.2 1.2 1.2 1.2 0 0 0 1.2-1.2zm-6.08 0a1.2 1.2 0 0 0-1.2-1.2c-.663 0-1.197.537-1.2 1.2a1.203 1.203 0 0 0 1.2 1.2 1.203 1.203 0 0 0 1.2-1.2z\">\n",
      "         </path>\n",
      "         <path d=\"M7.667 4v0a.333.333 0 0 0-.334-.333h-5A.333.333 0 0 0 2 4v4.333m1.667 3.334H2.333A.333.333 0 0 1 2 11.333v-3m0 0h7.333m0-.006v-2.66c0-.184.15-.334.334-.334h2.794c.126 0 .241.072.298.185l1.206 2.412a.33.33 0 0 1 .035.149v3.254c0 .184-.15.334-.333.334h-1.334m-6 0h3.334\" stroke-linecap=\"square\">\n",
      "         </path>\n",
      "        </g>\n",
      "        <defs>\n",
      "         <clippath id=\"IconDelivery16X16_svg__a\">\n",
      "          <path d=\"M0 0h16v16H0z\" fill=\"#fff\">\n",
      "          </path>\n",
      "         </clippath>\n",
      "        </defs>\n",
      "       </svg>\n",
      "       <span class=\"productCardDeliveryFeeInfo_delivery_text__54pei\">\n",
      "        3,000원\n",
      "       </span>\n",
      "      </div>\n",
      "     </div>\n",
      "    </div>\n",
      "   </div>\n",
      "  </div>\n",
      "  <div class=\"basicProductCardInformation_wrap_arrival_guarantee__6xllG\">\n",
      "   <div class=\"arrivalGuaranteeIcon_arrival_guarantee_icon__EJot_ arrivalGuaranteeIcon_medium__XqA_t\" style=\"padding-bottom:2px\">\n",
      "    <span class=\"arrivalGuaranteeIcon_badge__G58Xy arrivalGuaranteeIcon_is_delivery_tomorrow__uvqX_\">\n",
      "     <span class=\"blind\">\n",
      "      N내일배송\n",
      "     </span>\n",
      "    </span>\n",
      "    <span class=\"arrivalGuaranteeIcon_text__ILREx\">\n",
      "     9.10.(수) 도착\n",
      "    </span>\n",
      "   </div>\n",
      "  </div>\n",
      " </div>\n",
      "</div>\n",
      "\n"
     ]
    }
   ],
   "source": [
    "print(composite_card_list[0].select_one('div').prettify())"
   ]
  },
  {
   "cell_type": "code",
   "execution_count": 88,
   "metadata": {},
   "outputs": [
    {
     "name": "stdout",
     "output_type": "stream",
     "text": [
      "[{\"key\":\"chnl_prod_no\",\"value\":\"10609048071\"},{\"key\":\"nv_mid\",\"value\":\"88153553661\"},{\"key\":\"click_url\",\"value\":\"https://smartstore.naver.com/main/products/10609048071\"},{\"key\":\"price\",\"value\":\"32000\"},{\"key\":\"cat_id\",\"value\":\"50000304\"},{\"key\":\"loungeonly_yn\",\"value\":\"n\"},{\"key\":\"purchase_yn\",\"value\":\"n\"},{\"key\":\"promotion_yn\",\"value\":\"n\"},{\"key\":\"coupontag_yn\",\"value\":\"n\"},{\"key\":\"n_pick_yn\",\"value\":\"n\"},{\"key\":\"nfa_type\",\"value\":\"도착보장\"},{\"key\":\"nfa_arv_ymd\",\"value\":\"2025-09-10\"},{\"key\":\"prod_nm\",\"value\":\"바이브랩 4주 솔루션 초록 탈모 샴푸 우디플로럴머스크, 500ml, 1개\"}]\n"
     ]
    }
   ],
   "source": [
    "data_string = (composite_card_list[0].select_one('div a')['data-shp-contents-dtl'])\n",
    "print(data_string)"
   ]
  },
  {
   "cell_type": "code",
   "execution_count": 89,
   "metadata": {},
   "outputs": [
    {
     "name": "stdout",
     "output_type": "stream",
     "text": [
      "[{'key': 'chnl_prod_no', 'value': '10609048071'}, {'key': 'nv_mid', 'value': '88153553661'}, {'key': 'click_url', 'value': 'https://smartstore.naver.com/main/products/10609048071'}, {'key': 'price', 'value': '32000'}, {'key': 'cat_id', 'value': '50000304'}, {'key': 'loungeonly_yn', 'value': 'n'}, {'key': 'purchase_yn', 'value': 'n'}, {'key': 'promotion_yn', 'value': 'n'}, {'key': 'coupontag_yn', 'value': 'n'}, {'key': 'n_pick_yn', 'value': 'n'}, {'key': 'nfa_type', 'value': '도착보장'}, {'key': 'nfa_arv_ymd', 'value': '2025-09-10'}, {'key': 'prod_nm', 'value': '바이브랩 4주 솔루션 초록 탈모 샴푸 우디플로럴머스크, 500ml, 1개'}]\n"
     ]
    }
   ],
   "source": [
    "data_list = json.loads(data_string)\n",
    "print(data_list)"
   ]
  },
  {
   "cell_type": "code",
   "execution_count": 52,
   "metadata": {},
   "outputs": [
    {
     "name": "stdout",
     "output_type": "stream",
     "text": [
      "상품 제목 : 바이브랩 4주 솔루션 초록 탈모 샴푸 우디플로럴머스크, 500ml, 1개\n",
      "가격 : 32000\n",
      "링크 : https://smartstore.naver.com/main/products/10609048071\n"
     ]
    }
   ],
   "source": [
    "# 필요한 정보를 담을 변수를 미리 만듭니다.\n",
    "product_title = \"\"\n",
    "product_price = \"\"\n",
    "product_link = \"\"\n",
    "\n",
    "# 리스트의 각 딕셔너리를 하나씩 확인합니다.\n",
    "for item in data_list:\n",
    "    if item['key'] == 'prod_nm':\n",
    "        product_title = item['value']\n",
    "    elif item['key'] == 'price':\n",
    "        product_price = item['value']\n",
    "    elif item['key'] == 'click_url':\n",
    "        product_link = item['value']\n",
    "\n",
    "# 결과를 출력합니다.\n",
    "print(f\"상품 제목 : {product_title}\")\n",
    "print(f\"가격 : {product_price}\")\n",
    "print(f\"링크 : {product_link}\")"
   ]
  },
  {
   "cell_type": "code",
   "execution_count": 97,
   "metadata": {},
   "outputs": [
    {
     "name": "stdout",
     "output_type": "stream",
     "text": [
      "<li class=\"compositeCardContainer_composite_card_container__jr8cb composite_card_container\" style=\"position: absolute; top: 5922.84px; left: 326px;\">\n",
      " <div class=\"basicProductCardSkeleton_basic_product_card_skeleton__Mo7Bb basicProductCardSkeleton_view_type_grid2__rKGa_ basicProductCardSkeleton_delay1__gOTbI\">\n",
      "  <div class=\"basicProductCardSkeleton_product_card_thumbnail__AFxsz\">\n",
      "   <div class=\"basicProductCardSkeleton_thumbnail__BVa_I\">\n",
      "   </div>\n",
      "  </div>\n",
      "  <div class=\"basicProductCardSkeleton_information__u8yB5\">\n",
      "   <div class=\"basicProductCardSkeleton_bar__wGJsC\">\n",
      "   </div>\n",
      "   <div class=\"basicProductCardSkeleton_bar__wGJsC\">\n",
      "   </div>\n",
      "   <div class=\"basicProductCardSkeleton_bar__wGJsC\">\n",
      "   </div>\n",
      "   <div class=\"basicProductCardSkeleton_bar__wGJsC\">\n",
      "   </div>\n",
      "  </div>\n",
      " </div>\n",
      "</li>\n",
      "\n"
     ]
    }
   ],
   "source": [
    "print(composite_card_list[50].prettify())"
   ]
  },
  {
   "cell_type": "code",
   "execution_count": 90,
   "metadata": {},
   "outputs": [
    {
     "name": "stdout",
     "output_type": "stream",
     "text": [
      "https://smartstore.naver.com/main/products/9006195975?nl-query=%ED%83%88%EB%AA%A8&nl-au=b7f3133533954de99ba2a06277f2d297&NaPm=ci%3Db7f3133533954de99ba2a06277f2d297%7Cct%3Dmfc8xk7n%7Ctr%3Dnslspp%7Csn%3D386039%7Chk%3Dc85848e3f6773b74e7f78033b6bd16e3a0c0121c\n"
     ]
    }
   ],
   "source": [
    "# --- 1. 링크 (Link) ---\n",
    "link_element  = composite_card_list[4].select_one('a.basicProductCard_link__urzND')['href']\n",
    "print(link_element)"
   ]
  },
  {
   "cell_type": "code",
   "execution_count": 91,
   "metadata": {},
   "outputs": [
    {
     "name": "stdout",
     "output_type": "stream",
     "text": [
      "라보에이치 탈모샴푸 약산성 대용량 두피 비건 400ml+400ml리필+180ml\n"
     ]
    }
   ],
   "source": [
    "# --- 2. 상품제목 (Product Title) ---\n",
    "title_element = composite_card_list[4].select_one('strong.productCardTitle_product_card_title__eQupA').text.strip()\n",
    "print(title_element)"
   ]
  },
  {
   "cell_type": "code",
   "execution_count": 92,
   "metadata": {},
   "outputs": [
    {
     "name": "stdout",
     "output_type": "stream",
     "text": [
      "아모레퍼시픽몰 헤어바디\n"
     ]
    }
   ],
   "source": [
    "# --- 3. 업체명 (Store Name) ---\n",
    "store_element = composite_card_list[4].select_one('span.productCardMallLink_mall_name__5oWPw').text.strip()\n",
    "print(store_element)"
   ]
  },
  {
   "cell_type": "code",
   "execution_count": 93,
   "metadata": {},
   "outputs": [
    {
     "name": "stdout",
     "output_type": "stream",
     "text": [
      "44600\n"
     ]
    }
   ],
   "source": [
    "# --- 4. 할인전 판매가 (Original Price) ---\n",
    "original_price_element = composite_card_list[4].select_one('span.priceTag_original_price__jyZRY')\n",
    "if original_price_element:\n",
    "    # \"할인 전 판매가\", \"원\", 공백을 모두 제거\n",
    "    original_price = int(original_price_element.text.replace('할인 전 판매가', '').replace('원', '').replace(',', '').strip())\n",
    "else:\n",
    "    original_price = \"할인전 가격 없음\"\n",
    "print(original_price)"
   ]
  },
  {
   "cell_type": "code",
   "execution_count": 94,
   "metadata": {},
   "outputs": [
    {
     "name": "stdout",
     "output_type": "stream",
     "text": [
      "29800\n"
     ]
    }
   ],
   "source": [
    "# --- 5. 현재가격 (Current Price) ---\n",
    "current_price_element = composite_card_list[4].select_one('span.priceTag_number__1QW0R')\n",
    "if current_price_element:\n",
    "    current_price = int(current_price_element.text.replace(',', '').strip())\n",
    "else:\n",
    "    current_price = \"현재가격 없음\"\n",
    "print(current_price)"
   ]
  },
  {
   "cell_type": "code",
   "execution_count": 95,
   "metadata": {},
   "outputs": [
    {
     "name": "stdout",
     "output_type": "stream",
     "text": [
      "0.33\n"
     ]
    }
   ],
   "source": [
    "# --- 6. 할인율 (Discount Rate) ---\n",
    "discount_element = composite_card_list[4].select_one('span.priceTag_discount__F_ZXz')\n",
    "if discount_element:\n",
    "    # \"할인\", 공백을 모두 제거\n",
    "    discount_rate = int(discount_element.text.replace('할인', '').replace('%', '').strip())/100\n",
    "else:\n",
    "    discount_rate = \"할인율 없음\"\n",
    "print(discount_rate)"
   ]
  },
  {
   "cell_type": "code",
   "execution_count": 96,
   "metadata": {},
   "outputs": [
    {
     "name": "stdout",
     "output_type": "stream",
     "text": [
      "0 바이브랩 4주 솔루션 초록 탈모 샴푸 우디플로럴머스크, 500ml, 1개 바이브랩 할인전 가격 없음 32000 할인율 없음 https://ader.naver.com/v1/6lCNUDBneamHvirMc4ysKHd5CRr_GmpH2DRQwqVL8ZptzM_vmckiYZ0Vg2RU0py-H7knNu9IDG_Z5IQMh6du02kvADikZBRPD-AfPlxBKgWOSzv9shS6mvwz9Jl-PMOBnCK3lDu-aSsC-nWanoFQFHORaGWRbK1YhjLdJP4Hh_tGVMKJXtfilH9sR5A7uIJ7NI6XBMFEHoyZEI1aAvT6Kr3sWYkc-RBo4d9PIcp1ueUXCY-YCMSKBwTb-T-V8EkWtT-Ef29Fi249qs9re5jR64Yegrk4D5CD_fxLViK1b-1HZFFtX2DnObKw5RFmWIsIRrgiKnrOC71UwKFJ-eqE9GcygHB1nJjY6p0pByDMRt67gT7nqfx4Ohs_6XsCOSzvWOLsrcyz-G2UsiHfX3N0Qoz18BOTpaEmvFHrGYU5Rlz9XR4XkHa6VNn0v1GrRv5gUym6E3EYd99BYSrWNeD-UQ==?c=pc.nplusstore.npla&t=0\n",
      "\n",
      "1 릴리이브 탈모케어 정수리 M자완화 볼륨 샴푸 릴리이브 32000 19800 0.38 https://ader.naver.com/v1/6h2Y1jWtu6TA30XWbFHq7iXR5eOMsSF1XLcG_atHZP75vTpNMDGGx1AXR4KHuGFTt72Y3E8AXm1c9oNZWOuSN0jfV9zQiB614duSOeVVJo7ZT8Tft1x4aqJ02_5XWuCH6mzhRI2Fgla-GtQAzeCUdxWu9M2DAnGrd0N5xoY8a5Wj4OA5nI4hN5OOgfTkF2-bxLwjU9yHF7KKssC47715b3o7h2mI-4uXePLbMFnBIqjTXAgS_PPO1KaVRB0JhRfzRjJWNsDlH0_WSKVXEHnbBNuUDwaixqufraN84gYnRcuE7SrdpwzDSTjrOtxO1uV7vL6bE9CRCNLoBXaM_eTy0V3QSzbxAoebd6uwoGLWu9sb8iXVQg8I-mVysl4uY76MqpEVEwQF4CSNafdLTSf-KfHtRKsoMUKICkofz20Pw0JNS6B5VDcqNgReQ7hFRH8_VZ8WTfun_X3Hrz8XYG60RMb413yXzPNlXLIcAZypXwI=?c=pc.nplusstore.npla&t=0\n",
      "\n",
      "2 바이브랩 4주 솔루션 초록 탈모 샴푸 우디플로럴머스크, 500ml, 2개 바이브랩 할인전 가격 없음 62000 할인율 없음 https://ader.naver.com/v1/YtbNYzFwjkVPwSfz6PN_sZgzYbOtnMOrxrqsXhxSLWjOY-a3e5U39nj5Sl8FDKLLxgsqWfscx-KM225z16KMIT3XRQLePdT0oZmYWBK_kxFy1N84wQQpP9F5v8Aue5KclPrXKWqAbvCYhAxu_G0zMFzm--JDcWzLpWEBiYF6OKjJKwAUSKHk0YhXF4aUVpsWocmPPqBuj-q90QuZzT77i11qta6J8l8T5RHVzij7LGZsESa-gL-6O_Ho5hkGJIgVKQpmRIsUfPrHbO30000MgtJwaVmFiQVBszgtiYsXnFU2sgPXkxNCu4VoZb5Ch1hmZ9bBmXWXYRl8xVaDy9JD-N1pBO2Nn_Uh5lHP2alJTV-zZBNSQJ1MfI5lyRVT8cqTVUBcjf-wN46_1UMBU37BFr9PXTySUKhktmkZg9MaAVn1d7D_76l6RB0xL_gXBZfa1wazzTOkTG-aN0T7EdbrCQ==?c=pc.nplusstore.npla&t=0\n",
      "\n",
      "3 러브밋 비건 저자극 탈모완화 볼륨 샴푸 러브밋 Luvmit 30000 24000 0.2 https://ader.naver.com/v1/MQsQEMoWrlwzrmLWG1A-9IxCbxUzcQoWwVAl6okYFNsEgGPjkeAb6_KiqId2s_eXI1TnsvLCP9xq-yr17tjTqGlCIE3FDlsMCf1pedREhkmxUQjhJlnJXZe9l9jf-eB0lBMRX0pV-zdbOwoj7ESxq-YHeKUsVTVOGFOzxk0W-S1iqXmvKMpguI_929CEuYWHEUgUrI9ubbtxzMF8eOsgzmGVt8pP_boL6siWxhsWhjIlDso4yxZo335aKetJ8VWMfVb0F9y4u4hnoLjUNftjH0KZgh33d3auQCckhQTF9jh11GwPJjI4HN0nhFrZNAyt?c=pc.nplusstore.npla&t=0\n",
      "\n",
      "4 라보에이치 탈모샴푸 약산성 대용량 두피 비건 400ml+400ml리필+180ml 아모레퍼시픽몰 헤어바디 44600 29800 0.33 https://smartstore.naver.com/main/products/9006195975?nl-query=%ED%83%88%EB%AA%A8&nl-au=b7f3133533954de99ba2a06277f2d297&NaPm=ci%3Db7f3133533954de99ba2a06277f2d297%7Cct%3Dmfc8xk7n%7Ctr%3Dnslspp%7Csn%3D386039%7Chk%3Dc85848e3f6773b74e7f78033b6bd16e3a0c0121c\n",
      "\n",
      "5 려 루트젠 두피 에센스 대용량 145ml 두피 영양제 여성 남성 탈모 앰플 아모레퍼시픽몰 헤어바디 36000 23900 0.33 https://smartstore.naver.com/main/products/11562831001?nl-query=%ED%83%88%EB%AA%A8&nl-au=27cdd21823344539bc010918b3a305b8&NaPm=ci%3D27cdd21823344539bc010918b3a305b8%7Cct%3Dmfc8xk7n%7Ctr%3Dnslspp%7Csn%3D386039%7Chk%3Df623b557b2262964522660aa7c4e92eb444c165d\n",
      "\n",
      "6 블루셀 마이크로바이옴 맥주효모 샴푸 알러젠프리향, 500ml, 1개 BlueCell 50000 28700 0.42 https://smartstore.naver.com/main/products/8262789513?nl-query=%ED%83%88%EB%AA%A8&nl-au=54855dca918d4ade92566027819af6d3&NaPm=ci%3D54855dca918d4ade92566027819af6d3%7Cct%3Dmfc8xk7n%7Ctr%3Dnslctg%7Csn%3D2582998%7Chk%3D3ef7b56087ccd1513a185e5d2dd41e4a2f24d3bf\n",
      "\n",
      "7 바이브랩 리바이 솔루션 안티 헤어 로스 스칼프 샴푸 우디플로럴머스크향, 500ml, 1개 바이브랩 할인전 가격 없음 32000 할인율 없음 https://smartstore.naver.com/main/products/10609048071?nl-query=%ED%83%88%EB%AA%A8&nl-au=ab783360ccf64e13b2685e09a0764514&NaPm=ci%3Dab783360ccf64e13b2685e09a0764514%7Cct%3Dmfc8xk7o%7Ctr%3Dnslctg%7Csn%3D4083158%7Chk%3D02c3d7b40058650653cb35950bb7bdc0f3bbf82b\n",
      "\n",
      "8 려 루트젠 탈모샴푸 대용량 약산성 여성 비건 볼륨 두피 515ml+242ml+100ml 아모레퍼시픽몰 헤어바디 35800 26800 0.25 https://smartstore.naver.com/main/products/8325593233?nl-query=%ED%83%88%EB%AA%A8&nl-au=e9782c8f327c47ae84ded3aeede69348&NaPm=ci%3De9782c8f327c47ae84ded3aeede69348%7Cct%3Dmfc8xk7o%7Ctr%3Dnslsl%7Csn%3D386039%7Chk%3De7d4e4c619b5ac519e1150c2a1d4849976e3f3ec\n",
      "\n",
      "9 닥터포헤어 바이오3 폴리젠 탈모완화 샴푸 허브향, 500ml, 3개 닥터포헤어 96000 41900 0.56 https://smartstore.naver.com/main/products/6973773257?nl-query=%ED%83%88%EB%AA%A8&nl-au=5fa4bcd3c6d54b8e941407c22b8d5861&NaPm=ci%3D5fa4bcd3c6d54b8e941407c22b8d5861%7Cct%3Dmfc8xk7o%7Ctr%3Dnslctg%7Csn%3D253873%7Chk%3D659207db49d12ce520603abd70b97a47e5c4c5bb\n",
      "\n",
      "10 네이처리퍼블릭 블랙빈 안티 헤어로스 샴푸(신형) 520ml, 2개 네이처리퍼블릭 62000 33900 0.45 https://smartstore.naver.com/main/products/10928406543?nl-query=%ED%83%88%EB%AA%A8&nl-au=cf13210dcd724d1ab25c68d3468b7119&NaPm=ci%3Dcf13210dcd724d1ab25c68d3468b7119%7Cct%3Dmfc8xk7o%7Ctr%3Dnslctg%7Csn%3D312954%7Chk%3Dca01f32b6a1552ac7f18e021459e8ebb55204950\n",
      "\n",
      "11 그래비티 엑스트라 스트롱 샴푸 475ml + 475ml(리필) + 30ml x 2 1개 그래비티헤어 81000 74000 0.08 https://smartstore.naver.com/main/products/11557822228?nl-query=%ED%83%88%EB%AA%A8&nl-au=fc03722c83234c8d917a310e43a29f79&NaPm=ci%3Dfc03722c83234c8d917a310e43a29f79%7Cct%3Dmfc8xk7o%7Ctr%3Dnslctg%7Csn%3D10448734%7Chk%3D3afbc20e92a064eddff0d3e8685664d86332e638\n",
      "\n",
      "12 메디큐브 소이민트 지루성두피 스케일링 비듬샴푸 490ml 2개 메디큐브 공식몰 72000 38000 0.47 https://smartstore.naver.com/main/products/11488464651?nl-query=%ED%83%88%EB%AA%A8&nl-au=7227c0fe2944468ca3de8c5260a53926&NaPm=ci%3D7227c0fe2944468ca3de8c5260a53926%7Cct%3Dmfc8xk7p%7Ctr%3Dnslsl%7Csn%3D4337300%7Chk%3D6f1f0a465c5272e32412f1f4b04593527d80bafe\n",
      "\n",
      "13 이고세 그로우 모모 안티로스 샴푸 레몬버베나향, 1L, 2개 이고세 IGOSE 공식몰 41600 26900 0.35 https://smartstore.naver.com/main/products/11915523574?nl-query=%ED%83%88%EB%AA%A8&nl-au=1eacca6dcfb14515a7e34eee232c4a4c&NaPm=ci%3D1eacca6dcfb14515a7e34eee232c4a4c%7Cct%3Dmfc8xk7p%7Ctr%3Dnslctg%7Csn%3D7156464%7Chk%3D371b4db28cfa6fb2dfb6ae1b5a9d235ca468cf55\n",
      "\n",
      "14 라보에이치 여름 쿨샴푸 지성 탈모 대용량 두피스케일링 400ml&400ml리필&180ml 아모레퍼시픽몰 헤어바디 44600 29800 0.33 https://smartstore.naver.com/main/products/10537635991?nl-query=%ED%83%88%EB%AA%A8&nl-au=9ac9a4846d0248edb0723fd05b4f551f&NaPm=ci%3D9ac9a4846d0248edb0723fd05b4f551f%7Cct%3Dmfc8xk7p%7Ctr%3Dnslsl%7Csn%3D386039%7Chk%3D655a55cbf015b29608a8322220bbfc3a8f5984d8\n",
      "\n",
      "15 반코르 맥주효모 탈모 완화 샴푸 프레쉬향, 500ml, 1개 반코르 할인전 가격 없음 26500 할인율 없음 https://smartstore.naver.com/main/products/5466337173?nl-query=%ED%83%88%EB%AA%A8&nl-au=6fb8cd6e29874c53bf1109f355806788&NaPm=ci%3D6fb8cd6e29874c53bf1109f355806788%7Cct%3Dmfc8xk7p%7Ctr%3Dnslctg%7Csn%3D702347%7Chk%3D7e49b4bf194f3db6c2f8576a2e71f99fd2e16ac5\n",
      "\n",
      "16 메디큐브 소이민트 지루성두피 스케일링 비듬샴푸 490ml 2개 메디큐브 공식몰 72000 38000 0.47 https://ader.naver.com/v1/CALo00fLZPvzgbaOW7Hipy4CMFsGNs97wetbV7wdx-uq7II6vbZQFEK67j52U0lmUJdklE8zMQYL-i_oYGFDbezd8toyydjWLGSaHAMtsjPvbBP0qnNBn6gZyLQi8ta6rhK6G2Xf2M3VLFuMN9NXKExyTgXmsMI-JUeuggrffflnytKdqgGPtnWFCNDDFzVW3On7HDSm-ZpHafEZDTVLZCKDS0a4k7nINFfRzGoAmnybNY2UI1Nbl9bTd_L5u1w4UzEI8DlAccCkoHEBNkpaJK2QVTzreU7rsKutCTbnKjaz4oYxYcOnZPGRmV_2h1fpw5r2jEbLDBtNkxRQutIpu1zkpc4-GwXUTP8P0H2OYwPLrp38XEmW8A2fZL91F433OyAQUSbHD8DI8duVgO5JBv0BuFHQUZRNF1LLzSwlelnknFWQw1bpFi_3MarSH_Uu1U0G_URAa6wDEmMbPIUwlQ==?c=pc.nplusstore.npla&t=0\n",
      "\n",
      "17 비건 탈모 샴푸 설페이트 계면활성제 없는 천연 주식회사닥터오레고닌 35900 29900 0.16 https://ader.naver.com/v1/Qp5LVQRw84pFqlJojoPu315pDD5mBcbkpCJ2jPrsZbTggjt3CcMhpRPS_0xTeMrbyoeyEJ248AzCAgIlPxdYW4ffGESAvTpi0B26gsDZeNPFII8oB5skYK5QKfC4GbU09-SZpaztofk5c9Zj9-A0DJEGaum0Zq62Pd2OFo_SuTNuUF6RcOC6uYAzT6Phz-qDz24qymmWyLQhltmgs_QCAEyD2MBam9GZUF41qoLT6oVTZRlDwLY4ou-SsD58WkyhiWcZqA_Vv9t9q788dF85Et0Fj8KdD4gksPRVoM32iKLRGFYixA_GxXNE1BBtCCFJ7KKhqa3aLwCvOtRXY6cWx1W57Oav0m-HKZp7OgPnM_LXT8530JnGpL4IL18OEQNw2mV6qoSTUGYRDNx6FsfCT4-q_WtjEeIeOINVFDodk5kIt0raNHEUF4ReHYVTE6KxGZ5HGuM-jCkeDQtR2buIYMx2lqBDocoCVuQWqVQE5Zo=?c=pc.nplusstore.npla&t=0\n",
      "\n",
      "18 그룬플러스 지성 쿨링 볼륨 탈모샴푸 250ml 그룬플러스 쇼핑몰 42000 37800 0.1 https://ader.naver.com/v1/UXHZeJMl5RYy_fsvsFnoXLZgk2vc3MmXkPNMh61aXLHrh0fhoQmzfkG4Q4MeoUVt9pRi3i1UUijltnqx0cduiblYzUkGmqz4HKUknRhq98QVDDipGAyUsIcWXBCCPGr-i2aEmA0FkArlm1KLuPoVGUINiGZxUaYNO2vFRIFcBOYkxS7Lj2RgCBfu7FxHUQ6HqoAgO9YOyz5p2uprXlEirJR9AWsb6Hq5n89Tk_Z5rFMiWi1XKyG4DLxBaPyzkfvsCZRy06PfqlT-PTnvu-5uErB7INPNyNfNiWQn9Z9OAuFvPU9Zr9RQaJb7c9jDP274_HBpAlGyWWrH8h8phdRzb7l_ZWhMCHFAwM9_9QmqLlSGPMEIyFiJb7FR_exrjQAsjQVCHMBP6024UMdDActH9MiaUXJL8Fj3t-m3ity-19Wsm2q0lPd-6eUCu45wVuNTJCfsm5P9EE2IuE1kbfG4AA==?c=pc.nplusstore.npla&t=0\n",
      "\n",
      "19 나인밀라 카밍비어 (맥주효모) 탈모샴푸 (+리필 추가선택) 자몽향, 500ml, 2개 나인밀라 54000 29900 0.44 https://ader.naver.com/v1/_psAc9IVmlQkIBOcTM7i3A1HBag_dEfmg_e2b01OqE9elPw29o0XI8DgxVGXW9IQHvUv29J72YUsoRpvUgtrjWAOxemKxaW7n2UYF-QwJa1G3aNWC_YGhOHGQsbpQP6WZi66AjbhZ26IYGMeHhOw9_JG-nr4kbwiGin4c6WeZrNAyieteodfvXiC3pH5ngP4vw8vrEDv2lOoBC_J9Rl5Zy4w2Jn2IHMRMdsFfaC_Y_zYUww4cd46-yQQ58-EIcEX0-QvmwBiUU_sHnyLjMx1q8NsTWV4-TGmITiYw5cFWV7VM5ej0smkbHyV5JBeYARo?c=pc.nplusstore.npla&t=0\n",
      "\n",
      "20 1+1 살림백서 탈모 샴푸 엑티브B7 맥주효모 앤 비오틴 1000ml 남자 여자 바이오틴 살림백서 39800 22900 0.42 https://smartstore.naver.com/main/products/5914707140?nl-query=%ED%83%88%EB%AA%A8&nl-au=56c41b05e98c4605b475cb0290ed6d58&NaPm=ci%3D56c41b05e98c4605b475cb0290ed6d58%7Cct%3Dmfc8xk7p%7Ctr%3Dnslsl%7Csn%3D526927%7Chk%3D99eb5072527d717aca8556f945a73c17473fa0e3\n",
      "\n",
      "21 커리쉴 리바이탈라이징 샴푸 자몽향, 500ml, 1개 커리쉴 30000 21000 0.3 https://smartstore.naver.com/main/products/6701033751?nl-query=%ED%83%88%EB%AA%A8&nl-au=6883fbf17bad4ce58a7acbd808fbaf3c&NaPm=ci%3D6883fbf17bad4ce58a7acbd808fbaf3c%7Cct%3Dmfc8xk7p%7Ctr%3Dnslctg%7Csn%3D585361%7Chk%3D9c5b424cf4d24aa9aed2f722b06451b7848a8f71\n",
      "\n",
      "22 닥터포헤어 폴리젠 오리지널 탈모완화 플로럴프레시향, 500ml, 2개 닥터포헤어 58000 32400 0.44 https://smartstore.naver.com/main/products/5734825032?nl-query=%ED%83%88%EB%AA%A8&nl-au=76f445ffe350437281fb33af48be6324&NaPm=ci%3D76f445ffe350437281fb33af48be6324%7Cct%3Dmfc8xk7p%7Ctr%3Dnslctg%7Csn%3D253873%7Chk%3Da6580efb722194e9dbd72508f096a1f54beb0d84\n",
      "\n",
      "23 닥터그루트 프로이펙트 탈모증상집중케어 샴푸 500ml, 2개 알리바바M 할인전 가격 없음 23900 할인율 없음 https://smartstore.naver.com/main/products/10918408741?nl-query=%ED%83%88%EB%AA%A8&nl-au=c61256a3443e4b47aaaf8ddeed2e0c2a&NaPm=ci%3Dc61256a3443e4b47aaaf8ddeed2e0c2a%7Cct%3Dmfc8xk7q%7Ctr%3Dnslctg%7Csn%3D307467%7Chk%3D82e75ac1f247bfdffa0873a1add90f231c3eeafd\n",
      "\n",
      "24 앙방 맥주효모 탈모샴푸 프리미엄 고농축 바이오틴 약산성 지성 비듬 방지 두피케어 여자 남자탈모샴푸 알러젠프리향 앙방 ENVIN 40900 29900 0.26 https://smartstore.naver.com/main/products/4328195211?nl-query=%ED%83%88%EB%AA%A8&nl-au=8c1944e3c5874757a69cb2a0458b568e&NaPm=ci%3D8c1944e3c5874757a69cb2a0458b568e%7Cct%3Dmfc8xk7q%7Ctr%3Dnslsl%7Csn%3D898320%7Chk%3De4af1122f1f21235dc00149e01862e8737f8a176\n",
      "\n",
      "25 블랙포레 탈모샴푸 두피 쿨&딥클린 약산성 500ml+450ml+(증정)트리트먼트 250ml 애경본사직영몰 74900 29900 0.6 https://smartstore.naver.com/main/products/10129362103?nl-query=%ED%83%88%EB%AA%A8&nl-au=3007018314db4df9847968067ff03773&NaPm=ci%3D3007018314db4df9847968067ff03773%7Cct%3Dmfc8xk7q%7Ctr%3Dnslsl%7Csn%3D1485316%7Chk%3D8a49c3499ea2bee7726ca98f794ee5be1c812cbe\n",
      "\n",
      "26 그래비티 헤어리프팅 샴푸 엑스트라 스트롱 가는 모발용(리필) 475ml, 1개 그래비티헤어 할인전 가격 없음 36000 할인율 없음 https://smartstore.naver.com/main/products/11529604965?nl-query=%ED%83%88%EB%AA%A8&nl-au=aeba480fa2014b2893ffc9a707bd27c5&NaPm=ci%3Daeba480fa2014b2893ffc9a707bd27c5%7Cct%3Dmfc8xk7q%7Ctr%3Dnslctg%7Csn%3D10448734%7Chk%3D97b4442ba7f858648febe9f39c259a799c85f6b6\n",
      "\n",
      "27 헤막 아르간 호호바오일 탈모샴푸 손상모발케어 550ml 헤막 32000 25600 0.2 https://smartstore.naver.com/main/products/5314240628?nl-query=%ED%83%88%EB%AA%A8&nl-au=1a29a105ff494072821eabaa64d7be1d&NaPm=ci%3D1a29a105ff494072821eabaa64d7be1d%7Cct%3Dmfc8xk7q%7Ctr%3Dnslsl%7Csn%3D2085640%7Chk%3D6f9d097d0739ab12d6938b35b385fa6e70711a52\n",
      "\n",
      "28 블랙포레 탈모샴푸 비듬케어 약산성 500ml+450ml+(증정)프로즌 트리트먼트 250ml 애경본사직영몰 74900 29900 0.6 https://ader.naver.com/v1/6TVVy60Y79QPA0UuOU7TZijJ7FpgurSgicXhE67d0ciRHZT7SzC1z14rovFV1Sh4ZaGd1FrX0smSM_K7UVBWfWaaPW-LFgL2UeFJ4Va4hbacuvMFknXNW0JZMhD8q5NYpcDHr9P8ICAeOpE1tuCITBNrm3J-tL0YfbQqYavPN4xuBHx7p3QWMg52TQEWfc_YmxkhiQeF0WC64RFMu0V7035tCnpcNyurhvi8mCM0HgX5CEHOJrl0NL9VuQ29DB3JgkGIAk6JxkWyCmrtmzS_8y3GpawtvOWbLHnCnUbyoCndJ8Zg-HkEz5BpCsyuULAA3dbSPcL2Rmv8iXZWQs9EL_hb7ZP7apZ9tf6stl_uyUmlYrq3t52PIWblEZkQn-VGa9k5SszBsyl5fozaSkIHhIFExeX6kwwOIlLzltYT3uK3VcZcav1CFuLRMyWcpt-elJ4YjTZ90RmqQiFrpXIGdA==?c=pc.nplusstore.npla&t=0\n",
      "\n",
      "29 블랙포레 탈모샴푸 두피 강화&밸런스 약산성 500ml+(증정)탈모샴푸 250ml 애경본사직영몰 41500 24900 0.4 https://ader.naver.com/v1/BToDq-bsry6_k2IpogLWMZOFitlq2JsN1oK_jXMbiFlUINiZDjUKKWjYvAbStM-RQTLbphh4LvrB8bqORLK-8gNEDyHQz5izZnKR4CcBw195PATGw-KFX3dx-Au8zYS8LHZkGqTlmwun1AZaAk090p1zFgOhS9PjzFVvRDz61K4aEirv7Oq0UXTtKhL2GFSMdvDDXBpPHAfYqghwyziR0lzjAq-1tmdl8L2WYc3ufelyvW2bQQZkMow8N2gxiPd9B1c58d2XtYmEcl1-nr-8-udYVrC1gDMRIu4QsGAZuYlfRCRFozJY9dCVxl2U3WbswReMZd1rFq_qPQ-K5Ccthc0vUcFTv1VxWE6O6YDzcErf4JlIEMz6KTUPGa_Nyi2UblPjj1loCJy5XQMSDHwMVv66VgENCeXqVO20h3-f2JQ6g0CW-CaUTPgZbYxJ2VY04uj37c1JnBY6SQM_Apr6fw==?c=pc.nplusstore.npla&t=0\n",
      "\n",
      "30 뉴프리미엄TS샴푸 500g 2개+100g 2개 TS트릴리온 126200 39900 0.68 https://ader.naver.com/v1/UXHZeJMl5RYy_fsvsFnoXIxeePZERP4go33HWkQ1rNpyO_a3DodasmHYMcrvWu5QICeCKCzTPmPOWdnLgUI2ID8zMiPLbbqxXBMKfDBDHzi1mVwkdyFZiaA_8zlY26-1uwzNjwfAWsos_WCjyEpRwAMk-yxXqoyTmLAkjMFLEU3qYHgsyfk0SSu4qcsZFODvQHEpMMlHlyv8RgzOVBvVnsJC0i63zZWKmI0trJN_hedL16dqIaDwnDPDihcwOmx8uOgWRfv0wwdv-xtxDOhayW9auUe46H-rrWSQvdU81pUfTSAper_7gqqZ556B2q8_QYnzFJfCC5_d3tpSb-IskhE1fd73EgkR8KhY1aZPTIK1oQi8bYsjA0g2kLbvPQCZDYAJuAcspNZ1Sh8wzOD5TASxW24RbC8MJ6zvcY1-1wE03s4yluVq8SrhvFFKK0KNnumz1YJGUpjMmpOpwupT6Q==?c=pc.nplusstore.npla&t=0\n",
      "\n",
      "31 1+1 살림백서 탈모 샴푸 엑티브B7 맥주효모 앤 비오틴 1000ml 남자 여자 바이오틴 살림백서 39800 22900 0.42 https://ader.naver.com/v1/_psAc9IVmlQkIBOcTM7i3A1HBag_dEfmg_e2b01OqE9elPw29o0XI8DgxVGXW9IQHvUv29J72YUsoRpvUgtrjWAOxemKxaW7n2UYF-QwJa3XZlGUmUazwE4w3kuWIM-KrM9BKYv63cAdbS6gbFj-50N4YRkJ1uXM5gHzky0BO3jiY4sMvCQAZpEXm1ZJ9LgkGkKG9iKBh4cdXqsfkMt5nQUQUfFHysrNfOgEbE2Q4Vr8eUaLLbMLKVfyzKPZpFKV0xiQQu688VAYXWpa_OcYuMqI_Ga-BNHCCLRDsqdo8lCkqszzuk4sJ9dBrUmBh0dq?c=pc.nplusstore.npla&t=0\n",
      "\n",
      "32 나인밀라 카밍비어 (맥주효모) 탈모샴푸 (+리필 추가선택) 자몽향, 500ml, 2개 나인밀라 54000 29900 0.44 https://smartstore.naver.com/main/products/5212100366?nl-query=%ED%83%88%EB%AA%A8&nl-au=bf4e479a8dd84879a86d26194363b303&NaPm=ci%3Dbf4e479a8dd84879a86d26194363b303%7Cct%3Dmfc8xk7q%7Ctr%3Dnslsl%7Csn%3D2536160%7Chk%3D25ffa8151ff5a311538c3f25f22e60f105d28679\n",
      "\n",
      "33 메디큐브 소이시딜 탈모 기능성 샴푸 코튼향, 490ml, 2개 메디큐브 공식몰 96000 50000 0.47 https://smartstore.naver.com/main/products/11488496123?nl-query=%ED%83%88%EB%AA%A8&nl-au=e371ccfc5d084fc1bc2fc9d8227da1fc&NaPm=ci%3De371ccfc5d084fc1bc2fc9d8227da1fc%7Cct%3Dmfc8xk7r%7Ctr%3Dnslctg%7Csn%3D4337300%7Chk%3D84ab47b52b1b1ae28b95c8ba208a763d5c186327\n",
      "\n",
      "34 블루셀 마이크로바이옴 맥주효모 샴푸 알러젠프리향, 500ml, 2개 BlueCell 100000 52800 0.47 https://smartstore.naver.com/main/products/8308727296?nl-query=%ED%83%88%EB%AA%A8&nl-au=462c95b8f1c34c2b8c3a273b3b565cd5&NaPm=ci%3D462c95b8f1c34c2b8c3a273b3b565cd5%7Cct%3Dmfc8xk7r%7Ctr%3Dnslctg%7Csn%3D2582998%7Chk%3D05ca9d953bfa8bbc06cd00ee96c02e1cc67c38e9\n",
      "\n",
      "35 아도르 더마티컬 스칼프 탈모 앰플 더블 세트(250mlX2) 아도르 할인전 가격 없음 64000 할인율 없음 https://smartstore.naver.com/main/products/5312275512?nl-query=%ED%83%88%EB%AA%A8&nl-au=4efba41c3c7441ba9ad672fa1646a4ba&NaPm=ci%3D4efba41c3c7441ba9ad672fa1646a4ba%7Cct%3Dmfc8xk7r%7Ctr%3Dnslsme%7Csn%3D195108%7Chk%3Dfbc5d36a83035f108e02ed0cfabb12a7ff179b5a\n",
      "\n",
      "36 트리코닉스 트리코엑스 탈모완화 볼륨 샴푸 500ml, 1개 트리코닉스 70000 45900 0.34 https://smartstore.naver.com/main/products/11754298737?nl-query=%ED%83%88%EB%AA%A8&nl-au=cb5fc9d1187941e283aa2315080fda8d&NaPm=ci%3Dcb5fc9d1187941e283aa2315080fda8d%7Cct%3Dmfc8xk7r%7Ctr%3Dnslsl%7Csn%3D8670264%7Chk%3D94486ceadc7393defe8f373b89b0eac3f6153b3e\n",
      "\n",
      "37 로더베르 독일 맥주효모 5만ppm 탈모샴푸 대용량 천연 여자 두피 비듬 남자 지성 약산성 로더베르 15800 11900 0.24 https://smartstore.naver.com/main/products/7794306531?nl-query=%ED%83%88%EB%AA%A8&nl-au=4632e610d9f04aa5a1907863c706e1fd&NaPm=ci%3D4632e610d9f04aa5a1907863c706e1fd%7Cct%3Dmfc8xk7r%7Ctr%3Dnslsl%7Csn%3D360206%7Chk%3Dc5c8c5b901e9a5b8d017aceb821ceb01eaf99cd4\n",
      "\n",
      "38 닥터포헤어 폴리젠 샴푸 750ml2개+200ml 코스트코 대용량 티에스shop 할인전 가격 없음 37300 할인율 없음 https://smartstore.naver.com/main/products/9669439245?nl-query=%ED%83%88%EB%AA%A8&nl-au=ee3d9e4320dc4782939f482b5418964a&NaPm=ci%3Dee3d9e4320dc4782939f482b5418964a%7Cct%3Dmfc8xk7r%7Ctr%3Dnslsl%7Csn%3D223487%7Chk%3D663f4512cae6661c1f1a2c77d7207be716ae4b3f\n",
      "\n",
      "39 려 루트젠 탈모샴푸 약산성 여성 리필팩 400ml 아모레퍼시픽몰 헤어바디 17900 12900 0.27 https://smartstore.naver.com/main/products/10893327593?nl-query=%ED%83%88%EB%AA%A8&nl-au=d8be0ba740954fb58e0e18b48013a282&NaPm=ci%3Dd8be0ba740954fb58e0e18b48013a282%7Cct%3Dmfc8xk7r%7Ctr%3Dnslsl%7Csn%3D386039%7Chk%3D8f08e41b123a2622275702debedfb955dbc945ec\n",
      "\n",
      "40 려 맥주효모 대용량 탈모증상케어 두피쿨링&약산성 샴푸 980ml 아모레퍼시픽몰 헤어바디 23900 17900 0.25 https://smartstore.naver.com/main/products/10124786486?nl-query=%ED%83%88%EB%AA%A8&nl-au=5d46968b2603471bb87b8db5b8404796&NaPm=ci%3D5d46968b2603471bb87b8db5b8404796%7Cct%3Dmfc8xk7r%7Ctr%3Dnslsl%7Csn%3D386039%7Chk%3Dee60b3e82a7393a37ababa17b9b57193b0e2d50e\n",
      "\n",
      "41 오프온 지루성두피 비듬 정수리 탈모완화 약산성 천연 비건 남자여자 B7 비오틴 쿨샴푸 오프온 offon 39800 24800 0.37 https://smartstore.naver.com/main/products/11662281833?nl-query=%ED%83%88%EB%AA%A8&nl-au=b316d8699ed34239b82cd528663344ca&NaPm=ci%3Db316d8699ed34239b82cd528663344ca%7Cct%3Dmfc8xk7s%7Ctr%3Dnslsl%7Csn%3D2969260%7Chk%3D28e24e331762ae5c529ac57834c23b62d9c262f7\n",
      "\n",
      "42 라보에이치 탈모완화 두피강화 샴푸  400ml, 1개 아모레퍼시픽몰 헤어바디 24000 17280 0.28 https://smartstore.naver.com/main/products/4821989533?nl-query=%ED%83%88%EB%AA%A8&nl-au=039228247f9d43b5b5b0fe64ff59e81e&NaPm=ci%3D039228247f9d43b5b5b0fe64ff59e81e%7Cct%3Dmfc8xk7s%7Ctr%3Dnslctg%7Csn%3D386039%7Chk%3D5192e205a041effe3364dedeb67cfe032bc699cd\n",
      "\n",
      "43 애쉬로렌 맥주효모 샴푸 우디향, 500g, 1개 애쉬로렌 ASHROLEN 32000 26000 0.18 https://smartstore.naver.com/main/products/4431562851?nl-query=%ED%83%88%EB%AA%A8&nl-au=562b5687b74d44cbbed15316b3ef32a5&NaPm=ci%3D562b5687b74d44cbbed15316b3ef32a5%7Cct%3Dmfc8xk7s%7Ctr%3Dnslctg%7Csn%3D850557%7Chk%3Df1c89d08dbd3335584b75e7e061f4101f313553c\n",
      "\n",
      "44 어게인미 바이오틴 맥주효모 샴푸 비오틴 탈모샴푸 약산성 여성 두피맑음 1개 어게인미 스토어 59000 29900 0.49 https://smartstore.naver.com/main/products/9678180926?nl-query=%ED%83%88%EB%AA%A8&nl-au=3361009f6786442bb97c4d75ca1ecf81&NaPm=ci%3D3361009f6786442bb97c4d75ca1ecf81%7Cct%3Dmfc8xk7s%7Ctr%3Dnslsl%7Csn%3D9982865%7Chk%3Df10d8be88832386b9e94bea2ded6a1e1ad74cd59\n",
      "\n",
      "45 나인밀라 카밍비어 (맥주효모) 탈모샴푸 (+리필 추가선택) 자몽향, 500ml, 3개 나인밀라 78000 40900 0.47 https://smartstore.naver.com/main/products/11034692719?nl-query=%ED%83%88%EB%AA%A8&nl-au=82d8d78b600e4975a8874a20a616e46a&NaPm=ci%3D82d8d78b600e4975a8874a20a616e46a%7Cct%3Dmfc8xk7s%7Ctr%3Dnslsl%7Csn%3D2536160%7Chk%3D5f61d78ecd823e75d752d8ca7545033722b4a347\n",
      "\n",
      "46 닥터포헤어 헤리티지 두피강화 샴푸 더블 기획세트 500ml+200ml [+에이프릴뮤게트리트먼트70ml] 닥터포헤어 43000 19400 0.54 https://smartstore.naver.com/main/products/11614603041?nl-query=%ED%83%88%EB%AA%A8&nl-au=10c7baf5fd6d4927a4644a3b4e436d22&NaPm=ci%3D10c7baf5fd6d4927a4644a3b4e436d22%7Cct%3Dmfc8xk7s%7Ctr%3Dnslsl%7Csn%3D253873%7Chk%3De02c36cc396d3e146dc34283083794f738ef9032\n",
      "\n",
      "47 BRKA 브르카 밸런스 샴푸 500g 탈모샴푸 임산부 기능성 특허 성분 BRKA 브르카 46000 26800 0.41 https://smartstore.naver.com/main/products/12042527617?nl-query=%ED%83%88%EB%AA%A8&nl-au=15d92b16bea54733806262b05e150f3b&NaPm=ci%3D15d92b16bea54733806262b05e150f3b%7Cct%3Dmfc8xk7s%7Ctr%3Dnslsl%7Csn%3D12268930%7Chk%3Ded09897d60dfd0dc8bb62a997b1a6496ab487b03\n",
      "\n",
      "48 라보에이치 비듬 두피 댄드러프클리닉 샴푸 탈모증상완화 대용량 400ml+400ml리필+180ml 아모레퍼시픽몰 헤어바디 50200 33900 0.32 https://smartstore.naver.com/main/products/11046269069?nl-query=%ED%83%88%EB%AA%A8&nl-au=6e6ba18deec04714b4f1f43d28ac9f75&NaPm=ci%3D6e6ba18deec04714b4f1f43d28ac9f75%7Cct%3Dmfc8xk7s%7Ctr%3Dnslsl%7Csn%3D386039%7Chk%3D288ed131a98a81a96b4fa1d33157b333353a2cfa\n",
      "\n",
      "49 바디브 마테 탈모 샴푸 1000ml 대용량 마테차 비오틴 카페인 맥주효모 두피 바디브 27000 14900 0.44 https://smartstore.naver.com/main/products/7216320162?nl-query=%ED%83%88%EB%AA%A8&nl-au=784c05cf85484e90919b7894be074dad&NaPm=ci%3D784c05cf85484e90919b7894be074dad%7Cct%3Dmfc8xk7s%7Ctr%3Dnslsl%7Csn%3D486552%7Chk%3D9089bae71233b3fcc10a2b0c499a7effbc93bd02\n",
      "\n"
     ]
    },
    {
     "ename": "TypeError",
     "evalue": "'NoneType' object is not subscriptable",
     "output_type": "error",
     "traceback": [
      "\u001b[1;31m---------------------------------------------------------------------------\u001b[0m",
      "\u001b[1;31mTypeError\u001b[0m                                 Traceback (most recent call last)",
      "Cell \u001b[1;32mIn[96], line 4\u001b[0m\n\u001b[0;32m      1\u001b[0m link_list, title_list, store_list, original_price_list, current_price_list, discount_rate_list \u001b[38;5;241m=\u001b[39m [], [], [], [], [], []\n\u001b[0;32m      2\u001b[0m \u001b[38;5;28;01mfor\u001b[39;00m i, one \u001b[38;5;129;01min\u001b[39;00m \u001b[38;5;28menumerate\u001b[39m(composite_card_list):\n\u001b[0;32m      3\u001b[0m     \u001b[38;5;66;03m# --- 1. 링크 (Link) ---\u001b[39;00m\n\u001b[1;32m----> 4\u001b[0m     link_element  \u001b[38;5;241m=\u001b[39m \u001b[43mone\u001b[49m\u001b[38;5;241;43m.\u001b[39;49m\u001b[43mselect_one\u001b[49m\u001b[43m(\u001b[49m\u001b[38;5;124;43m'\u001b[39;49m\u001b[38;5;124;43ma.basicProductCard_link__urzND\u001b[39;49m\u001b[38;5;124;43m'\u001b[39;49m\u001b[43m)\u001b[49m\u001b[43m[\u001b[49m\u001b[38;5;124;43m'\u001b[39;49m\u001b[38;5;124;43mhref\u001b[39;49m\u001b[38;5;124;43m'\u001b[39;49m\u001b[43m]\u001b[49m\n\u001b[0;32m      5\u001b[0m     \u001b[38;5;66;03m# --- 2. 상품제목 (Product Title) ---\u001b[39;00m\n\u001b[0;32m      6\u001b[0m     title_element \u001b[38;5;241m=\u001b[39m one\u001b[38;5;241m.\u001b[39mselect_one(\u001b[38;5;124m'\u001b[39m\u001b[38;5;124mstrong.productCardTitle_product_card_title__eQupA\u001b[39m\u001b[38;5;124m'\u001b[39m)\u001b[38;5;241m.\u001b[39mtext\u001b[38;5;241m.\u001b[39mstrip()\n",
      "\u001b[1;31mTypeError\u001b[0m: 'NoneType' object is not subscriptable"
     ]
    }
   ],
   "source": [
    "link_list, title_list, store_list, original_price_list, current_price_list, discount_rate_list = [], [], [], [], [], []\n",
    "for i, one in enumerate(composite_card_list):\n",
    "    # --- 1. 링크 (Link) ---\n",
    "    link_element  = one.select_one('a.basicProductCard_link__urzND')['href']\n",
    "    # --- 2. 상품제목 (Product Title) ---\n",
    "    title_element = one.select_one('strong.productCardTitle_product_card_title__eQupA').text.strip()\n",
    "    # --- 3. 업체명 (Store Name) ---\n",
    "    store_element = one.select_one('span.productCardMallLink_mall_name__5oWPw').text.strip()\n",
    "    # --- 4. 할인전 판매가 (Original Price) ---\n",
    "    original_price_element = one.select_one('span.priceTag_original_price__jyZRY')\n",
    "    if original_price_element:\n",
    "        original_price = int(original_price_element.text.replace('할인 전 판매가', '').replace('원', '').replace(',', '').strip())\n",
    "    else:\n",
    "        original_price = \"할인전 가격 없음\"\n",
    "    # --- 5. 현재가격 (Current Price) ---\n",
    "    current_price_element = one.select_one('span.priceTag_number__1QW0R')\n",
    "    if current_price_element:\n",
    "        current_price = int(current_price_element.text.replace(',', '').strip())\n",
    "    else:\n",
    "        current_price = \"현재가격 없음\"\n",
    "    # --- 6. 할인율 (Discount Rate) ---\n",
    "    discount_element = one.select_one('span.priceTag_discount__F_ZXz')\n",
    "    if discount_element:\n",
    "        discount_rate = int(discount_element.text.replace('할인', '').replace('%', '').strip())/100\n",
    "    else:\n",
    "        discount_rate = \"할인율 없음\"\n",
    "\n",
    "    # 리스트에 추가\n",
    "    link_list.append(link_element)\n",
    "    title_list.append(title_element)\n",
    "    store_list.append(store_element)\n",
    "    original_price_list.append(original_price)\n",
    "    current_price_list.append(current_price)\n",
    "    discount_rate_list.append(discount_rate)\n",
    "    \n",
    "    print(i, title_element, store_element, original_price, current_price, discount_rate, link_element)\n",
    "    print()"
   ]
  },
  {
   "cell_type": "code",
   "execution_count": null,
   "metadata": {},
   "outputs": [],
   "source": [
    "from selenium import webdriver\n",
    "from selenium.webdriver.common.by import By\n",
    "from selenium.webdriver.common.keys import Keys\n",
    "from selenium.webdriver.chrome.service import Service\n",
    "from webdriver_manager.chrome import ChromeDriverManager\n",
    "from bs4 import BeautifulSoup\n",
    "import time\n",
    "import random\n",
    "\n",
    "# (드라이버 설정 및 검색어 입력까지의 코드는 동일)\n",
    "# 1. 웹 드라이버 설정\n",
    "service = Service(ChromeDriverManager().install())\n",
    "driver = webdriver.Chrome(service=service)\n",
    "driver.implicitly_wait(10)\n",
    "\n",
    "# 2. 네이버 쇼핑 페이지로 이동\n",
    "driver.get(\"https://shopping.naver.com/ns/home\")\n",
    "time.sleep(random.uniform(1, 2))\n",
    "\n",
    "# 3. 검색창을 찾아 검색어 입력\n",
    "search_keyword = \"탈모\"\n",
    "search_box = driver.find_element(By.XPATH, '//*[@id=\"gnb-gnb\"]/div[2]/div/div[2]/div[1]/form/div/div/div/div/input')\n",
    "search_box.send_keys(search_keyword)\n",
    "search_box.send_keys(Keys.RETURN)\n",
    "time.sleep(random.uniform(1, 2))\n",
    "\n",
    "\n",
    "# ===================================================================\n",
    "#               수정된 스크롤 및 데이터 수집 로직\n",
    "# ===================================================================\n",
    "\n",
    "\n",
    "# 페이지 끝까지 스크롤하여 모든 상품 로드\n",
    "print(\"페이지 끝까지 스크롤하여 모든 상품을 로드합니다...\")\n",
    "last_height = driver.execute_script(\"return document.body.scrollHeight\")\n",
    "while True:\n",
    "    driver.execute_script(\"window.scrollTo(0, document.body.scrollHeight);\")\n",
    "    time.sleep(random.uniform(1.5, 2.5)) # 페이지 로딩 대기\n",
    "    new_height = driver.execute_script(\"return document.body.scrollHeight\")\n",
    "    if new_height == last_height:\n",
    "        print(\"스크롤 완료.\")\n",
    "        break\n",
    "    last_height = new_height\n",
    "\n",
    "# 최종 로드된 페이지 소스로 soup 객체 생성\n",
    "html = driver.page_source\n",
    "soup = BeautifulSoup(html, \"html.parser\")\n",
    "\n",
    "# 모든 상품 카드 선택\n",
    "composite_card_list = soup.select('div.section_section__8wTvh div#composite-card-list ul.compositeCardList_product_list__Ih4JR li.compositeCardContainer_composite_card_container__jr8cb')\n",
    "print(f\"총 {len(composite_card_list)}개의 상품을 수집합니다.\")\n",
    "\n",
    "# 최종 데이터를 담을 리스트\n",
    "link_list, title_list, store_list, original_price_list, current_price_list, discount_rate_list = [], [], [], [], [], []\n",
    "\n",
    "# 모든 상품 카드 순회하며 데이터 추출\n",
    "for i, one in enumerate(composite_card_list):\n",
    "    try:\n",
    "        # --- 1. 링크 (Link) ---\n",
    "        link_element = one.select_one('a.basicProductCard_link__urzND')['href']\n",
    "        \n",
    "        # --- 2. 상품제목 (Product Title) ---\n",
    "        title_element = one.select_one('strong.productCardTitle_product_card_title__eQupA').text.strip()\n",
    "        \n",
    "        # --- 3. 업체명 (Store Name) ---\n",
    "        store_element = one.select_one('span.productCardMallLink_mall_name__5oWPw').text.strip()\n",
    "        \n",
    "        # --- 4. 할인전 판매가 (Original Price) ---\n",
    "        original_price_tag = one.select_one('span.priceTag_original_price__jyZRY')\n",
    "        original_price = int(original_price_tag.text.replace('할인 전 판매가', '').replace('원', '').replace(',', '').strip()) if original_price_tag else 0\n",
    "\n",
    "        # --- 5. 현재가격 (Current Price) ---\n",
    "        current_price_tag = one.select_one('span.priceTag_number__1QW0R')\n",
    "        current_price = int(current_price_tag.text.replace(',', '').strip()) if current_price_tag else 0\n",
    "\n",
    "        # --- 6. 할인율 (Discount Rate) ---\n",
    "        discount_tag = one.select_one('span.priceTag_discount__F_ZXz')\n",
    "        discount_rate = int(discount_tag.text.replace('할인', '').replace('%', '').strip()) / 100 if discount_tag else 0.0\n",
    "\n",
    "        # 리스트에 추가\n",
    "        link_list.append(link_element)\n",
    "        title_list.append(title_element)\n",
    "        store_list.append(store_element)\n",
    "        original_price_list.append(original_price)\n",
    "        current_price_list.append(current_price)\n",
    "        discount_rate_list.append(discount_rate)\n",
    "        \n",
    "        print(f\"✅ [{i+1}/{len(composite_card_list)}] 수집 성공: {title_element}\")\n",
    "\n",
    "    except Exception as e:\n",
    "        print(f\"❌ [{i+1}/{len(composite_card_list)}] 수집 중 오류 발생. 건너뜁니다. 오류: {e}\")\n",
    "        # 오류 발생 시에도 리스트 길이를 맞추기 위해 실패 값을 넣어주는 것이 좋습니다.\n",
    "        link_list.append(\"수집실패\")\n",
    "        title_list.append(\"수집실패\")\n",
    "        store_list.append(\"수집실패\")\n",
    "        original_price_list.append(0)\n",
    "        current_price_list.append(0)\n",
    "        discount_rate_list.append(0)\n",
    "\n",
    "# 드라이버 종료\n",
    "driver.quit()"
   ]
  },
  {
   "cell_type": "code",
   "execution_count": 128,
   "metadata": {},
   "outputs": [
    {
     "name": "stdout",
     "output_type": "stream",
     "text": [
      "✅ [1/50] 수집 성공: 해외퓨루 리시리 컬러 샴푸 라이트 브라운 200ml\n",
      "✅ [2/50] 수집 성공: 해외펜테 포르테 프로 서브리믹 샴푸 OS 500ml\n",
      "✅ [3/50] 수집 성공: 스파 헤드 마사지기 안마기\n",
      "✅ [4/50] 수집 성공: 해외LIPPS 립스 하드 헤어 스프레이 200g\n",
      "✅ [5/50] 수집 성공: 해외Aujua 오주아 DIORUM 디오럼 모이스트캄 트리트먼트 1000g\n",
      "✅ [6/50] 수집 성공: 해외아드반젠 아트리스 하이브리드 스칼프 로션 100mL\n",
      "✅ [7/50] 수집 성공: 해외덴마크 Scandinavian 남자용 모발 성장 루틴 Hair Growth-Routine\n",
      "✅ [8/50] 수집 성공: 해외펜테 포르테 세범 클리어 젤 쿨 150g\n",
      "✅ [9/50] 수집 성공: 해외FURORIN 약용 두피용 에센스 180mL (3개세트)\n",
      "✅ [10/50] 수집 성공: 해외시스템 4 바이오 보태니컬 샴푸 500ml/ 세럼 500ml\n",
      "✅ [11/50] 수집 성공: 해외토픽 헤어 빌딩 파이버스 흑채 12g 블랙\n",
      "✅ [12/50] 수집 성공: 해외Mroobest 안티 헤어 로스 샴푸 K4 220Ml\n",
      "✅ [13/50] 수집 성공: 해외아쥬반 리 에미사리 샴푸 트리트먼트 세트 리필용\n",
      "✅ [14/50] 수집 성공: 두피 헤어 마사지 샴푸 브러쉬\n",
      "✅ [15/50] 수집 성공: 해외제노리스 피스타치오 헤어 트리트먼트 오일 100ml\n",
      "✅ [16/50] 수집 성공: 해외마브 하이엘 G 샴푸 300mL\n",
      "✅ [17/50] 수집 성공: EM 스칼프 두피건강 모발 두피 헤어샴푸 500ml\n",
      "✅ [18/50] 수집 성공: 해외티오신(thiocyn) 여성용 헤어 세럼 150ml\n",
      "✅ [19/50] 수집 성공: 비욘드 힐링포스 스캘프 클리닉 스케일러 100ml\n",
      "✅ [20/50] 수집 성공: 두피마사지기 프로 헤어케어 두피 마사지기\n",
      "✅ [21/50] 수집 성공: 해외펜테 포르테 프로페셔널 트리트먼트 a 리필 450g\n",
      "✅ [22/50] 수집 성공: 프리미엄TS샴푸300g + 프리미엄TS토닉250ml\n",
      "✅ [23/50] 수집 성공: 해외Valquer 안티 헤어 로스 샴푸 스탑 K1 400Ml\n",
      "✅ [24/50] 수집 성공: 프리미엄TS샴푸300g + 프리미엄TS토닉250ml\n",
      "✅ [25/50] 수집 성공: 해외아쥬반 Re 리 쿨 샴푸 1000ml 수분 청량감\n",
      "✅ [26/50] 수집 성공: 해외마브 하이엘 G 샴푸 300mL (6개 세트)\n",
      "✅ [27/50] 수집 성공: 모발빠짐 두피영양 하로시 바이탈 스켈프토닉\n",
      "✅ [28/50] 수집 성공: 시크릿 하이드라머드 에너자이즈 머드 샴푸 400ml\n",
      "✅ [29/50] 수집 성공: 반코르 닥터 독일 맥주효모샴푸 트리트먼트 set\n",
      "✅ [30/50] 수집 성공: 샴푸브러쉬 두피 마사지 헤어 쿠션 브러시\n",
      "✅ [31/50] 수집 성공: 해외썩세스 바이탈 챠지 모발 에센스 200ml 2개\n",
      "✅ [32/50] 수집 성공: 해외비비스칼 여성 헤어 그로우쓰 콜라겐 컴플렉스 180정\n",
      "✅ [33/50] 수집 성공: 해외파나소닉 탈모기 소이에 바디용 핑크 ESWS33P\n",
      "✅ [34/50] 수집 성공: 해외나프라 미파 프레그런스 UV 스프레이 텐더 릴리 80g\n",
      "✅ [35/50] 수집 성공: EM스칼프샴푸+EM스칼프토닉\n",
      "✅ [36/50] 수집 성공: 해외아즈마 마유 샴푸 1000ml 3개 일본\n",
      "✅ [37/50] 수집 성공: ATS 퍼스티지 브레시 샴푸 600ml\n",
      "✅ [38/50] 수집 성공: (라우쉬)콜츠푸트 비듬각질 두피 가려움 샴푸 200ml x 3개\n",
      "✅ [39/50] 수집 성공: 모발 트리트먼트 에센셜 오일 건조하고 손상된 부드러운 곱슬머리 비듬 방지 두피 마사지기 반짝이는 영양 강화 헤어\n",
      "✅ [40/50] 수집 성공: 퀄라이프 테크놀로지 탈모토닉 100ml\n",
      "✅ [41/50] 수집 성공: 여자 남자 민감성 대용량 탈모샴푸 1000ml\n",
      "✅ [42/50] 수집 성공: 사무실 바닥청소기계 바닥찌든때 호텔모텔 바닥 호텔 세척 표준 장비\n",
      "✅ [43/50] 수집 성공: 바이아우어 맥주효모 샴푸 앰버우디향 1017ml 2개\n",
      "✅ [44/50] 수집 성공: 식약처 기능성 약성 클라빔 두피 올인원 헤어토닉100ml\n",
      "✅ [45/50] 수집 성공: 패드 드럼세탁기 받침대 드럼 세탁기 브래킷 받침 스텐 다리 1 라이트헤더그레이솔리드\n",
      "✅ [46/50] 수집 성공: 해외다이안 퍼텍트 뷰티 드라이 샴푸 95g x 3개 프레쉬 시트러스향\n",
      "✅ [47/50] 수집 성공: 케어 향기좋은샴푸 비 듬샴푸 두피 하나로 비 듬 샴푸680ml\n",
      "✅ [48/50] 수집 성공: EM 풀라무 스칼프 헤어 두발 모발 두피 샴푸 500ml\n",
      "✅ [49/50] 수집 성공: 스테인리스 새장 조류 놀이터 하우스 앵무새 사육 부품 확장 높이 M 1 화이트\n",
      "✅ [50/50] 수집 성공: 반영구 조명 U자형 속눈썹 무드등 촬영 램프 라이트 1 C타입블랙 화이트라이트\n"
     ]
    }
   ],
   "source": [
    "# 최종 데이터를 담을 리스트\n",
    "link_list, title_list, store_list, original_price_list, current_price_list, discount_rate_list = [], [], [], [], [], []\n",
    "\n",
    "# 모든 상품 카드 순회하며 데이터 추출\n",
    "for i, one in enumerate(composite_card_list):\n",
    "    try:\n",
    "        # --- 1. 링크 (Link) ---\n",
    "        link_element = one.select_one('a.basicProductCard_link__urzND')['href']\n",
    "        \n",
    "        # --- 2. 상품제목 (Product Title) ---\n",
    "        title_element = one.select_one('strong.productCardTitle_product_card_title__eQupA').text.strip()\n",
    "        \n",
    "        # --- 3. 업체명 (Store Name) ---\n",
    "        store_element = one.select_one('span.productCardMallLink_mall_name__5oWPw').text.strip()\n",
    "        \n",
    "        # --- 4. 할인전 판매가 (Original Price) ---\n",
    "        original_price_tag = one.select_one('span.priceTag_original_price__jyZRY')\n",
    "        original_price = int(original_price_tag.text.replace('할인 전 판매가', '').replace('원', '').replace(',', '').strip()) if original_price_tag else 0\n",
    "\n",
    "        # --- 5. 현재가격 (Current Price) ---\n",
    "        current_price_tag = one.select_one('span.priceTag_number__1QW0R')\n",
    "        current_price = int(current_price_tag.text.replace(',', '').strip()) if current_price_tag else 0\n",
    "\n",
    "        # --- 6. 할인율 (Discount Rate) ---\n",
    "        discount_tag = one.select_one('span.priceTag_discount__F_ZXz')\n",
    "        discount_rate = int(discount_tag.text.replace('할인', '').replace('%', '').strip()) / 100 if discount_tag else 0.0\n",
    "\n",
    "        # 리스트에 추가\n",
    "        link_list.append(link_element)\n",
    "        title_list.append(title_element)\n",
    "        store_list.append(store_element)\n",
    "        original_price_list.append(original_price)\n",
    "        current_price_list.append(current_price)\n",
    "        discount_rate_list.append(discount_rate)\n",
    "        \n",
    "        print(f\"✅ [{i+1}/{len(composite_card_list)}] 수집 성공: {title_element}\")\n",
    "\n",
    "    except Exception as e:\n",
    "        print(f\"❌ [{i+1}/{len(composite_card_list)}] 수집 중 오류 발생. 건너뜁니다. 오류: {e}\")\n",
    "        # 오류 발생 시에도 리스트 길이를 맞추기 위해 실패 값을 넣어주는 것이 좋습니다.\n",
    "        link_list.append(\"수집실패\")\n",
    "        title_list.append(\"수집실패\")\n",
    "        store_list.append(\"수집실패\")\n",
    "        original_price_list.append(0)\n",
    "        current_price_list.append(0)\n",
    "        discount_rate_list.append(0)"
   ]
  },
  {
   "cell_type": "code",
   "execution_count": 129,
   "metadata": {},
   "outputs": [],
   "source": [
    "# 드라이버 종료\n",
    "driver.quit()"
   ]
  },
  {
   "cell_type": "code",
   "execution_count": null,
   "metadata": {},
   "outputs": [],
   "source": []
  }
 ],
 "metadata": {
  "kernelspec": {
   "display_name": "crawling",
   "language": "python",
   "name": "python3"
  },
  "language_info": {
   "codemirror_mode": {
    "name": "ipython",
    "version": 3
   },
   "file_extension": ".py",
   "mimetype": "text/x-python",
   "name": "python",
   "nbconvert_exporter": "python",
   "pygments_lexer": "ipython3",
   "version": "3.13.0"
  }
 },
 "nbformat": 4,
 "nbformat_minor": 2
}
