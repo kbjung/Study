{
 "cells": [
  {
   "cell_type": "markdown",
   "metadata": {},
   "source": [
    "# Pandas 실습 : 실험 데이터 다루기\n",
    "\n",
    "**목적:**\n",
    "- Pandas의 주요 기능 실습 (DataFrame 생성, groupby, 필터링, 슬라이싱, 벡터 연산 등)"
   ]
  },
  {
   "cell_type": "code",
   "execution_count": 1,
   "id": "b58f059e",
   "metadata": {},
   "outputs": [],
   "source": [
    "import pandas as pd\n",
    "import numpy as np"
   ]
  },
  {
   "cell_type": "markdown",
   "id": "74a77b63",
   "metadata": {},
   "source": [
    "## 1. 실험 데이터 생성"
   ]
  },
  {
   "cell_type": "code",
   "execution_count": 2,
   "id": "a8103a50",
   "metadata": {},
   "outputs": [],
   "source": [
    "data = {\n",
    "    'experiment_id': range(1, 11),\n",
    "    'researcher': ['Alice', 'Bob', 'Alice', 'David', 'Bob', 'Alice', 'Charlie', 'David', 'Charlie', 'Bob'],\n",
    "    'date': pd.date_range(start='2025-07-01', periods=10, freq='D'),\n",
    "    'temperature_C': [37.2, 36.5, 38.1, 35.9, 37.0, 36.8, 38.3, 36.4, 37.5, 36.7],\n",
    "    'ph_level': [7.2, 7.4, 6.9, 7.0, 7.1, 7.3, 6.8, 7.5, 7.2, 7.0],\n",
    "    'result': ['pass', 'fail', 'pass', 'fail', 'pass', 'pass', 'fail', 'fail', 'pass', 'fail']\n",
    "}\n",
    "df = pd.DataFrame(data)"
   ]
  },
  {
   "cell_type": "markdown",
   "id": "92e32f12",
   "metadata": {},
   "source": [
    "## 2. 데이터 확인\n",
    "- Q2-1. 데이터 프레임의 기본 정보를 보여주세요\n",
    "- Q2-2. 데이터 프레임의 가장 윗 5행을 보여주세요\n",
    "- Q2-3. 데이터 프레임의 가장 아래 5행을 보여주세요"
   ]
  },
  {
   "cell_type": "code",
   "execution_count": 3,
   "id": "e04ca5e0",
   "metadata": {},
   "outputs": [],
   "source": [
    "# Q2-1. 데이터 프레임의 기본 정보를 보여주세요\n",
    "\n"
   ]
  },
  {
   "cell_type": "code",
   "execution_count": 4,
   "id": "6cbc650a",
   "metadata": {},
   "outputs": [],
   "source": [
    "# Q2-2. 데이터 프레임의 가장 윗 5행을 보여주세요\n",
    "\n"
   ]
  },
  {
   "cell_type": "code",
   "execution_count": 5,
   "id": "3e4ea025",
   "metadata": {},
   "outputs": [],
   "source": [
    "# Q2-3. 데이터 프레임의 가장 아래 5행을 보여주세요\n",
    "\n"
   ]
  },
  {
   "cell_type": "markdown",
   "id": "e4166609",
   "metadata": {},
   "source": [
    "## 3. 새로운 컬럼 추가\n",
    "- Q3-1. temperature_C가 37도 이상인 샘플은 High를, 37이하인 샘플은 Normal인 temp_status컬럼을 만들어주세요\n",
    "- Q3-2. ph_level이 7미만이면 Acidic, 7초과이면 Basic, 7이면 Neutral인 acid_base컬럼을 만들어주세요.\n",
    "- Q3-3. score 컬럼을 만들어주세요.(벡터 연산)\n",
    "    - score = temperature_C * ph_level"
   ]
  },
  {
   "cell_type": "code",
   "execution_count": 6,
   "id": "a214710c",
   "metadata": {},
   "outputs": [],
   "source": [
    "# Q3-1. temperature_C가 37도 이상인 샘플은 High를, 37이하인 샘플은 Normal인 temp_status컬럼을 만들어주세요\n",
    "\n"
   ]
  },
  {
   "cell_type": "code",
   "execution_count": 7,
   "id": "612a03d8",
   "metadata": {},
   "outputs": [],
   "source": [
    "# Q3-2. ph_level이 7미만이면 Acidic, 7초과이면 Basic, 7이면 Neutral인 acid_base컬럼을 만들어주세요.\n",
    "\n"
   ]
  },
  {
   "cell_type": "code",
   "execution_count": 8,
   "id": "e2b38973",
   "metadata": {},
   "outputs": [],
   "source": [
    "# Q3-3. score 컬럼을 만들어주세요.\n",
    "    # score = temperature_C * ph_level\n",
    "\n"
   ]
  },
  {
   "cell_type": "markdown",
   "id": "a35320dd",
   "metadata": {},
   "source": [
    "## 4. 조건 필터링\n",
    "- Q4-1. result가 pass인 샘플만 보여주세요"
   ]
  },
  {
   "cell_type": "code",
   "execution_count": 9,
   "id": "d8936155",
   "metadata": {},
   "outputs": [],
   "source": [
    "# Q4-1. result가 pass인 샘플만 보여주세요\n",
    "\n"
   ]
  },
  {
   "cell_type": "markdown",
   "id": "bc2dc9cb",
   "metadata": {},
   "source": [
    "## 5. 슬라이싱\n",
    "- Q5-1. 처음 3개 실험의 researcher와 온도만 보여주세요"
   ]
  },
  {
   "cell_type": "code",
   "execution_count": 10,
   "id": "ee9c7e7c",
   "metadata": {},
   "outputs": [],
   "source": [
    "# Q5-1. 처음 3개 실험의 researcher와 온도만 보여주세요\n",
    "\n"
   ]
  },
  {
   "cell_type": "markdown",
   "id": "6d123c35",
   "metadata": {},
   "source": [
    "## 6. 정렬\n",
    "- Q6-1. score가 높은 점수부터 나열해 주세요"
   ]
  },
  {
   "cell_type": "code",
   "execution_count": 11,
   "id": "11839853",
   "metadata": {},
   "outputs": [],
   "source": [
    "# Q6-1. score가 높은 점수부터 나열해 주세요\n",
    "\n"
   ]
  },
  {
   "cell_type": "markdown",
   "id": "b5189dde",
   "metadata": {},
   "source": [
    "## 7. groupby 예제\n",
    "- Q7-1. researcher별 평균 온도는 얼마입니까?\n",
    "- Q7-2. researcher와 온도 상태별 실험 수는 어떻게 됩니까?"
   ]
  },
  {
   "cell_type": "code",
   "execution_count": 12,
   "id": "40f011a8",
   "metadata": {},
   "outputs": [],
   "source": [
    "# Q7-1. researcher별 평균 온도는 얼마입니까?\n",
    "\n"
   ]
  },
  {
   "cell_type": "code",
   "execution_count": 13,
   "id": "764ec674",
   "metadata": {},
   "outputs": [],
   "source": [
    "# Q7-2. researcher와 온도 상태별 실험 수는 어떻게 됩니까?\n",
    "\n"
   ]
  },
  {
   "cell_type": "markdown",
   "id": "772c720d",
   "metadata": {},
   "source": [
    "## 8. 결측값 처리 실습용\n",
    "- Q8-1. 3번째행의 'ph_level' 값을 빈 값으로 만들어주세요\n",
    "- Q8-2. 결측값 존재하는 행을 확인해주세요\n",
    "- Q8-3. 'ph_level'컬럼의 결측값을 평균값으로 채워주세요"
   ]
  },
  {
   "cell_type": "code",
   "execution_count": 14,
   "id": "19405a74",
   "metadata": {},
   "outputs": [],
   "source": [
    "# Q8-1. 3번째행의 'ph_level' 값을 빈 값으로 만들어주세요.\n",
    "\n"
   ]
  },
  {
   "cell_type": "code",
   "execution_count": 15,
   "id": "06ac7223",
   "metadata": {},
   "outputs": [],
   "source": [
    "# Q8-2. 결측값 존재하는 행을 확인해주세요\n",
    "\n"
   ]
  },
  {
   "cell_type": "code",
   "execution_count": 16,
   "id": "a0bff13c",
   "metadata": {},
   "outputs": [],
   "source": [
    "# Q8-3. 'ph_level'컬럼의 결측값을 평균값으로 채워주세요\n",
    "\n"
   ]
  }
 ],
 "metadata": {
  "kernelspec": {
   "display_name": "base",
   "language": "python",
   "name": "python3"
  },
  "language_info": {
   "codemirror_mode": {
    "name": "ipython",
    "version": 3
   },
   "file_extension": ".py",
   "mimetype": "text/x-python",
   "name": "python",
   "nbconvert_exporter": "python",
   "pygments_lexer": "ipython3",
   "version": "3.12.7"
  }
 },
 "nbformat": 4,
 "nbformat_minor": 5
}
