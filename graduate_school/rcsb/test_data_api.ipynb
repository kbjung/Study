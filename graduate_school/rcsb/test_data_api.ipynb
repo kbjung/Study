{
 "cells": [
  {
   "cell_type": "code",
   "execution_count": 1,
   "metadata": {},
   "outputs": [],
   "source": [
    "import pandas as pd"
   ]
  },
  {
   "cell_type": "code",
   "execution_count": 3,
   "metadata": {},
   "outputs": [
    {
     "name": "stdout",
     "output_type": "stream",
     "text": [
      "{'data': {'entries': [{'rcsb_id': '4HHB', 'exptl': [{'method': 'X-RAY DIFFRACTION'}]}]}}\n"
     ]
    }
   ],
   "source": [
    "from rcsbapi.data import DataQuery as Query\n",
    "\n",
    "query = Query(\n",
    "    input_type=\"entries\",\n",
    "    input_ids=[\"4HHB\"],\n",
    "    return_data_list=[\"exptl.method\"]\n",
    ")\n",
    "\n",
    "result_dict = query.exec()\n",
    "print(result_dict)\n",
    "# print(query.get_response()) # would be equivalent"
   ]
  },
  {
   "cell_type": "code",
   "execution_count": null,
   "metadata": {},
   "outputs": [
    {
     "name": "stdout",
     "output_type": "stream",
     "text": [
      "{'data': {'entries': [{'rcsb_id': '4HHB', 'exptl': [{'method_details': None, 'details': None, 'crystals_number': None, 'method': 'X-RAY DIFFRACTION'}]}]}}\n"
     ]
    }
   ],
   "source": [
    "query = Query(\n",
    "    input_type=\"entries\",\n",
    "    input_ids=[\"4HHB\"],\n",
    "    # Requesting \"exptl\" will return a query requesting exptl.method, exptl.details, etc\n",
    "    return_data_list=[\"exptl\"]\n",
    ")\n",
    "result_dict = query.exec()\n",
    "print(result_dict)"
   ]
  },
  {
   "cell_type": "code",
   "execution_count": 5,
   "metadata": {},
   "outputs": [
    {
     "data": {
      "text/plain": [
       "{'entries': [{'rcsb_id': '4HHB',\n",
       "   'exptl': [{'method_details': None,\n",
       "     'details': None,\n",
       "     'crystals_number': None,\n",
       "     'method': 'X-RAY DIFFRACTION'}]}]}"
      ]
     },
     "execution_count": 5,
     "metadata": {},
     "output_type": "execute_result"
    }
   ],
   "source": [
    "result_dict['data']"
   ]
  },
  {
   "cell_type": "code",
   "execution_count": 6,
   "metadata": {},
   "outputs": [
    {
     "data": {
      "text/plain": [
       "[{'rcsb_id': '4HHB',\n",
       "  'exptl': [{'method_details': None,\n",
       "    'details': None,\n",
       "    'crystals_number': None,\n",
       "    'method': 'X-RAY DIFFRACTION'}]}]"
      ]
     },
     "execution_count": 6,
     "metadata": {},
     "output_type": "execute_result"
    }
   ],
   "source": [
    "result_dict['data']['entries']"
   ]
  },
  {
   "cell_type": "code",
   "execution_count": 7,
   "metadata": {},
   "outputs": [
    {
     "data": {
      "text/plain": [
       "{'rcsb_id': '4HHB',\n",
       " 'exptl': [{'method_details': None,\n",
       "   'details': None,\n",
       "   'crystals_number': None,\n",
       "   'method': 'X-RAY DIFFRACTION'}]}"
      ]
     },
     "execution_count": 7,
     "metadata": {},
     "output_type": "execute_result"
    }
   ],
   "source": [
    "result_dict['data']['entries'][0]"
   ]
  },
  {
   "cell_type": "code",
   "execution_count": 8,
   "metadata": {},
   "outputs": [
    {
     "data": {
      "text/plain": [
       "[{'method_details': None,\n",
       "  'details': None,\n",
       "  'crystals_number': None,\n",
       "  'method': 'X-RAY DIFFRACTION'}]"
      ]
     },
     "execution_count": 8,
     "metadata": {},
     "output_type": "execute_result"
    }
   ],
   "source": [
    "result_dict['data']['entries'][0]['exptl']"
   ]
  },
  {
   "cell_type": "code",
   "execution_count": 9,
   "metadata": {},
   "outputs": [
    {
     "data": {
      "text/html": [
       "<div>\n",
       "<style scoped>\n",
       "    .dataframe tbody tr th:only-of-type {\n",
       "        vertical-align: middle;\n",
       "    }\n",
       "\n",
       "    .dataframe tbody tr th {\n",
       "        vertical-align: top;\n",
       "    }\n",
       "\n",
       "    .dataframe thead th {\n",
       "        text-align: right;\n",
       "    }\n",
       "</style>\n",
       "<table border=\"1\" class=\"dataframe\">\n",
       "  <thead>\n",
       "    <tr style=\"text-align: right;\">\n",
       "      <th></th>\n",
       "      <th>method_details</th>\n",
       "      <th>details</th>\n",
       "      <th>crystals_number</th>\n",
       "      <th>method</th>\n",
       "    </tr>\n",
       "  </thead>\n",
       "  <tbody>\n",
       "    <tr>\n",
       "      <th>0</th>\n",
       "      <td>None</td>\n",
       "      <td>None</td>\n",
       "      <td>None</td>\n",
       "      <td>X-RAY DIFFRACTION</td>\n",
       "    </tr>\n",
       "  </tbody>\n",
       "</table>\n",
       "</div>"
      ],
      "text/plain": [
       "  method_details details crystals_number             method\n",
       "0           None    None            None  X-RAY DIFFRACTION"
      ]
     },
     "execution_count": 9,
     "metadata": {},
     "output_type": "execute_result"
    }
   ],
   "source": [
    "exptl = pd.DataFrame(result_dict['data']['entries'][0]['exptl'])\n",
    "exptl"
   ]
  },
  {
   "cell_type": "code",
   "execution_count": null,
   "metadata": {},
   "outputs": [],
   "source": []
  }
 ],
 "metadata": {
  "kernelspec": {
   "display_name": "rcsb",
   "language": "python",
   "name": "python3"
  },
  "language_info": {
   "codemirror_mode": {
    "name": "ipython",
    "version": 3
   },
   "file_extension": ".py",
   "mimetype": "text/x-python",
   "name": "python",
   "nbconvert_exporter": "python",
   "pygments_lexer": "ipython3",
   "version": "3.13.0"
  }
 },
 "nbformat": 4,
 "nbformat_minor": 2
}
