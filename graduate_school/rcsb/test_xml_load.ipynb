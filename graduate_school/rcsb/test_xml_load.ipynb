{
 "cells": [
  {
   "cell_type": "markdown",
   "metadata": {},
   "source": [
    "# Library"
   ]
  },
  {
   "cell_type": "code",
   "execution_count": 1,
   "metadata": {},
   "outputs": [],
   "source": [
    "# conda install pandas # or !pip install pandas\n",
    "# !pip install requests\n",
    "# !pip install matplotlib\n",
    "# !pip install plotly\n",
    "# !pip install scipy"
   ]
  },
  {
   "cell_type": "code",
   "execution_count": 2,
   "metadata": {},
   "outputs": [],
   "source": [
    "# !pip install nbformat --upgrade"
   ]
  },
  {
   "cell_type": "code",
   "execution_count": 3,
   "metadata": {},
   "outputs": [],
   "source": [
    "import xml.etree.ElementTree as ET\n",
    "import pandas as pd\n",
    "import numpy as np\n",
    "import requests"
   ]
  },
  {
   "cell_type": "code",
   "execution_count": 4,
   "metadata": {},
   "outputs": [],
   "source": [
    "from mpl_toolkits.mplot3d import Axes3D\n",
    "import matplotlib.pyplot as plt\n",
    "import plotly.express as px\n",
    "\n",
    "from scipy.interpolate import griddata"
   ]
  },
  {
   "cell_type": "markdown",
   "metadata": {},
   "source": [
    "# Load Data(ID : 4hhb)"
   ]
  },
  {
   "cell_type": "code",
   "execution_count": 5,
   "metadata": {},
   "outputs": [
    {
     "name": "stdout",
     "output_type": "stream",
     "text": [
      "ID: 1, Atom: N, Residue: VAL, Coords: (19.323, 29.727, 42.781)\n",
      "ID: 2, Atom: CA, Residue: VAL, Coords: (20.141, 30.469, 42.414)\n",
      "ID: 3, Atom: C, Residue: VAL, Coords: (21.664, 29.857, 42.548)\n",
      "ID: 4, Atom: O, Residue: VAL, Coords: (21.985, 29.541, 43.704)\n",
      "ID: 5, Atom: CB, Residue: VAL, Coords: (19.887, 31.918, 43.524)\n"
     ]
    }
   ],
   "source": [
    "# 네임스페이스 등록\n",
    "namespaces = {'PDBx': 'http://pdbml.pdb.org/schema/pdbx-v50.xsd'}\n",
    "\n",
    "# XML 파일 열기\n",
    "tree = ET.parse(\"C:/Users/kbjoo/Documents/Google_Drive/GitHub/Study/graduate_school/rcsb/raw_xml/4hhb.xml\")\n",
    "root = tree.getroot()\n",
    "\n",
    "# 예: atom_site 항목 하나씩 순회\n",
    "for atom_site in root.findall('.//PDBx:atom_site', namespaces)[:5]:\n",
    "    atom_id = atom_site.attrib.get('id')\n",
    "    atom_name = atom_site.find('PDBx:auth_atom_id', namespaces).text\n",
    "    res_name = atom_site.find('PDBx:auth_comp_id', namespaces).text\n",
    "    x = atom_site.find('PDBx:Cartn_x', namespaces).text\n",
    "    y = atom_site.find('PDBx:Cartn_y', namespaces).text\n",
    "    z = atom_site.find('PDBx:Cartn_z', namespaces).text\n",
    "\n",
    "    auth_asym_id = atom_site.find('PDBx:auth_asym_id', namespaces).text\n",
    "    auth_seq_id = atom_site.find('PDBx:auth_seq_id', namespaces).text\n",
    "    pdbx_PDB_model_num = atom_site.find('PDBx:pdbx_PDB_model_num', namespaces).text\n",
    "    label_entity_id = atom_site.find('PDBx:label_entity_id', namespaces).text\n",
    "\n",
    "    group_PDB = atom_site.find('PDBx:group_PDB', namespaces).text\n",
    "    \n",
    "    print(f'ID: {atom_id}, Atom: {atom_name}, Residue: {res_name}, Coords: ({x}, {y}, {z})')"
   ]
  },
  {
   "cell_type": "markdown",
   "metadata": {},
   "source": [
    "## EDA\n",
    "✅ EDA의 주요 목적\n",
    "1. 데이터의 전반적인 구조 파악\n",
    "    - 변수의 수, 데이터 타입, 결측치, 이상치 존재 여부 등\n",
    "2. 이상치 및 오류 탐지\n",
    "    - 논리적 오류나 비정상적으로 벗어난 값 탐색\n",
    "3. 데이터 분포와 통계 요약\n",
    "    - 평균, 중앙값, 분산, 최소/최대값 등 기초 통계량 확인\n",
    "4. 변수 간 관계 탐색\n",
    "    - 상관관계, 그룹별 분포, 범주형 변수와 수치형 변수의 관계 등\n",
    "5. 모델링을 위한 가설 수립\n",
    "    - 어떤 특징이 타겟에 영향을 줄 가능성이 있는지 직관적 판단"
   ]
  },
  {
   "cell_type": "code",
   "execution_count": 6,
   "metadata": {},
   "outputs": [
    {
     "data": {
      "text/plain": [
       "4779"
      ]
     },
     "execution_count": 6,
     "metadata": {},
     "output_type": "execute_result"
    }
   ],
   "source": [
    "len(root.findall('.//PDBx:atom_site', namespaces))"
   ]
  },
  {
   "cell_type": "code",
   "execution_count": 7,
   "metadata": {},
   "outputs": [
    {
     "data": {
      "text/plain": [
       "[<Element '{http://pdbml.pdb.org/schema/pdbx-v50.xsd}atom_site' at 0x000001A363874400>,\n",
       " <Element '{http://pdbml.pdb.org/schema/pdbx-v50.xsd}atom_site' at 0x000001A363874A40>,\n",
       " <Element '{http://pdbml.pdb.org/schema/pdbx-v50.xsd}atom_site' at 0x000001A363875030>]"
      ]
     },
     "execution_count": 7,
     "metadata": {},
     "output_type": "execute_result"
    }
   ],
   "source": [
    "root.findall('.//PDBx:atom_site', namespaces)[:3]"
   ]
  },
  {
   "cell_type": "code",
   "execution_count": 8,
   "metadata": {},
   "outputs": [
    {
     "name": "stdout",
     "output_type": "stream",
     "text": [
      "<class 'str'> <class 'str'> <class 'str'> <class 'float'> <class 'float'> <class 'float'>\n",
      "<class 'str'> <class 'str'> <class 'str'> <class 'float'> <class 'float'> <class 'float'>\n",
      "<class 'str'> <class 'str'> <class 'str'> <class 'float'> <class 'float'> <class 'float'>\n"
     ]
    }
   ],
   "source": [
    "for atom_site in root.findall('.//PDBx:atom_site', namespaces)[:3]:\n",
    "    atom_id = atom_site.attrib.get('id')\n",
    "    atom_name = atom_site.find('PDBx:auth_atom_id', namespaces).text\n",
    "    res_name = atom_site.find('PDBx:auth_comp_id', namespaces).text\n",
    "    x = float(atom_site.find('PDBx:Cartn_x', namespaces).text)\n",
    "    y = float(atom_site.find('PDBx:Cartn_y', namespaces).text)\n",
    "    z = float(atom_site.find('PDBx:Cartn_z', namespaces).text)\n",
    "    print(type(atom_id), type(atom_name), type(res_name), type(x), type(y), type(z))"
   ]
  },
  {
   "cell_type": "markdown",
   "metadata": {},
   "source": [
    "### DataFrame 만들기"
   ]
  },
  {
   "cell_type": "code",
   "execution_count": 9,
   "metadata": {},
   "outputs": [
    {
     "data": {
      "text/html": [
       "<div>\n",
       "<style scoped>\n",
       "    .dataframe tbody tr th:only-of-type {\n",
       "        vertical-align: middle;\n",
       "    }\n",
       "\n",
       "    .dataframe tbody tr th {\n",
       "        vertical-align: top;\n",
       "    }\n",
       "\n",
       "    .dataframe thead th {\n",
       "        text-align: right;\n",
       "    }\n",
       "</style>\n",
       "<table border=\"1\" class=\"dataframe\">\n",
       "  <thead>\n",
       "    <tr style=\"text-align: right;\">\n",
       "      <th></th>\n",
       "      <th>atom_id</th>\n",
       "      <th>atom_name</th>\n",
       "      <th>res_name</th>\n",
       "      <th>x</th>\n",
       "      <th>y</th>\n",
       "      <th>z</th>\n",
       "      <th>auth_asym_id</th>\n",
       "      <th>auth_seq_id</th>\n",
       "      <th>pdbx_PDB_model_num</th>\n",
       "      <th>label_entity_id</th>\n",
       "      <th>group_PDB</th>\n",
       "    </tr>\n",
       "  </thead>\n",
       "  <tbody>\n",
       "    <tr>\n",
       "      <th>0</th>\n",
       "      <td>1</td>\n",
       "      <td>N</td>\n",
       "      <td>VAL</td>\n",
       "      <td>19.323</td>\n",
       "      <td>29.727</td>\n",
       "      <td>42.781</td>\n",
       "      <td>A</td>\n",
       "      <td>1</td>\n",
       "      <td>1</td>\n",
       "      <td>1</td>\n",
       "      <td>ATOM</td>\n",
       "    </tr>\n",
       "    <tr>\n",
       "      <th>1</th>\n",
       "      <td>2</td>\n",
       "      <td>CA</td>\n",
       "      <td>VAL</td>\n",
       "      <td>20.141</td>\n",
       "      <td>30.469</td>\n",
       "      <td>42.414</td>\n",
       "      <td>A</td>\n",
       "      <td>1</td>\n",
       "      <td>1</td>\n",
       "      <td>1</td>\n",
       "      <td>ATOM</td>\n",
       "    </tr>\n",
       "    <tr>\n",
       "      <th>2</th>\n",
       "      <td>3</td>\n",
       "      <td>C</td>\n",
       "      <td>VAL</td>\n",
       "      <td>21.664</td>\n",
       "      <td>29.857</td>\n",
       "      <td>42.548</td>\n",
       "      <td>A</td>\n",
       "      <td>1</td>\n",
       "      <td>1</td>\n",
       "      <td>1</td>\n",
       "      <td>ATOM</td>\n",
       "    </tr>\n",
       "    <tr>\n",
       "      <th>3</th>\n",
       "      <td>4</td>\n",
       "      <td>O</td>\n",
       "      <td>VAL</td>\n",
       "      <td>21.985</td>\n",
       "      <td>29.541</td>\n",
       "      <td>43.704</td>\n",
       "      <td>A</td>\n",
       "      <td>1</td>\n",
       "      <td>1</td>\n",
       "      <td>1</td>\n",
       "      <td>ATOM</td>\n",
       "    </tr>\n",
       "    <tr>\n",
       "      <th>4</th>\n",
       "      <td>5</td>\n",
       "      <td>CB</td>\n",
       "      <td>VAL</td>\n",
       "      <td>19.887</td>\n",
       "      <td>31.918</td>\n",
       "      <td>43.524</td>\n",
       "      <td>A</td>\n",
       "      <td>1</td>\n",
       "      <td>1</td>\n",
       "      <td>1</td>\n",
       "      <td>ATOM</td>\n",
       "    </tr>\n",
       "  </tbody>\n",
       "</table>\n",
       "</div>"
      ],
      "text/plain": [
       "   atom_id atom_name res_name       x       y       z auth_asym_id  \\\n",
       "0        1         N      VAL  19.323  29.727  42.781            A   \n",
       "1        2        CA      VAL  20.141  30.469  42.414            A   \n",
       "2        3         C      VAL  21.664  29.857  42.548            A   \n",
       "3        4         O      VAL  21.985  29.541  43.704            A   \n",
       "4        5        CB      VAL  19.887  31.918  43.524            A   \n",
       "\n",
       "   auth_seq_id  pdbx_PDB_model_num  label_entity_id group_PDB  \n",
       "0            1                   1                1      ATOM  \n",
       "1            1                   1                1      ATOM  \n",
       "2            1                   1                1      ATOM  \n",
       "3            1                   1                1      ATOM  \n",
       "4            1                   1                1      ATOM  "
      ]
     },
     "execution_count": 9,
     "metadata": {},
     "output_type": "execute_result"
    }
   ],
   "source": [
    "atom_id_list, atom_name_list, res_name_list, x_list, y_list, z_list = [], [], [], [], [], []\n",
    "auth_asym_id_list, auth_seq_id_list, pdbx_PDB_model_num_list, label_entity_id_list = [], [], [], []\n",
    "group_PDB_list = []\n",
    "\n",
    "for atom_site in root.findall('.//PDBx:atom_site', namespaces):\n",
    "    atom_id = int(atom_site.attrib.get('id'))\n",
    "    atom_name = atom_site.find('PDBx:auth_atom_id', namespaces).text\n",
    "    res_name = atom_site.find('PDBx:auth_comp_id', namespaces).text\n",
    "    x = atom_site.find('PDBx:Cartn_x', namespaces).text\n",
    "    y = atom_site.find('PDBx:Cartn_y', namespaces).text\n",
    "    z = atom_site.find('PDBx:Cartn_z', namespaces).text\n",
    "    \n",
    "\n",
    "    auth_asym_id = atom_site.find('PDBx:auth_asym_id', namespaces).text\n",
    "    auth_seq_id = int(atom_site.find('PDBx:auth_seq_id', namespaces).text)\n",
    "    pdbx_PDB_model_num = int(atom_site.find('PDBx:pdbx_PDB_model_num', namespaces).text)\n",
    "    label_entity_id = int(atom_site.find('PDBx:label_entity_id', namespaces).text)\n",
    "\n",
    "    group_PDB = atom_site.find('PDBx:group_PDB', namespaces).text\n",
    "\n",
    "    atom_id_list.append(atom_id)\n",
    "    atom_name_list.append(atom_name)\n",
    "    res_name_list.append(res_name)\n",
    "    x_list.append(float(x))\n",
    "    y_list.append(float(y))\n",
    "    z_list.append(float(z))\n",
    "\n",
    "    auth_asym_id_list.append(auth_asym_id)\n",
    "    auth_seq_id_list.append(auth_seq_id)\n",
    "    pdbx_PDB_model_num_list.append(pdbx_PDB_model_num)\n",
    "    label_entity_id_list.append(label_entity_id)\n",
    "    group_PDB_list.append(group_PDB)\n",
    "\n",
    "# DataFrame 생성\n",
    "df = pd.DataFrame({\n",
    "    'atom_id': atom_id_list,\n",
    "    'atom_name': atom_name_list,\n",
    "    'res_name': res_name_list,\n",
    "    'x': x_list,\n",
    "    'y': y_list,\n",
    "    'z': z_list,\n",
    "    'auth_asym_id': auth_asym_id_list,\n",
    "    'auth_seq_id': auth_seq_id_list,\n",
    "    'pdbx_PDB_model_num': pdbx_PDB_model_num_list,\n",
    "    'label_entity_id': label_entity_id_list,\n",
    "    'group_PDB': group_PDB_list\n",
    "})\n",
    "\n",
    "df.head()"
   ]
  },
  {
   "cell_type": "markdown",
   "metadata": {},
   "source": [
    "### 특성 분석"
   ]
  },
  {
   "cell_type": "code",
   "execution_count": 10,
   "metadata": {},
   "outputs": [
    {
     "name": "stdout",
     "output_type": "stream",
     "text": [
      "<class 'pandas.core.frame.DataFrame'>\n",
      "RangeIndex: 4779 entries, 0 to 4778\n",
      "Data columns (total 11 columns):\n",
      " #   Column              Non-Null Count  Dtype  \n",
      "---  ------              --------------  -----  \n",
      " 0   atom_id             4779 non-null   int64  \n",
      " 1   atom_name           4779 non-null   object \n",
      " 2   res_name            4779 non-null   object \n",
      " 3   x                   4779 non-null   float64\n",
      " 4   y                   4779 non-null   float64\n",
      " 5   z                   4779 non-null   float64\n",
      " 6   auth_asym_id        4779 non-null   object \n",
      " 7   auth_seq_id         4779 non-null   int64  \n",
      " 8   pdbx_PDB_model_num  4779 non-null   int64  \n",
      " 9   label_entity_id     4779 non-null   int64  \n",
      " 10  group_PDB           4779 non-null   object \n",
      "dtypes: float64(3), int64(4), object(4)\n",
      "memory usage: 410.8+ KB\n"
     ]
    }
   ],
   "source": [
    "df.info()"
   ]
  },
  {
   "cell_type": "code",
   "execution_count": 11,
   "metadata": {},
   "outputs": [
    {
     "data": {
      "text/plain": [
       "4779"
      ]
     },
     "execution_count": 11,
     "metadata": {},
     "output_type": "execute_result"
    }
   ],
   "source": [
    "len(df.atom_id.unique())"
   ]
  },
  {
   "cell_type": "code",
   "execution_count": 12,
   "metadata": {},
   "outputs": [
    {
     "data": {
      "text/plain": [
       "array(['N', 'CA', 'C', 'O', 'CB', 'CG1', 'CG2', 'CG', 'CD1', 'CD2', 'OG',\n",
       "       'CD', 'OD1', 'OD2', 'CE', 'NZ', 'OG1', 'ND2', 'NE1', 'CE2', 'CE3',\n",
       "       'CZ2', 'CZ3', 'CH2', 'ND1', 'CE1', 'NE2', 'OE1', 'OE2', 'CZ', 'OH',\n",
       "       'NE', 'NH1', 'NH2', 'SD', 'SG', 'OXT', 'CHA', 'CHB', 'CHC', 'CHD',\n",
       "       'C1A', 'C2A', 'C3A', 'C4A', 'CMA', 'CAA', 'CBA', 'CGA', 'O1A',\n",
       "       'O2A', 'C1B', 'C2B', 'C3B', 'C4B', 'CMB', 'CAB', 'CBB', 'C1C',\n",
       "       'C2C', 'C3C', 'C4C', 'CMC', 'CAC', 'CBC', 'C1D', 'C2D', 'C3D',\n",
       "       'C4D', 'CMD', 'CAD', 'CBD', 'CGD', 'O1D', 'O2D', 'NA', 'NB', 'NC',\n",
       "       'ND', 'FE', 'P'], dtype=object)"
      ]
     },
     "execution_count": 12,
     "metadata": {},
     "output_type": "execute_result"
    }
   ],
   "source": [
    "df.atom_name.unique()"
   ]
  },
  {
   "cell_type": "code",
   "execution_count": 13,
   "metadata": {},
   "outputs": [
    {
     "data": {
      "text/plain": [
       "81"
      ]
     },
     "execution_count": 13,
     "metadata": {},
     "output_type": "execute_result"
    }
   ],
   "source": [
    "len(df.atom_name.unique())"
   ]
  },
  {
   "cell_type": "code",
   "execution_count": 14,
   "metadata": {},
   "outputs": [
    {
     "data": {
      "text/plain": [
       "array(['VAL', 'LEU', 'SER', 'PRO', 'ALA', 'ASP', 'LYS', 'THR', 'ASN',\n",
       "       'TRP', 'GLY', 'HIS', 'GLU', 'TYR', 'ARG', 'MET', 'PHE', 'GLN',\n",
       "       'CYS', 'HEM', 'PO4', 'HOH'], dtype=object)"
      ]
     },
     "execution_count": 14,
     "metadata": {},
     "output_type": "execute_result"
    }
   ],
   "source": [
    "df.res_name.unique()"
   ]
  },
  {
   "cell_type": "code",
   "execution_count": 15,
   "metadata": {},
   "outputs": [
    {
     "data": {
      "text/plain": [
       "22"
      ]
     },
     "execution_count": 15,
     "metadata": {},
     "output_type": "execute_result"
    }
   ],
   "source": [
    "len(df.res_name.unique())"
   ]
  },
  {
   "cell_type": "markdown",
   "metadata": {},
   "source": [
    "### 원소와 용매 분리"
   ]
  },
  {
   "cell_type": "code",
   "execution_count": 16,
   "metadata": {},
   "outputs": [
    {
     "data": {
      "text/html": [
       "<div>\n",
       "<style scoped>\n",
       "    .dataframe tbody tr th:only-of-type {\n",
       "        vertical-align: middle;\n",
       "    }\n",
       "\n",
       "    .dataframe tbody tr th {\n",
       "        vertical-align: top;\n",
       "    }\n",
       "\n",
       "    .dataframe thead th {\n",
       "        text-align: right;\n",
       "    }\n",
       "</style>\n",
       "<table border=\"1\" class=\"dataframe\">\n",
       "  <thead>\n",
       "    <tr style=\"text-align: right;\">\n",
       "      <th></th>\n",
       "      <th>atom_id</th>\n",
       "      <th>atom_name</th>\n",
       "      <th>res_name</th>\n",
       "      <th>x</th>\n",
       "      <th>y</th>\n",
       "      <th>z</th>\n",
       "      <th>auth_asym_id</th>\n",
       "      <th>auth_seq_id</th>\n",
       "      <th>pdbx_PDB_model_num</th>\n",
       "      <th>label_entity_id</th>\n",
       "      <th>group_PDB</th>\n",
       "    </tr>\n",
       "  </thead>\n",
       "  <tbody>\n",
       "    <tr>\n",
       "      <th>4384</th>\n",
       "      <td>4385</td>\n",
       "      <td>CHA</td>\n",
       "      <td>HEM</td>\n",
       "      <td>18.675</td>\n",
       "      <td>18.641</td>\n",
       "      <td>20.464</td>\n",
       "      <td>A</td>\n",
       "      <td>142</td>\n",
       "      <td>1</td>\n",
       "      <td>3</td>\n",
       "      <td>HETATM</td>\n",
       "    </tr>\n",
       "    <tr>\n",
       "      <th>4385</th>\n",
       "      <td>4386</td>\n",
       "      <td>CHB</td>\n",
       "      <td>HEM</td>\n",
       "      <td>20.996</td>\n",
       "      <td>20.564</td>\n",
       "      <td>24.241</td>\n",
       "      <td>A</td>\n",
       "      <td>142</td>\n",
       "      <td>1</td>\n",
       "      <td>3</td>\n",
       "      <td>HETATM</td>\n",
       "    </tr>\n",
       "    <tr>\n",
       "      <th>4386</th>\n",
       "      <td>4387</td>\n",
       "      <td>CHC</td>\n",
       "      <td>HEM</td>\n",
       "      <td>18.666</td>\n",
       "      <td>17.711</td>\n",
       "      <td>27.273</td>\n",
       "      <td>A</td>\n",
       "      <td>142</td>\n",
       "      <td>1</td>\n",
       "      <td>3</td>\n",
       "      <td>HETATM</td>\n",
       "    </tr>\n",
       "    <tr>\n",
       "      <th>4387</th>\n",
       "      <td>4388</td>\n",
       "      <td>CHD</td>\n",
       "      <td>HEM</td>\n",
       "      <td>16.693</td>\n",
       "      <td>15.349</td>\n",
       "      <td>23.426</td>\n",
       "      <td>A</td>\n",
       "      <td>142</td>\n",
       "      <td>1</td>\n",
       "      <td>3</td>\n",
       "      <td>HETATM</td>\n",
       "    </tr>\n",
       "    <tr>\n",
       "      <th>4388</th>\n",
       "      <td>4389</td>\n",
       "      <td>C1A</td>\n",
       "      <td>HEM</td>\n",
       "      <td>19.403</td>\n",
       "      <td>19.426</td>\n",
       "      <td>21.131</td>\n",
       "      <td>A</td>\n",
       "      <td>142</td>\n",
       "      <td>1</td>\n",
       "      <td>3</td>\n",
       "      <td>HETATM</td>\n",
       "    </tr>\n",
       "    <tr>\n",
       "      <th>...</th>\n",
       "      <td>...</td>\n",
       "      <td>...</td>\n",
       "      <td>...</td>\n",
       "      <td>...</td>\n",
       "      <td>...</td>\n",
       "      <td>...</td>\n",
       "      <td>...</td>\n",
       "      <td>...</td>\n",
       "      <td>...</td>\n",
       "      <td>...</td>\n",
       "      <td>...</td>\n",
       "    </tr>\n",
       "    <tr>\n",
       "      <th>4553</th>\n",
       "      <td>4554</td>\n",
       "      <td>NA</td>\n",
       "      <td>HEM</td>\n",
       "      <td>-2.975</td>\n",
       "      <td>3.248</td>\n",
       "      <td>23.071</td>\n",
       "      <td>D</td>\n",
       "      <td>148</td>\n",
       "      <td>1</td>\n",
       "      <td>3</td>\n",
       "      <td>HETATM</td>\n",
       "    </tr>\n",
       "    <tr>\n",
       "      <th>4554</th>\n",
       "      <td>4555</td>\n",
       "      <td>NB</td>\n",
       "      <td>HEM</td>\n",
       "      <td>-2.569</td>\n",
       "      <td>4.252</td>\n",
       "      <td>25.747</td>\n",
       "      <td>D</td>\n",
       "      <td>148</td>\n",
       "      <td>1</td>\n",
       "      <td>3</td>\n",
       "      <td>HETATM</td>\n",
       "    </tr>\n",
       "    <tr>\n",
       "      <th>4555</th>\n",
       "      <td>4556</td>\n",
       "      <td>NC</td>\n",
       "      <td>HEM</td>\n",
       "      <td>-1.102</td>\n",
       "      <td>6.496</td>\n",
       "      <td>24.910</td>\n",
       "      <td>D</td>\n",
       "      <td>148</td>\n",
       "      <td>1</td>\n",
       "      <td>3</td>\n",
       "      <td>HETATM</td>\n",
       "    </tr>\n",
       "    <tr>\n",
       "      <th>4556</th>\n",
       "      <td>4557</td>\n",
       "      <td>ND</td>\n",
       "      <td>HEM</td>\n",
       "      <td>-1.471</td>\n",
       "      <td>5.558</td>\n",
       "      <td>22.069</td>\n",
       "      <td>D</td>\n",
       "      <td>148</td>\n",
       "      <td>1</td>\n",
       "      <td>3</td>\n",
       "      <td>HETATM</td>\n",
       "    </tr>\n",
       "    <tr>\n",
       "      <th>4557</th>\n",
       "      <td>4558</td>\n",
       "      <td>FE</td>\n",
       "      <td>HEM</td>\n",
       "      <td>-1.727</td>\n",
       "      <td>4.699</td>\n",
       "      <td>23.942</td>\n",
       "      <td>D</td>\n",
       "      <td>148</td>\n",
       "      <td>1</td>\n",
       "      <td>3</td>\n",
       "      <td>HETATM</td>\n",
       "    </tr>\n",
       "  </tbody>\n",
       "</table>\n",
       "<p>172 rows × 11 columns</p>\n",
       "</div>"
      ],
      "text/plain": [
       "      atom_id atom_name res_name       x       y       z auth_asym_id  \\\n",
       "4384     4385       CHA      HEM  18.675  18.641  20.464            A   \n",
       "4385     4386       CHB      HEM  20.996  20.564  24.241            A   \n",
       "4386     4387       CHC      HEM  18.666  17.711  27.273            A   \n",
       "4387     4388       CHD      HEM  16.693  15.349  23.426            A   \n",
       "4388     4389       C1A      HEM  19.403  19.426  21.131            A   \n",
       "...       ...       ...      ...     ...     ...     ...          ...   \n",
       "4553     4554        NA      HEM  -2.975   3.248  23.071            D   \n",
       "4554     4555        NB      HEM  -2.569   4.252  25.747            D   \n",
       "4555     4556        NC      HEM  -1.102   6.496  24.910            D   \n",
       "4556     4557        ND      HEM  -1.471   5.558  22.069            D   \n",
       "4557     4558        FE      HEM  -1.727   4.699  23.942            D   \n",
       "\n",
       "      auth_seq_id  pdbx_PDB_model_num  label_entity_id group_PDB  \n",
       "4384          142                   1                3    HETATM  \n",
       "4385          142                   1                3    HETATM  \n",
       "4386          142                   1                3    HETATM  \n",
       "4387          142                   1                3    HETATM  \n",
       "4388          142                   1                3    HETATM  \n",
       "...           ...                 ...              ...       ...  \n",
       "4553          148                   1                3    HETATM  \n",
       "4554          148                   1                3    HETATM  \n",
       "4555          148                   1                3    HETATM  \n",
       "4556          148                   1                3    HETATM  \n",
       "4557          148                   1                3    HETATM  \n",
       "\n",
       "[172 rows x 11 columns]"
      ]
     },
     "execution_count": 16,
     "metadata": {},
     "output_type": "execute_result"
    }
   ],
   "source": [
    "df[df['res_name'] == 'HEM']"
   ]
  },
  {
   "cell_type": "code",
   "execution_count": 17,
   "metadata": {},
   "outputs": [
    {
     "data": {
      "text/html": [
       "<div>\n",
       "<style scoped>\n",
       "    .dataframe tbody tr th:only-of-type {\n",
       "        vertical-align: middle;\n",
       "    }\n",
       "\n",
       "    .dataframe tbody tr th {\n",
       "        vertical-align: top;\n",
       "    }\n",
       "\n",
       "    .dataframe thead th {\n",
       "        text-align: right;\n",
       "    }\n",
       "</style>\n",
       "<table border=\"1\" class=\"dataframe\">\n",
       "  <thead>\n",
       "    <tr style=\"text-align: right;\">\n",
       "      <th></th>\n",
       "      <th>atom_id</th>\n",
       "      <th>atom_name</th>\n",
       "      <th>res_name</th>\n",
       "      <th>x</th>\n",
       "      <th>y</th>\n",
       "      <th>z</th>\n",
       "      <th>auth_asym_id</th>\n",
       "      <th>auth_seq_id</th>\n",
       "      <th>pdbx_PDB_model_num</th>\n",
       "      <th>label_entity_id</th>\n",
       "      <th>group_PDB</th>\n",
       "    </tr>\n",
       "  </thead>\n",
       "  <tbody>\n",
       "    <tr>\n",
       "      <th>0</th>\n",
       "      <td>1</td>\n",
       "      <td>N</td>\n",
       "      <td>VAL</td>\n",
       "      <td>19.323</td>\n",
       "      <td>29.727</td>\n",
       "      <td>42.781</td>\n",
       "      <td>A</td>\n",
       "      <td>1</td>\n",
       "      <td>1</td>\n",
       "      <td>1</td>\n",
       "      <td>ATOM</td>\n",
       "    </tr>\n",
       "    <tr>\n",
       "      <th>1</th>\n",
       "      <td>2</td>\n",
       "      <td>CA</td>\n",
       "      <td>VAL</td>\n",
       "      <td>20.141</td>\n",
       "      <td>30.469</td>\n",
       "      <td>42.414</td>\n",
       "      <td>A</td>\n",
       "      <td>1</td>\n",
       "      <td>1</td>\n",
       "      <td>1</td>\n",
       "      <td>ATOM</td>\n",
       "    </tr>\n",
       "    <tr>\n",
       "      <th>2</th>\n",
       "      <td>3</td>\n",
       "      <td>C</td>\n",
       "      <td>VAL</td>\n",
       "      <td>21.664</td>\n",
       "      <td>29.857</td>\n",
       "      <td>42.548</td>\n",
       "      <td>A</td>\n",
       "      <td>1</td>\n",
       "      <td>1</td>\n",
       "      <td>1</td>\n",
       "      <td>ATOM</td>\n",
       "    </tr>\n",
       "    <tr>\n",
       "      <th>3</th>\n",
       "      <td>4</td>\n",
       "      <td>O</td>\n",
       "      <td>VAL</td>\n",
       "      <td>21.985</td>\n",
       "      <td>29.541</td>\n",
       "      <td>43.704</td>\n",
       "      <td>A</td>\n",
       "      <td>1</td>\n",
       "      <td>1</td>\n",
       "      <td>1</td>\n",
       "      <td>ATOM</td>\n",
       "    </tr>\n",
       "    <tr>\n",
       "      <th>4</th>\n",
       "      <td>5</td>\n",
       "      <td>CB</td>\n",
       "      <td>VAL</td>\n",
       "      <td>19.887</td>\n",
       "      <td>31.918</td>\n",
       "      <td>43.524</td>\n",
       "      <td>A</td>\n",
       "      <td>1</td>\n",
       "      <td>1</td>\n",
       "      <td>1</td>\n",
       "      <td>ATOM</td>\n",
       "    </tr>\n",
       "    <tr>\n",
       "      <th>...</th>\n",
       "      <td>...</td>\n",
       "      <td>...</td>\n",
       "      <td>...</td>\n",
       "      <td>...</td>\n",
       "      <td>...</td>\n",
       "      <td>...</td>\n",
       "      <td>...</td>\n",
       "      <td>...</td>\n",
       "      <td>...</td>\n",
       "      <td>...</td>\n",
       "      <td>...</td>\n",
       "    </tr>\n",
       "    <tr>\n",
       "      <th>4379</th>\n",
       "      <td>4380</td>\n",
       "      <td>ND1</td>\n",
       "      <td>HIS</td>\n",
       "      <td>14.250</td>\n",
       "      <td>-3.363</td>\n",
       "      <td>23.467</td>\n",
       "      <td>D</td>\n",
       "      <td>146</td>\n",
       "      <td>1</td>\n",
       "      <td>2</td>\n",
       "      <td>ATOM</td>\n",
       "    </tr>\n",
       "    <tr>\n",
       "      <th>4380</th>\n",
       "      <td>4381</td>\n",
       "      <td>CD2</td>\n",
       "      <td>HIS</td>\n",
       "      <td>12.608</td>\n",
       "      <td>-2.661</td>\n",
       "      <td>24.150</td>\n",
       "      <td>D</td>\n",
       "      <td>146</td>\n",
       "      <td>1</td>\n",
       "      <td>2</td>\n",
       "      <td>ATOM</td>\n",
       "    </tr>\n",
       "    <tr>\n",
       "      <th>4381</th>\n",
       "      <td>4382</td>\n",
       "      <td>CE1</td>\n",
       "      <td>HIS</td>\n",
       "      <td>13.837</td>\n",
       "      <td>-3.447</td>\n",
       "      <td>22.948</td>\n",
       "      <td>D</td>\n",
       "      <td>146</td>\n",
       "      <td>1</td>\n",
       "      <td>2</td>\n",
       "      <td>ATOM</td>\n",
       "    </tr>\n",
       "    <tr>\n",
       "      <th>4382</th>\n",
       "      <td>4383</td>\n",
       "      <td>NE2</td>\n",
       "      <td>HIS</td>\n",
       "      <td>12.427</td>\n",
       "      <td>-2.792</td>\n",
       "      <td>22.588</td>\n",
       "      <td>D</td>\n",
       "      <td>146</td>\n",
       "      <td>1</td>\n",
       "      <td>2</td>\n",
       "      <td>ATOM</td>\n",
       "    </tr>\n",
       "    <tr>\n",
       "      <th>4383</th>\n",
       "      <td>4384</td>\n",
       "      <td>OXT</td>\n",
       "      <td>HIS</td>\n",
       "      <td>16.064</td>\n",
       "      <td>-0.829</td>\n",
       "      <td>25.697</td>\n",
       "      <td>D</td>\n",
       "      <td>146</td>\n",
       "      <td>1</td>\n",
       "      <td>2</td>\n",
       "      <td>ATOM</td>\n",
       "    </tr>\n",
       "  </tbody>\n",
       "</table>\n",
       "<p>4384 rows × 11 columns</p>\n",
       "</div>"
      ],
      "text/plain": [
       "      atom_id atom_name res_name       x       y       z auth_asym_id  \\\n",
       "0           1         N      VAL  19.323  29.727  42.781            A   \n",
       "1           2        CA      VAL  20.141  30.469  42.414            A   \n",
       "2           3         C      VAL  21.664  29.857  42.548            A   \n",
       "3           4         O      VAL  21.985  29.541  43.704            A   \n",
       "4           5        CB      VAL  19.887  31.918  43.524            A   \n",
       "...       ...       ...      ...     ...     ...     ...          ...   \n",
       "4379     4380       ND1      HIS  14.250  -3.363  23.467            D   \n",
       "4380     4381       CD2      HIS  12.608  -2.661  24.150            D   \n",
       "4381     4382       CE1      HIS  13.837  -3.447  22.948            D   \n",
       "4382     4383       NE2      HIS  12.427  -2.792  22.588            D   \n",
       "4383     4384       OXT      HIS  16.064  -0.829  25.697            D   \n",
       "\n",
       "      auth_seq_id  pdbx_PDB_model_num  label_entity_id group_PDB  \n",
       "0               1                   1                1      ATOM  \n",
       "1               1                   1                1      ATOM  \n",
       "2               1                   1                1      ATOM  \n",
       "3               1                   1                1      ATOM  \n",
       "4               1                   1                1      ATOM  \n",
       "...           ...                 ...              ...       ...  \n",
       "4379          146                   1                2      ATOM  \n",
       "4380          146                   1                2      ATOM  \n",
       "4381          146                   1                2      ATOM  \n",
       "4382          146                   1                2      ATOM  \n",
       "4383          146                   1                2      ATOM  \n",
       "\n",
       "[4384 rows x 11 columns]"
      ]
     },
     "execution_count": 17,
     "metadata": {},
     "output_type": "execute_result"
    }
   ],
   "source": [
    "atom_df = df[df['group_PDB'] == 'ATOM']\n",
    "atom_df"
   ]
  },
  {
   "cell_type": "code",
   "execution_count": 18,
   "metadata": {},
   "outputs": [
    {
     "data": {
      "text/plain": [
       "array(['A', 'B', 'C', 'D'], dtype=object)"
      ]
     },
     "execution_count": 18,
     "metadata": {},
     "output_type": "execute_result"
    }
   ],
   "source": [
    "atom_df['auth_asym_id'].unique()"
   ]
  },
  {
   "cell_type": "code",
   "execution_count": 19,
   "metadata": {},
   "outputs": [
    {
     "name": "stdout",
     "output_type": "stream",
     "text": [
      "<class 'pandas.core.frame.DataFrame'>\n",
      "Index: 4384 entries, 0 to 4383\n",
      "Data columns (total 11 columns):\n",
      " #   Column              Non-Null Count  Dtype  \n",
      "---  ------              --------------  -----  \n",
      " 0   atom_id             4384 non-null   int64  \n",
      " 1   atom_name           4384 non-null   object \n",
      " 2   res_name            4384 non-null   object \n",
      " 3   x                   4384 non-null   float64\n",
      " 4   y                   4384 non-null   float64\n",
      " 5   z                   4384 non-null   float64\n",
      " 6   auth_asym_id        4384 non-null   object \n",
      " 7   auth_seq_id         4384 non-null   int64  \n",
      " 8   pdbx_PDB_model_num  4384 non-null   int64  \n",
      " 9   label_entity_id     4384 non-null   int64  \n",
      " 10  group_PDB           4384 non-null   object \n",
      "dtypes: float64(3), int64(4), object(4)\n",
      "memory usage: 411.0+ KB\n"
     ]
    }
   ],
   "source": [
    "atom_df.info()"
   ]
  },
  {
   "cell_type": "code",
   "execution_count": 20,
   "metadata": {},
   "outputs": [
    {
     "data": {
      "text/html": [
       "<div>\n",
       "<style scoped>\n",
       "    .dataframe tbody tr th:only-of-type {\n",
       "        vertical-align: middle;\n",
       "    }\n",
       "\n",
       "    .dataframe tbody tr th {\n",
       "        vertical-align: top;\n",
       "    }\n",
       "\n",
       "    .dataframe thead th {\n",
       "        text-align: right;\n",
       "    }\n",
       "</style>\n",
       "<table border=\"1\" class=\"dataframe\">\n",
       "  <thead>\n",
       "    <tr style=\"text-align: right;\">\n",
       "      <th></th>\n",
       "      <th>atom_id</th>\n",
       "      <th>atom_name</th>\n",
       "      <th>res_name</th>\n",
       "      <th>x</th>\n",
       "      <th>y</th>\n",
       "      <th>z</th>\n",
       "      <th>auth_asym_id</th>\n",
       "      <th>auth_seq_id</th>\n",
       "      <th>pdbx_PDB_model_num</th>\n",
       "      <th>label_entity_id</th>\n",
       "      <th>group_PDB</th>\n",
       "    </tr>\n",
       "  </thead>\n",
       "  <tbody>\n",
       "    <tr>\n",
       "      <th>0</th>\n",
       "      <td>1</td>\n",
       "      <td>N</td>\n",
       "      <td>VAL</td>\n",
       "      <td>19.323</td>\n",
       "      <td>29.727</td>\n",
       "      <td>42.781</td>\n",
       "      <td>A</td>\n",
       "      <td>1</td>\n",
       "      <td>1</td>\n",
       "      <td>1</td>\n",
       "      <td>ATOM</td>\n",
       "    </tr>\n",
       "    <tr>\n",
       "      <th>1</th>\n",
       "      <td>2</td>\n",
       "      <td>CA</td>\n",
       "      <td>VAL</td>\n",
       "      <td>20.141</td>\n",
       "      <td>30.469</td>\n",
       "      <td>42.414</td>\n",
       "      <td>A</td>\n",
       "      <td>1</td>\n",
       "      <td>1</td>\n",
       "      <td>1</td>\n",
       "      <td>ATOM</td>\n",
       "    </tr>\n",
       "    <tr>\n",
       "      <th>2</th>\n",
       "      <td>3</td>\n",
       "      <td>C</td>\n",
       "      <td>VAL</td>\n",
       "      <td>21.664</td>\n",
       "      <td>29.857</td>\n",
       "      <td>42.548</td>\n",
       "      <td>A</td>\n",
       "      <td>1</td>\n",
       "      <td>1</td>\n",
       "      <td>1</td>\n",
       "      <td>ATOM</td>\n",
       "    </tr>\n",
       "    <tr>\n",
       "      <th>3</th>\n",
       "      <td>4</td>\n",
       "      <td>O</td>\n",
       "      <td>VAL</td>\n",
       "      <td>21.985</td>\n",
       "      <td>29.541</td>\n",
       "      <td>43.704</td>\n",
       "      <td>A</td>\n",
       "      <td>1</td>\n",
       "      <td>1</td>\n",
       "      <td>1</td>\n",
       "      <td>ATOM</td>\n",
       "    </tr>\n",
       "    <tr>\n",
       "      <th>4</th>\n",
       "      <td>5</td>\n",
       "      <td>CB</td>\n",
       "      <td>VAL</td>\n",
       "      <td>19.887</td>\n",
       "      <td>31.918</td>\n",
       "      <td>43.524</td>\n",
       "      <td>A</td>\n",
       "      <td>1</td>\n",
       "      <td>1</td>\n",
       "      <td>1</td>\n",
       "      <td>ATOM</td>\n",
       "    </tr>\n",
       "    <tr>\n",
       "      <th>...</th>\n",
       "      <td>...</td>\n",
       "      <td>...</td>\n",
       "      <td>...</td>\n",
       "      <td>...</td>\n",
       "      <td>...</td>\n",
       "      <td>...</td>\n",
       "      <td>...</td>\n",
       "      <td>...</td>\n",
       "      <td>...</td>\n",
       "      <td>...</td>\n",
       "      <td>...</td>\n",
       "    </tr>\n",
       "    <tr>\n",
       "      <th>1064</th>\n",
       "      <td>1065</td>\n",
       "      <td>NE</td>\n",
       "      <td>ARG</td>\n",
       "      <td>2.987</td>\n",
       "      <td>23.633</td>\n",
       "      <td>32.900</td>\n",
       "      <td>A</td>\n",
       "      <td>141</td>\n",
       "      <td>1</td>\n",
       "      <td>1</td>\n",
       "      <td>ATOM</td>\n",
       "    </tr>\n",
       "    <tr>\n",
       "      <th>1065</th>\n",
       "      <td>1066</td>\n",
       "      <td>CZ</td>\n",
       "      <td>ARG</td>\n",
       "      <td>2.066</td>\n",
       "      <td>23.002</td>\n",
       "      <td>33.850</td>\n",
       "      <td>A</td>\n",
       "      <td>141</td>\n",
       "      <td>1</td>\n",
       "      <td>1</td>\n",
       "      <td>ATOM</td>\n",
       "    </tr>\n",
       "    <tr>\n",
       "      <th>1066</th>\n",
       "      <td>1067</td>\n",
       "      <td>NH1</td>\n",
       "      <td>ARG</td>\n",
       "      <td>0.996</td>\n",
       "      <td>22.173</td>\n",
       "      <td>33.694</td>\n",
       "      <td>A</td>\n",
       "      <td>141</td>\n",
       "      <td>1</td>\n",
       "      <td>1</td>\n",
       "      <td>ATOM</td>\n",
       "    </tr>\n",
       "    <tr>\n",
       "      <th>1067</th>\n",
       "      <td>1068</td>\n",
       "      <td>NH2</td>\n",
       "      <td>ARG</td>\n",
       "      <td>2.694</td>\n",
       "      <td>22.926</td>\n",
       "      <td>35.095</td>\n",
       "      <td>A</td>\n",
       "      <td>141</td>\n",
       "      <td>1</td>\n",
       "      <td>1</td>\n",
       "      <td>ATOM</td>\n",
       "    </tr>\n",
       "    <tr>\n",
       "      <th>1068</th>\n",
       "      <td>1069</td>\n",
       "      <td>OXT</td>\n",
       "      <td>ARG</td>\n",
       "      <td>2.359</td>\n",
       "      <td>27.895</td>\n",
       "      <td>29.445</td>\n",
       "      <td>A</td>\n",
       "      <td>141</td>\n",
       "      <td>1</td>\n",
       "      <td>1</td>\n",
       "      <td>ATOM</td>\n",
       "    </tr>\n",
       "  </tbody>\n",
       "</table>\n",
       "<p>1069 rows × 11 columns</p>\n",
       "</div>"
      ],
      "text/plain": [
       "      atom_id atom_name res_name       x       y       z auth_asym_id  \\\n",
       "0           1         N      VAL  19.323  29.727  42.781            A   \n",
       "1           2        CA      VAL  20.141  30.469  42.414            A   \n",
       "2           3         C      VAL  21.664  29.857  42.548            A   \n",
       "3           4         O      VAL  21.985  29.541  43.704            A   \n",
       "4           5        CB      VAL  19.887  31.918  43.524            A   \n",
       "...       ...       ...      ...     ...     ...     ...          ...   \n",
       "1064     1065        NE      ARG   2.987  23.633  32.900            A   \n",
       "1065     1066        CZ      ARG   2.066  23.002  33.850            A   \n",
       "1066     1067       NH1      ARG   0.996  22.173  33.694            A   \n",
       "1067     1068       NH2      ARG   2.694  22.926  35.095            A   \n",
       "1068     1069       OXT      ARG   2.359  27.895  29.445            A   \n",
       "\n",
       "      auth_seq_id  pdbx_PDB_model_num  label_entity_id group_PDB  \n",
       "0               1                   1                1      ATOM  \n",
       "1               1                   1                1      ATOM  \n",
       "2               1                   1                1      ATOM  \n",
       "3               1                   1                1      ATOM  \n",
       "4               1                   1                1      ATOM  \n",
       "...           ...                 ...              ...       ...  \n",
       "1064          141                   1                1      ATOM  \n",
       "1065          141                   1                1      ATOM  \n",
       "1066          141                   1                1      ATOM  \n",
       "1067          141                   1                1      ATOM  \n",
       "1068          141                   1                1      ATOM  \n",
       "\n",
       "[1069 rows x 11 columns]"
      ]
     },
     "execution_count": 20,
     "metadata": {},
     "output_type": "execute_result"
    }
   ],
   "source": [
    "group_A = atom_df[atom_df['auth_asym_id'] == 'A']\n",
    "group_A"
   ]
  },
  {
   "cell_type": "code",
   "execution_count": 21,
   "metadata": {},
   "outputs": [
    {
     "data": {
      "text/html": [
       "<div>\n",
       "<style scoped>\n",
       "    .dataframe tbody tr th:only-of-type {\n",
       "        vertical-align: middle;\n",
       "    }\n",
       "\n",
       "    .dataframe tbody tr th {\n",
       "        vertical-align: top;\n",
       "    }\n",
       "\n",
       "    .dataframe thead th {\n",
       "        text-align: right;\n",
       "    }\n",
       "</style>\n",
       "<table border=\"1\" class=\"dataframe\">\n",
       "  <thead>\n",
       "    <tr style=\"text-align: right;\">\n",
       "      <th></th>\n",
       "      <th>atom_id</th>\n",
       "      <th>atom_name</th>\n",
       "      <th>res_name</th>\n",
       "      <th>x</th>\n",
       "      <th>y</th>\n",
       "      <th>z</th>\n",
       "      <th>auth_asym_id</th>\n",
       "      <th>auth_seq_id</th>\n",
       "      <th>pdbx_PDB_model_num</th>\n",
       "      <th>label_entity_id</th>\n",
       "      <th>group_PDB</th>\n",
       "    </tr>\n",
       "  </thead>\n",
       "  <tbody>\n",
       "    <tr>\n",
       "      <th>0</th>\n",
       "      <td>1</td>\n",
       "      <td>N</td>\n",
       "      <td>VAL</td>\n",
       "      <td>19.323</td>\n",
       "      <td>29.727</td>\n",
       "      <td>42.781</td>\n",
       "      <td>A</td>\n",
       "      <td>1</td>\n",
       "      <td>1</td>\n",
       "      <td>1</td>\n",
       "      <td>ATOM</td>\n",
       "    </tr>\n",
       "    <tr>\n",
       "      <th>1</th>\n",
       "      <td>2</td>\n",
       "      <td>CA</td>\n",
       "      <td>VAL</td>\n",
       "      <td>20.141</td>\n",
       "      <td>30.469</td>\n",
       "      <td>42.414</td>\n",
       "      <td>A</td>\n",
       "      <td>1</td>\n",
       "      <td>1</td>\n",
       "      <td>1</td>\n",
       "      <td>ATOM</td>\n",
       "    </tr>\n",
       "    <tr>\n",
       "      <th>2</th>\n",
       "      <td>3</td>\n",
       "      <td>C</td>\n",
       "      <td>VAL</td>\n",
       "      <td>21.664</td>\n",
       "      <td>29.857</td>\n",
       "      <td>42.548</td>\n",
       "      <td>A</td>\n",
       "      <td>1</td>\n",
       "      <td>1</td>\n",
       "      <td>1</td>\n",
       "      <td>ATOM</td>\n",
       "    </tr>\n",
       "    <tr>\n",
       "      <th>3</th>\n",
       "      <td>4</td>\n",
       "      <td>O</td>\n",
       "      <td>VAL</td>\n",
       "      <td>21.985</td>\n",
       "      <td>29.541</td>\n",
       "      <td>43.704</td>\n",
       "      <td>A</td>\n",
       "      <td>1</td>\n",
       "      <td>1</td>\n",
       "      <td>1</td>\n",
       "      <td>ATOM</td>\n",
       "    </tr>\n",
       "    <tr>\n",
       "      <th>4</th>\n",
       "      <td>5</td>\n",
       "      <td>CB</td>\n",
       "      <td>VAL</td>\n",
       "      <td>19.887</td>\n",
       "      <td>31.918</td>\n",
       "      <td>43.524</td>\n",
       "      <td>A</td>\n",
       "      <td>1</td>\n",
       "      <td>1</td>\n",
       "      <td>1</td>\n",
       "      <td>ATOM</td>\n",
       "    </tr>\n",
       "    <tr>\n",
       "      <th>5</th>\n",
       "      <td>6</td>\n",
       "      <td>CG1</td>\n",
       "      <td>VAL</td>\n",
       "      <td>20.656</td>\n",
       "      <td>32.850</td>\n",
       "      <td>42.999</td>\n",
       "      <td>A</td>\n",
       "      <td>1</td>\n",
       "      <td>1</td>\n",
       "      <td>1</td>\n",
       "      <td>ATOM</td>\n",
       "    </tr>\n",
       "    <tr>\n",
       "      <th>6</th>\n",
       "      <td>7</td>\n",
       "      <td>CG2</td>\n",
       "      <td>VAL</td>\n",
       "      <td>18.692</td>\n",
       "      <td>31.583</td>\n",
       "      <td>43.506</td>\n",
       "      <td>A</td>\n",
       "      <td>1</td>\n",
       "      <td>1</td>\n",
       "      <td>1</td>\n",
       "      <td>ATOM</td>\n",
       "    </tr>\n",
       "  </tbody>\n",
       "</table>\n",
       "</div>"
      ],
      "text/plain": [
       "   atom_id atom_name res_name       x       y       z auth_asym_id  \\\n",
       "0        1         N      VAL  19.323  29.727  42.781            A   \n",
       "1        2        CA      VAL  20.141  30.469  42.414            A   \n",
       "2        3         C      VAL  21.664  29.857  42.548            A   \n",
       "3        4         O      VAL  21.985  29.541  43.704            A   \n",
       "4        5        CB      VAL  19.887  31.918  43.524            A   \n",
       "5        6       CG1      VAL  20.656  32.850  42.999            A   \n",
       "6        7       CG2      VAL  18.692  31.583  43.506            A   \n",
       "\n",
       "   auth_seq_id  pdbx_PDB_model_num  label_entity_id group_PDB  \n",
       "0            1                   1                1      ATOM  \n",
       "1            1                   1                1      ATOM  \n",
       "2            1                   1                1      ATOM  \n",
       "3            1                   1                1      ATOM  \n",
       "4            1                   1                1      ATOM  \n",
       "5            1                   1                1      ATOM  \n",
       "6            1                   1                1      ATOM  "
      ]
     },
     "execution_count": 21,
     "metadata": {},
     "output_type": "execute_result"
    }
   ],
   "source": [
    "group_A[group_A['auth_seq_id'] == 1]"
   ]
  },
  {
   "cell_type": "code",
   "execution_count": 22,
   "metadata": {},
   "outputs": [
    {
     "data": {
      "text/plain": [
       "array(['VAL'], dtype=object)"
      ]
     },
     "execution_count": 22,
     "metadata": {},
     "output_type": "execute_result"
    }
   ],
   "source": [
    "group_A[group_A['auth_seq_id'] == 1]['res_name'].unique()"
   ]
  },
  {
   "cell_type": "markdown",
   "metadata": {},
   "source": [
    "### 펩타이드와 단백질 구분"
   ]
  },
  {
   "cell_type": "code",
   "execution_count": 23,
   "metadata": {},
   "outputs": [
    {
     "data": {
      "text/plain": [
       "141"
      ]
     },
     "execution_count": 23,
     "metadata": {},
     "output_type": "execute_result"
    }
   ],
   "source": [
    "atom_df[atom_df['auth_asym_id'] == 'A']['auth_seq_id'].nunique()"
   ]
  },
  {
   "cell_type": "code",
   "execution_count": 24,
   "metadata": {},
   "outputs": [
    {
     "data": {
      "text/plain": [
       "146"
      ]
     },
     "execution_count": 24,
     "metadata": {},
     "output_type": "execute_result"
    }
   ],
   "source": [
    "atom_df[atom_df['auth_asym_id'] == 'B']['auth_seq_id'].nunique()"
   ]
  },
  {
   "cell_type": "code",
   "execution_count": 25,
   "metadata": {},
   "outputs": [
    {
     "data": {
      "text/plain": [
       "141"
      ]
     },
     "execution_count": 25,
     "metadata": {},
     "output_type": "execute_result"
    }
   ],
   "source": [
    "atom_df[atom_df['auth_asym_id'] == 'C']['auth_seq_id'].nunique()"
   ]
  },
  {
   "cell_type": "code",
   "execution_count": 26,
   "metadata": {},
   "outputs": [
    {
     "data": {
      "text/plain": [
       "146"
      ]
     },
     "execution_count": 26,
     "metadata": {},
     "output_type": "execute_result"
    }
   ],
   "source": [
    "atom_df[atom_df['auth_asym_id'] == 'D']['auth_seq_id'].nunique()"
   ]
  },
  {
   "cell_type": "code",
   "execution_count": 27,
   "metadata": {},
   "outputs": [
    {
     "data": {
      "text/html": [
       "<div>\n",
       "<style scoped>\n",
       "    .dataframe tbody tr th:only-of-type {\n",
       "        vertical-align: middle;\n",
       "    }\n",
       "\n",
       "    .dataframe tbody tr th {\n",
       "        vertical-align: top;\n",
       "    }\n",
       "\n",
       "    .dataframe thead th {\n",
       "        text-align: right;\n",
       "    }\n",
       "</style>\n",
       "<table border=\"1\" class=\"dataframe\">\n",
       "  <thead>\n",
       "    <tr style=\"text-align: right;\">\n",
       "      <th></th>\n",
       "      <th>auth_asym_id</th>\n",
       "      <th>auth_seq_id</th>\n",
       "    </tr>\n",
       "  </thead>\n",
       "  <tbody>\n",
       "    <tr>\n",
       "      <th>0</th>\n",
       "      <td>A</td>\n",
       "      <td>141</td>\n",
       "    </tr>\n",
       "    <tr>\n",
       "      <th>1</th>\n",
       "      <td>B</td>\n",
       "      <td>146</td>\n",
       "    </tr>\n",
       "    <tr>\n",
       "      <th>2</th>\n",
       "      <td>C</td>\n",
       "      <td>141</td>\n",
       "    </tr>\n",
       "    <tr>\n",
       "      <th>3</th>\n",
       "      <td>D</td>\n",
       "      <td>146</td>\n",
       "    </tr>\n",
       "  </tbody>\n",
       "</table>\n",
       "</div>"
      ],
      "text/plain": [
       "  auth_asym_id  auth_seq_id\n",
       "0            A          141\n",
       "1            B          146\n",
       "2            C          141\n",
       "3            D          146"
      ]
     },
     "execution_count": 27,
     "metadata": {},
     "output_type": "execute_result"
    }
   ],
   "source": [
    "평가 = atom_df.groupby(atom_df['auth_asym_id'], as_index=False).agg({'auth_seq_id':'nunique'})\n",
    "평가"
   ]
  },
  {
   "cell_type": "code",
   "execution_count": 28,
   "metadata": {},
   "outputs": [
    {
     "data": {
      "text/plain": [
       "np.int64(141)"
      ]
     },
     "execution_count": 28,
     "metadata": {},
     "output_type": "execute_result"
    }
   ],
   "source": [
    "평가[평가['auth_asym_id'] == 'A']['auth_seq_id'].values[0]"
   ]
  },
  {
   "cell_type": "code",
   "execution_count": 29,
   "metadata": {},
   "outputs": [
    {
     "data": {
      "text/plain": [
       "array([  1.,   2.,   3.,   4.,   5.,   6.,   7.,   8.,   9.,  10.,  11.,\n",
       "        12.,  13.,  14.,  15.,  16.,  17.,  18.,  19.,  20.,  21.,  22.,\n",
       "        23.,  24.,  25.,  26.,  27.,  28.,  29.,  30.,  31.,  32.,  33.,\n",
       "        34.,  35.,  36.,  37.,  38.,  39.,  40.,  41.,  42.,  43.,  44.,\n",
       "        45.,  46.,  47.,  48.,  49.,  50.,  51.,  52.,  53.,  54.,  55.,\n",
       "        56.,  57.,  58.,  59.,  60.,  61.,  62.,  63.,  64.,  65.,  66.,\n",
       "        67.,  68.,  69.,  70.,  71.,  72.,  73.,  74.,  75.,  76.,  77.,\n",
       "        78.,  79.,  80.,  81.,  82.,  83.,  84.,  85.,  86.,  87.,  88.,\n",
       "        89.,  90.,  91.,  92.,  93.,  94.,  95.,  96.,  97.,  98.,  99.,\n",
       "       100., 101., 102., 103., 104., 105., 106., 107., 108., 109., 110.,\n",
       "       111., 112., 113., 114., 115., 116., 117., 118., 119., 120., 121.,\n",
       "       122., 123., 124., 125., 126., 127., 128., 129., 130., 131., 132.,\n",
       "       133., 134., 135., 136., 137., 138., 139., 140., 141.,  nan])"
      ]
     },
     "execution_count": 29,
     "metadata": {},
     "output_type": "execute_result"
    }
   ],
   "source": [
    "atom_df.apply(lambda x: x['auth_seq_id'] if x['auth_asym_id'] == 'A' else None, axis=1).unique()"
   ]
  },
  {
   "cell_type": "code",
   "execution_count": 30,
   "metadata": {},
   "outputs": [
    {
     "name": "stderr",
     "output_type": "stream",
     "text": [
      "C:\\Users\\kbjoo\\AppData\\Local\\Temp\\ipykernel_5440\\1413810100.py:1: SettingWithCopyWarning: \n",
      "A value is trying to be set on a copy of a slice from a DataFrame.\n",
      "Try using .loc[row_indexer,col_indexer] = value instead\n",
      "\n",
      "See the caveats in the documentation: https://pandas.pydata.org/pandas-docs/stable/user_guide/indexing.html#returning-a-view-versus-a-copy\n",
      "  atom_df.loc[atom_df['auth_asym_id'] == 'A', 'sort'] = 'protein'\n"
     ]
    },
    {
     "data": {
      "text/html": [
       "<div>\n",
       "<style scoped>\n",
       "    .dataframe tbody tr th:only-of-type {\n",
       "        vertical-align: middle;\n",
       "    }\n",
       "\n",
       "    .dataframe tbody tr th {\n",
       "        vertical-align: top;\n",
       "    }\n",
       "\n",
       "    .dataframe thead th {\n",
       "        text-align: right;\n",
       "    }\n",
       "</style>\n",
       "<table border=\"1\" class=\"dataframe\">\n",
       "  <thead>\n",
       "    <tr style=\"text-align: right;\">\n",
       "      <th></th>\n",
       "      <th>atom_id</th>\n",
       "      <th>atom_name</th>\n",
       "      <th>res_name</th>\n",
       "      <th>x</th>\n",
       "      <th>y</th>\n",
       "      <th>z</th>\n",
       "      <th>auth_asym_id</th>\n",
       "      <th>auth_seq_id</th>\n",
       "      <th>pdbx_PDB_model_num</th>\n",
       "      <th>label_entity_id</th>\n",
       "      <th>group_PDB</th>\n",
       "      <th>sort</th>\n",
       "    </tr>\n",
       "  </thead>\n",
       "  <tbody>\n",
       "    <tr>\n",
       "      <th>0</th>\n",
       "      <td>1</td>\n",
       "      <td>N</td>\n",
       "      <td>VAL</td>\n",
       "      <td>19.323</td>\n",
       "      <td>29.727</td>\n",
       "      <td>42.781</td>\n",
       "      <td>A</td>\n",
       "      <td>1</td>\n",
       "      <td>1</td>\n",
       "      <td>1</td>\n",
       "      <td>ATOM</td>\n",
       "      <td>protein</td>\n",
       "    </tr>\n",
       "    <tr>\n",
       "      <th>1</th>\n",
       "      <td>2</td>\n",
       "      <td>CA</td>\n",
       "      <td>VAL</td>\n",
       "      <td>20.141</td>\n",
       "      <td>30.469</td>\n",
       "      <td>42.414</td>\n",
       "      <td>A</td>\n",
       "      <td>1</td>\n",
       "      <td>1</td>\n",
       "      <td>1</td>\n",
       "      <td>ATOM</td>\n",
       "      <td>protein</td>\n",
       "    </tr>\n",
       "    <tr>\n",
       "      <th>2</th>\n",
       "      <td>3</td>\n",
       "      <td>C</td>\n",
       "      <td>VAL</td>\n",
       "      <td>21.664</td>\n",
       "      <td>29.857</td>\n",
       "      <td>42.548</td>\n",
       "      <td>A</td>\n",
       "      <td>1</td>\n",
       "      <td>1</td>\n",
       "      <td>1</td>\n",
       "      <td>ATOM</td>\n",
       "      <td>protein</td>\n",
       "    </tr>\n",
       "    <tr>\n",
       "      <th>3</th>\n",
       "      <td>4</td>\n",
       "      <td>O</td>\n",
       "      <td>VAL</td>\n",
       "      <td>21.985</td>\n",
       "      <td>29.541</td>\n",
       "      <td>43.704</td>\n",
       "      <td>A</td>\n",
       "      <td>1</td>\n",
       "      <td>1</td>\n",
       "      <td>1</td>\n",
       "      <td>ATOM</td>\n",
       "      <td>protein</td>\n",
       "    </tr>\n",
       "    <tr>\n",
       "      <th>4</th>\n",
       "      <td>5</td>\n",
       "      <td>CB</td>\n",
       "      <td>VAL</td>\n",
       "      <td>19.887</td>\n",
       "      <td>31.918</td>\n",
       "      <td>43.524</td>\n",
       "      <td>A</td>\n",
       "      <td>1</td>\n",
       "      <td>1</td>\n",
       "      <td>1</td>\n",
       "      <td>ATOM</td>\n",
       "      <td>protein</td>\n",
       "    </tr>\n",
       "    <tr>\n",
       "      <th>...</th>\n",
       "      <td>...</td>\n",
       "      <td>...</td>\n",
       "      <td>...</td>\n",
       "      <td>...</td>\n",
       "      <td>...</td>\n",
       "      <td>...</td>\n",
       "      <td>...</td>\n",
       "      <td>...</td>\n",
       "      <td>...</td>\n",
       "      <td>...</td>\n",
       "      <td>...</td>\n",
       "      <td>...</td>\n",
       "    </tr>\n",
       "    <tr>\n",
       "      <th>4379</th>\n",
       "      <td>4380</td>\n",
       "      <td>ND1</td>\n",
       "      <td>HIS</td>\n",
       "      <td>14.250</td>\n",
       "      <td>-3.363</td>\n",
       "      <td>23.467</td>\n",
       "      <td>D</td>\n",
       "      <td>146</td>\n",
       "      <td>1</td>\n",
       "      <td>2</td>\n",
       "      <td>ATOM</td>\n",
       "      <td>NaN</td>\n",
       "    </tr>\n",
       "    <tr>\n",
       "      <th>4380</th>\n",
       "      <td>4381</td>\n",
       "      <td>CD2</td>\n",
       "      <td>HIS</td>\n",
       "      <td>12.608</td>\n",
       "      <td>-2.661</td>\n",
       "      <td>24.150</td>\n",
       "      <td>D</td>\n",
       "      <td>146</td>\n",
       "      <td>1</td>\n",
       "      <td>2</td>\n",
       "      <td>ATOM</td>\n",
       "      <td>NaN</td>\n",
       "    </tr>\n",
       "    <tr>\n",
       "      <th>4381</th>\n",
       "      <td>4382</td>\n",
       "      <td>CE1</td>\n",
       "      <td>HIS</td>\n",
       "      <td>13.837</td>\n",
       "      <td>-3.447</td>\n",
       "      <td>22.948</td>\n",
       "      <td>D</td>\n",
       "      <td>146</td>\n",
       "      <td>1</td>\n",
       "      <td>2</td>\n",
       "      <td>ATOM</td>\n",
       "      <td>NaN</td>\n",
       "    </tr>\n",
       "    <tr>\n",
       "      <th>4382</th>\n",
       "      <td>4383</td>\n",
       "      <td>NE2</td>\n",
       "      <td>HIS</td>\n",
       "      <td>12.427</td>\n",
       "      <td>-2.792</td>\n",
       "      <td>22.588</td>\n",
       "      <td>D</td>\n",
       "      <td>146</td>\n",
       "      <td>1</td>\n",
       "      <td>2</td>\n",
       "      <td>ATOM</td>\n",
       "      <td>NaN</td>\n",
       "    </tr>\n",
       "    <tr>\n",
       "      <th>4383</th>\n",
       "      <td>4384</td>\n",
       "      <td>OXT</td>\n",
       "      <td>HIS</td>\n",
       "      <td>16.064</td>\n",
       "      <td>-0.829</td>\n",
       "      <td>25.697</td>\n",
       "      <td>D</td>\n",
       "      <td>146</td>\n",
       "      <td>1</td>\n",
       "      <td>2</td>\n",
       "      <td>ATOM</td>\n",
       "      <td>NaN</td>\n",
       "    </tr>\n",
       "  </tbody>\n",
       "</table>\n",
       "<p>4384 rows × 12 columns</p>\n",
       "</div>"
      ],
      "text/plain": [
       "      atom_id atom_name res_name       x       y       z auth_asym_id  \\\n",
       "0           1         N      VAL  19.323  29.727  42.781            A   \n",
       "1           2        CA      VAL  20.141  30.469  42.414            A   \n",
       "2           3         C      VAL  21.664  29.857  42.548            A   \n",
       "3           4         O      VAL  21.985  29.541  43.704            A   \n",
       "4           5        CB      VAL  19.887  31.918  43.524            A   \n",
       "...       ...       ...      ...     ...     ...     ...          ...   \n",
       "4379     4380       ND1      HIS  14.250  -3.363  23.467            D   \n",
       "4380     4381       CD2      HIS  12.608  -2.661  24.150            D   \n",
       "4381     4382       CE1      HIS  13.837  -3.447  22.948            D   \n",
       "4382     4383       NE2      HIS  12.427  -2.792  22.588            D   \n",
       "4383     4384       OXT      HIS  16.064  -0.829  25.697            D   \n",
       "\n",
       "      auth_seq_id  pdbx_PDB_model_num  label_entity_id group_PDB     sort  \n",
       "0               1                   1                1      ATOM  protein  \n",
       "1               1                   1                1      ATOM  protein  \n",
       "2               1                   1                1      ATOM  protein  \n",
       "3               1                   1                1      ATOM  protein  \n",
       "4               1                   1                1      ATOM  protein  \n",
       "...           ...                 ...              ...       ...      ...  \n",
       "4379          146                   1                2      ATOM      NaN  \n",
       "4380          146                   1                2      ATOM      NaN  \n",
       "4381          146                   1                2      ATOM      NaN  \n",
       "4382          146                   1                2      ATOM      NaN  \n",
       "4383          146                   1                2      ATOM      NaN  \n",
       "\n",
       "[4384 rows x 12 columns]"
      ]
     },
     "execution_count": 30,
     "metadata": {},
     "output_type": "execute_result"
    }
   ],
   "source": [
    "atom_df.loc[atom_df['auth_asym_id'] == 'A', 'sort'] = 'protein'\n",
    "atom_df"
   ]
  },
  {
   "cell_type": "markdown",
   "metadata": {},
   "source": [
    "## 시각화"
   ]
  },
  {
   "cell_type": "code",
   "execution_count": 31,
   "metadata": {},
   "outputs": [
    {
     "data": {
      "image/png": "[encoded data removed]",
      "text/plain": [
       "<Figure size 1000x800 with 1 Axes>"
      ]
     },
     "metadata": {},
     "output_type": "display_data"
    }
   ],
   "source": [
    "# 3D 시각화\n",
    "fig = plt.figure(figsize=(10, 8))\n",
    "ax = fig.add_subplot(111, projection='3d')\n",
    "\n",
    "# x, y, z 좌표로 산점도 그리기\n",
    "ax.scatter(group_A['x'], group_A['y'], group_A['z'], c='b', marker='o', s=10, alpha=0.6)\n",
    "\n",
    "# 축 레이블 설정\n",
    "ax.set_xlabel('X Coordinate')\n",
    "ax.set_ylabel('Y Coordinate')\n",
    "ax.set_zlabel('Z Coordinate')\n",
    "\n",
    "# 그래프 제목 설정\n",
    "ax.set_title('3D Visualization of Atom Coordinates')\n",
    "\n",
    "plt.show()"
   ]
  },
  {
   "cell_type": "code",
   "execution_count": 32,
   "metadata": {},
   "outputs": [
    {
     "data": {
      "image/png": "[encoded data removed]",
      "text/plain": [
       "<Figure size 1000x800 with 2 Axes>"
      ]
     },
     "metadata": {},
     "output_type": "display_data"
    }
   ],
   "source": [
    "# x, y, z 데이터를 격자로 변환\n",
    "x = group_A['x'].values\n",
    "y = group_A['y'].values\n",
    "z = group_A['z'].values\n",
    "\n",
    "# 격자 생성\n",
    "x_grid, y_grid = np.meshgrid(\n",
    "    np.linspace(x.min(), x.max(), 50),\n",
    "    np.linspace(y.min(), y.max(), 50)\n",
    ")\n",
    "\n",
    "# z 값을 보간하여 격자에 맞춤\n",
    "z_grid = griddata((x, y), z, (x_grid, y_grid), method='linear')\n",
    "\n",
    "# 3D 표면 그래프 그리기\n",
    "fig = plt.figure(figsize=(10, 8))\n",
    "ax = fig.add_subplot(111, projection='3d')\n",
    "\n",
    "# 표면 플롯\n",
    "surf = ax.plot_surface(x_grid, y_grid, z_grid, cmap='viridis', edgecolor='none', alpha=0.8)\n",
    "\n",
    "# 축 레이블 설정\n",
    "ax.set_xlabel('X Coordinate')\n",
    "ax.set_ylabel('Y Coordinate')\n",
    "ax.set_zlabel('Z Coordinate')\n",
    "\n",
    "# 컬러바 추가\n",
    "fig.colorbar(surf, ax=ax, shrink=0.5, aspect=10)\n",
    "\n",
    "# 그래프 제목 설정\n",
    "ax.set_title('3D Surface Visualization of Atom Coordinates')\n",
    "\n",
    "plt.show()"
   ]
  },
  {
   "cell_type": "code",
   "execution_count": 33,
   "metadata": {},
   "outputs": [
    {
     "data": {
      "application/vnd.plotly.v1+json": {
       "config": {
        "plotlyServerURL": "https://plot.ly"
       },
       "data": [
        {
         "hovertemplate": "res_name=VAL<br>x=%{x}<br>y=%{y}<br>z=%{z}<extra></extra>",
         "legendgroup": "VAL",
         "marker": {
          "color": "#636efa",
          "symbol": "circle"
         },
         "mode": "markers",
         "name": "VAL",
         "scene": "scene",
         "showlegend": true,
         "type": "scatter3d",
         "x": {
          "bdata": "ppvEILBSM0BqvHSTGCQ0QESLbOf7qTVAXI/C9Sj8NUBQjZduEuMzQA4tsp3vpzRA/tR46SaxMkACK4cW2e4/QFg5tMh2fj9AXI/C9ShcQED4U+Olm4RAQEjhehSuJz5APQrXo3DdPUApXI/C9Sg9QEjhehSux0JAaJHtfD91QkAIrBxaZNtCQBBYObTIBkNAukkMAivHQUDl0CLb+X5BQC/dJAaBZUFAVOOlm8SgOUDufD81Xto5QMl2vp8a7zpAokW28/30OkApXI/C9eg5QE5iEFg5VDpAf2q8dJOYOEAUrkfherQ5QMHKoUW2MzlApHA9CtdjOkBg5dAi2/k5QEa28/3U+DhADi2yne+HOEBCYOXQIps3QDvfT42XDjxANV66SQwiPUC4HoXrUbg9QKJFtvP91D1A7nw/NV4aPkCyne+nxms/QO58PzVemj1AVOOlm8TgOkD0/dR46SY6QJMYBFYOTTlA30+Nl24yOEACK4cW2Q47QBKDwMqhJTxAi2zn+6mxOkBmZmZmZuYkQAIrhxbZDiZAkxgEVg7tJECDwMqhRfYkQJhuEoPACilA8KfGSzcJKkCamZmZmVkqQOOlm8QgMCZAiUFg5dCiJ0C4HoXrUTgqQKwcWmQ7HyxAy6FFtvN9JUASg8DKoUUlQHnpJjEIbCZApHA9CtcjPEDLoUW28908QOXQItv5/j1ASOF6FK4nP0DP91Pjpfs7QPCnxks3yTxABoGVQ4vsOkCyne+nxitAQJHtfD81HkBAoBov3SQGP0DRItv5fko+QMHKoUW2w0BA2/l+ary0QEACK4cW2U5BQGIQWDm0aDRAnMQgsHJINECBlUOLbAczQHNoke18PzJACKwcWmRbNUB9PzVeumk1QJ7vp8ZLtzZAWmQ730/NL0C4HoXrUbgvQPT91HjpJi9AVg4tsp0vLUCTGARWDk0xQFyPwvUoXDFA0SLb+X6qMUA=",
          "dtype": "f8"
         },
         "y": {
          "bdata": "JzEIrBy6PUDy0k1iEHg+QAisHFpk2z1A0SLb+X6KPUBeukkMAus/QM3MzMzMbEBAaJHtfD+VP0CuR+F6FA46QHWTGARWjjlA+n5qvHQTOkCNl24Sg0A5QA4tsp3vBzpAHVpkO9+vOUDpJjEIrJw5QLbz/dR4yTRAVOOlm8QANECYbhKDwAo0QBKDwMqhZTNAWmQ730/NM0DLoUW2830zQMP1KFyPQjNAZDvfT40XJEBxPQrXo7AkQC2yne+nhiZAtvP91HhpKEB9PzVeuskhQIGVQ4tsJyJADAIrhxaZIEApXI/C9SgzQEw3iUFgZTNAGQRWDi0yNECyne+nxis1QC2yne+nBjJA0SLb+X4KMkBmZmZmZqYxQKrx0k1iMDxAMQisHFqkPECsHFpkO/89QC2yne+nxj5AzczMzMysO0BqvHSTGMQ7QCGwcmiRTTpALbKd76dWQEB1kxgEVg5AQOXQItv5bkBA2/l+arx0QED4U+Olm4Q/QFTjpZvEIEBA46WbxCBQPkCkcD0K10MxQAaBlUOLTDBAfT81XrppMECBlUOLbIcxQLKd76fGazBATDeJQWDlLkD8qfHSTUIwQLByaJHtvC5AexSuR+H6LEBcj8L1KBwsQBKDwMqhRStAGQRWDi1yKkCNl24Sg8AoQPhT46WbxClA16NwPQoXKECYbhKDwMolQB1aZDvfzyVAd76fGi/dJEBI4XoUrkcjQCPb+X5q/CBA46WbxCCwIkAQWDm0yDY1QLpJDAIrRzVAHVpkO99vNEA5tMh2vt80QARWDi2y/TRA8KfGSzfpNEAGgZVDiww2QOOlm8Qg8DhAfT81XrrpOECsHFpkOx84QOOlm8QgsDhAWmQ7308tOEDTTWIQWLk3QHnpJjEI7DhAYOXQItt5OkDXo3A9Cnc7QGIQWDm0qDpAaJHtfD81O0BI4XoUric8QFK4HoXr0TxA/tR46SbxPEA=",
          "dtype": "f8"
         },
         "z": {
          "bdata": "hxbZzvdjRUCiRbbz/TRFQKAaL90kRkVAJzEIrBzaRUBQjZduEsNFQB1aZDvff0VAVOOlm8TARUDByqFFtnNDQNV46SYxyEJAarx0kxhEQkCgGi/dJNZBQEa28/3UqEJA16NwPQr3QUBWDi2ynQ9DQAwCK4cWmT9AEFg5tMjWPkBaZDvfTw09QGq8dJMY5DxA+n5qvHTTPkA5tMh2vn89QAisHFpkC0BA+FPjpZukMUC8dJMYBBYzQFK4HoXrcTNAke18PzUeNECJQWDl0MIzQN9PjZduMjVADAIrhxa5M0CkcD0K14M2QN0kBoGVAzhAF9nO91MDOUBU46WbxIA5QCUGgZVDizhAc2iR7Xz/OUAzMzMzM/M3QG8Sg8DKoT5AFK5H4Xq0P0BYObTIdl4/QLx0kxgEJkBAKVyPwvWoP0Cyne+nxjtAQFyPwvUoHEBAwcqhRbZTQEBvEoPAyvFAQGZmZmZmJkFAObTIdr5fQUCYbhKDwFpBQFK4HoXroUFAMQisHFqkQUAzMzMzM/M4QEoMAiuH1jlAK4cW2c4XO0CPwvUoXM87QFYOLbKd7zlAWmQ730/tOkBiEFg5tIg4QDm0yHa+f0BAcT0K16PwQEB/arx0k7hAQPyp8dJNAkFAYOXQItsZQUDJdr6fGr9AQEw3iUFghUFAJQaBlUNLQkCYbhKDwEpCQL6fGi/d1EFAPQrXo3D9QUA5tMh2vh9CQEw3iUFgBUJAtMh2vp+6QkBWDi2ynV9GQESLbOf7qUVAi2zn+6lhRUCcxCCwcvhEQNEi2/l+SkVA0SLb+X56REAOLbKd72dFQOOlm8QgMEFAWDm0yHZuQEAhsHJokU1AQOXQItv5nj9A+n5qvHQzQEACK4cW2e4+QOxRuB6FO0BAAiuHFtleQEC0yHa+n7o/QGQ730+Ndz5ApHA9CtfDPUB3vp8aL30/QJzEILByKD5AL90kBoFVQEA=",
          "dtype": "f8"
         }
        },
        {
         "hovertemplate": "res_name=LEU<br>x=%{x}<br>y=%{y}<br>z=%{z}<extra></extra>",
         "legendgroup": "LEU",
         "marker": {
          "color": "#EF553B",
          "symbol": "circle"
         },
         "mode": "markers",
         "name": "LEU",
         "scene": "scene",
         "showlegend": true,
         "type": "scatter3d",
         "x": {
          "bdata": "YhBYObRINkDZzvdT48U3QKabxCCwsjhAlkOLbOdbOECuR+F6FC44QFpkO99PLThApHA9CtcjOED2KFyPwjU4QDEIrBxaxDlA+FPjpZuEOEAbL90kBoE4QNv5fmq8dDdAAAAAAACAOEDByqFFtlM4QKAaL90kpjhAexSuR+HaNkBt5/up8fI1QEJg5dAiGzZA3SQGgZVjNUDjpZvEIPA0QBkEVg4tcjdA0SLb+X5KOEC4HoXrUdg5QEjhehSupzdAokW28/0UNkDNzMzMzIw2QKabxCCwcjdAWmQ730/tN0CJQWDl0EI1QGq8dJMYhDRAXrpJDAIrM0CamZmZmdk0QBKDwMqhhTpAFK5H4XrUOkBYObTIdv47QFTjpZvEADxApHA9CtcjO0Dy0k1iEPg5QPp+arx0czpAWmQ730/tOEBQjZduEqM0QD81XrpJ7DNADi2yne+nMkB/arx0k9gxQFpkO99PzTNAcT0K16MwNUA/NV66Sew0QM3MzMzM7DVAukkMAiunMUDLoUW2810xQJHtfD81XjBAuB6F61E4L0AX2c73U6MyQLByaJHtXDNAL90kBoGVM0AK16NwPQo1QHNoke18vypATDeJQWDlKkCNl24Sg8ApQK5H4XoUbihA9ihcj8L1LUBKDAIrh1YuQBfZzvdToy1A+FPjpZukMECkcD0K16MlQLbz/dR4qSZA8KfGSzfJJECTGARWDi0kQP7UeOkmsSlAfT81XrrJK0A730+Nly4uQLgehetRuCtAqMZLN4nBMUD+1HjpJnEyQI/C9ShcrzNA+FPjpZvENEAzMzMzM5MxQC2yne+nRjBAw/UoXI/CLkBeukkMAoswQIts5/upsTNALbKd76fmNEAdWmQ73881QBBYObTIFjdAf2q8dJN4NEB3vp8aL701QF66SQwCqzZACtejcD0qNUBWDi2yna85QK5H4XoU7jpADi2yne/HO0DRItv5fuo8QL6fGi/dJDpAhetRuB4lOkAdWmQ73y85QEw3iUFgBTtAVOOlm8QAO0AOLbKd78c7QHNoke18fzxAokW28/3UPUBeukkMAss6QCUGgZVDizpAg8DKoUWWOUAMAiuHFlk7QN0kBoGVoz9AwcqhRbZTQEBGtvP91LhAQNejcD0KV0FAUrgehevxP0DdJAaBlYM/QPYoXI/ClT5AtMh2vp8KQEAQWDm0yLZCQBsv3SQGEUNAxSCwcmgxQ0CwcmiR7exCQFTjpZvEoEJAoBov3SR2QkAQWDm0yBZCQBkEVg4tAkNAH4XrUbgePECR7Xw/Nb47QB1aZDvfbzpAFK5H4Xq0OUB1kxgEVq48QBfZzvdTIz5AGy/dJAYBP0C4HoXrURg+QN0kBoGVgzdAnu+nxku3NkDufD81Xlo1QJzEILByiDRA16NwPQo3N0A9CtejcL04QF66SQwCKzlAdZMYBFauOEA5tMh2vt8vQPyp8dJN4i5Asp3vp8bLK0CDwMqhRbYqQBfZzvdTYzBARIts5/vJMUBzaJHtfH8yQPp+arx08zFA",
          "dtype": "f8"
         },
         "y": {
          "bdata": "SgwCK4dWPkBcj8L1KPw9QCPb+X5qPD9ABFYOLbIdQED0/dR46eY9QIlBYOXQwjxAO99PjZduO0AlBoGVQ+s8QMdLN4lBICZAtvP91HipJEC8dJMYBJYhQCGwcmiRbSBAwcqhRbbzJUB56SYxCOwoQLTIdr6fWilA8KfGSzdJKUDVeOkmMQgOQD81XrpJDANAoBov3SQGA0DfT42XbhL1PxfZzvdT4/8/bef7qfHS+T9vEoPAyqH3Pw4tsp3vp+4/z/dT46WbEUDTTWIQWLkRQLTIdr6fGgpADAIrhxbZC0Dy0k1iENgRQLx0kxgE1hZAtMh2vp8aFUDZzvdT46UbQHE9CtejsDdAXI/C9Sj8N0AbL90kBuE4QMl2vp8azzlAqMZLN4mhNkBSuB6F65E1QGq8dJMYRDRAiUFg5dAiNkCHFtnO9/M+QIts5/upkT1ACtejcD3qPUDn+6nx0u08QOXQItv5njxAx0s3iUFAPEDRItv5fmo7QJZDi2zneztA1XjpJjGoO0CBlUOLbCc6QHe+nxov/TlAj8L1KFzvOECoxks3icE5QOf7qfHSzThADAIrhxa5OECgGi/dJOY4QAisHFpkmzlAO99PjZduOED4U+Olm0Q3QCcxCKwcWjZAg8DKoUU2OEBcj8L1KBw3QGDl0CLbGTdAF9nO91NjNkCkcD0K18MzQM3MzMzMjDJAeekmMQjsMUDHSzeJQcAwQMUgsHJokTJAvp8aL90EM0AbL90kBkEzQC2yne+nJjJAF9nO91MjKkA1XrpJDMInQKRwPQrXYyhADAIrhxZZJ0CNl24Sg8AlQPyp8dJNYiVAVOOlm8QgI0DNzMzMzIwjQOkmMQisHCpAAiuHFtnOKkDdJAaBlYMsQBSuR+F6FCxAdZMYBFaOLEBYObTIdn4tQHWTGARWjitAVOOlm8RgL0CuR+F6FK4qQOkmMQisXCxA6SYxCKzcLEBEi2zn+6ksQMUgsHJoES9AGQRWDi3yL0CuR+F6FC4xQLpJDAIrxy9AVOOlm8TgLEBI4XoUrscsQBSuR+F6lCpAtvP91HipKkDn+6nx0k0tQLgehetR+C5Abef7qfHSLkB7FK5H4dowQOOlm8QgMCtAf2q8dJMYLUAX2c73U6MrQPT91Hjp5itAuB6F61F4L0CuR+F6FM4wQMdLN4lBoDFAF9nO91PDMED0/dR46WYrQI/C9Shczy1AObTIdr7fLED2KFyPwjUuQPyp8dJN4i9AQmDl0CLbMECyne+nxksyQK5H4XoU7jBAJzEIrBzaNUBOYhBYOXQ1QLbz/dR46TRAhetRuB4FNUDLoUW28100QOXQItv5njRAexSuR+F6M0AK16NwPWo1QOXQItv5PjZAXrpJDAKLNUDn+6nx0o01QHe+nxovnTVAf2q8dJMYNEDHSzeJQcAzQKwcWmQ7fzJAke18PzU+NEBg5dAi23k5QO58PzVeujhAPzVeuklsOEB9PzVeugk4QJ7vp8ZLlzdAN4lBYOXQN0DfT42XbpI2QAaBlUOL7DhA",
          "dtype": "f8"
         },
         "z": {
          "bdata": "w/UoXI/CREA5tMh2vu9EQM3MzMzMXEVAi2zn+6kBRUAdWmQ73y9EQNEi2/l+ykNABoGVQ4sMRECgGi/dJPZCQGiR7Xw/NTtATmIQWDl0OkBxPQrXo3A6QPT91HjppjpAYhBYObTIOEAdWmQ73884QHE9CtejUDdAoBov3SQGOUBkO99PjVc8QEJg5dAi2zxAiUFg5dBCPkA9CtejcJ0+QFTjpZvEAD1AEoPAyqEFPEAIrBxaZPs7QBsv3SQGATtAlkOLbOebMUDdJAaBleMyQPYoXI/CdTNARrbz/dR4NEDl0CLb+f4zQFTjpZvE4DNAYOXQItvZNECsHFpkO/8zQPyp8dJNwjpArkfhehQuPEA/NV66SUw8QGDl0CLbOT1Az/dT46W7PEAv3SQGgRU9QAAAAAAAYD1AVg4tsp3vPUBOYhBYOVQ6QCPb+X5q/DlAYhBYObQoOUBeukkMAgs5QBsv3SQGITtAjZduEoPAO0DVeOkmMeg8QFpkO99PjTpA16NwPQpXNkBt5/up8ZI2QCuHFtnOlzdAObTIdr5/N0DByqFFtnM3QIcW2c73MzdAiUFg5dCiNUCcxCCwcmg3QFyPwvUoHDVACtejcD1qNECTGARWDi01QJHtfD81vjRAWDm0yHb+M0BeukkMAmszQKJFtvP99DFA5dAi2/keM0AfhetRuB40QArXo3A9ijRAtvP91HipNUAzMzMzM5M1QC/dJAaBNTVA+n5qvHQzNEDFILByaLE0QGIQWDm0CDNAnu+nxksnQUDb+X5qvARBQHE9CtejoEBAx0s3iUHQQEBcj8L1KKxAQNNNYhBY+UBAXrpJDAKLQEDByqFFtpNBQKabxCCwIkBAUrgeheuRP0AX2c73UzNAQIPAyqFFRkBASgwCK4d2PkAfhetRuJ49QDEIrBxaJD1AdZMYBFZuPECPwvUoXJ9AQMUgsHJogUBACtejcD0qQUAbL90kBhFBQCcxCKwcOkBAke18PzU+P0C6SQwCKwc/QFYOLbKdbz5AtvP91Hi5QUDXo3A9CldCQNnO91PjdUJAIbByaJGdQkA/NV66SexCQJZDi2znS0NAy6FFtvPNQ0BMN4lBYEVDQEjhehSuR0FAPQrXo3CNQUDVeOkmMShCQJHtfD81LkJAy6FFtvO9QUA730+Nly5BQIlBYOXQYkFAx0s3iUGgQEASg8DKoSVCQC2yne+ndkJALbKd76cmQ0CWQ4ts55tDQClcj8L1mEJAvp8aL93kQUAIrBxaZOtBQKwcWmQ7X0FASOF6FK5XREDsUbgehatDQEw3iUFgpUNArkfhehQeQ0DRItv5fnpDQGDl0CLbOUNA8KfGSzc5Q0ACK4cW2Z5CQMP1KFyPYkJAkxgEVg7dQUDP91PjpftBQL6fGi/dhEFA1XjpJjHYQUAAAAAAAKBBQFyPwvUovEFAObTIdr7PQEBMN4lBYCU+QLByaJHt/DxA/tR46SbxPEACK4cW2c47QD81XrpJrDxAi2zn+6nxO0CiRbbz/RQ8QJMYBFYODTtA",
          "dtype": "f8"
         }
        },
        {
         "hovertemplate": "res_name=SER<br>x=%{x}<br>y=%{y}<br>z=%{z}<extra></extra>",
         "legendgroup": "SER",
         "marker": {
          "color": "#00cc96",
          "symbol": "circle"
         },
         "mode": "markers",
         "name": "SER",
         "scene": "scene",
         "showlegend": true,
         "type": "scatter3d",
         "x": {
          "bdata": "jZduEoMAOUB9PzVeuuk5QE5iEFg59DpAFK5H4XqUO0AQWDm0yFY6QMuhRbbzPTtABoGVQ4uMNUA/NV66SSw1QDm0yHa+nzNAx0s3iUHgMkAj2/l+arw1QK5H4XoUDjdAEFg5tMhWOEApXI/C9Yg5QGiR7Xw/dTpAWmQ730/NOkBzaJHtfF85QLKd76fG6zlA/tR46SaxPECF61G4HgU8QFTjpZvEYDxAWDm0yHZePEBoke18P5U6QKRwPQrX4zlAqvHSTWIwMkBcj8L1KLwwQAisHFpkezBAXI/C9SicLkBI4XoUrgcxQAwCK4cWGS9A5/up8dLNL0DfT42XblItQB+F61G4nipA9ihcj8L1KECF61G4HkUsQGiR7Xw/9S1AUrgehetRNUA1XrpJDCI2QG3n+6nx8jZA9ihcj8I1OECR7Xw/NT41QP7UeOkmsTRAbef7qfESPEBYObTIdt47QCuHFtnOdztAlkOLbOebOkCe76fGSxc9QLpJDAIrZz1Ax0s3iUHgM0BaZDvfT20zQGIQWDm0aDNAhetRuB5lMkCuR+F6FI40QN0kBoGVYzRAvHSTGASWMkBcj8L1KFwxQLpJDAIrJzBAzczMzMyMLkDn+6nx0m0xQPhT46WbZDJARIts5/spJ0DdJAaBlQMmQLbz/dR4aSNAd76fGi+dIUBQjZduEoMoQMdLN4lB4CdA",
          "dtype": "f8"
         },
         "y": {
          "bdata": "AiuHFtnOPkCgGi/dJOY/QI/C9ShcD0BAmG4Sg8BqP0AnMQisHBo/QB1aZDvfLz5AKVyPwvUoDEBSuB6F61EKQMdLN4lBYAxAVg4tsp3vCECR7Xw/Nd4RQBSuR+F6FBBAO99PjZduB0DufD81Xrr9P5zEILByaAZA2c73U+MlEEC6SQwCK4fwP7Kd76fGS/k/XI/C9SjcFkCamZmZmRkaQAisHFpkux5A+FPjpZtEIUC4HoXrUTgYQHNoke18PxxAke18PzU+P0DNzMzMzEw/QOkmMQisnD5Ai2zn+6nxPUDdJAaBlZNAQCPb+X5qnEBAWDm0yHbeOkCTGARWDq06QHWTGARWrjpAXI/C9Sj8OUDByqFFttM7QLKd76fGqzxAAAAAAABALkArhxbZzrcvQLx0kxgEli1AxSCwcmgRLkCYbhKDwKowQLpJDAIrxzFAexSuR+FaNkBSuB6F63E3QMl2vp8a7zZAJzEIrByaN0CuR+F6FE44QM3MzMzM7DhAI9v5fmpcOEAEVg4tsp05QClcj8L1iDlAbxKDwMpBOkC0yHa+n7o6QB1aZDvfzzpAhetRuB4FN0AK16NwPUo2QFK4HoXrMTdAokW28/0UN0DpJjEIrBw1QH0/NV66KTRA/Knx0k0iOkDl0CLb+V47QIlBYOXQ4jtADi2yne9HPECgGi/dJAY9QIts5/upkTxA",
          "dtype": "f8"
         },
         "z": {
          "bdata": "eekmMQjMRUDFILByaDFGQKrx0k1iwEVAmpmZmZlJRUDy0k1iEMhGQKRwPQrXw0ZAbxKDwMohP0CLbOf7qTFAQEjhehSuR0BAke18PzW+QEBiEFg5tKhAQHNoke18z0BAMQisHFpkMkBWDi2ynY8yQKJFtvP9NDNAAAAAAAAAM0DP91PjpXsxQMHKoUW2szBARrbz/dSYMUCHFtnO9zMwQPT91HjpJjBAGy/dJAbhMEC0yHa+nzowQKAaL90kxjBASgwCK4fWOEAK16NwPYo4QEw3iUFgRTdA46WbxCAwN0AQWDm0yNY3QMP1KFyP4jdABoGVQ4tsOECe76fGSxc5QDm0yHa+PzhAi2zn+6mROEDZzvdT42U6QEw3iUFgJTpA8KfGSze5QEAEVg4tsi1BQLByaJHtnEFAI9v5fmq8QUDJdr6fGp9BQBsv3SQGQUFAJzEIrByqRUAZBFYOLUJFQNnO91PjhURAnu+nxks3REDufD81XipFQLKd76fGy0VAsHJoke18QkDXo3A9CjdCQJhuEoPAakFAarx0kxg0QUCYbhKDwGpCQPhT46WbBENAuB6F61GYQEA5tMh2vn9AQKRwPQrXo0BAjZduEoMwQEC+nxov3fRAQNEi2/l+ykBA2c73U+OFPkAbL90kBuE+QBSuR+F6FD5Ai2zn+6mxPkA730+Nl24+QOkmMQisnD9A",
          "dtype": "f8"
         }
        },
        {
         "hovertemplate": "res_name=PRO<br>x=%{x}<br>y=%{y}<br>z=%{z}<extra></extra>",
         "legendgroup": "PRO",
         "marker": {
          "color": "#ab63fa",
          "symbol": "circle"
         },
         "mode": "markers",
         "name": "PRO",
         "scene": "scene",
         "showlegend": true,
         "type": "scatter3d",
         "x": {
          "bdata": "O99PjZcOPEAOLbKd7+c8QBBYObTINj5A2/l+arzUPkDRItv5fuo9QIPAyqFFtjxAGy/dJAZhO0A3iUFg5dAwQLTIdr6fWjBAkxgEVg5tLkB3vp8aLx0uQDm0yHa+PzBAMQisHFpkMECuR+F6FO4wQJZDi2zn+yxAMQisHFqkLEC8dJMYBNYtQLbz/dR4aS5AyXa+nxrvKUDdJAaBlQMpQJzEILBy6CpArkfhehQuM0CTGARWDi0yQJzEILBySDJAN4lBYOWQMUApXI/C9egwQBBYObTIljFAgZVDi2znMkDfT42XbhIkQPCnxks3CSZAMzMzMzMzJ0C28/3UeKkpQMP1KFyPgiRAAiuHFtmOIkCTGARWDq0hQLByaJHtjENApHA9CtejQ0Atsp3vp/ZDQJzEILByqENACKwcWmQ7REBcj8L1KIxEQKJFtvP99ENAyXa+nxq/QEB9PzVeuglAQLgehetReD9AN4lBYOVQPkBg5dAi2wlAQFCNl24Sk0BAZmZmZmYmQUA=",
          "dtype": "f8"
         },
         "y": {
          "bdata": "yXa+nxqPQEBzaJHtfK9AQPT91HjpRkBA6SYxCKz8P0CHFtnO90NBQClcj8L1mEFAUrgehesxQUCWQ4ts5/sLQJZDi2zn+wlAJzEIrBxaD0DHSzeJQWAQQC/dJAaBlfs/PzVeukkM9D+iRbbz/dQDQMUgsHJoER9ApHA9CtcjGkBKDAIrhxYbQAwCK4cWWRdABoGVQ4tsGkAK16NwPQogQBkEVg4tMiFADi2yne9HQECDwMqhRXZAQGiR7Xw/pUBAbef7qfFiQEBEi2zn+9lAQMuhRbbznUBAIbByaJF9QEC6SQwCK+cwQKabxCCwkjFAukkMAiuHMEDjpZvEINAwQKRwPQrXYzJAbxKDwMoBM0Bt5/up8dIxQH9qvHST2CpA6SYxCKycKUCBlUOLbCcsQFK4HoXrkSxAYOXQItv5J0DP91PjpVsoQNNNYhBYuSlAUI2XbhLDMUC4HoXrUdgxQPCnxks3CTNAqMZLN4lBM0BCYOXQIpsxQM/3U+OlmzBALbKd76cGMUA=",
          "dtype": "f8"
         },
         "z": {
          "bdata": "w/UoXI8SRkAv3SQGgZVFQM3MzMzMnEVAeekmMQgsRUCWQ4ts5/tFQAaBlUOLPEZAppvEILBSRkC+nxov3QQ+QJHtfD81fjxAbxKDwMoBPEAxCKwcWsQ6QP7UeOkmcTxAIbByaJHNPUC8dJMYBLY+QEw3iUFgRTJA2/l+aryUMUBYObTIdr4vQPCnxks3iS5AQmDl0CJbMUCamZmZmVkxQNEi2/l+ajJAgZVDi2zHPkCHFtnO9/M9QJZDi2znuzxAz/dT46WbO0CLbOf7qdE+QDeJQWDlEEBAUrgehesRQEAtsp3vpwY/QBBYObTI1j9AL90kBoFVQEBOYhBYOZRAQG3n+6nxYkBAAAAAAADgP0Atsp3vpwY/QDVeukkMUkNArkfhehQORECyne+nxntEQMUgsHJo8URABoGVQ4vcQ0ASg8DKoTVDQPhT46Wb1EJAw/UoXI+CR0DsUbgehbtHQJZDi2zni0dAhetRuB5VR0DP91PjpXtIQBKDwMqhlUhAYhBYObQISEA=",
          "dtype": "f8"
         }
        },
        {
         "hovertemplate": "res_name=ALA<br>x=%{x}<br>y=%{y}<br>z=%{z}<extra></extra>",
         "legendgroup": "ALA",
         "marker": {
          "color": "#FFA15A",
          "symbol": "circle"
         },
         "mode": "markers",
         "name": "ALA",
         "scene": "scene",
         "showlegend": true,
         "type": "scatter3d",
         "x": {
          "bdata": "aJHtfD8VPkBzaJHtfB8/QM3MzMzMrD5ADAIrhxaZP0CkcD0K1wM/QGQ730+Nx0FA0SLb+X5qQkAv3SQGgWVCQFpkO99PzUJAK4cW2c6XQkDwp8ZLN9lBQLTIdr6f2kFA9P3UeOnGQUDpJjEIrAxCQIXrUbgeNUFAuB6F61FYQ0BKDAIrh1ZDQH9qvHSTGENAIbByaJHNQkBSuB6F6/FDQKJFtvP9pEFAmpmZmZnpQEDZzvdT43VAQFCNl24SA0BA1XjpJjG4QEDFILByaDE9QC/dJAaB9TxAyXa+nxqvPECiRbbz/fQ7QNV46SYxyD1AObTIdr4/PEB7FK5H4Ro7QLKd76fGyzlAKVyPwvXoOECTGARWDu06QKrx0k1icDxARrbz/dS4PEBiEFg5tIg7QKRwPQrXwztA+n5qvHSzPED2KFyPwnU7QKJFtvP9lDxAVOOlm8QAPUAnMQisHBo9QEjhehSuxz1AdZMYBFaOOkBOYhBYObQ5QDeJQWDl8DlAO99PjZeuOUDTTWIQWDk4QNV46SYxiDpACtejcD3KOUBqvHSTGOQ6QNV46SYxqDpASOF6FK4nOUA3iUFg5dA9QKjGSzeJQT5A7nw/NV5aPUBg5dAi29k9QCUGgZVDaz5Ax0s3iUEANUCNl24SgwA2QFpkO99PbTVAaJHtfD/VNUAGgZVDiww3QARWDi2yPTFAMQisHFokMUBt5/up8bIwQOf7qfHSzS9AI9v5fmo8MkBiEFg5tAgmQNejcD0KFyNAdZMYBFYOIUBSuB6F61EeQAAAAAAAgCJAlkOLbOdLQEApXI/C9ahAQCuHFtnOJ0FAJQaBlUO7QUAnMQisHBpAQPLSTWIQGEFAd76fGi9tQUAdWmQ73x9CQNEi2/l+ikJAZmZmZmYmQUDJdr6fGl9EQHsUrkfhqkRAj8L1KFwfREC28/3UeBlEQAIrhxbZPkVA6SYxCKwcQEBkO99Pjdc/QOXQItv5nj9AyXa+nxqPPkBxPQrXo0BAQA4tsp3vZzxA1XjpJjFIO0AUrkfhevQ6QJZDi2znuzlAg8DKoUVWO0CsHFpkO980QBSuR+F6dDNAL90kBoH1MkCNl24Sg+AxQLByaJHtPDNA",
          "dtype": "f8"
         },
         "y": {
          "bdata": "IbByaJGtP0C0yHa+n9o+QJZDi2znez1AZDvfT43XPEArhxbZzjc+QI/C9ShcjzpArBxaZDs/OkBkO99Pjdc4QOf7qfHSDThA2c73U+MFOkDHSzeJQQA4QJMYBFYOrTZA7FG4HoVrNkAbL90kBoE1QC2yne+nBjZAd76fGi+9NED2KFyPwrU0QAAAAAAAIDNARIts5/uJMkAj2/l+anw0QLx0kxgEdjJAXI/C9SjcMkDHSzeJQUAxQDEIrBxaRDFATmIQWDk0NEC6SQwCKwcqQOxRuB6F6ydATDeJQWAlJUB/arx0k1gjQAIrhxbZjiZABoGVQ4vsJUBEi2zn+2kmQFK4HoXrESVAMQisHFokJEDD9Shcj0IpQGQ730+NVyBAoBov3SQGI0C6SQwCKwclQLgehetROCdASOF6FK6HI0CamZmZmZkzQJqZmZmZWTRAppvEILCSNUBt5/up8ZI2QMuhRbbzPTNAnu+nxkvXN0BxPQrXo5A4QJHtfD81vjhAw/UoXI/iOUAhsHJoke03QDMzMzMzMzxAbxKDwMrBPEDn+6nx0g09QMuhRbbz3T1A5/up8dKNO0AxCKwcWmQ+QDMzMzMz0z9AH4XrUbg+QEApXI/C9ehAQBKDwMqhpT9ASOF6FK7XQECJQWDl0HJAQKRwPQrXgz9AbxKDwMpBP0BYObTIdk5AQNnO91PjRT5Az/dT46WbPUD0/dR46UY8QFyPwvUofDtAlkOLbOebPUBEi2zn+4k3QHE9Ctej0DdAGy/dJAZhN0ArhxbZzhc3QM/3U+OlGzlAc2iR7Xw/KkD8qfHSTSIpQLByaJHtPCdA7FG4HoWrJkC+nxov3aQnQDMzMzMzcyVAkxgEVg5tI0A5tMh2vp8kQEJg5dAiGyNAppvEILByIUAIrBxaZPstQFg5tMh2/i9A/tR46SYRMUASg8DKoaUxQI/C9ShcjzBARIts5/spNECcxCCwcmg1QD0K16NwvTVAy6FFtvM9NkBxPQrXo7A2QNejcD0KtzNA9ihcj8J1NECwcmiR7Zw1QJMYBFYOzTVALbKd76cGNUAbL90kBsE1QM/3U+Ol+zVA9P3UeOlGN0CF61G4HoU3QE5iEFg59DVA",
          "dtype": "f8"
         },
         "z": {
          "bdata": "ZmZmZmZGRkDn+6nx0k1GQP7UeOkm4UVA+n5qvHSTRUCq8dJNYiBHQHsUrkfhikJAGQRWDi1yQkDVeOkmMXhCQDMzMzMzA0JA5/up8dI9Q0BEi2zn+3lCQMl2vp8aT0JAL90kBoF1QUArhxbZzjdBQLpJDAIrp0JAVg4tsp0vOkCgGi/dJMY4QKrx0k1i0DhAQmDl0CKbN0Bg5dAi29k3QBSuR+F61DlASgwCK4c2OkA9CtejcD05QPp+arx00zlAYhBYObRIOkDByqFFtpM4QFpkO99PDThA2/l+arz0OEA/NV66SQw5QKJFtvP9FDdAtvP91HhJPEC0yHa+nxo9QCUGgZVDizxAeekmMQgMPUBoke18P3U9QAIrhxbZji1AGQRWDi0yLUA3iUFg5dAtQEw3iUFgpS5AObTIdr7fKUAOLbKd74c4QAIrhxbZTjlAF9nO91PjOEDHSzeJQcA5QArXo3A9KjlAeekmMQjsN0BI4XoUrsc4QFyPwvUoXDpAqvHSTWKwOkDXo3A9Cpc4QD0K16NwXTxAF9nO91ODPUCgGi/dJKY+QJ7vp8ZLVz9A6SYxCKz8PUC4HoXrURg+QAisHFpkmz1ApHA9CtcDPkCgGi/dJEY+QKjGSzeJQTxAokW28/0UO0DZzvdT42U6QJ7vp8ZLlzlAAAAAAACAOEDpJjEIrDw7QP7UeOkmUTZABFYOLbIdNUDD9Shcj4I1QKJFtvP99DRAWmQ7308NNEBWDi2ync83QOF6FK5HQThAsp3vp8brNkBeukkMAks3QPp+arx08zhACKwcWmSLQkBeukkMAhtDQBBYObTI9kJAWDm0yHYuQ0AUrkfheoRDQM/3U+Ola0JAz/dT46UbQkBvEoPAytFBQBfZzvdTs0FAL90kBoGlQUBU46WbxDBEQEw3iUFgtURAbef7qfHiREDn+6nx0l1FQK5H4XoUXkRA8tJNYhCoR0Ce76fGS4dHQOOlm8QgwEZA/Knx0k2CRkCsHFpkO89HQDvfT42XLkZAbef7qfFiRkCq8dJNYuBFQOOlm8QgoEVAL90kBoEVR0AzMzMzM5NCQBfZzvdTw0JA0SLb+X56QkAUrkfhejRCQEoMAiuHhkNA",
          "dtype": "f8"
         }
        },
        {
         "hovertemplate": "res_name=ASP<br>x=%{x}<br>y=%{y}<br>z=%{z}<extra></extra>",
         "legendgroup": "ASP",
         "marker": {
          "color": "#19d3f3",
          "symbol": "circle"
         },
         "mode": "markers",
         "name": "ASP",
         "scene": "scene",
         "showlegend": true,
         "type": "scatter3d",
         "x": {
          "bdata": "EoPAyqFFPUA1XrpJDOI8QDMzMzMzkz1APzVeukkMPkBcj8L1KHw7QDm0yHa+3zpAAAAAAABgO0Dy0k1iELg5QEJg5dAiOzVAI9v5fmrcNUDhehSuR6E2QMdLN4lBYDdAw/UoXI8iN0DJdr6fGs83QL6fGi/dpDdAXI/C9SjcOEAOLbKd78c8QPT91Hjp5jxAZmZmZmbmO0CiRbbz/TQ8QPYoXI/CtTxAbxKDwMphPkApXI/C9Sg/QPCnxks36T1ADAIrhxa5OUA/NV66Scw4QMP1KFyPojdA+FPjpZvkNkDNzMzMzIw5QN0kBoGVwzpA0SLb+X6qOkApXI/C9Ug8QHWTGARWbjdAbxKDwMohNkDb+X5qvBQ2QO58PzVeujVAObTIdr7/NkBCYOXQIns2QMUgsHJoETVA/tR46SZxNkArhxbZzvcqQG3n+6nxUihALbKd76dGKECDwMqhRXYmQJMYBFYO7ShATmIQWDk0KEA1XrpJDAInQKJFtvP9VClAGy/dJAbBI0C6SQwCK0ciQN0kBoGVwyRAWDm0yHa+JkBzaJHtfH8hQHWTGARWjh9ArkfhehSuGkB7FK5H4fogQPYoXI/C1TlA4XoUrkeBOEAQWDm0yJY3QMuhRbbzfTZAXrpJDAJLOECR7Xw/Nf42QMUgsHJosTZA5dAi2/keNkA=",
          "dtype": "f8"
         },
         "y": {
          "bdata": "i2zn+6kxPUAnMQisHDo8QFg5tMh2njxAvHSTGASWO0BxPQrXoxA8QMP1KFyPYjtA9ihcj8J1OkDD9Shcj+I7QD0K16NwvRhACtejcD2KE0Bcj8L1KFwUQMuhRbbz/RdAMQisHFpkE0A9CtejcD0LQP7UeOkmMQVAK4cW2c73DEBg5dAi2xk2QI/C9ShcbzdA/Knx0k2COECe76fGS3c5QHNoke18nzdAtMh2vp9aN0Db+X5qvLQ2QIts5/upMTdAke18PzUeQUBSuB6F67FBQHe+nxovvUFALbKd76c2QkBCYOXQIltCQDMzMzMzQ0JAMQisHFoUQkA730+Nl05CQH0/NV66qUFAeekmMQi8QUCyne+nxhtBQIcW2c73M0FAYhBYObQ4QkDwp8ZLN2lCQIGVQ4ts90JAmG4Sg8CaQkAzMzMzM5M7QMdLN4lBgDtA9P3UeOlGOkCWQ4ts55s5QCGwcmiRjTxAQmDl0CLbPUC8dJMYBBY+QJzEILByKD9AAiuHFtnOLkD0/dR46SYvQAwCK4cWGTBA16NwPQoXL0CLbOf7qXEsQBsv3SQGAS1A9ihcj8I1LUAzMzMzMzMtQPYoXI/CNTRAdZMYBFauM0BvEoPAysE0QBKDwMqh5TRA9ihcj8LVMkDXo3A9CvcxQIPAyqFFdjFAf2q8dJM4MkA=",
          "dtype": "f8"
         },
         "z": {
          "bdata": "YOXQItvJRUAdWmQ73z9FQO58PzVemkRA001iEFhJREAGgZVDizxFQFyPwvUo3EVAnMQgsHIoRkDRItv5fvpFQNV46SYxCC5Ai2zn+6mxLkD4U+Olm+QwQBsv3SQG4TBAHVpkO9+PLEDpJjEIrBwtQJhuEoPAyi5AUrgehevRK0DByqFFtpM3QJZDi2znezdAGQRWDi3yN0CuR+F6FG44QClcj8L16DVAyXa+nxrvNEDn+6nx0g02QOXQItv5vjNAUI2XbhIjQUCmm8QgsHJBQHE9Ctej4EBA5dAi2/kuQUAEVg4tsm1BQPYoXI/CFUJAc2iR7XxvQkCHFtnO9+NBQAIrhxbZbkBAke18PzX+P0Aj2/l+avw+QEa28/3UuD1AUI2XbhKDPkC0yHa+n7o+QLx0kxgEdj5AexSuR+G6PEBOYhBYOTQ3QB+F61G4PjZAf2q8dJN4NUCiRbbz/XQ1QLKd76fGKzVAwcqhRbbzNUArhxbZzlc2QIPAyqFF9jRAkxgEVg7NO0AnMQisHBo9QKwcWmQ7Hz5ABoGVQ4sMPkCe76fGS5c9QMUgsHJo0T5AoBov3STGPkAlBoGVQ+s/QDVeukkMIkRAMQisHFo0REDl0CLb+R5EQHnpJjEIzENAXrpJDALLREC0yHa+n9pEQK5H4XoUTkRAwcqhRbYzRUA=",
          "dtype": "f8"
         }
        },
        {
         "hovertemplate": "res_name=LYS<br>x=%{x}<br>y=%{y}<br>z=%{z}<extra></extra>",
         "legendgroup": "LYS",
         "marker": {
          "color": "#FF6692",
          "symbol": "circle"
         },
         "mode": "markers",
         "name": "LYS",
         "scene": "scene",
         "showlegend": true,
         "type": "scatter3d",
         "x": {
          "bdata": "9P3UeOlGPUACK4cW2Q4+QEJg5dAiez9Anu+nxkvXP0DpJjEIrFw9QFCNl24S4ztAyXa+nxpvO0DRItv5fio6QPhT46WbJDpAAiuHFtl+QEC4HoXrUfhAQEa28/3UqEFA30+Nl24CQkC0yHa+nxpBQGDl0CLbmUBALbKd76e2QEDXo3A9Ctc/QIPAyqFF1j9A8tJNYhBoQ0DFILByaKFDQGiR7Xw/hUNA3SQGgZXTQ0AUrkfheqRDQNEi2/l+OkRAuB6F61EIRUAzMzMzMzNFQMUgsHJoMUVAkxgEVg4tL0BQjZduEsMvQI/C9ShcTy1APzVeuklMLUDsUbgehSswQFYOLbKdjzFAvHSTGAT2MUDXo3A9ClcxQIGVQ4tsxzFApHA9CtcjPECYbhKDwCo9QGQ730+N1zxAzczMzMxMPUBEi2zn+4k+QIlBYOXQwj5AkxgEVg5NQECBlUOLbJdAQCcxCKwcSkFAukkMAiunPEBMN4lBYEU9QJHtfD81njxA8KfGSzfJPEAEVg4tsj0+QDEIrBxa5D5AgZVDi2ynP0Dn+6nx0j1AQOkmMQisrEBArkfhehROO0AOLbKd72c6QJhuEoPAqjlA8tJNYhC4OUCBlUOLbAc5QJ7vp8ZLNzlAsp3vp8YLOEArhxbZzhc4QBfZzvdT4zZA7nw/NV56IkApXI/C9SgjQOOlm8QgsCNACKwcWmQ7IkAMAiuHFpklQNEi2/l+aiRAPQrXo3B9IkCcxCCwcqgjQOXQItv5/hxAYOXQItu5MEBOYhBYOXQxQFK4HoXrETJA5dAi2/k+M0DVeOkmMUgwQN0kBoGVAy9AJzEIrBwaLkC4HoXrUbgqQOkmMQis3ChA0SLb+X7KN0AzMzMzMxM3QM/3U+OlGzdAH4XrUbj+NUAj2/l+alw3QM3MzMzMDDdASOF6FK5nN0D6fmq8dPM2QJZDi2znWzdAVOOlm8SgI0DP91PjpZshQPyp8dJNYh9Ax0s3iUHgHEAnMQisHNoiQPCnxks3iSRAg8DKoUV2JkB56SYxCKwnQHe+nxovHSpA",
          "dtype": "f8"
         },
         "y": {
          "bdata": "EFg5tMj2PUAGgZVDiyw+QLTIdr6f+j1Ay6FFtvNdPUAX2c73U4M/QIPAyqFFtj9Anu+nxkunQEDXo3A9CrdAQCGwcmiRbUFAWDm0yHZeO0Av3SQGgfU7QI/C9ShcLztA16NwPQq3OkBWDi2ynU89QHNoke18Hz5AnMQgsHJoP0A9CtejcA1AQFYOLbKdr0BAj8L1KFwPN0C4HoXrUZg1QLKd76fGqzRAbxKDwMrhM0CF61G4HsU0QFK4HoXrkTNA6SYxCKy8NEB1kxgEVu4yQCPb+X5qvDFAWmQ730+NGkAZBFYOLbIZQHE9CtejcBpA7nw/NV66GkCR7Xw/Nd4SQGIQWDm0yBFAnu+nxks3CEDJdr6fGi8AQDm0yHa+n+I/lkOLbOf7JUB1kxgEVs4nQNEi2/l+aipAJQaBlUOLLEA1XrpJDMImQAAAAAAAACRACtejcD0KJEBEi2zn+6kgQCuHFtnO9yBAiUFg5dCiMECR7Xw/Nf4xQDvfT42XLjNAnMQgsHIoNEDy0k1iEPgxQB+F61G4HjNArkfhehTOMkApXI/C9Yg0QAAAAAAAADNAarx0kxjkMkD4U+OlmwQ0QI/C9ShcTzRAf2q8dJN4NUCR7Xw/Nb4zQL6fGi/d5DNAukkMAitHM0Ce76fGSzczQPyp8dJNojJArBxaZDs/NkAEVg4tsj01QNv5fmq81DNAaJHtfD/1MkBg5dAi27k1QJMYBFYODTdA3SQGgZUDN0AxCKwcWkQ4QFYOLbKdrzdACKwcWmQ7L0BI4XoUrgcuQBBYObTItitAVg4tsp2vK0B1kxgEVs4tQGIQWDm0SC9AgZVDi2ynL0CF61G4HsUtQA4tsp3vRzBAaJHtfD/1NUAtsp3vpyY3QM3MzMzMrDdAi2zn+6kxOEACK4cW2e43QBkEVg4tkjhANV66SQwCOUAnMQisHFo6QFYOLbKdTztAEFg5tMh2O0Cmm8QgsBI8QA4tsp3v5zpAw/UoXI8CO0AhsHJoka08QLpJDAIrxz1AzczMzMwsPkBQjZduEmM/QOf7qfHSbT9A",
          "dtype": "f8"
         },
         "z": {
          "bdata": "9ihcj8J1RECmm8QgsMJDQARWDi2yjUNAtvP91HgZQ0B1kxgEVo5DQGQ730+Nt0NA2c73U+OVQ0BYObTIdu5DQMl2vp8an0NA6SYxCKxcQkCyne+nxstBQDEIrBxa9EFAbxKDwMpxQUApXI/C9ehBQGq8dJMYxEFAc2iR7XyvQUBg5dAi2zlBQB+F61G4fkFAhxbZzveDQEBt5/up8ZJAQKAaL90k5j9AsHJoke18P0BEi2zn+zlBQPp+arx0I0FAnMQgsHJIQUCLbOf7qQFBQDMzMzMzY0FAAAAAAABgOUBU46WbxAA4QMP1KFyPAjdA1XjpJjHoNUAj2/l+arw3QPT91HjpRjhAbef7qfHyN0BYObTIdp44QOF6FK5HYThAke18PzW+MkAbL90kBsEyQPhT46WbxDJA46WbxCAwM0AhsHJokS0yQOXQItv5vjJAwcqhRbbTMUAOLbKd70cyQDEIrBxahDFAarx0kxgkNUD6fmq8dPM0QFK4HoXrETVAJQaBlUOLNUAv3SQGgZUzQAaBlUOLTDNA16NwPQoXMkBg5dAi29kxQGZmZmZmpi9AqMZLN4lhNEBCYOXQIns0QEa28/3U+DVATmIQWDk0NkAhsHJoka0zQIGVQ4tsBzJAbxKDwMpBMUAZBFYOLXIwQClcj8L1qC5ArkfhehSOM0Bg5dAi29kyQNEi2/l+KjNAJQaBlUMrM0CcxCCwcsgxQAisHFpk2zBA8KfGSzcpMEBMN4lBYOUtQMHKoUW2My1AWDm0yHYuQUD6fmq8dMNBQNNNYhBYqUFAXrpJDALrQUCmm8QgsFJCQHe+nxovbUJAXI/C9SjcQkBmZmZmZvZCQM3MzMzMrENAlkOLbOd7REApXI/C9XhEQPyp8dJNwkNAz/dT46WLQ0C28/3UeClFQDeJQWDlMEVAUI2XbhIjRkCgGi/dJAZGQIPAyqFFlkZApHA9CtfjPEBSuB6F69E7QBBYObTIljtAUI2XbhKjOkBQjZduEqM6QFyPwvUo/DpAj8L1KFzPOUC6SQwCKwc6QMdLN4lBgDhA",
          "dtype": "f8"
         }
        },
        {
         "hovertemplate": "res_name=THR<br>x=%{x}<br>y=%{y}<br>z=%{z}<extra></extra>",
         "legendgroup": "THR",
         "marker": {
          "color": "#B6E880",
          "symbol": "circle"
         },
         "mode": "markers",
         "name": "THR",
         "scene": "scene",
         "showlegend": true,
         "type": "scatter3d",
         "x": {
          "bdata": "GQRWDi0SQEBg5dAi28lAQOF6FK5HAUFA9P3UeOlmQUB9PzVeuhlBQJHtfD81/kBASgwCK4e2QUAQWDm0yLYsQKrx0k1iUCpAMzMzMzMzK0BU46WbxOApQG8Sg8DKoShAiUFg5dDiKUAdWmQ7348nQCuHFtnOty1AYOXQItt5LkAAAAAAAAAvQARWDi2yHS9AhetRuB5lMEAtsp3vp6YxQNEi2/l+SjBAVOOlm8TgKkCamZmZmVkoQKjGSzeJwShANV66SQwCJ0CkcD0K1+MlQIGVQ4tsJyZAwcqhRbZzJUC+nxov3eQ8QOkmMQis/D1AnMQgsHKIPUDpJjEIrNw9QFpkO99PDT9AppvEILCSP0CsHFpkO98/QARWDi2y3T1AQmDl0CL7PkBOYhBYOQRAQLKd76fGm0BAtMh2vp86PkC+nxov3WQ9QCPb+X5qXD9AObTIdr6vQUCNl24Sg6BBQAisHFpk60BA9P3UeOmGQEArhxbZzudBQKwcWmQ7r0FAnu+nxku3QkB7FK5H4RowQO58PzVe+i1AL90kBoHVLUCkcD0K16MrQIlBYOXQoi5AUrgehetRLkAEVg4tsp0sQMUgsHJo0SpAI9v5fmq8J0AMAiuHFlkmQIXrUbgexSNAWDm0yHa+J0D+1HjpJrEoQNEi2/l+ailA",
          "dtype": "f8"
         },
         "y": {
          "bdata": "LbKd76dGPkDVeOkmMeg9QH0/NV66qTxAlkOLbOcbPEDdJAaBlcM+QJHtfD81/j9ACtejcD1qPkB3vp8aL90RQHWTGARWjhRAi2zn+6lxGUB9PzVeuskbQEJg5dAiWxZA0SLb+X7qGEB3vp8aL90QQLgehetRuBtAPzVeuklMIEBSuB6F61EfQD0K16NwfSFAz/dT46VbIUBt5/up8VIfQMHKoUW2MyJAbxKDwMohG0Cyne+nxkscQOOlm8QgcCBAeekmMQhsIUDP91PjpRscQDEIrBxaJCBAQmDl0CLbFkB56SYxCMw4QEa28/3UuDlAObTIdr4/O0DNzMzMzEw8QOf7qfHSTTlAQmDl0CJbOEAfhetRuJ46QE5iEFg59CZAsp3vp8YLJ0D+1HjpJrEoQMUgsHJoEShA+FPjpZsEKEA9CtejcP0lQIPAyqFF9idAAAAAAADAMUBYObTIdr4xQB1aZDvfrzFAbef7qfEyMkBaZDvfTw0zQBfZzvdTQzRATDeJQWAFM0DByqFFthM4QEJg5dAi2zhACtejcD3KOUD0/dR46SY6QFK4HoXrcTlAGQRWDi3SOEBSuB6F67E6QAIrhxbZTjhA/Knx0k3CN0CWQ4ts5/s4QN9PjZdu0jhABFYOLbLdNkBI4XoUrqc1QEoMAiuHFjdA",
          "dtype": "f8"
         },
         "z": {
          "bdata": "F9nO91NDRECmm8QgsDJEQFyPwvUoDERA7nw/NV66Q0DLoUW2891EQD81XrpJzERAz/dT46XbREDn+6nx0u08QBBYObTIVjxAbef7qfGSO0CPwvUoXM86QG3n+6nxkj1ArkfhehSOPkCYbhKDwAo+QHsUrkfh2jtA7nw/NV4aO0D6fmq8dJM5QClcj8L16DhAF9nO91PDO0AhsHJokc07QLTIdr6fOj1AMzMzMzOzN0DP91Pjpfs2QM3MzMzMTDZApHA9CtdjNUBmZmZmZgY4QNEi2/l+6jhAWDm0yHZ+OEACK4cW2W47QN9PjZduUjtARrbz/dQ4O0C8dJMYBBY8QBKDwMqhZTpA2c73U+OFOkBg5dAi2xk6QAAAAAAAQEFAi2zn+6nBQEAtsp3vpwZBQA4tsp3v90BAYOXQItsJQEDfT42XbpI/QB+F61G4Hj9Avp8aL90ERkC0yHa+n7pGQHe+nxov3UZAlkOLbOd7RkCgGi/dJOZGQEw3iUFgtUZAUI2XbhLjRkCgGi/dJBZBQBSuR+F6JEFA5dAi2/muQEBvEoPAynFAQGZmZmZm1kFAarx0kxhUQkCYbhKDwPpBQJ7vp8ZLFz5AgZVDi2xHPkCyne+nxos+QB1aZDvfrz5AZDvfT433P0CuR+F6FO4+QOf7qfHSPUBA",
          "dtype": "f8"
         }
        },
        {
         "hovertemplate": "res_name=ASN<br>x=%{x}<br>y=%{y}<br>z=%{z}<extra></extra>",
         "legendgroup": "ASN",
         "marker": {
          "color": "#FF97FF",
          "symbol": "circle"
         },
         "mode": "markers",
         "name": "ASN",
         "scene": "scene",
         "showlegend": true,
         "type": "scatter3d",
         "x": {
          "bdata": "ppvEILCSQEAzMzMzM6NAQFg5tMh2jkBAGQRWDi3SQEB9PzVeujlAQCcxCKwcekBA46WbxCAQQUBt5/up8SJAQPT91HjphjxAukkMAivnO0Bt5/up8TI7QC2yne+nRjtA2/l+arzUOkAAAAAAAAA6QHWTGARWjjpArkfhehTOOED8qfHSTeIyQLpJDAIrBzNAmG4Sg8AKNED6fmq8dNMzQARWDi2ynTNAXrpJDAILM0DRItv5fmoyQClcj8L1CDJATDeJQWBlKkDy0k1iENgsQLx0kxgEVi9Ay6FFtvO9MEDD9Shcj4IsQA4tsp3vZypAzczMzMzMKkBqvHSTGMQnQA==",
          "dtype": "f8"
         },
         "y": {
          "bdata": "sHJoke28O0A1XrpJDGI6QJzEILByqDlAf2q8dJO4OEBmZmZmZqY5QNV46SYxCDpAtvP91HhJOkB9PzVeuqk5QI2XbhKDYDtApHA9CtfDPEBmZmZmZiY9QAIrhxbZbj5AGQRWDi2yPEB56SYxCAw+QKAaL90kBj9AtvP91HgJPkBkO99PjTdBQDvfT42XjkFATDeJQWAlQUBKDAIrh+ZAQA4tsp3vR0JABoGVQ4ucQkAQWDm0yAZDQGq8dJMYxEJAHVpkO98PLEAQWDm0yLYqQM3MzMzMzCxAz/dT46WbK0BEi2zn+ykqQC/dJAaBFShAj8L1KFzPJUAbL90kBkEpQA==",
          "dtype": "f8"
         },
         "z": {
          "bdata": "9P3UeOl2REC4HoXrUXhEQLTIdr6fukNAGy/dJAaRQ0A9CtejcP1EQAIrhxbZrkVAj8L1KFzPRUBI4XoUridGQHe+nxovXTpA1XjpJjFIOkA3iUFg5XA7QEJg5dAi+ztA3SQGgZVDOUDVeOkmMQg5QB1aZDvfDzlAAAAAAABgOECTGARWDm08QKAaL90kRjtAsHJoke18OkD6fmq8dDM5QBkEVg4tEjtAHVpkO98vO0CamZmZmfk8QOf7qfHSzTpAi2zn+6kBQECq8dJNYnA/QH9qvHSTeD9AtMh2vp96P0D4U+Olm+Q9QNV46SYxyD1A6SYxCKzcPUDy0k1iEHg9QA==",
          "dtype": "f8"
         }
        },
        {
         "hovertemplate": "res_name=TRP<br>x=%{x}<br>y=%{y}<br>z=%{z}<extra></extra>",
         "legendgroup": "TRP",
         "marker": {
          "color": "#FECB52",
          "symbol": "circle"
         },
         "mode": "markers",
         "name": "TRP",
         "scene": "scene",
         "showlegend": true,
         "type": "scatter3d",
         "x": {
          "bdata": "g8DKoUVWQUCyne+nxjtBQEjhehSu50FAWmQ7308NQkA5tMh2vn9AQH0/NV66aUBAf2q8dJN4QEB3vp8aL90/QM/3U+OlC0BAtvP91HiJP0AIrBxaZFs/QD81XrpJ7D5AtMh2vp+aPkC0yHa+n3o+QA==",
          "dtype": "f8"
         },
         "y": {
          "bdata": "SOF6FK5nN0ArhxbZzjc3QNejcD0KtzdAI9v5fmocN0AnMQisHDo4QD0K16NwnTdArkfhehRuOEDVeOkmMYg2QMHKoUW2czdAoBov3SSGNkD+1HjpJnE1QIlBYOXQojVAvp8aL92ENEBg5dAi27k0QA==",
          "dtype": "f8"
         },
         "z": {
          "bdata": "WDm0yHY+QUCkcD0K14NAQA4tsp3vF0BAF9nO91MjP0BU46WbxFBAQPYoXI/ClT9ANV66SQwiPkAX2c73U0M/QHE9CtejUD1A0SLb+X6qPUAdWmQ73+8/QPhT46WbRD1A+FPjpZskP0A3iUFg5dA9QA==",
          "dtype": "f8"
         }
        },
        {
         "hovertemplate": "res_name=GLY<br>x=%{x}<br>y=%{y}<br>z=%{z}<extra></extra>",
         "legendgroup": "GLY",
         "marker": {
          "color": "#636efa",
          "symbol": "circle"
         },
         "mode": "markers",
         "name": "GLY",
         "scene": "scene",
         "showlegend": true,
         "type": "scatter3d",
         "x": {
          "bdata": "9P3UeOlGQkC0yHa+n8pCQNV46SYxOENATDeJQWClQ0C8dJMYBNZCQCuHFtnON0NA6SYxCKzcQkBkO99PjTdCQHNoke18j0BAtMh2vp86QEDFILByaDFAQOf7qfHSrT9A/Knx0k1iPkCwcmiR7fw8QBkEVg4tkjxA2/l+arx0O0D6fmq8dLM9QKAaL90khj5AqvHSTWLwPUD+1HjpJrE+QB+F61G4PjxAsp3vp8bLO0Aj2/l+arw6QLByaJHtHDtAObTIdr5/OkD6fmq8dFM7QKabxCCwEjxAEFg5tMgWPEA=",
          "dtype": "f8"
         },
         "y": {
          "bdata": "1XjpJjGIOEDRItv5fgo5QLgehetRmDdAi2zn+6mRN0BzaJHtfJ81QP7UeOkmMTZATDeJQWBlNUAIrBxaZLs1QKwcWmQ73zFAyXa+nxrPMED4U+Olm0QvQH0/NV66SS1Abef7qfHSLUCYbhKDwAouQLgehetReCtAqMZLN4lBKkDb+X5qvPQRQA4tsp3vpxVA8KfGSzcJGECyne+nxksZQIGVQ4ts5ypA30+Nl26SLUDy0k1iEBgvQFYOLbKdrzBANV66SQyCLUDNzMzMzEwuQOkmMQisPDBABFYOLbI9MUA=",
          "dtype": "f8"
         },
         "z": {
          "bdata": "UI2XbhKDQEAxCKwcWhRAQOF6FK5HMUBAwcqhRbbzPkBQjZduEkM9QOOlm8QgMDxARIts5/upOkAUrkfhepQ6QEJg5dAiGzhAIbByaJFNN0Atsp3vp4Y3QNv5fmq8NDdAqMZLN4mBOkC8dJMYBPY5QNEi2/l+ijlAd76fGi+9OUBU46WbxKAzQC2yne+n5jJARrbz/dSYMUBaZDvfT80wQM/3U+OlWzFAg8DKoUX2MEC0yHa+n/oxQNNNYhBYOTJA+n5qvHQTNUDXo3A9Clc2QO58PzVeWjZAEFg5tMg2N0A=",
          "dtype": "f8"
         }
        },
        {
         "hovertemplate": "res_name=HIS<br>x=%{x}<br>y=%{y}<br>z=%{z}<extra></extra>",
         "legendgroup": "HIS",
         "marker": {
          "color": "#EF553B",
          "symbol": "circle"
         },
         "mode": "markers",
         "name": "HIS",
         "scene": "scene",
         "showlegend": true,
         "type": "scatter3d",
         "x": {
          "bdata": "2/l+arzkQkC+nxov3aRCQK5H4XoU3kFAVOOlm8SAQUDP91PjpctCQGIQWDm0aENAAiuHFtnOQ0DufD81XvpDQKwcWmQ7X0RAfT81XrqJREB7FK5H4XouQPp+arx00y9ANV66SQxiMUC28/3UeAkyQFYOLbKdLy9A4XoUrkdhL0DXo3A9CtcuQFyPwvUonDBAYhBYObSIL0ArhxbZzpcwQBSuR+F6dDtAK4cW2c43PECPwvUoXE89QGZmZmZmxj1AMzMzMzNzPUA1XrpJDII+QN9PjZdukj5AGy/dJAbhP0A9CtejcN0/QFpkO99PTUBARIts5/vpOUCq8dJNYvA4QB+F61G4vjlA5dAi2/leOUBCYOXQIts3QDm0yHa+nzZAF9nO91MDNkAzMzMzMxM2QJzEILBySDVA+n5qvHQzNUCTGARWDg08QJHtfD81HjtAxSCwcmhROkASg8DKoQU5QDVeukkM4jlA8KfGSzfpOkB3vp8aLx07QG8Sg8DKYTtAvp8aL91kPEAj2/l+ajw8QLByaJHtvCpAiUFg5dDiKUB9PzVeuokmQFTjpZvEYCVAUrgehetRK0CYbhKDwAouQOkmMQisHDBAy6FFtvM9L0AUrkfhehQxQL6fGi/d5DBAsp3vp8YLIkCYbhKDwEogQHWTGARWTiBAbef7qfHSHEAIrBxaZDsgQEJg5dAi2x5AL90kBoGVGkDwp8ZLN8kgQLpJDAIrBxpAyXa+nxovHkC+nxov3UQ2QHnpJjEIzDZAokW28/0UOECwcmiR7Tw5QCGwcmiR7TVAEoPAyqGFNkBQjZduEoM2QMdLN4lBQDdA+FPjpZtEN0A3iUFg5dA3QFYOLbKdD0JAiUFg5dCiQkCmm8QgsPJCQLgehetRiENAN4lBYOVgQkDfT42XbjJCQG8Sg8DKwUJAkxgEVg6dQUDdJAaBlVNCQIcW2c73o0FAK4cW2c73PkCDwMqhRbY9QMl2vp8ajzxAPQrXo3CdO0AzMzMzMxM+QOF6FK5HAT1AO99PjZdOPUAnMQisHNo7QI/C9ShcDzxA5/up8dItO0A=",
          "dtype": "f8"
         },
         "y": {
          "bdata": "RIts5/tpMkD4U+OlmwQxQJqZmZmZWTFA4XoUrkdBMEC28/3UeGkwQJ7vp8ZLty9AqMZLN4kBLkAhsHJokc0wQGDl0CLbOS5Aarx0kxiEL0DfT42XbpIfQMuhRbbzfSBAqvHSTWJQIEAQWDm0yPYgQM/3U+OlGyNAJzEIrBzaJUBt5/up8VIlQAAAAAAAwCdATDeJQWClJ0AxCKwcWiQpQHE9CtejcP8/AiuHFtnOCEDByqFFtvMMQMUgsHJokQVAAAAAAAAA/D/ZzvdT46UDQCUGgZVDiwlA001iEFg5+j8730+Nl24NQJqZmZmZmQZAMQisHFpkLUDZzvdT46UuQKabxCCwci9Aj8L1KFzPMED2KFyPwnUsQFyPwvUoHC5Ax0s3iUFAMEBQjZduEkMtQN9PjZducjBAsp3vp8YLL0CR7Xw/NT5AQEoMAiuHtkBAlkOLbOebQECwcmiR7ZxAQKwcWmQ7z0BAXrpJDALbQECmm8QgsKJBQOkmMQisrEBA6SYxCKysQUCsHFpkOx9BQHsUrkfhWjdAWmQ7308NNkDwp8ZLN0k2QIlBYOXQQjVAPQrXo3D9NUAMAiuHFjk1QDVeukkMIjZAIbByaJENNEDl0CLb+T41QEjhehSuBzRA7nw/NV76N0Cq8dJNYvA3QKabxCCw8jZASOF6FK5nNkCF61G4HkU5QARWDi2yXTpAw/UoXI9iOkAhsHJoka07QH9qvHSTWDtA001iEFj5O0Bt5/up8ZIrQNnO91PjZSlATmIQWDl0KEAfhetRuN4nQNv5fmq8dCdAg8DKoUU2JUA5tMh2vp8iQKJFtvP9VCVAtvP91HhpIUAEVg4tst0iQN0kBoGVAydARIts5/spKEBoke18P3UqQARWDi2y3SpAPQrXo3B9KUC+nxov3WQnQLpJDAIrxyZAXI/C9ShcJkCcxCCwcqgkQN0kBoGVQyRAeekmMQhMM0B3vp8aLz0yQDVeukkMQjNA001iEFgZM0Dn+6nx0g0xQIlBYOXQIjBAgZVDi2ynLUCoxks3iQEwQDVeukkMAixAiUFg5dBiLUA=",
          "dtype": "f8"
         },
         "z": {
          "bdata": "JzEIrBzaOUC+nxov3eQ5QN9PjZdu8jlA9ihcj8IVOkDb+X5qvBQ7QMUgsHJoUTtAhxbZzvcTOkAUrkfherQ7QNNNYhBYuTpAMzMzMzNzO0D4U+Olm0QvQF66SQwCqyxAnu+nxkt3LECkcD0K16MqQP7UeOkm8StAc2iR7Xx/LUD+1HjpJjEwQGDl0CLbOS1A+FPjpZvEMECDwMqhRXYvQEJg5dAiGzRAukkMAiuHNEAnMQisHLozQH0/NV66qTJAx0s3iUFgNUBqvHSTGMQ1QH9qvHST+DZAK4cW2c73NUDRItv5fio3QKwcWmQ7XzZAGy/dJAZhMkDufD81XlozQJHtfD813jRAObTIdr4/NUCamZmZmXkzQJzEILBySDRAgZVDi2znM0CkcD0K12M1QPT91HjpBjVAarx0kxjENUCoxks3iSE+QDEIrBxaZD5Af2q8dJN4P0A3iUFg5ZA/QMdLN4lBID1ABoGVQ4tMPEDb+X5qvFQ7QBkEVg4t8jpAnMQgsHLIOkCkcD0K1+M5QFYOLbKdjzZA6SYxCKw8N0CiRbbz/bQ3QGQ730+NtzdAeekmMQisOEDn+6nx0k04QKrx0k1i0DdAXrpJDAJrOEDn+6nx0o03QI2XbhKDADhAqMZLN4nhNUCF61G4HsU0QFTjpZvEwDNAWmQ7308NM0B7FK5H4Ro0QBSuR+F69DRA/Knx0k3iNUBcj8L1KFw1QKrx0k1i8DZAvp8aL91ENkBI4XoUrudBQPLSTWIQSEJA+FPjpZv0QUDwp8ZLNylCQIXrUbgelUJAsHJoke3sQkBg5dAi26lCQKrx0k1igENAL90kBoElQ0BEi2zn+6lDQMdLN4lBkEFAObTIdr4vQUCmm8QgsKJBQL6fGi/dVEFAuB6F61F4QEDXo3A9CgdAQH0/NV66ST9ABFYOLbKdP0B1kxgEVm4+QIPAyqFFtj5Aw/UoXI+iRUBmZmZmZoZFQGq8dJMYlEVAuB6F61E4RUBxPQrXo/BFQLTIdr6f6kVACKwcWmQ7RkCF61G4HpVFQBsv3SQGEUZAke18PzWuRUA=",
          "dtype": "f8"
         }
        },
        {
         "hovertemplate": "res_name=GLU<br>x=%{x}<br>y=%{y}<br>z=%{z}<extra></extra>",
         "legendgroup": "GLU",
         "marker": {
          "color": "#00cc96",
          "symbol": "circle"
         },
         "mode": "markers",
         "name": "GLU",
         "scene": "scene",
         "showlegend": true,
         "type": "scatter3d",
         "x": {
          "bdata": "Gy/dJAbRQEAbL90kBuFAQPp+arx0c0BA7nw/NV46QECsHFpkO69BQLpJDAIr10FAbef7qfHiQkA5tMh2vr9CQKabxCCwEkNAIbByaJHNPUAEVg4tsr09QF66SQwCizxArBxaZDv/O0B9PzVeuik/QH0/NV66KT9AO99PjZdOQEASg8DKoTVAQGIQWDm0yEBAdZMYBFauOUCPwvUoXK85QC2yne+nRjlADi2yne+nOEAIrBxaZPs6QMHKoUW28zpAXI/C9SicPEC6SQwCK2c9QB1aZDvfTzxAkxgEVg69Q0CR7Xw/NU5DQIts5/upkUJAoBov3SQ2QkAzMzMzMzNDQClcj8L1yENAAiuHFtkuREC4HoXrURhEQHnpJjEIzERA",
          "dtype": "f8"
         },
         "y": {
          "bdata": "O99PjZeuLUDfT42XbtIqQFg5tMh2PipA8KfGSzcJKECNl24Sg8AqQArXo3A9yidA46WbxCDwJ0Atsp3vp0YnQDm0yHa+XypAWmQ7308NJUCgGi/dJAYjQP7UeOkmcSNAiUFg5dBiIUC4HoXrUXgjQMHKoUW2cyFAEFg5tMh2IUAzMzMzM/MgQG3n+6nxUiJAJQaBlUNLIEBxPQrXo/AaQFCNl24SgxhAL90kBoGVFEAOLbKd7ycZQG3n+6nx0hNAx0s3iUFgEUDFILByaBEVQCcxCKwcWglA7FG4HoVrMUCiRbbz/bQyQCPb+X5qXDJASgwCK4dWM0AZBFYOLTIzQKAaL90k5jNAFK5H4Xq0MkCiRbbz/XQxQCcxCKwcGjNA",
          "dtype": "f8"
         },
         "z": {
          "bdata": "GQRWDi2yN0CR7Xw/Nf43QPYoXI/CVTlANV66SQyCOUBCYOXQIjs4QCcxCKwcWjhAke18PzV+OEDVeOkmMSg6QMdLN4lB4DdAUrgehevxOUAAAAAAAAA7QKrx0k1i8DtASgwCK4c2PEBaZDvfT607QNejcD0K1zxAZDvfT423PUCHFtnO99M+QGq8dJMYJD1AyXa+nxoPOkA3iUFg5TA6QH0/NV66iTtAAAAAAACgO0C+nxov3aQ5QGq8dJMY5DlA+n5qvHTzOEAlBoGVQ+s4QOf7qfHSbThAvHSTGARmREAZBFYOLXJEQMUgsHJosURAAiuHFtneREAIrBxaZKtDQN9PjZduYkNAL90kBoElQ0AhsHJokf1CQGiR7Xw/1UJA",
          "dtype": "f8"
         }
        },
        {
         "hovertemplate": "res_name=TYR<br>x=%{x}<br>y=%{y}<br>z=%{z}<extra></extra>",
         "legendgroup": "TYR",
         "marker": {
          "color": "#ab63fa",
          "symbol": "circle"
         },
         "mode": "markers",
         "name": "TYR",
         "scene": "scene",
         "showlegend": true,
         "type": "scatter3d",
         "x": {
          "bdata": "DAIrhxaJQED2KFyPwjVAQF66SQwC6z5AXrpJDAIrPkD8qfHSTVJAQIPAyqFFFkFAMzMzMzNTQUAlBoGVQ3tBQLx0kxgEBkJA8tJNYhAoQkDFILByaGFCQGDl0CLbCUNAAAAAAACAKkBeukkMAmsqQDm0yHa+nyxAnu+nxkv3LEAMAiuHFtkrQGDl0CLbeSlAtMh2vp9aJ0DLoUW2830pQHE9CtejcCVAYhBYObSIJ0Bg5dAi23klQDeJQWDlkCNAvp8aL90kH0AfhetRuB4cQFYOLbKd7xVA9ihcj8L1EkDLoUW28/0cQDvfT42XriBAoBov3SSGIEC28/3UeCkjQNnO91PjpSJANV66SQxCJUB/arx0k9gkQAisHFpkuyZA",
          "dtype": "f8"
         },
         "y": {
          "bdata": "qvHSTWIQLECiRbbz/ZQrQCGwcmiR7StAmpmZmZlZKkBEi2zn+ykuQEa28/3UeC1ABFYOLbIdL0CYbhKDwIorQJqZmZmZmS5Ac2iR7Xz/KkAQWDm0yPYsQB+F61G43ixA+FPjpZuEIkCJQWDl0CIlQHNoke18/yRAUrgehesRJ0DNzMzMzAwnQKjGSzeJwSdAQmDl0CKbKUCJQWDl0GImQKRwPQrXoylAXrpJDALrJkBkO99PjZcoQAIrhxbZDilAUI2XbhLDOUA730+Nl644QAwCK4cW2ThAnMQgsHJIOEAIrBxaZFs3QH0/NV66iTZAZmZmZmYGNUCiRbbz/fQ2QMP1KFyPQjRAgZVDi2wHNkCWQ4ts55s0QBBYObTI9jNA",
          "dtype": "f8"
         },
         "z": {
          "bdata": "YhBYObRIOkDRItv5foo7QBBYObTINjtAwcqhRbbzO0CgGi/dJIY8QLbz/dR4KT1AtvP91HgJPkDfT42XbrI8QOOlm8QgcD5AhetRuB4FPUCNl24SgyA+QAwCK4cWOT5Anu+nxkuXNkDJdr6fGu81QHe+nxovnTRADAIrhxb5M0BU46WbxOA2QAisHFpk2zdAw/UoXI+iN0Dwp8ZLNyk5QGIQWDm0qDhAEFg5tMgWOkA3iUFg5dA5QH0/NV66yTpAGQRWDi0yPED6fmq8dPM7QD81XrpJDDxA3SQGgZUjO0BiEFg5tMg8QDeJQWDlMDxAexSuR+E6PEB1kxgEVq47QFYOLbKdrztAMQisHFpEO0CYbhKDwEo7QIGVQ4ts5zpA",
          "dtype": "f8"
         }
        },
        {
         "hovertemplate": "res_name=ARG<br>x=%{x}<br>y=%{y}<br>z=%{z}<extra></extra>",
         "legendgroup": "ARG",
         "marker": {
          "color": "#FFA15A",
          "symbol": "circle"
         },
         "mode": "markers",
         "name": "ARG",
         "scene": "scene",
         "showlegend": true,
         "type": "scatter3d",
         "x": {
          "bdata": "001iEFjZOUBYObTIdn45QEjhehSu5zdAdZMYBFZuN0ACK4cW2S46QPLSTWIQuDtAPQrXo3BdPEBvEoPAygE+QDm0yHa+Xz5Avp8aL92kPUDy0k1iELg/QP7UeOkmMSRAEFg5tMj2IUDhehSuR6EiQNejcD0KFyFAEoPAyqFFHkBSuB6F61EcQFpkO99PDRlAmpmZmZkZF0CDwMqhRbYSQGIQWDm0yBZAaJHtfD81D0B3vp8aL10UQPLSTWIQWAxA7FG4HoXrC0AZBFYOLbIRQKjGSzeJQQdAVOOlm8QgC0AK16NwPQoCQEw3iUFg5QdAukkMAiuHAECsHFpkO9/vP1pkO99PjQVArBxaZDvfAkA=",
          "dtype": "f8"
         },
         "y": {
          "bdata": "ppvEILByG0CcxCCwcugZQDMzMzMzMxpAeekmMQgsFkAxCKwcWuQcQJhuEoPAShtAEFg5tMj2HkDfT42XbhIeQPhT46WbxBlAEoPAyqFFFkCe76fGSzcZQCUGgZVDyzJAmpmZmZl5MkCkcD0K12MxQGq8dJMYZDBACtejcD1qMkB3vp8aL50zQEa28/3UODNASgwCK4fWM0CNl24Sg4AzQCPb+X5qnDJAEoPAyqGlM0AIrBxaZLs5QLTIdr6fGjpADi2yne+nO0C0yHa+n/o7QFTjpZvEADlAxSCwcmjROEDjpZvEINA3QDVeukkMojdAjZduEoMAN0A/NV66SSw2QJMYBFYO7TZAhetRuB7lO0A=",
          "dtype": "f8"
         },
         "z": {
          "bdata": "0SLb+X6KPECuR+F6FO49QIGVQ4tsJz5Aj8L1KFzPPkA5tMh2vv8+QNNNYhBY+T5A7FG4HoXrP0BMN4lBYBVAQGq8dJMYZEBAF9nO91OzQEAEVg4tsk1AQFYOLbKdjzZAx0s3iUGgN0CkcD0K12M4QG3n+6nxsjhAfT81XrrJNkB56SYxCGw2QCPb+X5qXDRAbef7qfFyNUBmZmZmZiYzQDVeukkMgjJAf2q8dJN4M0D0/dR46cY8QDvfT42XDj1AdZMYBFaOPUCcxCCwcig+QKRwPQrXgz1AexSuR+E6P0B56SYxCKw/QDMzMzMzc0BAzczMzMzsQEBGtvP91NhAQFyPwvUojEFAUrgehetxPUA=",
          "dtype": "f8"
         }
        },
        {
         "hovertemplate": "res_name=MET<br>x=%{x}<br>y=%{y}<br>z=%{z}<extra></extra>",
         "legendgroup": "MET",
         "marker": {
          "color": "#19d3f3",
          "symbol": "circle"
         },
         "mode": "markers",
         "name": "MET",
         "scene": "scene",
         "showlegend": true,
         "type": "scatter3d",
         "x": {
          "bdata": "5dAi2/leN0B/arx0k/g1QMUgsHJoMTVAMzMzMzMzNEA1XrpJDII1QIts5/upETRA0SLb+X6qM0CiRbbz/dQzQO58PzVeujVApHA9CteDNUCYbhKDwAo0QAAAAAAAADRAc2iR7XxfNUCyne+nxms2QF66SQwCqzZABFYOLbK9NkA=",
          "dtype": "f8"
         },
         "y": {
          "bdata": "Di2yne+nHkDpJjEIrBwfQHsUrkfh+hpA9ihcj8J1GEAAAAAAAEAiQHnpJjEILCNALbKd76dGJkAGgZVDiywlQLgehetRqEBAAAAAAAAAQEA/NV66Sew/QC2yne+nhj9AF9nO91PjPkAbL90kBoE+QI2XbhKDwDxAhxbZzvfTPEA=",
          "dtype": "f8"
         },
         "z": {
          "bdata": "AiuHFtmuPUC0yHa+n9o9QLTIdr6fGj1AUI2XbhKjPUBMN4lBYGU9QDVeukkMgj1AXrpJDALLPEAzMzMzMxM7QL6fGi/dxD9Ac2iR7XzfPkCamZmZmTk+QDMzMzMzEz1AfT81XroJQEBqvHSTGARAQAAAAAAAgEBASOF6FK43QUA=",
          "dtype": "f8"
         }
        },
        {
         "hovertemplate": "res_name=PHE<br>x=%{x}<br>y=%{y}<br>z=%{z}<extra></extra>",
         "legendgroup": "PHE",
         "marker": {
          "color": "#FF6692",
          "symbol": "circle"
         },
         "mode": "markers",
         "name": "PHE",
         "scene": "scene",
         "showlegend": true,
         "type": "scatter3d",
         "x": {
          "bdata": "Rrbz/dR4NUDn+6nx0s00QKjGSzeJwTRAexSuR+HaM0A1XrpJDEI1QHNoke18/zRAKVyPwvUINEC+nxov3SQ2QPT91HjpxjNAbef7qfHSNUD4U+Olm+Q0QKAaL90kJjNAMzMzMzOzMUAEVg4tsj0xQPyp8dJNAjFAGQRWDi2yMUC4HoXrUVgyQMuhRbbznTNAvHSTGAS2MUDjpZvEIDA0QARWDi2yXTJAiUFg5dCiM0Av3SQGgRUuQGDl0CLbGTBA/tR46SZxL0AX2c73U6MwQGIQWDm0aDFAukkMAivnMUDJdr6fGm8xQHNoke18fzJAc2iR7XzfMUB56SYxCOwyQMHKoUW2kzJAokW28/00MkDNzMzMzIwzQARWDi2y3TNA8tJNYhBYM0DXo3A9CvczQCGwcmiRLTRAEFg5tMgWNUAj2/l+atwzQIGVQ4tsRzVAxSCwcmgRNECoxks3icE0QJzEILBy6C5A3SQGgZWDMECWQ4ts51sxQF66SQwCqzJASgwCK4c2MEAdWmQ7308vQNv5fmq8lDBAI9v5fmq8LECe76fGSzcwQLKd76fGCyxAIbByaJHtLUC0yHa+n1pCQCPb+X5qvEFAsp3vp8abQUCDwMqhRWZBQNnO91PjdUFABFYOLbKtQED2KFyPwlVAQKwcWmQ7b0BAVg4tsp1PP0DufD81Xlo/QEJg5dAiuz5AoBov3SQmOEAOLbKd70c4QMP1KFyPgjdAQmDl0CK7NkDl0CLb+b45QBsv3SQG4TlA8KfGSzepOUCuR+F6FE46QNv5fmq81DlAO99PjZfOOkAIrBxaZHs6QA==",
          "dtype": "f8"
         },
         "y": {
          "bdata": "UrgehevRGUCHFtnO91MVQMdLN4lBYBBA001iEFg5CkBg5dAi23kVQIGVQ4tsZxpAy6FFtvN9HUCwcmiR7XwbQEJg5dAiGyFAdZMYBFaOIEDfT42XbtIhQJ7vp8ZLtxFAN4lBYOVQE0Bt5/up8dISQPhT46WbRBdApHA9CtcjGUAzMzMzMzMbQOOlm8QgMB1AxSCwcmiRGEDP91PjpRseQAaBlUOLbBlAMzMzMzOzG0BeukkMAqsiQHe+nxovHSJAJzEIrBzaH0A/NV66SQwdQJhuEoPACiJAnu+nxku3JEBg5dAi2/kkQLpJDAIrxyZAi2zn+6kxJ0CgGi/dJEYpQH9qvHSTGClAnu+nxks3H0CBlUOLbOceQPp+arx0ExlAXI/C9ShcFUBg5dAi27kgQLpJDAIrRyNAsHJoke28JEC+nxov3eQkQI/C9ShcTydAK4cW2c73J0BGtvP91HgpQGDl0CLbOS9A+n5qvHSTMEC6SQwCKycwQPp+arx0MzBA8tJNYhAYMkDP91PjpXsyQOxRuB6FKzNAUI2XbhJDMkDTTWIQWJkzQM3MzMzMrDJAnMQgsHJIM0DsUbgehSsxQN9PjZdusjBA7nw/NV6aMEC+nxov3SQvQHNoke18/y5A0SLb+X5qLkCPwvUoXA8wQFg5tMh2fixAlkOLbOd7L0AAAAAAAEAsQD0K16NwvS1AL90kBoHVN0BxPQrXo3A4QOkmMQisnDdAd76fGi89OED0/dR46WY4QEjhehSuxzhAPzVeukksOkCq8dJNYvA3QKwcWmQ7XzpA/Knx0k0COEC8dJMYBFY5QA==",
          "dtype": "f8"
         },
         "z": {
          "bdata": "IbByaJHtO0DD9ShcjyI7QEw3iUFghTtACKwcWmSbO0BWDi2yna85QG3n+6nx8jhAsp3vp8brOEAZBFYOLfI3QLpJDAIrBzhABoGVQ4tMN0CuR+F6FE43QD81XrpJrD9ABoGVQ4uMP0Bcj8L1KBw+QPT91HjpZj1AK4cW2c73P0DVeOkmMahAQOkmMQisrEBAZmZmZmZGQUDwp8ZLN0lBQKwcWmQ730FACKwcWmTbQUB7FK5H4Zo0QIPAyqFFljNA5/up8dKtMkBGtvP91FgyQLKd76fGKzRALbKd76fmNEDJdr6fGk82QEoMAiuHdjRAtvP91HjpNkB3vp8aLx01QM/3U+OlezZAnMQgsHIoL0CgGi/dJEYvQLpJDAIrBy9ArBxaZDsfMEBEi2zn+wkxQPT91Hjp5jBAkxgEVg7NMUDjpZvEIDAwQM/3U+Ol2zFAWmQ7308NMECJQWDl0OIwQPp+arx00z9AiUFg5dACQECyne+nxqtAQHnpJjEIrEBAeekmMQgMQEDfT42XbtI+QNNNYhBYGT5AjZduEoNgPkAj2/l+avw8QIlBYOXQAj1AlkOLbOd7PEDFILByaLFEQEJg5dAi60RADAIrhxa5RUAMAiuHFulFQClcj8L1iERAnMQgsHJ4REDHSzeJQRBEQC2yne+n5kRARrbz/dQIREDl0CLb+e5EQGQ730+Nd0RAF9nO91ODQ0Boke18P9VCQBSuR+F6VEJAHVpkO9/vQUBqvHSTGKRCQLgehetR6EFAcT0K16OwQUASg8DKoYVBQOF6FK5HAUFArBxaZDvPQEDRItv5fqpAQA==",
          "dtype": "f8"
         }
        },
        {
         "hovertemplate": "res_name=GLN<br>x=%{x}<br>y=%{y}<br>z=%{z}<extra></extra>",
         "legendgroup": "GLN",
         "marker": {
          "color": "#B6E880",
          "symbol": "circle"
         },
         "mode": "markers",
         "name": "GLN",
         "scene": "scene",
         "showlegend": true,
         "type": "scatter3d",
         "x": {
          "bdata": "BFYOLbI9OkBiEFg5tCg5QLByaJHtXDlAsp3vp8brOEBoke18P9U3QEw3iUFgZTdAAiuHFtluNkAIrBxaZJs2QCuHFtnOdzVA",
          "dtype": "f8"
         },
         "y": {
          "bdata": "ZDvfT43XI0DpJjEIrJwlQKabxCCwMiZAWDm0yHZ+KECR7Xw/Nd4jQMdLN4lBICRAXI/C9SgcIkBOYhBYOTQfQNNNYhBYuSJA",
          "dtype": "f8"
         },
         "z": {
          "bdata": "mG4Sg8AKLkAOLbKd76cuQGiR7Xw/9TBAwcqhRbYzMUDFILByaFEuQHnpJjEIbCtAbxKDwMrhKkAhsHJoke0qQAIrhxbZzihA",
          "dtype": "f8"
         }
        },
        {
         "hovertemplate": "res_name=CYS<br>x=%{x}<br>y=%{y}<br>z=%{z}<extra></extra>",
         "legendgroup": "CYS",
         "marker": {
          "color": "#FF97FF",
          "symbol": "circle"
         },
         "mode": "markers",
         "name": "CYS",
         "scene": "scene",
         "showlegend": true,
         "type": "scatter3d",
         "x": {
          "bdata": "KVyPwvXIN0AUrkfhevQ4QK5H4XoU7jlAtvP91HgJO0DXo3A9Cjc4QOF6FK5HITdA",
          "dtype": "f8"
         },
         "y": {
          "bdata": "vHSTGASWJ0D8qfHSTSImQO58PzVeOihAO99PjZcuJ0Dy0k1iENgkQIGVQ4tsJyJA",
          "dtype": "f8"
         },
         "z": {
          "bdata": "CKwcWmRLQUBiEFg5tNhAQH0/NV66qUBA5dAi2/meQED2KFyPwkVAQHNoke18b0BA",
          "dtype": "f8"
         }
        }
       ],
       "layout": {
        "height": 800,
        "legend": {
         "title": {
          "text": "res_name"
         },
         "tracegroupgap": 0
        },
        "scene": {
         "domain": {
          "x": [
           0,
           1
          ],
          "y": [
           0,
           1
          ]
         },
         "xaxis": {
          "title": {
           "text": "x"
          }
         },
         "yaxis": {
          "title": {
           "text": "y"
          }
         },
         "zaxis": {
          "title": {
           "text": "z"
          }
         }
        },
        "template": {
         "data": {
          "bar": [
           {
            "error_x": {
             "color": "#2a3f5f"
            },
            "error_y": {
             "color": "#2a3f5f"
            },
            "marker": {
             "line": {
              "color": "#E5ECF6",
              "width": 0.5
             },
             "pattern": {
              "fillmode": "overlay",
              "size": 10,
              "solidity": 0.2
             }
            },
            "type": "bar"
           }
          ],
          "barpolar": [
           {
            "marker": {
             "line": {
              "color": "#E5ECF6",
              "width": 0.5
             },
             "pattern": {
              "fillmode": "overlay",
              "size": 10,
              "solidity": 0.2
             }
            },
            "type": "barpolar"
           }
          ],
          "carpet": [
           {
            "aaxis": {
             "endlinecolor": "#2a3f5f",
             "gridcolor": "white",
             "linecolor": "white",
             "minorgridcolor": "white",
             "startlinecolor": "#2a3f5f"
            },
            "baxis": {
             "endlinecolor": "#2a3f5f",
             "gridcolor": "white",
             "linecolor": "white",
             "minorgridcolor": "white",
             "startlinecolor": "#2a3f5f"
            },
            "type": "carpet"
           }
          ],
          "choropleth": [
           {
            "colorbar": {
             "outlinewidth": 0,
             "ticks": ""
            },
            "type": "choropleth"
           }
          ],
          "contour": [
           {
            "colorbar": {
             "outlinewidth": 0,
             "ticks": ""
            },
            "colorscale": [
             [
              0,
              "#0d0887"
             ],
             [
              0.1111111111111111,
              "#46039f"
             ],
             [
              0.2222222222222222,
              "#7201a8"
             ],
             [
              0.3333333333333333,
              "#9c179e"
             ],
             [
              0.4444444444444444,
              "#bd3786"
             ],
             [
              0.5555555555555556,
              "#d8576b"
             ],
             [
              0.6666666666666666,
              "#ed7953"
             ],
             [
              0.7777777777777778,
              "#fb9f3a"
             ],
             [
              0.8888888888888888,
              "#fdca26"
             ],
             [
              1,
              "#f0f921"
             ]
            ],
            "type": "contour"
           }
          ],
          "contourcarpet": [
           {
            "colorbar": {
             "outlinewidth": 0,
             "ticks": ""
            },
            "type": "contourcarpet"
           }
          ],
          "heatmap": [
           {
            "colorbar": {
             "outlinewidth": 0,
             "ticks": ""
            },
            "colorscale": [
             [
              0,
              "#0d0887"
             ],
             [
              0.1111111111111111,
              "#46039f"
             ],
             [
              0.2222222222222222,
              "#7201a8"
             ],
             [
              0.3333333333333333,
              "#9c179e"
             ],
             [
              0.4444444444444444,
              "#bd3786"
             ],
             [
              0.5555555555555556,
              "#d8576b"
             ],
             [
              0.6666666666666666,
              "#ed7953"
             ],
             [
              0.7777777777777778,
              "#fb9f3a"
             ],
             [
              0.8888888888888888,
              "#fdca26"
             ],
             [
              1,
              "#f0f921"
             ]
            ],
            "type": "heatmap"
           }
          ],
          "histogram": [
           {
            "marker": {
             "pattern": {
              "fillmode": "overlay",
              "size": 10,
              "solidity": 0.2
             }
            },
            "type": "histogram"
           }
          ],
          "histogram2d": [
           {
            "colorbar": {
             "outlinewidth": 0,
             "ticks": ""
            },
            "colorscale": [
             [
              0,
              "#0d0887"
             ],
             [
              0.1111111111111111,
              "#46039f"
             ],
             [
              0.2222222222222222,
              "#7201a8"
             ],
             [
              0.3333333333333333,
              "#9c179e"
             ],
             [
              0.4444444444444444,
              "#bd3786"
             ],
             [
              0.5555555555555556,
              "#d8576b"
             ],
             [
              0.6666666666666666,
              "#ed7953"
             ],
             [
              0.7777777777777778,
              "#fb9f3a"
             ],
             [
              0.8888888888888888,
              "#fdca26"
             ],
             [
              1,
              "#f0f921"
             ]
            ],
            "type": "histogram2d"
           }
          ],
          "histogram2dcontour": [
           {
            "colorbar": {
             "outlinewidth": 0,
             "ticks": ""
            },
            "colorscale": [
             [
              0,
              "#0d0887"
             ],
             [
              0.1111111111111111,
              "#46039f"
             ],
             [
              0.2222222222222222,
              "#7201a8"
             ],
             [
              0.3333333333333333,
              "#9c179e"
             ],
             [
              0.4444444444444444,
              "#bd3786"
             ],
             [
              0.5555555555555556,
              "#d8576b"
             ],
             [
              0.6666666666666666,
              "#ed7953"
             ],
             [
              0.7777777777777778,
              "#fb9f3a"
             ],
             [
              0.8888888888888888,
              "#fdca26"
             ],
             [
              1,
              "#f0f921"
             ]
            ],
            "type": "histogram2dcontour"
           }
          ],
          "mesh3d": [
           {
            "colorbar": {
             "outlinewidth": 0,
             "ticks": ""
            },
            "type": "mesh3d"
           }
          ],
          "parcoords": [
           {
            "line": {
             "colorbar": {
              "outlinewidth": 0,
              "ticks": ""
             }
            },
            "type": "parcoords"
           }
          ],
          "pie": [
           {
            "automargin": true,
            "type": "pie"
           }
          ],
          "scatter": [
           {
            "fillpattern": {
             "fillmode": "overlay",
             "size": 10,
             "solidity": 0.2
            },
            "type": "scatter"
           }
          ],
          "scatter3d": [
           {
            "line": {
             "colorbar": {
              "outlinewidth": 0,
              "ticks": ""
             }
            },
            "marker": {
             "colorbar": {
              "outlinewidth": 0,
              "ticks": ""
             }
            },
            "type": "scatter3d"
           }
          ],
          "scattercarpet": [
           {
            "marker": {
             "colorbar": {
              "outlinewidth": 0,
              "ticks": ""
             }
            },
            "type": "scattercarpet"
           }
          ],
          "scattergeo": [
           {
            "marker": {
             "colorbar": {
              "outlinewidth": 0,
              "ticks": ""
             }
            },
            "type": "scattergeo"
           }
          ],
          "scattergl": [
           {
            "marker": {
             "colorbar": {
              "outlinewidth": 0,
              "ticks": ""
             }
            },
            "type": "scattergl"
           }
          ],
          "scattermap": [
           {
            "marker": {
             "colorbar": {
              "outlinewidth": 0,
              "ticks": ""
             }
            },
            "type": "scattermap"
           }
          ],
          "scattermapbox": [
           {
            "marker": {
             "colorbar": {
              "outlinewidth": 0,
              "ticks": ""
             }
            },
            "type": "scattermapbox"
           }
          ],
          "scatterpolar": [
           {
            "marker": {
             "colorbar": {
              "outlinewidth": 0,
              "ticks": ""
             }
            },
            "type": "scatterpolar"
           }
          ],
          "scatterpolargl": [
           {
            "marker": {
             "colorbar": {
              "outlinewidth": 0,
              "ticks": ""
             }
            },
            "type": "scatterpolargl"
           }
          ],
          "scatterternary": [
           {
            "marker": {
             "colorbar": {
              "outlinewidth": 0,
              "ticks": ""
             }
            },
            "type": "scatterternary"
           }
          ],
          "surface": [
           {
            "colorbar": {
             "outlinewidth": 0,
             "ticks": ""
            },
            "colorscale": [
             [
              0,
              "#0d0887"
             ],
             [
              0.1111111111111111,
              "#46039f"
             ],
             [
              0.2222222222222222,
              "#7201a8"
             ],
             [
              0.3333333333333333,
              "#9c179e"
             ],
             [
              0.4444444444444444,
              "#bd3786"
             ],
             [
              0.5555555555555556,
              "#d8576b"
             ],
             [
              0.6666666666666666,
              "#ed7953"
             ],
             [
              0.7777777777777778,
              "#fb9f3a"
             ],
             [
              0.8888888888888888,
              "#fdca26"
             ],
             [
              1,
              "#f0f921"
             ]
            ],
            "type": "surface"
           }
          ],
          "table": [
           {
            "cells": {
             "fill": {
              "color": "#EBF0F8"
             },
             "line": {
              "color": "white"
             }
            },
            "header": {
             "fill": {
              "color": "#C8D4E3"
             },
             "line": {
              "color": "white"
             }
            },
            "type": "table"
           }
          ]
         },
         "layout": {
          "annotationdefaults": {
           "arrowcolor": "#2a3f5f",
           "arrowhead": 0,
           "arrowwidth": 1
          },
          "autotypenumbers": "strict",
          "coloraxis": {
           "colorbar": {
            "outlinewidth": 0,
            "ticks": ""
           }
          },
          "colorscale": {
           "diverging": [
            [
             0,
             "#8e0152"
            ],
            [
             0.1,
             "#c51b7d"
            ],
            [
             0.2,
             "#de77ae"
            ],
            [
             0.3,
             "#f1b6da"
            ],
            [
             0.4,
             "#fde0ef"
            ],
            [
             0.5,
             "#f7f7f7"
            ],
            [
             0.6,
             "#e6f5d0"
            ],
            [
             0.7,
             "#b8e186"
            ],
            [
             0.8,
             "#7fbc41"
            ],
            [
             0.9,
             "#4d9221"
            ],
            [
             1,
             "#276419"
            ]
           ],
           "sequential": [
            [
             0,
             "#0d0887"
            ],
            [
             0.1111111111111111,
             "#46039f"
            ],
            [
             0.2222222222222222,
             "#7201a8"
            ],
            [
             0.3333333333333333,
             "#9c179e"
            ],
            [
             0.4444444444444444,
             "#bd3786"
            ],
            [
             0.5555555555555556,
             "#d8576b"
            ],
            [
             0.6666666666666666,
             "#ed7953"
            ],
            [
             0.7777777777777778,
             "#fb9f3a"
            ],
            [
             0.8888888888888888,
             "#fdca26"
            ],
            [
             1,
             "#f0f921"
            ]
           ],
           "sequentialminus": [
            [
             0,
             "#0d0887"
            ],
            [
             0.1111111111111111,
             "#46039f"
            ],
            [
             0.2222222222222222,
             "#7201a8"
            ],
            [
             0.3333333333333333,
             "#9c179e"
            ],
            [
             0.4444444444444444,
             "#bd3786"
            ],
            [
             0.5555555555555556,
             "#d8576b"
            ],
            [
             0.6666666666666666,
             "#ed7953"
            ],
            [
             0.7777777777777778,
             "#fb9f3a"
            ],
            [
             0.8888888888888888,
             "#fdca26"
            ],
            [
             1,
             "#f0f921"
            ]
           ]
          },
          "colorway": [
           "#636efa",
           "#EF553B",
           "#00cc96",
           "#ab63fa",
           "#FFA15A",
           "#19d3f3",
           "#FF6692",
           "#B6E880",
           "#FF97FF",
           "#FECB52"
          ],
          "font": {
           "color": "#2a3f5f"
          },
          "geo": {
           "bgcolor": "white",
           "lakecolor": "white",
           "landcolor": "#E5ECF6",
           "showlakes": true,
           "showland": true,
           "subunitcolor": "white"
          },
          "hoverlabel": {
           "align": "left"
          },
          "hovermode": "closest",
          "mapbox": {
           "style": "light"
          },
          "paper_bgcolor": "white",
          "plot_bgcolor": "#E5ECF6",
          "polar": {
           "angularaxis": {
            "gridcolor": "white",
            "linecolor": "white",
            "ticks": ""
           },
           "bgcolor": "#E5ECF6",
           "radialaxis": {
            "gridcolor": "white",
            "linecolor": "white",
            "ticks": ""
           }
          },
          "scene": {
           "xaxis": {
            "backgroundcolor": "#E5ECF6",
            "gridcolor": "white",
            "gridwidth": 2,
            "linecolor": "white",
            "showbackground": true,
            "ticks": "",
            "zerolinecolor": "white"
           },
           "yaxis": {
            "backgroundcolor": "#E5ECF6",
            "gridcolor": "white",
            "gridwidth": 2,
            "linecolor": "white",
            "showbackground": true,
            "ticks": "",
            "zerolinecolor": "white"
           },
           "zaxis": {
            "backgroundcolor": "#E5ECF6",
            "gridcolor": "white",
            "gridwidth": 2,
            "linecolor": "white",
            "showbackground": true,
            "ticks": "",
            "zerolinecolor": "white"
           }
          },
          "shapedefaults": {
           "line": {
            "color": "#2a3f5f"
           }
          },
          "ternary": {
           "aaxis": {
            "gridcolor": "white",
            "linecolor": "white",
            "ticks": ""
           },
           "baxis": {
            "gridcolor": "white",
            "linecolor": "white",
            "ticks": ""
           },
           "bgcolor": "#E5ECF6",
           "caxis": {
            "gridcolor": "white",
            "linecolor": "white",
            "ticks": ""
           }
          },
          "title": {
           "x": 0.05
          },
          "xaxis": {
           "automargin": true,
           "gridcolor": "white",
           "linecolor": "white",
           "ticks": "",
           "title": {
            "standoff": 15
           },
           "zerolinecolor": "white",
           "zerolinewidth": 2
          },
          "yaxis": {
           "automargin": true,
           "gridcolor": "white",
           "linecolor": "white",
           "ticks": "",
           "title": {
            "standoff": 15
           },
           "zerolinecolor": "white",
           "zerolinewidth": 2
          }
         }
        },
        "title": {
         "text": "3D Scatter Plot of group_A"
        },
        "width": 1200
       }
      }
     },
     "metadata": {},
     "output_type": "display_data"
    }
   ],
   "source": [
    "# 3D 산점도 생성\n",
    "fig = px.scatter_3d(group_A, x='x', y='y', z='z', color='res_name', title=\"3D Scatter Plot of group_A\")\n",
    "fig.update_layout(width=1200, height=800)\n",
    "# 그래프 표시\n",
    "fig.show()"
   ]
  },
  {
   "cell_type": "markdown",
   "metadata": {},
   "source": [
    "# Load Data(ID : 6gh4)"
   ]
  },
  {
   "cell_type": "code",
   "execution_count": 34,
   "metadata": {},
   "outputs": [
    {
     "name": "stdout",
     "output_type": "stream",
     "text": [
      " atom_id | B_iso_or_equiv |  Cartn_x |  Cartn_y |  Cartn_z | auth_asym_id | auth_atom_id | auth_comp_id |  auth_seq_id |  group_PDB |  label_asym_id |  label_atom_id |  label_comp_id |  label_entity_id |   label_seq_id |  occupancy | pdbx_PDB_model_num |  type_symbol\n",
      "------------------------------------------------------------------------------------------------------------------------------------------------------------------------------------------------------------------------------------------------------------------------------\n",
      "       1 |        43.83 |   21.937 |   -1.432 |    2.010 |            A |            N |          GLY |            1 |       ATOM |              A |              N |            GLY |                1 |              1 |       1.00 |                  1 |            N\n",
      "       2 |        42.56 |   20.889 |   -2.346 |    2.424 |            A |           CA |          GLY |            1 |       ATOM |              A |             CA |            GLY |                1 |              1 |       1.00 |                  1 |            C\n",
      "       3 |        37.44 |   20.228 |   -3.048 |    1.255 |            A |            C |          GLY |            1 |       ATOM |              A |              C |            GLY |                1 |              1 |       1.00 |                  1 |            C\n",
      "       4 |        36.22 |   20.665 |   -2.909 |    0.113 |            A |            O |          GLY |            1 |       ATOM |              A |              O |            GLY |                1 |              1 |       1.00 |                  1 |            O\n",
      "       5 |        34.06 |   19.171 |   -3.802 |    1.541 |            A |            N |          SER |            2 |       ATOM |              A |              N |            SER |                1 |              2 |       1.00 |                  1 |            N\n"
     ]
    }
   ],
   "source": [
    "# URL에서 직접 가져올 때\n",
    "ID = '6gh4' # 예시로 사용할 PDB ID\n",
    "url  = f\"https://files.rcsb.org/download/{ID}.xml\"\n",
    "resp = requests.get(url)\n",
    "resp.raise_for_status()\n",
    "root = ET.fromstring(resp.content)\n",
    "\n",
    "# 네임스페이스 정의\n",
    "ns = {'PDBx': 'http://pdbml.pdb.org/schema/pdbx-v50.xsd'}\n",
    "\n",
    "# Display all 18 columns for each atom in a formatted manner\n",
    "print(f\"{'atom_id':>8} | {'B_iso_or_equiv':>12} | {'Cartn_x':>8} | {'Cartn_y':>8} | {'Cartn_z':>8} | \"\n",
    "    f\"{'auth_asym_id':>12} | {'auth_atom_id':>12} | {'auth_comp_id':>12} | {'auth_seq_id':>12} | \"\n",
    "    f\"{'group_PDB':>10} | {'label_asym_id':>14} | {'label_atom_id':>14} | {'label_comp_id':>14} | \"\n",
    "    f\"{'label_entity_id':>16} | {'label_seq_id':>14} | {'occupancy':>10} | {'pdbx_PDB_model_num':>18} | \"\n",
    "    f\"{'type_symbol':>12}\")\n",
    "print(\"-\" * 270)\n",
    "\n",
    "for atom in root.findall('.//PDBx:atom_site', ns)[:5]:\n",
    "    print(f\"{atom.get('id', ''):>8} | {atom.find('PDBx:B_iso_or_equiv', ns).text or '':>12} | \"\n",
    "        f\"{atom.find('PDBx:Cartn_x', ns).text or '':>8} | {atom.find('PDBx:Cartn_y', ns).text or '':>8} | \"\n",
    "        f\"{atom.find('PDBx:Cartn_z', ns).text or '':>8} | {atom.find('PDBx:auth_asym_id', ns).text or '':>12} | \"\n",
    "        f\"{atom.find('PDBx:auth_atom_id', ns).text or '':>12} | {atom.find('PDBx:auth_comp_id', ns).text or '':>12} | \"\n",
    "        f\"{atom.find('PDBx:auth_seq_id', ns).text or '':>12} | {atom.find('PDBx:group_PDB', ns).text or '':>10} | \"\n",
    "        f\"{atom.find('PDBx:label_asym_id', ns).text or '':>14} | {atom.find('PDBx:label_atom_id', ns).text or '':>14} | \"\n",
    "        f\"{atom.find('PDBx:label_comp_id', ns).text or '':>14} | {atom.find('PDBx:label_entity_id', ns).text or '':>16} | \"\n",
    "        f\"{atom.find('PDBx:label_seq_id', ns).text or '':>14} | {atom.find('PDBx:occupancy', ns).text or '':>10} | \"\n",
    "        f\"{atom.find('PDBx:pdbx_PDB_model_num', ns).text or '':>18} | {atom.find('PDBx:type_symbol', ns).text or '':>12}\")"
   ]
  },
  {
   "cell_type": "markdown",
   "metadata": {},
   "source": [
    "## 데이터 확인"
   ]
  },
  {
   "cell_type": "code",
   "execution_count": 35,
   "metadata": {},
   "outputs": [
    {
     "data": {
      "text/plain": [
       "<Element '{http://pdbml.pdb.org/schema/pdbx-v50.xsd}atom_site' at 0x000001A375FBCFE0>"
      ]
     },
     "execution_count": 35,
     "metadata": {},
     "output_type": "execute_result"
    }
   ],
   "source": [
    "# URL에서 직접 가져올 때\n",
    "url  = \"https://files.rcsb.org/download/6gh4.xml\"\n",
    "resp = requests.get(url)\n",
    "resp.raise_for_status()\n",
    "root = ET.fromstring(resp.content)\n",
    "\n",
    "# 네임스페이스 정의\n",
    "ns = {'PDBx': 'http://pdbml.pdb.org/schema/pdbx-v50.xsd'}\n",
    "\n",
    "tp_atom = root.findall('.//PDBx:atom_site', ns)[0]\n",
    "tp_atom"
   ]
  },
  {
   "cell_type": "code",
   "execution_count": 36,
   "metadata": {},
   "outputs": [
    {
     "data": {
      "text/plain": [
       "'1'"
      ]
     },
     "execution_count": 36,
     "metadata": {},
     "output_type": "execute_result"
    }
   ],
   "source": [
    "tp_atom.get('id')"
   ]
  },
  {
   "cell_type": "code",
   "execution_count": 37,
   "metadata": {},
   "outputs": [
    {
     "data": {
      "text/plain": [
       "'43.83'"
      ]
     },
     "execution_count": 37,
     "metadata": {},
     "output_type": "execute_result"
    }
   ],
   "source": [
    "tp_atom.find('PDBx:B_iso_or_equiv', ns).text"
   ]
  },
  {
   "cell_type": "code",
   "execution_count": 38,
   "metadata": {},
   "outputs": [
    {
     "data": {
      "text/plain": [
       "'21.937'"
      ]
     },
     "execution_count": 38,
     "metadata": {},
     "output_type": "execute_result"
    }
   ],
   "source": [
    "tp_atom.find('PDBx:Cartn_x', ns).text"
   ]
  },
  {
   "cell_type": "code",
   "execution_count": 39,
   "metadata": {},
   "outputs": [
    {
     "data": {
      "text/plain": [
       "'43.83'"
      ]
     },
     "execution_count": 39,
     "metadata": {},
     "output_type": "execute_result"
    }
   ],
   "source": [
    "tp_atom.find('PDBx:B_iso_or_equiv', ns).text"
   ]
  },
  {
   "cell_type": "markdown",
   "metadata": {},
   "source": [
    "## EDA"
   ]
  },
  {
   "cell_type": "markdown",
   "metadata": {},
   "source": [
    "### DataFrame 만들기"
   ]
  },
  {
   "cell_type": "code",
   "execution_count": 40,
   "metadata": {},
   "outputs": [],
   "source": [
    "atom_id_list, B_iso_or_equiv_list = [], []\n",
    "Cartn_x_list, Cartn_y_list, Cartn_z_list = [], [], []\n",
    "auth_asym_id_list, auth_atom_id_list, auth_comp_id_list, auth_seq_id_list = [], [], [], []\n",
    "group_PDB_list = []\n",
    "label_asym_id_list, label_atom_id_list, label_comp_id_list, label_entity_id_list, label_seq_id_list = [], [], [], [], []\n",
    "occupancy_list, pdbx_PDB_model_num_list, type_symbol_list = [], [], []\n",
    "\n",
    "for atom_site in root.findall('.//PDBx:atom_site', ns):\n",
    "    atom_id = int(atom_site.attrib.get('id'))\n",
    "    B_iso_or_equiv = atom_site.find('PDBx:B_iso_or_equiv', ns).text\n",
    "    \n",
    "    Cartn_x = atom_site.find('PDBx:Cartn_x', ns).text\n",
    "    Cartn_y = atom_site.find('PDBx:Cartn_y', ns).text\n",
    "    Cartn_z = atom_site.find('PDBx:Cartn_z', ns).text\n",
    "\n",
    "    auth_asym_id = atom_site.find('PDBx:auth_asym_id', ns).text\n",
    "    auth_atom_id = atom_site.find('PDBx:auth_atom_id', ns).text\n",
    "    auth_comp_id = atom_site.find('PDBx:auth_comp_id', ns).text\n",
    "    auth_seq_id = int(atom_site.find('PDBx:auth_seq_id', ns).text)\n",
    "    \n",
    "    group_PDB = atom_site.find('PDBx:group_PDB', ns).text\n",
    "\n",
    "    label_asym_id = atom_site.find('PDBx:label_asym_id', ns).text\n",
    "    label_atom_id = atom_site.find('PDBx:label_atom_id', ns).text\n",
    "    label_comp_id = atom_site.find('PDBx:label_comp_id', ns).text\n",
    "    label_entity_id = int(atom_site.find('PDBx:label_entity_id', ns).text)\n",
    "    label_seq_id = atom_site.find('PDBx:label_seq_id', ns).text\n",
    "\n",
    "    occupancy = atom_site.find('PDBx:occupancy', ns).text\n",
    "    pdbx_PDB_model_num = int(atom_site.find('PDBx:pdbx_PDB_model_num', ns).text)\n",
    "    type_symbol = atom_site.find('PDBx:type_symbol', ns).text\n",
    "    \n",
    "    # 빈 값 처리\n",
    "    atom_id = int(atom_id) if atom_id else None\n",
    "    B_iso_or_equiv = float(B_iso_or_equiv) if B_iso_or_equiv else None\n",
    "\n",
    "    Cartn_x = float(Cartn_x) if Cartn_x else None\n",
    "    Cartn_y = float(Cartn_y) if Cartn_y else None\n",
    "    Cartn_z = float(Cartn_z) if Cartn_z else None\n",
    "\n",
    "    auth_asym_id = auth_asym_id if auth_asym_id else None\n",
    "    auth_atom_id = auth_atom_id if auth_atom_id else None\n",
    "    auth_comp_id = auth_comp_id if auth_comp_id else None\n",
    "    auth_seq_id = int(auth_seq_id) if auth_seq_id else None\n",
    "\n",
    "    group_PDB = group_PDB if group_PDB else None\n",
    "\n",
    "    label_asym_id = label_asym_id if label_asym_id else None\n",
    "    label_atom_id = label_atom_id if label_atom_id else None\n",
    "    label_comp_id = label_comp_id if label_comp_id else None\n",
    "    label_entity_id = int(label_entity_id) if label_entity_id else None\n",
    "    label_seq_id = label_seq_id if label_seq_id else None\n",
    "\n",
    "    occupancy = float(occupancy) if occupancy else None\n",
    "    pdbx_PDB_model_num = int(pdbx_PDB_model_num) if pdbx_PDB_model_num else None\n",
    "    type_symbol = type_symbol if type_symbol else None\n",
    "\n",
    "    # 리스트에 추가\n",
    "    atom_id_list.append(atom_id)\n",
    "    B_iso_or_equiv_list.append(B_iso_or_equiv)\n",
    "\n",
    "    Cartn_x_list.append(Cartn_x)\n",
    "    Cartn_y_list.append(Cartn_y)\n",
    "    Cartn_z_list.append(Cartn_z)\n",
    "\n",
    "    auth_asym_id_list.append(auth_asym_id)\n",
    "    auth_atom_id_list.append(auth_atom_id)\n",
    "    auth_comp_id_list.append(auth_comp_id)\n",
    "    auth_seq_id_list.append(auth_seq_id)\n",
    "\n",
    "    group_PDB_list.append(group_PDB)\n",
    "\n",
    "    label_asym_id_list.append(label_asym_id)\n",
    "    label_atom_id_list.append(label_atom_id)\n",
    "    label_comp_id_list.append(label_comp_id)\n",
    "    label_entity_id_list.append(label_entity_id)\n",
    "    label_seq_id_list.append(label_seq_id)\n",
    "\n",
    "    occupancy_list.append(occupancy)\n",
    "    pdbx_PDB_model_num_list.append(pdbx_PDB_model_num)\n",
    "    type_symbol_list.append(type_symbol)"
   ]
  },
  {
   "cell_type": "code",
   "execution_count": 41,
   "metadata": {},
   "outputs": [
    {
     "name": "stdout",
     "output_type": "stream",
     "text": [
      "atom_id_list 길이 : 13596\n",
      "B_iso_or_equiv_list 길이 : 13596\n",
      "Cartn_x_list 길이 : 13596\n",
      "Cartn_y_list 길이 : 13596\n",
      "Cartn_z_list 길이 : 13596\n",
      "auth_asym_id_list 길이 : 13596\n",
      "auth_atom_id_list 길이 : 13596\n",
      "auth_comp_id_list 길이 : 13596\n",
      "auth_seq_id_list 길이 : 13596\n",
      "group_PDB_list 길이 : 13596\n",
      "label_asym_id_list 길이 : 13596\n",
      "label_atom_id_list 길이 : 13596\n",
      "label_comp_id_list 길이 : 13596\n",
      "label_entity_id_list 길이 : 13596\n",
      "label_seq_id_list 길이 : 13596\n",
      "occupancy_list 길이 : 13596\n",
      "pdbx_PDB_model_num_list 길이 : 13596\n",
      "type_symbol_list 길이 : 13596\n"
     ]
    }
   ],
   "source": [
    "print(f'atom_id_list 길이 : {len(atom_id_list)}')\n",
    "print(f'B_iso_or_equiv_list 길이 : {len(B_iso_or_equiv_list)}')\n",
    "print(f'Cartn_x_list 길이 : {len(Cartn_x_list)}')\n",
    "print(f'Cartn_y_list 길이 : {len(Cartn_y_list)}')\n",
    "print(f'Cartn_z_list 길이 : {len(Cartn_z_list)}')\n",
    "print(f'auth_asym_id_list 길이 : {len(auth_asym_id_list)}')\n",
    "print(f'auth_atom_id_list 길이 : {len(auth_atom_id_list)}')\n",
    "print(f'auth_comp_id_list 길이 : {len(auth_comp_id_list)}')\n",
    "print(f'auth_seq_id_list 길이 : {len(auth_seq_id_list)}')\n",
    "print(f'group_PDB_list 길이 : {len(group_PDB_list)}')\n",
    "print(f'label_asym_id_list 길이 : {len(label_asym_id_list)}')\n",
    "print(f'label_atom_id_list 길이 : {len(label_atom_id_list)}')\n",
    "print(f'label_comp_id_list 길이 : {len(label_comp_id_list)}')\n",
    "print(f'label_entity_id_list 길이 : {len(label_entity_id_list)}')\n",
    "print(f'label_seq_id_list 길이 : {len(label_seq_id_list)}')\n",
    "print(f'occupancy_list 길이 : {len(occupancy_list)}')\n",
    "print(f'pdbx_PDB_model_num_list 길이 : {len(pdbx_PDB_model_num_list)}')\n",
    "print(f'type_symbol_list 길이 : {len(type_symbol_list)}')"
   ]
  },
  {
   "cell_type": "code",
   "execution_count": 42,
   "metadata": {},
   "outputs": [
    {
     "data": {
      "text/html": [
       "<div>\n",
       "<style scoped>\n",
       "    .dataframe tbody tr th:only-of-type {\n",
       "        vertical-align: middle;\n",
       "    }\n",
       "\n",
       "    .dataframe tbody tr th {\n",
       "        vertical-align: top;\n",
       "    }\n",
       "\n",
       "    .dataframe thead th {\n",
       "        text-align: right;\n",
       "    }\n",
       "</style>\n",
       "<table border=\"1\" class=\"dataframe\">\n",
       "  <thead>\n",
       "    <tr style=\"text-align: right;\">\n",
       "      <th></th>\n",
       "      <th>atom_id</th>\n",
       "      <th>B_iso_or_equiv</th>\n",
       "      <th>Cartn_x</th>\n",
       "      <th>Cartn_y</th>\n",
       "      <th>Cartn_z</th>\n",
       "      <th>auth_asym_id</th>\n",
       "      <th>auth_atom_id</th>\n",
       "      <th>auth_comp_id</th>\n",
       "      <th>auth_seq_id</th>\n",
       "      <th>group_PDB</th>\n",
       "      <th>label_asym_id</th>\n",
       "      <th>label_atom_id</th>\n",
       "      <th>label_comp_id</th>\n",
       "      <th>label_entity_id</th>\n",
       "      <th>label_seq_id</th>\n",
       "      <th>occupancy</th>\n",
       "      <th>pdbx_PDB_model_num</th>\n",
       "      <th>type_symbol</th>\n",
       "    </tr>\n",
       "  </thead>\n",
       "  <tbody>\n",
       "    <tr>\n",
       "      <th>0</th>\n",
       "      <td>1</td>\n",
       "      <td>43.83</td>\n",
       "      <td>21.937</td>\n",
       "      <td>-1.432</td>\n",
       "      <td>2.010</td>\n",
       "      <td>A</td>\n",
       "      <td>N</td>\n",
       "      <td>GLY</td>\n",
       "      <td>1</td>\n",
       "      <td>ATOM</td>\n",
       "      <td>A</td>\n",
       "      <td>N</td>\n",
       "      <td>GLY</td>\n",
       "      <td>1</td>\n",
       "      <td>1</td>\n",
       "      <td>1.0</td>\n",
       "      <td>1</td>\n",
       "      <td>N</td>\n",
       "    </tr>\n",
       "    <tr>\n",
       "      <th>1</th>\n",
       "      <td>2</td>\n",
       "      <td>42.56</td>\n",
       "      <td>20.889</td>\n",
       "      <td>-2.346</td>\n",
       "      <td>2.424</td>\n",
       "      <td>A</td>\n",
       "      <td>CA</td>\n",
       "      <td>GLY</td>\n",
       "      <td>1</td>\n",
       "      <td>ATOM</td>\n",
       "      <td>A</td>\n",
       "      <td>CA</td>\n",
       "      <td>GLY</td>\n",
       "      <td>1</td>\n",
       "      <td>1</td>\n",
       "      <td>1.0</td>\n",
       "      <td>1</td>\n",
       "      <td>C</td>\n",
       "    </tr>\n",
       "    <tr>\n",
       "      <th>2</th>\n",
       "      <td>3</td>\n",
       "      <td>37.44</td>\n",
       "      <td>20.228</td>\n",
       "      <td>-3.048</td>\n",
       "      <td>1.255</td>\n",
       "      <td>A</td>\n",
       "      <td>C</td>\n",
       "      <td>GLY</td>\n",
       "      <td>1</td>\n",
       "      <td>ATOM</td>\n",
       "      <td>A</td>\n",
       "      <td>C</td>\n",
       "      <td>GLY</td>\n",
       "      <td>1</td>\n",
       "      <td>1</td>\n",
       "      <td>1.0</td>\n",
       "      <td>1</td>\n",
       "      <td>C</td>\n",
       "    </tr>\n",
       "    <tr>\n",
       "      <th>3</th>\n",
       "      <td>4</td>\n",
       "      <td>36.22</td>\n",
       "      <td>20.665</td>\n",
       "      <td>-2.909</td>\n",
       "      <td>0.113</td>\n",
       "      <td>A</td>\n",
       "      <td>O</td>\n",
       "      <td>GLY</td>\n",
       "      <td>1</td>\n",
       "      <td>ATOM</td>\n",
       "      <td>A</td>\n",
       "      <td>O</td>\n",
       "      <td>GLY</td>\n",
       "      <td>1</td>\n",
       "      <td>1</td>\n",
       "      <td>1.0</td>\n",
       "      <td>1</td>\n",
       "      <td>O</td>\n",
       "    </tr>\n",
       "    <tr>\n",
       "      <th>4</th>\n",
       "      <td>5</td>\n",
       "      <td>34.06</td>\n",
       "      <td>19.171</td>\n",
       "      <td>-3.802</td>\n",
       "      <td>1.541</td>\n",
       "      <td>A</td>\n",
       "      <td>N</td>\n",
       "      <td>SER</td>\n",
       "      <td>2</td>\n",
       "      <td>ATOM</td>\n",
       "      <td>A</td>\n",
       "      <td>N</td>\n",
       "      <td>SER</td>\n",
       "      <td>1</td>\n",
       "      <td>2</td>\n",
       "      <td>1.0</td>\n",
       "      <td>1</td>\n",
       "      <td>N</td>\n",
       "    </tr>\n",
       "  </tbody>\n",
       "</table>\n",
       "</div>"
      ],
      "text/plain": [
       "   atom_id  B_iso_or_equiv  Cartn_x  Cartn_y  Cartn_z auth_asym_id  \\\n",
       "0        1           43.83   21.937   -1.432    2.010            A   \n",
       "1        2           42.56   20.889   -2.346    2.424            A   \n",
       "2        3           37.44   20.228   -3.048    1.255            A   \n",
       "3        4           36.22   20.665   -2.909    0.113            A   \n",
       "4        5           34.06   19.171   -3.802    1.541            A   \n",
       "\n",
       "  auth_atom_id auth_comp_id  auth_seq_id group_PDB label_asym_id  \\\n",
       "0            N          GLY            1      ATOM             A   \n",
       "1           CA          GLY            1      ATOM             A   \n",
       "2            C          GLY            1      ATOM             A   \n",
       "3            O          GLY            1      ATOM             A   \n",
       "4            N          SER            2      ATOM             A   \n",
       "\n",
       "  label_atom_id label_comp_id  label_entity_id label_seq_id  occupancy  \\\n",
       "0             N           GLY                1            1        1.0   \n",
       "1            CA           GLY                1            1        1.0   \n",
       "2             C           GLY                1            1        1.0   \n",
       "3             O           GLY                1            1        1.0   \n",
       "4             N           SER                1            2        1.0   \n",
       "\n",
       "   pdbx_PDB_model_num type_symbol  \n",
       "0                   1           N  \n",
       "1                   1           C  \n",
       "2                   1           C  \n",
       "3                   1           O  \n",
       "4                   1           N  "
      ]
     },
     "execution_count": 42,
     "metadata": {},
     "output_type": "execute_result"
    }
   ],
   "source": [
    "# DataFrame 생성\n",
    "df = pd.DataFrame({\n",
    "    'atom_id': atom_id_list,\n",
    "    'B_iso_or_equiv': B_iso_or_equiv_list,\n",
    "    'Cartn_x': Cartn_x_list,\n",
    "    'Cartn_y': Cartn_y_list,\n",
    "    'Cartn_z': Cartn_z_list,\n",
    "    'auth_asym_id': auth_asym_id_list,\n",
    "    'auth_atom_id': auth_atom_id_list,\n",
    "    'auth_comp_id': auth_comp_id_list,\n",
    "    'auth_seq_id': auth_seq_id_list,\n",
    "    'group_PDB': group_PDB_list,\n",
    "    'label_asym_id': label_asym_id_list,\n",
    "    'label_atom_id': label_atom_id_list,\n",
    "    'label_comp_id': label_comp_id_list,\n",
    "    'label_entity_id': label_entity_id_list,\n",
    "    'label_seq_id': label_seq_id_list,\n",
    "    'occupancy': occupancy_list,\n",
    "    'pdbx_PDB_model_num': pdbx_PDB_model_num_list,\n",
    "    'type_symbol': type_symbol_list\n",
    "})\n",
    "\n",
    "df.head()"
   ]
  },
  {
   "cell_type": "markdown",
   "metadata": {},
   "source": [
    "### 특성 분석"
   ]
  },
  {
   "cell_type": "code",
   "execution_count": 43,
   "metadata": {},
   "outputs": [
    {
     "name": "stdout",
     "output_type": "stream",
     "text": [
      "<class 'pandas.core.frame.DataFrame'>\n",
      "RangeIndex: 13596 entries, 0 to 13595\n",
      "Data columns (total 18 columns):\n",
      " #   Column              Non-Null Count  Dtype  \n",
      "---  ------              --------------  -----  \n",
      " 0   atom_id             13596 non-null  int64  \n",
      " 1   B_iso_or_equiv      13596 non-null  float64\n",
      " 2   Cartn_x             13596 non-null  float64\n",
      " 3   Cartn_y             13596 non-null  float64\n",
      " 4   Cartn_z             13596 non-null  float64\n",
      " 5   auth_asym_id        13596 non-null  object \n",
      " 6   auth_atom_id        13596 non-null  object \n",
      " 7   auth_comp_id        13596 non-null  object \n",
      " 8   auth_seq_id         13596 non-null  int64  \n",
      " 9   group_PDB           13596 non-null  object \n",
      " 10  label_asym_id       13596 non-null  object \n",
      " 11  label_atom_id       13596 non-null  object \n",
      " 12  label_comp_id       13596 non-null  object \n",
      " 13  label_entity_id     13596 non-null  int64  \n",
      " 14  label_seq_id        12544 non-null  object \n",
      " 15  occupancy           13596 non-null  float64\n",
      " 16  pdbx_PDB_model_num  13596 non-null  int64  \n",
      " 17  type_symbol         13596 non-null  object \n",
      "dtypes: float64(5), int64(4), object(9)\n",
      "memory usage: 1.9+ MB\n"
     ]
    }
   ],
   "source": [
    "df.info()"
   ]
  },
  {
   "cell_type": "code",
   "execution_count": 44,
   "metadata": {},
   "outputs": [
    {
     "data": {
      "text/plain": [
       "Index(['atom_id', 'B_iso_or_equiv', 'Cartn_x', 'Cartn_y', 'Cartn_z',\n",
       "       'auth_asym_id', 'auth_atom_id', 'auth_comp_id', 'auth_seq_id',\n",
       "       'group_PDB', 'label_asym_id', 'label_atom_id', 'label_comp_id',\n",
       "       'label_entity_id', 'label_seq_id', 'occupancy', 'pdbx_PDB_model_num',\n",
       "       'type_symbol'],\n",
       "      dtype='object')"
      ]
     },
     "execution_count": 44,
     "metadata": {},
     "output_type": "execute_result"
    }
   ],
   "source": [
    "df.columns"
   ]
  },
  {
   "cell_type": "markdown",
   "metadata": {},
   "source": [
    "#### atom_id"
   ]
  },
  {
   "cell_type": "code",
   "execution_count": 45,
   "metadata": {},
   "outputs": [
    {
     "data": {
      "text/plain": [
       "count    13596.000000\n",
       "mean      6798.500000\n",
       "std       3924.971465\n",
       "min          1.000000\n",
       "25%       3399.750000\n",
       "50%       6798.500000\n",
       "75%      10197.250000\n",
       "max      13596.000000\n",
       "Name: atom_id, dtype: float64"
      ]
     },
     "execution_count": 45,
     "metadata": {},
     "output_type": "execute_result"
    }
   ],
   "source": [
    "df.atom_id.describe()"
   ]
  },
  {
   "cell_type": "markdown",
   "metadata": {},
   "source": [
    "#### B_iso_or_equiv"
   ]
  },
  {
   "cell_type": "code",
   "execution_count": 46,
   "metadata": {},
   "outputs": [
    {
     "data": {
      "text/plain": [
       "count    13596.000000\n",
       "mean        28.349197\n",
       "std         11.887174\n",
       "min          7.010000\n",
       "25%         19.710000\n",
       "50%         25.540000\n",
       "75%         34.400000\n",
       "max         89.290000\n",
       "Name: B_iso_or_equiv, dtype: float64"
      ]
     },
     "execution_count": 46,
     "metadata": {},
     "output_type": "execute_result"
    }
   ],
   "source": [
    "df.B_iso_or_equiv.describe()"
   ]
  },
  {
   "cell_type": "markdown",
   "metadata": {},
   "source": [
    "#### Cartn_x, Cartn_y, Cartn_z"
   ]
  },
  {
   "cell_type": "code",
   "execution_count": 47,
   "metadata": {},
   "outputs": [
    {
     "data": {
      "text/html": [
       "<div>\n",
       "<style scoped>\n",
       "    .dataframe tbody tr th:only-of-type {\n",
       "        vertical-align: middle;\n",
       "    }\n",
       "\n",
       "    .dataframe tbody tr th {\n",
       "        vertical-align: top;\n",
       "    }\n",
       "\n",
       "    .dataframe thead th {\n",
       "        text-align: right;\n",
       "    }\n",
       "</style>\n",
       "<table border=\"1\" class=\"dataframe\">\n",
       "  <thead>\n",
       "    <tr style=\"text-align: right;\">\n",
       "      <th></th>\n",
       "      <th>Cartn_x</th>\n",
       "      <th>Cartn_y</th>\n",
       "      <th>Cartn_z</th>\n",
       "    </tr>\n",
       "  </thead>\n",
       "  <tbody>\n",
       "    <tr>\n",
       "      <th>count</th>\n",
       "      <td>13596.000000</td>\n",
       "      <td>13596.000000</td>\n",
       "      <td>13596.000000</td>\n",
       "    </tr>\n",
       "    <tr>\n",
       "      <th>mean</th>\n",
       "      <td>15.704882</td>\n",
       "      <td>16.178236</td>\n",
       "      <td>26.556555</td>\n",
       "    </tr>\n",
       "    <tr>\n",
       "      <th>std</th>\n",
       "      <td>14.558616</td>\n",
       "      <td>24.567342</td>\n",
       "      <td>31.931595</td>\n",
       "    </tr>\n",
       "    <tr>\n",
       "      <th>min</th>\n",
       "      <td>-27.689000</td>\n",
       "      <td>-42.469000</td>\n",
       "      <td>-46.622000</td>\n",
       "    </tr>\n",
       "    <tr>\n",
       "      <th>25%</th>\n",
       "      <td>5.898000</td>\n",
       "      <td>-3.396250</td>\n",
       "      <td>-0.749750</td>\n",
       "    </tr>\n",
       "    <tr>\n",
       "      <th>50%</th>\n",
       "      <td>16.550000</td>\n",
       "      <td>16.027500</td>\n",
       "      <td>26.507500</td>\n",
       "    </tr>\n",
       "    <tr>\n",
       "      <th>75%</th>\n",
       "      <td>26.765750</td>\n",
       "      <td>36.098750</td>\n",
       "      <td>54.175000</td>\n",
       "    </tr>\n",
       "    <tr>\n",
       "      <th>max</th>\n",
       "      <td>50.339000</td>\n",
       "      <td>73.768000</td>\n",
       "      <td>94.771000</td>\n",
       "    </tr>\n",
       "  </tbody>\n",
       "</table>\n",
       "</div>"
      ],
      "text/plain": [
       "            Cartn_x       Cartn_y       Cartn_z\n",
       "count  13596.000000  13596.000000  13596.000000\n",
       "mean      15.704882     16.178236     26.556555\n",
       "std       14.558616     24.567342     31.931595\n",
       "min      -27.689000    -42.469000    -46.622000\n",
       "25%        5.898000     -3.396250     -0.749750\n",
       "50%       16.550000     16.027500     26.507500\n",
       "75%       26.765750     36.098750     54.175000\n",
       "max       50.339000     73.768000     94.771000"
      ]
     },
     "execution_count": 47,
     "metadata": {},
     "output_type": "execute_result"
    }
   ],
   "source": [
    "df[['Cartn_x', 'Cartn_y', 'Cartn_z']].describe()"
   ]
  },
  {
   "cell_type": "markdown",
   "metadata": {},
   "source": [
    "#### auth_asym_id"
   ]
  },
  {
   "cell_type": "code",
   "execution_count": 48,
   "metadata": {},
   "outputs": [
    {
     "data": {
      "text/plain": [
       "array(['A', 'B', 'C', 'D', 'E', 'F', 'G', 'H', 'P', 'Q', 'R', 'Y'],\n",
       "      dtype=object)"
      ]
     },
     "execution_count": 48,
     "metadata": {},
     "output_type": "execute_result"
    }
   ],
   "source": [
    "df.auth_asym_id.unique()"
   ]
  },
  {
   "cell_type": "markdown",
   "metadata": {},
   "source": [
    "#### auth_atom_id"
   ]
  },
  {
   "cell_type": "code",
   "execution_count": 49,
   "metadata": {},
   "outputs": [
    {
     "data": {
      "text/plain": [
       "array(['N', 'CA', 'C', 'O', 'CB', 'OG', 'CG', 'ND1', 'CD2', 'CE1', 'NE2',\n",
       "       'CD1', 'CD', 'CE', 'NZ', 'CE2', 'CZ', 'OH', 'OG1', 'CG2', 'CG1',\n",
       "       'NE', 'NH1', 'NH2', 'OE1', 'OE2', 'OD1', 'OD2', 'ND2', 'SD', 'NE1',\n",
       "       'CE3', 'CZ2', 'CZ3', 'CH2', 'SG', 'OXT', 'S', 'O1', 'O2', 'O3',\n",
       "       'O4', 'ZN'], dtype=object)"
      ]
     },
     "execution_count": 49,
     "metadata": {},
     "output_type": "execute_result"
    }
   ],
   "source": [
    "df.auth_atom_id.unique()"
   ]
  },
  {
   "cell_type": "markdown",
   "metadata": {},
   "source": [
    "#### auth_comp_id"
   ]
  },
  {
   "cell_type": "code",
   "execution_count": 50,
   "metadata": {},
   "outputs": [
    {
     "data": {
      "text/plain": [
       "array(['GLY', 'SER', 'HIS', 'LEU', 'LYS', 'TYR', 'PHE', 'THR', 'VAL',\n",
       "       'ARG', 'PRO', 'GLU', 'ILE', 'ASP', 'GLN', 'ASN', 'ALA', 'MET',\n",
       "       'TRP', 'CYS', 'SO4', 'ZN', 'HOH'], dtype=object)"
      ]
     },
     "execution_count": 50,
     "metadata": {},
     "output_type": "execute_result"
    }
   ],
   "source": [
    "df.auth_comp_id.unique()"
   ]
  },
  {
   "cell_type": "code",
   "execution_count": 51,
   "metadata": {},
   "outputs": [
    {
     "data": {
      "text/plain": [
       "23"
      ]
     },
     "execution_count": 51,
     "metadata": {},
     "output_type": "execute_result"
    }
   ],
   "source": [
    "len(df.auth_comp_id.unique())"
   ]
  },
  {
   "cell_type": "markdown",
   "metadata": {},
   "source": [
    "#### auth_seq_id"
   ]
  },
  {
   "cell_type": "code",
   "execution_count": 52,
   "metadata": {},
   "outputs": [
    {
     "data": {
      "text/plain": [
       "count    13596.000000\n",
       "mean       133.917770\n",
       "std        113.619747\n",
       "min          1.000000\n",
       "25%         49.000000\n",
       "50%         99.000000\n",
       "75%        201.000000\n",
       "max        580.000000\n",
       "Name: auth_seq_id, dtype: float64"
      ]
     },
     "execution_count": 52,
     "metadata": {},
     "output_type": "execute_result"
    }
   ],
   "source": [
    "df.auth_seq_id.describe()"
   ]
  },
  {
   "cell_type": "code",
   "execution_count": 53,
   "metadata": {},
   "outputs": [
    {
     "data": {
      "text/plain": [
       "13591    101\n",
       "13592    102\n",
       "13593    103\n",
       "13594    104\n",
       "13595    105\n",
       "Name: auth_seq_id, dtype: int64"
      ]
     },
     "execution_count": 53,
     "metadata": {},
     "output_type": "execute_result"
    }
   ],
   "source": [
    "df.auth_seq_id.tail()"
   ]
  },
  {
   "cell_type": "markdown",
   "metadata": {},
   "source": [
    "#### group_PDB"
   ]
  },
  {
   "cell_type": "code",
   "execution_count": 54,
   "metadata": {},
   "outputs": [
    {
     "data": {
      "text/plain": [
       "array(['ATOM', 'HETATM'], dtype=object)"
      ]
     },
     "execution_count": 54,
     "metadata": {},
     "output_type": "execute_result"
    }
   ],
   "source": [
    "df.group_PDB.unique()"
   ]
  },
  {
   "cell_type": "markdown",
   "metadata": {},
   "source": [
    "#### label_asym_id"
   ]
  },
  {
   "cell_type": "code",
   "execution_count": 55,
   "metadata": {},
   "outputs": [
    {
     "data": {
      "text/plain": [
       "array(['A', 'B', 'C', 'D', 'E', 'F', 'G', 'H', 'I', 'J', 'K', 'L', 'M',\n",
       "       'N', 'O', 'P', 'Q', 'R', 'S', 'T', 'U', 'V', 'W', 'X', 'Y', 'Z',\n",
       "       'AA', 'BA', 'CA', 'DA', 'EA', 'FA'], dtype=object)"
      ]
     },
     "execution_count": 55,
     "metadata": {},
     "output_type": "execute_result"
    }
   ],
   "source": [
    "df.label_asym_id.unique()"
   ]
  },
  {
   "cell_type": "code",
   "execution_count": 56,
   "metadata": {},
   "outputs": [
    {
     "name": "stdout",
     "output_type": "stream",
     "text": [
      "['A' 'B' 'C' 'D' 'E' 'F' 'G' 'H' 'P' 'Q' 'R' 'Y']\n",
      "['A' 'B' 'C' 'D' 'E' 'F' 'G' 'H' 'I' 'J' 'K' 'L' 'M' 'N' 'O' 'P' 'Q' 'R'\n",
      " 'S' 'T' 'U' 'V' 'W' 'X' 'Y' 'Z' 'AA' 'BA' 'CA' 'DA' 'EA' 'FA']\n",
      "\n",
      "12\n",
      "32\n"
     ]
    }
   ],
   "source": [
    "print(df.auth_asym_id.unique())\n",
    "print(df.label_asym_id.unique())\n",
    "print()\n",
    "print(len(df.auth_asym_id.unique()))\n",
    "print(len(df.label_asym_id.unique()))"
   ]
  },
  {
   "cell_type": "markdown",
   "metadata": {},
   "source": [
    "#### label_atom_id"
   ]
  },
  {
   "cell_type": "code",
   "execution_count": 57,
   "metadata": {},
   "outputs": [
    {
     "data": {
      "text/plain": [
       "array(['N', 'CA', 'C', 'O', 'CB', 'OG', 'CG', 'ND1', 'CD2', 'CE1', 'NE2',\n",
       "       'CD1', 'CD', 'CE', 'NZ', 'CE2', 'CZ', 'OH', 'OG1', 'CG2', 'CG1',\n",
       "       'NE', 'NH1', 'NH2', 'OE1', 'OE2', 'OD1', 'OD2', 'ND2', 'SD', 'NE1',\n",
       "       'CE3', 'CZ2', 'CZ3', 'CH2', 'SG', 'OXT', 'S', 'O1', 'O2', 'O3',\n",
       "       'O4', 'ZN'], dtype=object)"
      ]
     },
     "execution_count": 57,
     "metadata": {},
     "output_type": "execute_result"
    }
   ],
   "source": [
    "df.label_atom_id.unique()"
   ]
  },
  {
   "cell_type": "code",
   "execution_count": 58,
   "metadata": {},
   "outputs": [
    {
     "name": "stdout",
     "output_type": "stream",
     "text": [
      "['N' 'CA' 'C' 'O' 'CB' 'OG' 'CG' 'ND1' 'CD2' 'CE1' 'NE2' 'CD1' 'CD' 'CE'\n",
      " 'NZ' 'CE2' 'CZ' 'OH' 'OG1' 'CG2' 'CG1' 'NE' 'NH1' 'NH2' 'OE1' 'OE2' 'OD1'\n",
      " 'OD2' 'ND2' 'SD' 'NE1' 'CE3' 'CZ2' 'CZ3' 'CH2' 'SG' 'OXT' 'S' 'O1' 'O2'\n",
      " 'O3' 'O4' 'ZN']\n",
      "['N' 'CA' 'C' 'O' 'CB' 'OG' 'CG' 'ND1' 'CD2' 'CE1' 'NE2' 'CD1' 'CD' 'CE'\n",
      " 'NZ' 'CE2' 'CZ' 'OH' 'OG1' 'CG2' 'CG1' 'NE' 'NH1' 'NH2' 'OE1' 'OE2' 'OD1'\n",
      " 'OD2' 'ND2' 'SD' 'NE1' 'CE3' 'CZ2' 'CZ3' 'CH2' 'SG' 'OXT' 'S' 'O1' 'O2'\n",
      " 'O3' 'O4' 'ZN']\n",
      "\n",
      "43\n",
      "43\n"
     ]
    }
   ],
   "source": [
    "print(df.auth_atom_id.unique())\n",
    "print(df.label_atom_id.unique())\n",
    "print()\n",
    "print(len(df.auth_atom_id.unique()))\n",
    "print(len(df.label_atom_id.unique()))"
   ]
  },
  {
   "cell_type": "markdown",
   "metadata": {},
   "source": [
    "#### label_comp_id"
   ]
  },
  {
   "cell_type": "code",
   "execution_count": 59,
   "metadata": {},
   "outputs": [
    {
     "name": "stdout",
     "output_type": "stream",
     "text": [
      "23\n"
     ]
    },
    {
     "data": {
      "text/plain": [
       "array(['GLY', 'SER', 'HIS', 'LEU', 'LYS', 'TYR', 'PHE', 'THR', 'VAL',\n",
       "       'ARG', 'PRO', 'GLU', 'ILE', 'ASP', 'GLN', 'ASN', 'ALA', 'MET',\n",
       "       'TRP', 'CYS', 'SO4', 'ZN', 'HOH'], dtype=object)"
      ]
     },
     "execution_count": 59,
     "metadata": {},
     "output_type": "execute_result"
    }
   ],
   "source": [
    "print(len(df.label_comp_id.unique()))\n",
    "df.label_comp_id.unique()"
   ]
  },
  {
   "cell_type": "markdown",
   "metadata": {},
   "source": [
    "#### label_entity_id"
   ]
  },
  {
   "cell_type": "code",
   "execution_count": 60,
   "metadata": {},
   "outputs": [
    {
     "data": {
      "text/plain": [
       "array([1, 2, 3, 4, 5, 6])"
      ]
     },
     "execution_count": 60,
     "metadata": {},
     "output_type": "execute_result"
    }
   ],
   "source": [
    "df.label_entity_id.unique()"
   ]
  },
  {
   "cell_type": "markdown",
   "metadata": {},
   "source": [
    "#### label_seq_id"
   ]
  },
  {
   "cell_type": "code",
   "execution_count": 61,
   "metadata": {},
   "outputs": [
    {
     "data": {
      "text/plain": [
       "array(['1', '2', '3', '4', '5', '6', '7', '8', '9', '10', '11', '12',\n",
       "       '13', '14', '15', '16', '17', '18', '19', '20', '21', '22', '23',\n",
       "       '24', '25', '26', '27', '28', '29', '30', '31', '32', '33', '34',\n",
       "       '35', '36', '37', '38', '39', '40', '41', '42', '43', '44', '45',\n",
       "       '46', '47', '48', '49', '50', '51', '52', '53', '54', '55', '56',\n",
       "       '57', '58', '59', '60', '61', '62', '63', '64', '65', '66', '67',\n",
       "       '68', '69', '70', '71', '72', '73', '74', '75', '76', '77', '78',\n",
       "       '79', '80', '81', '82', '83', '84', '85', '86', '87', '88', '89',\n",
       "       '90', '91', '92', '93', '94', '95', '96', '97', '98', '99', '100',\n",
       "       '101', '102', '103', '104', '105', '106', '107', '108', '109',\n",
       "       '110', '111', '112', '113', '114', '115', '116', '117', '118',\n",
       "       '119', '120', '121', '122', '123', '124', '125', '126', '127',\n",
       "       '128', '129', '130', '131', '132', '133', '134', '135', '136',\n",
       "       '137', '138', '139', '140', '141', '142', '143', '144', '145',\n",
       "       '146', '147', '148', '149', '150', '151', '152', '153', '154',\n",
       "       '155', '156', '157', '158', '159', '160', '161', '162', '163',\n",
       "       '164', '165', '166', '167', '168', '169', '170', '171', '172',\n",
       "       '173', '174', '175', '176', '177', '178', '179', '180', '181',\n",
       "       '182', '183', '184', '185', '186', '187', '188', '189', '190',\n",
       "       '191', '192', '193', '194', '195', '196', '197', '198', '199',\n",
       "       '200', '201', '202', '203', '204', '205', '206', '207', '208',\n",
       "       '209', '210', '211', '212', '213', '214', '215', '216', '217',\n",
       "       '218', '219', '220', '221', '222', '223', '224', '225', '226',\n",
       "       '227', '228', '229', '230', '231', '232', '233', '234', '235',\n",
       "       '236', '237', '238', '239', '240', '241', '242', '243', '244',\n",
       "       '245', '246', '247', '248', '249', '250', '251', '252', '253',\n",
       "       '254', '255', '256', '257', '258', '259', '260', '261', '262',\n",
       "       '263', '264', '265', '266', '267', '268', '269', '270', '271',\n",
       "       '272', '273', '274', None], dtype=object)"
      ]
     },
     "execution_count": 61,
     "metadata": {},
     "output_type": "execute_result"
    }
   ],
   "source": [
    "df.label_seq_id.unique()"
   ]
  },
  {
   "cell_type": "code",
   "execution_count": 62,
   "metadata": {},
   "outputs": [
    {
     "data": {
      "text/html": [
       "<div>\n",
       "<style scoped>\n",
       "    .dataframe tbody tr th:only-of-type {\n",
       "        vertical-align: middle;\n",
       "    }\n",
       "\n",
       "    .dataframe tbody tr th {\n",
       "        vertical-align: top;\n",
       "    }\n",
       "\n",
       "    .dataframe thead th {\n",
       "        text-align: right;\n",
       "    }\n",
       "</style>\n",
       "<table border=\"1\" class=\"dataframe\">\n",
       "  <thead>\n",
       "    <tr style=\"text-align: right;\">\n",
       "      <th></th>\n",
       "      <th>atom_id</th>\n",
       "      <th>B_iso_or_equiv</th>\n",
       "      <th>Cartn_x</th>\n",
       "      <th>Cartn_y</th>\n",
       "      <th>Cartn_z</th>\n",
       "      <th>auth_asym_id</th>\n",
       "      <th>auth_atom_id</th>\n",
       "      <th>auth_comp_id</th>\n",
       "      <th>auth_seq_id</th>\n",
       "      <th>group_PDB</th>\n",
       "      <th>label_asym_id</th>\n",
       "      <th>label_atom_id</th>\n",
       "      <th>label_comp_id</th>\n",
       "      <th>label_entity_id</th>\n",
       "      <th>label_seq_id</th>\n",
       "      <th>occupancy</th>\n",
       "      <th>pdbx_PDB_model_num</th>\n",
       "      <th>type_symbol</th>\n",
       "    </tr>\n",
       "  </thead>\n",
       "  <tbody>\n",
       "    <tr>\n",
       "      <th>12544</th>\n",
       "      <td>12545</td>\n",
       "      <td>71.27</td>\n",
       "      <td>-14.874</td>\n",
       "      <td>1.300</td>\n",
       "      <td>-13.377</td>\n",
       "      <td>A</td>\n",
       "      <td>S</td>\n",
       "      <td>SO4</td>\n",
       "      <td>301</td>\n",
       "      <td>HETATM</td>\n",
       "      <td>M</td>\n",
       "      <td>S</td>\n",
       "      <td>SO4</td>\n",
       "      <td>4</td>\n",
       "      <td>None</td>\n",
       "      <td>1.0</td>\n",
       "      <td>1</td>\n",
       "      <td>S</td>\n",
       "    </tr>\n",
       "    <tr>\n",
       "      <th>12545</th>\n",
       "      <td>12546</td>\n",
       "      <td>69.78</td>\n",
       "      <td>-14.089</td>\n",
       "      <td>1.170</td>\n",
       "      <td>-14.601</td>\n",
       "      <td>A</td>\n",
       "      <td>O1</td>\n",
       "      <td>SO4</td>\n",
       "      <td>301</td>\n",
       "      <td>HETATM</td>\n",
       "      <td>M</td>\n",
       "      <td>O1</td>\n",
       "      <td>SO4</td>\n",
       "      <td>4</td>\n",
       "      <td>None</td>\n",
       "      <td>1.0</td>\n",
       "      <td>1</td>\n",
       "      <td>O</td>\n",
       "    </tr>\n",
       "    <tr>\n",
       "      <th>12546</th>\n",
       "      <td>12547</td>\n",
       "      <td>71.71</td>\n",
       "      <td>-16.280</td>\n",
       "      <td>1.044</td>\n",
       "      <td>-13.674</td>\n",
       "      <td>A</td>\n",
       "      <td>O2</td>\n",
       "      <td>SO4</td>\n",
       "      <td>301</td>\n",
       "      <td>HETATM</td>\n",
       "      <td>M</td>\n",
       "      <td>O2</td>\n",
       "      <td>SO4</td>\n",
       "      <td>4</td>\n",
       "      <td>None</td>\n",
       "      <td>1.0</td>\n",
       "      <td>1</td>\n",
       "      <td>O</td>\n",
       "    </tr>\n",
       "    <tr>\n",
       "      <th>12547</th>\n",
       "      <td>12548</td>\n",
       "      <td>70.64</td>\n",
       "      <td>-14.402</td>\n",
       "      <td>0.335</td>\n",
       "      <td>-12.389</td>\n",
       "      <td>A</td>\n",
       "      <td>O3</td>\n",
       "      <td>SO4</td>\n",
       "      <td>301</td>\n",
       "      <td>HETATM</td>\n",
       "      <td>M</td>\n",
       "      <td>O3</td>\n",
       "      <td>SO4</td>\n",
       "      <td>4</td>\n",
       "      <td>None</td>\n",
       "      <td>1.0</td>\n",
       "      <td>1</td>\n",
       "      <td>O</td>\n",
       "    </tr>\n",
       "    <tr>\n",
       "      <th>12548</th>\n",
       "      <td>12549</td>\n",
       "      <td>73.09</td>\n",
       "      <td>-14.729</td>\n",
       "      <td>2.651</td>\n",
       "      <td>-12.844</td>\n",
       "      <td>A</td>\n",
       "      <td>O4</td>\n",
       "      <td>SO4</td>\n",
       "      <td>301</td>\n",
       "      <td>HETATM</td>\n",
       "      <td>M</td>\n",
       "      <td>O4</td>\n",
       "      <td>SO4</td>\n",
       "      <td>4</td>\n",
       "      <td>None</td>\n",
       "      <td>1.0</td>\n",
       "      <td>1</td>\n",
       "      <td>O</td>\n",
       "    </tr>\n",
       "    <tr>\n",
       "      <th>...</th>\n",
       "      <td>...</td>\n",
       "      <td>...</td>\n",
       "      <td>...</td>\n",
       "      <td>...</td>\n",
       "      <td>...</td>\n",
       "      <td>...</td>\n",
       "      <td>...</td>\n",
       "      <td>...</td>\n",
       "      <td>...</td>\n",
       "      <td>...</td>\n",
       "      <td>...</td>\n",
       "      <td>...</td>\n",
       "      <td>...</td>\n",
       "      <td>...</td>\n",
       "      <td>...</td>\n",
       "      <td>...</td>\n",
       "      <td>...</td>\n",
       "      <td>...</td>\n",
       "    </tr>\n",
       "    <tr>\n",
       "      <th>13591</th>\n",
       "      <td>13592</td>\n",
       "      <td>21.53</td>\n",
       "      <td>13.766</td>\n",
       "      <td>59.528</td>\n",
       "      <td>20.223</td>\n",
       "      <td>Y</td>\n",
       "      <td>O</td>\n",
       "      <td>HOH</td>\n",
       "      <td>101</td>\n",
       "      <td>HETATM</td>\n",
       "      <td>FA</td>\n",
       "      <td>O</td>\n",
       "      <td>HOH</td>\n",
       "      <td>6</td>\n",
       "      <td>None</td>\n",
       "      <td>1.0</td>\n",
       "      <td>1</td>\n",
       "      <td>O</td>\n",
       "    </tr>\n",
       "    <tr>\n",
       "      <th>13592</th>\n",
       "      <td>13593</td>\n",
       "      <td>32.08</td>\n",
       "      <td>30.576</td>\n",
       "      <td>48.734</td>\n",
       "      <td>18.644</td>\n",
       "      <td>Y</td>\n",
       "      <td>O</td>\n",
       "      <td>HOH</td>\n",
       "      <td>102</td>\n",
       "      <td>HETATM</td>\n",
       "      <td>FA</td>\n",
       "      <td>O</td>\n",
       "      <td>HOH</td>\n",
       "      <td>6</td>\n",
       "      <td>None</td>\n",
       "      <td>1.0</td>\n",
       "      <td>1</td>\n",
       "      <td>O</td>\n",
       "    </tr>\n",
       "    <tr>\n",
       "      <th>13593</th>\n",
       "      <td>13594</td>\n",
       "      <td>43.95</td>\n",
       "      <td>21.013</td>\n",
       "      <td>61.812</td>\n",
       "      <td>18.349</td>\n",
       "      <td>Y</td>\n",
       "      <td>O</td>\n",
       "      <td>HOH</td>\n",
       "      <td>103</td>\n",
       "      <td>HETATM</td>\n",
       "      <td>FA</td>\n",
       "      <td>O</td>\n",
       "      <td>HOH</td>\n",
       "      <td>6</td>\n",
       "      <td>None</td>\n",
       "      <td>1.0</td>\n",
       "      <td>1</td>\n",
       "      <td>O</td>\n",
       "    </tr>\n",
       "    <tr>\n",
       "      <th>13594</th>\n",
       "      <td>13595</td>\n",
       "      <td>22.49</td>\n",
       "      <td>27.972</td>\n",
       "      <td>53.375</td>\n",
       "      <td>19.586</td>\n",
       "      <td>Y</td>\n",
       "      <td>O</td>\n",
       "      <td>HOH</td>\n",
       "      <td>104</td>\n",
       "      <td>HETATM</td>\n",
       "      <td>FA</td>\n",
       "      <td>O</td>\n",
       "      <td>HOH</td>\n",
       "      <td>6</td>\n",
       "      <td>None</td>\n",
       "      <td>1.0</td>\n",
       "      <td>1</td>\n",
       "      <td>O</td>\n",
       "    </tr>\n",
       "    <tr>\n",
       "      <th>13595</th>\n",
       "      <td>13596</td>\n",
       "      <td>28.45</td>\n",
       "      <td>30.460</td>\n",
       "      <td>52.200</td>\n",
       "      <td>19.426</td>\n",
       "      <td>Y</td>\n",
       "      <td>O</td>\n",
       "      <td>HOH</td>\n",
       "      <td>105</td>\n",
       "      <td>HETATM</td>\n",
       "      <td>FA</td>\n",
       "      <td>O</td>\n",
       "      <td>HOH</td>\n",
       "      <td>6</td>\n",
       "      <td>None</td>\n",
       "      <td>1.0</td>\n",
       "      <td>1</td>\n",
       "      <td>O</td>\n",
       "    </tr>\n",
       "  </tbody>\n",
       "</table>\n",
       "<p>1052 rows × 18 columns</p>\n",
       "</div>"
      ],
      "text/plain": [
       "       atom_id  B_iso_or_equiv  Cartn_x  Cartn_y  Cartn_z auth_asym_id  \\\n",
       "12544    12545           71.27  -14.874    1.300  -13.377            A   \n",
       "12545    12546           69.78  -14.089    1.170  -14.601            A   \n",
       "12546    12547           71.71  -16.280    1.044  -13.674            A   \n",
       "12547    12548           70.64  -14.402    0.335  -12.389            A   \n",
       "12548    12549           73.09  -14.729    2.651  -12.844            A   \n",
       "...        ...             ...      ...      ...      ...          ...   \n",
       "13591    13592           21.53   13.766   59.528   20.223            Y   \n",
       "13592    13593           32.08   30.576   48.734   18.644            Y   \n",
       "13593    13594           43.95   21.013   61.812   18.349            Y   \n",
       "13594    13595           22.49   27.972   53.375   19.586            Y   \n",
       "13595    13596           28.45   30.460   52.200   19.426            Y   \n",
       "\n",
       "      auth_atom_id auth_comp_id  auth_seq_id group_PDB label_asym_id  \\\n",
       "12544            S          SO4          301    HETATM             M   \n",
       "12545           O1          SO4          301    HETATM             M   \n",
       "12546           O2          SO4          301    HETATM             M   \n",
       "12547           O3          SO4          301    HETATM             M   \n",
       "12548           O4          SO4          301    HETATM             M   \n",
       "...            ...          ...          ...       ...           ...   \n",
       "13591            O          HOH          101    HETATM            FA   \n",
       "13592            O          HOH          102    HETATM            FA   \n",
       "13593            O          HOH          103    HETATM            FA   \n",
       "13594            O          HOH          104    HETATM            FA   \n",
       "13595            O          HOH          105    HETATM            FA   \n",
       "\n",
       "      label_atom_id label_comp_id  label_entity_id label_seq_id  occupancy  \\\n",
       "12544             S           SO4                4         None        1.0   \n",
       "12545            O1           SO4                4         None        1.0   \n",
       "12546            O2           SO4                4         None        1.0   \n",
       "12547            O3           SO4                4         None        1.0   \n",
       "12548            O4           SO4                4         None        1.0   \n",
       "...             ...           ...              ...          ...        ...   \n",
       "13591             O           HOH                6         None        1.0   \n",
       "13592             O           HOH                6         None        1.0   \n",
       "13593             O           HOH                6         None        1.0   \n",
       "13594             O           HOH                6         None        1.0   \n",
       "13595             O           HOH                6         None        1.0   \n",
       "\n",
       "       pdbx_PDB_model_num type_symbol  \n",
       "12544                   1           S  \n",
       "12545                   1           O  \n",
       "12546                   1           O  \n",
       "12547                   1           O  \n",
       "12548                   1           O  \n",
       "...                   ...         ...  \n",
       "13591                   1           O  \n",
       "13592                   1           O  \n",
       "13593                   1           O  \n",
       "13594                   1           O  \n",
       "13595                   1           O  \n",
       "\n",
       "[1052 rows x 18 columns]"
      ]
     },
     "execution_count": 62,
     "metadata": {},
     "output_type": "execute_result"
    }
   ],
   "source": [
    "df[df['label_seq_id'].isna()]"
   ]
  },
  {
   "cell_type": "code",
   "execution_count": 63,
   "metadata": {},
   "outputs": [
    {
     "data": {
      "text/plain": [
       "array(['HETATM'], dtype=object)"
      ]
     },
     "execution_count": 63,
     "metadata": {},
     "output_type": "execute_result"
    }
   ],
   "source": [
    "df[df['label_seq_id'].isna()]['group_PDB'].unique()"
   ]
  },
  {
   "cell_type": "markdown",
   "metadata": {},
   "source": [
    "#### occupancy"
   ]
  },
  {
   "cell_type": "code",
   "execution_count": 64,
   "metadata": {},
   "outputs": [
    {
     "data": {
      "text/plain": [
       "array([1.])"
      ]
     },
     "execution_count": 64,
     "metadata": {},
     "output_type": "execute_result"
    }
   ],
   "source": [
    "df.occupancy.unique()"
   ]
  },
  {
   "cell_type": "code",
   "execution_count": 65,
   "metadata": {},
   "outputs": [
    {
     "data": {
      "text/plain": [
       "occupancy\n",
       "1.0    13596\n",
       "Name: count, dtype: int64"
      ]
     },
     "execution_count": 65,
     "metadata": {},
     "output_type": "execute_result"
    }
   ],
   "source": [
    "df.occupancy.value_counts()"
   ]
  },
  {
   "cell_type": "markdown",
   "metadata": {},
   "source": [
    "#### pdbx_PDB_model_num"
   ]
  },
  {
   "cell_type": "code",
   "execution_count": 66,
   "metadata": {},
   "outputs": [
    {
     "data": {
      "text/plain": [
       "array([1])"
      ]
     },
     "execution_count": 66,
     "metadata": {},
     "output_type": "execute_result"
    }
   ],
   "source": [
    "df.pdbx_PDB_model_num.unique()"
   ]
  },
  {
   "cell_type": "code",
   "execution_count": 67,
   "metadata": {},
   "outputs": [
    {
     "data": {
      "text/plain": [
       "pdbx_PDB_model_num\n",
       "1    13596\n",
       "Name: count, dtype: int64"
      ]
     },
     "execution_count": 67,
     "metadata": {},
     "output_type": "execute_result"
    }
   ],
   "source": [
    "df.pdbx_PDB_model_num.value_counts()"
   ]
  },
  {
   "cell_type": "markdown",
   "metadata": {},
   "source": [
    "#### type_symbol"
   ]
  },
  {
   "cell_type": "code",
   "execution_count": 68,
   "metadata": {},
   "outputs": [
    {
     "data": {
      "text/plain": [
       "array(['N', 'C', 'O', 'S', 'ZN'], dtype=object)"
      ]
     },
     "execution_count": 68,
     "metadata": {},
     "output_type": "execute_result"
    }
   ],
   "source": [
    "df.type_symbol.unique()"
   ]
  },
  {
   "cell_type": "markdown",
   "metadata": {},
   "source": [
    "# 전처리"
   ]
  },
  {
   "cell_type": "markdown",
   "metadata": {},
   "source": [
    "### 원소와 용매 분리\n",
    "- group_PDB의 ATOM만 사용\n",
    "- group_PDB의 HETATM는 용매"
   ]
  },
  {
   "cell_type": "code",
   "execution_count": 69,
   "metadata": {},
   "outputs": [
    {
     "data": {
      "text/html": [
       "<div>\n",
       "<style scoped>\n",
       "    .dataframe tbody tr th:only-of-type {\n",
       "        vertical-align: middle;\n",
       "    }\n",
       "\n",
       "    .dataframe tbody tr th {\n",
       "        vertical-align: top;\n",
       "    }\n",
       "\n",
       "    .dataframe thead th {\n",
       "        text-align: right;\n",
       "    }\n",
       "</style>\n",
       "<table border=\"1\" class=\"dataframe\">\n",
       "  <thead>\n",
       "    <tr style=\"text-align: right;\">\n",
       "      <th></th>\n",
       "      <th>atom_id</th>\n",
       "      <th>B_iso_or_equiv</th>\n",
       "      <th>Cartn_x</th>\n",
       "      <th>Cartn_y</th>\n",
       "      <th>Cartn_z</th>\n",
       "      <th>auth_asym_id</th>\n",
       "      <th>auth_atom_id</th>\n",
       "      <th>auth_comp_id</th>\n",
       "      <th>auth_seq_id</th>\n",
       "      <th>group_PDB</th>\n",
       "      <th>label_asym_id</th>\n",
       "      <th>label_atom_id</th>\n",
       "      <th>label_comp_id</th>\n",
       "      <th>label_entity_id</th>\n",
       "      <th>label_seq_id</th>\n",
       "      <th>occupancy</th>\n",
       "      <th>pdbx_PDB_model_num</th>\n",
       "      <th>type_symbol</th>\n",
       "    </tr>\n",
       "  </thead>\n",
       "  <tbody>\n",
       "    <tr>\n",
       "      <th>0</th>\n",
       "      <td>1</td>\n",
       "      <td>43.83</td>\n",
       "      <td>21.937</td>\n",
       "      <td>-1.432</td>\n",
       "      <td>2.010</td>\n",
       "      <td>A</td>\n",
       "      <td>N</td>\n",
       "      <td>GLY</td>\n",
       "      <td>1</td>\n",
       "      <td>ATOM</td>\n",
       "      <td>A</td>\n",
       "      <td>N</td>\n",
       "      <td>GLY</td>\n",
       "      <td>1</td>\n",
       "      <td>1</td>\n",
       "      <td>1.0</td>\n",
       "      <td>1</td>\n",
       "      <td>N</td>\n",
       "    </tr>\n",
       "    <tr>\n",
       "      <th>1</th>\n",
       "      <td>2</td>\n",
       "      <td>42.56</td>\n",
       "      <td>20.889</td>\n",
       "      <td>-2.346</td>\n",
       "      <td>2.424</td>\n",
       "      <td>A</td>\n",
       "      <td>CA</td>\n",
       "      <td>GLY</td>\n",
       "      <td>1</td>\n",
       "      <td>ATOM</td>\n",
       "      <td>A</td>\n",
       "      <td>CA</td>\n",
       "      <td>GLY</td>\n",
       "      <td>1</td>\n",
       "      <td>1</td>\n",
       "      <td>1.0</td>\n",
       "      <td>1</td>\n",
       "      <td>C</td>\n",
       "    </tr>\n",
       "    <tr>\n",
       "      <th>2</th>\n",
       "      <td>3</td>\n",
       "      <td>37.44</td>\n",
       "      <td>20.228</td>\n",
       "      <td>-3.048</td>\n",
       "      <td>1.255</td>\n",
       "      <td>A</td>\n",
       "      <td>C</td>\n",
       "      <td>GLY</td>\n",
       "      <td>1</td>\n",
       "      <td>ATOM</td>\n",
       "      <td>A</td>\n",
       "      <td>C</td>\n",
       "      <td>GLY</td>\n",
       "      <td>1</td>\n",
       "      <td>1</td>\n",
       "      <td>1.0</td>\n",
       "      <td>1</td>\n",
       "      <td>C</td>\n",
       "    </tr>\n",
       "    <tr>\n",
       "      <th>3</th>\n",
       "      <td>4</td>\n",
       "      <td>36.22</td>\n",
       "      <td>20.665</td>\n",
       "      <td>-2.909</td>\n",
       "      <td>0.113</td>\n",
       "      <td>A</td>\n",
       "      <td>O</td>\n",
       "      <td>GLY</td>\n",
       "      <td>1</td>\n",
       "      <td>ATOM</td>\n",
       "      <td>A</td>\n",
       "      <td>O</td>\n",
       "      <td>GLY</td>\n",
       "      <td>1</td>\n",
       "      <td>1</td>\n",
       "      <td>1.0</td>\n",
       "      <td>1</td>\n",
       "      <td>O</td>\n",
       "    </tr>\n",
       "    <tr>\n",
       "      <th>4</th>\n",
       "      <td>5</td>\n",
       "      <td>34.06</td>\n",
       "      <td>19.171</td>\n",
       "      <td>-3.802</td>\n",
       "      <td>1.541</td>\n",
       "      <td>A</td>\n",
       "      <td>N</td>\n",
       "      <td>SER</td>\n",
       "      <td>2</td>\n",
       "      <td>ATOM</td>\n",
       "      <td>A</td>\n",
       "      <td>N</td>\n",
       "      <td>SER</td>\n",
       "      <td>1</td>\n",
       "      <td>2</td>\n",
       "      <td>1.0</td>\n",
       "      <td>1</td>\n",
       "      <td>N</td>\n",
       "    </tr>\n",
       "    <tr>\n",
       "      <th>...</th>\n",
       "      <td>...</td>\n",
       "      <td>...</td>\n",
       "      <td>...</td>\n",
       "      <td>...</td>\n",
       "      <td>...</td>\n",
       "      <td>...</td>\n",
       "      <td>...</td>\n",
       "      <td>...</td>\n",
       "      <td>...</td>\n",
       "      <td>...</td>\n",
       "      <td>...</td>\n",
       "      <td>...</td>\n",
       "      <td>...</td>\n",
       "      <td>...</td>\n",
       "      <td>...</td>\n",
       "      <td>...</td>\n",
       "      <td>...</td>\n",
       "      <td>...</td>\n",
       "    </tr>\n",
       "    <tr>\n",
       "      <th>12539</th>\n",
       "      <td>12540</td>\n",
       "      <td>23.11</td>\n",
       "      <td>15.392</td>\n",
       "      <td>60.250</td>\n",
       "      <td>15.920</td>\n",
       "      <td>Y</td>\n",
       "      <td>CB</td>\n",
       "      <td>LEU</td>\n",
       "      <td>9</td>\n",
       "      <td>ATOM</td>\n",
       "      <td>L</td>\n",
       "      <td>CB</td>\n",
       "      <td>LEU</td>\n",
       "      <td>3</td>\n",
       "      <td>9</td>\n",
       "      <td>1.0</td>\n",
       "      <td>1</td>\n",
       "      <td>C</td>\n",
       "    </tr>\n",
       "    <tr>\n",
       "      <th>12540</th>\n",
       "      <td>12541</td>\n",
       "      <td>21.33</td>\n",
       "      <td>16.289</td>\n",
       "      <td>59.308</td>\n",
       "      <td>15.113</td>\n",
       "      <td>Y</td>\n",
       "      <td>CG</td>\n",
       "      <td>LEU</td>\n",
       "      <td>9</td>\n",
       "      <td>ATOM</td>\n",
       "      <td>L</td>\n",
       "      <td>CG</td>\n",
       "      <td>LEU</td>\n",
       "      <td>3</td>\n",
       "      <td>9</td>\n",
       "      <td>1.0</td>\n",
       "      <td>1</td>\n",
       "      <td>C</td>\n",
       "    </tr>\n",
       "    <tr>\n",
       "      <th>12541</th>\n",
       "      <td>12542</td>\n",
       "      <td>23.16</td>\n",
       "      <td>15.471</td>\n",
       "      <td>58.511</td>\n",
       "      <td>14.108</td>\n",
       "      <td>Y</td>\n",
       "      <td>CD1</td>\n",
       "      <td>LEU</td>\n",
       "      <td>9</td>\n",
       "      <td>ATOM</td>\n",
       "      <td>L</td>\n",
       "      <td>CD1</td>\n",
       "      <td>LEU</td>\n",
       "      <td>3</td>\n",
       "      <td>9</td>\n",
       "      <td>1.0</td>\n",
       "      <td>1</td>\n",
       "      <td>C</td>\n",
       "    </tr>\n",
       "    <tr>\n",
       "      <th>12542</th>\n",
       "      <td>12543</td>\n",
       "      <td>19.16</td>\n",
       "      <td>17.386</td>\n",
       "      <td>60.094</td>\n",
       "      <td>14.412</td>\n",
       "      <td>Y</td>\n",
       "      <td>CD2</td>\n",
       "      <td>LEU</td>\n",
       "      <td>9</td>\n",
       "      <td>ATOM</td>\n",
       "      <td>L</td>\n",
       "      <td>CD2</td>\n",
       "      <td>LEU</td>\n",
       "      <td>3</td>\n",
       "      <td>9</td>\n",
       "      <td>1.0</td>\n",
       "      <td>1</td>\n",
       "      <td>C</td>\n",
       "    </tr>\n",
       "    <tr>\n",
       "      <th>12543</th>\n",
       "      <td>12544</td>\n",
       "      <td>23.72</td>\n",
       "      <td>14.572</td>\n",
       "      <td>61.711</td>\n",
       "      <td>18.830</td>\n",
       "      <td>Y</td>\n",
       "      <td>OXT</td>\n",
       "      <td>LEU</td>\n",
       "      <td>9</td>\n",
       "      <td>ATOM</td>\n",
       "      <td>L</td>\n",
       "      <td>OXT</td>\n",
       "      <td>LEU</td>\n",
       "      <td>3</td>\n",
       "      <td>9</td>\n",
       "      <td>1.0</td>\n",
       "      <td>1</td>\n",
       "      <td>O</td>\n",
       "    </tr>\n",
       "  </tbody>\n",
       "</table>\n",
       "<p>12544 rows × 18 columns</p>\n",
       "</div>"
      ],
      "text/plain": [
       "       atom_id  B_iso_or_equiv  Cartn_x  Cartn_y  Cartn_z auth_asym_id  \\\n",
       "0            1           43.83   21.937   -1.432    2.010            A   \n",
       "1            2           42.56   20.889   -2.346    2.424            A   \n",
       "2            3           37.44   20.228   -3.048    1.255            A   \n",
       "3            4           36.22   20.665   -2.909    0.113            A   \n",
       "4            5           34.06   19.171   -3.802    1.541            A   \n",
       "...        ...             ...      ...      ...      ...          ...   \n",
       "12539    12540           23.11   15.392   60.250   15.920            Y   \n",
       "12540    12541           21.33   16.289   59.308   15.113            Y   \n",
       "12541    12542           23.16   15.471   58.511   14.108            Y   \n",
       "12542    12543           19.16   17.386   60.094   14.412            Y   \n",
       "12543    12544           23.72   14.572   61.711   18.830            Y   \n",
       "\n",
       "      auth_atom_id auth_comp_id  auth_seq_id group_PDB label_asym_id  \\\n",
       "0                N          GLY            1      ATOM             A   \n",
       "1               CA          GLY            1      ATOM             A   \n",
       "2                C          GLY            1      ATOM             A   \n",
       "3                O          GLY            1      ATOM             A   \n",
       "4                N          SER            2      ATOM             A   \n",
       "...            ...          ...          ...       ...           ...   \n",
       "12539           CB          LEU            9      ATOM             L   \n",
       "12540           CG          LEU            9      ATOM             L   \n",
       "12541          CD1          LEU            9      ATOM             L   \n",
       "12542          CD2          LEU            9      ATOM             L   \n",
       "12543          OXT          LEU            9      ATOM             L   \n",
       "\n",
       "      label_atom_id label_comp_id  label_entity_id label_seq_id  occupancy  \\\n",
       "0                 N           GLY                1            1        1.0   \n",
       "1                CA           GLY                1            1        1.0   \n",
       "2                 C           GLY                1            1        1.0   \n",
       "3                 O           GLY                1            1        1.0   \n",
       "4                 N           SER                1            2        1.0   \n",
       "...             ...           ...              ...          ...        ...   \n",
       "12539            CB           LEU                3            9        1.0   \n",
       "12540            CG           LEU                3            9        1.0   \n",
       "12541           CD1           LEU                3            9        1.0   \n",
       "12542           CD2           LEU                3            9        1.0   \n",
       "12543           OXT           LEU                3            9        1.0   \n",
       "\n",
       "       pdbx_PDB_model_num type_symbol  \n",
       "0                       1           N  \n",
       "1                       1           C  \n",
       "2                       1           C  \n",
       "3                       1           O  \n",
       "4                       1           N  \n",
       "...                   ...         ...  \n",
       "12539                   1           C  \n",
       "12540                   1           C  \n",
       "12541                   1           C  \n",
       "12542                   1           C  \n",
       "12543                   1           O  \n",
       "\n",
       "[12544 rows x 18 columns]"
      ]
     },
     "execution_count": 69,
     "metadata": {},
     "output_type": "execute_result"
    }
   ],
   "source": [
    "atom_df = df[df['group_PDB'] == 'ATOM']\n",
    "atom_df"
   ]
  },
  {
   "cell_type": "code",
   "execution_count": 85,
   "metadata": {},
   "outputs": [
    {
     "data": {
      "text/plain": [
       "array(['A', 'B', 'C', 'D', 'E', 'F', 'G', 'H', 'P', 'Q', 'R', 'Y'],\n",
       "      dtype=object)"
      ]
     },
     "execution_count": 85,
     "metadata": {},
     "output_type": "execute_result"
    }
   ],
   "source": [
    "atom_df['auth_asym_id'].unique()"
   ]
  },
  {
   "cell_type": "code",
   "execution_count": 86,
   "metadata": {},
   "outputs": [
    {
     "data": {
      "text/plain": [
       "12"
      ]
     },
     "execution_count": 86,
     "metadata": {},
     "output_type": "execute_result"
    }
   ],
   "source": [
    "len(atom_df['auth_asym_id'].unique())"
   ]
  },
  {
   "cell_type": "code",
   "execution_count": 87,
   "metadata": {},
   "outputs": [
    {
     "data": {
      "text/plain": [
       "12"
      ]
     },
     "execution_count": 87,
     "metadata": {},
     "output_type": "execute_result"
    }
   ],
   "source": [
    "atom_df['auth_asym_id'].nunique()"
   ]
  },
  {
   "cell_type": "markdown",
   "metadata": {},
   "source": [
    "### 🔺펩타이드와 단백질 구분\n",
    "- (논의중)같은 auth_asym_id의 샘플 수가 'X'개 이상이면 단백질, 미만이면 펩타이드"
   ]
  },
  {
   "cell_type": "code",
   "execution_count": 70,
   "metadata": {},
   "outputs": [
    {
     "data": {
      "text/html": [
       "<div>\n",
       "<style scoped>\n",
       "    .dataframe tbody tr th:only-of-type {\n",
       "        vertical-align: middle;\n",
       "    }\n",
       "\n",
       "    .dataframe tbody tr th {\n",
       "        vertical-align: top;\n",
       "    }\n",
       "\n",
       "    .dataframe thead th {\n",
       "        text-align: right;\n",
       "    }\n",
       "</style>\n",
       "<table border=\"1\" class=\"dataframe\">\n",
       "  <thead>\n",
       "    <tr style=\"text-align: right;\">\n",
       "      <th></th>\n",
       "      <th>auth_asym_id</th>\n",
       "      <th>auth_seq_id</th>\n",
       "    </tr>\n",
       "  </thead>\n",
       "  <tbody>\n",
       "    <tr>\n",
       "      <th>0</th>\n",
       "      <td>A</td>\n",
       "      <td>274</td>\n",
       "    </tr>\n",
       "    <tr>\n",
       "      <th>1</th>\n",
       "      <td>B</td>\n",
       "      <td>100</td>\n",
       "    </tr>\n",
       "    <tr>\n",
       "      <th>2</th>\n",
       "      <td>C</td>\n",
       "      <td>274</td>\n",
       "    </tr>\n",
       "    <tr>\n",
       "      <th>3</th>\n",
       "      <td>D</td>\n",
       "      <td>100</td>\n",
       "    </tr>\n",
       "    <tr>\n",
       "      <th>4</th>\n",
       "      <td>E</td>\n",
       "      <td>273</td>\n",
       "    </tr>\n",
       "    <tr>\n",
       "      <th>5</th>\n",
       "      <td>F</td>\n",
       "      <td>100</td>\n",
       "    </tr>\n",
       "    <tr>\n",
       "      <th>6</th>\n",
       "      <td>G</td>\n",
       "      <td>274</td>\n",
       "    </tr>\n",
       "    <tr>\n",
       "      <th>7</th>\n",
       "      <td>H</td>\n",
       "      <td>100</td>\n",
       "    </tr>\n",
       "    <tr>\n",
       "      <th>8</th>\n",
       "      <td>P</td>\n",
       "      <td>9</td>\n",
       "    </tr>\n",
       "    <tr>\n",
       "      <th>9</th>\n",
       "      <td>Q</td>\n",
       "      <td>9</td>\n",
       "    </tr>\n",
       "    <tr>\n",
       "      <th>10</th>\n",
       "      <td>R</td>\n",
       "      <td>9</td>\n",
       "    </tr>\n",
       "    <tr>\n",
       "      <th>11</th>\n",
       "      <td>Y</td>\n",
       "      <td>9</td>\n",
       "    </tr>\n",
       "  </tbody>\n",
       "</table>\n",
       "</div>"
      ],
      "text/plain": [
       "   auth_asym_id  auth_seq_id\n",
       "0             A          274\n",
       "1             B          100\n",
       "2             C          274\n",
       "3             D          100\n",
       "4             E          273\n",
       "5             F          100\n",
       "6             G          274\n",
       "7             H          100\n",
       "8             P            9\n",
       "9             Q            9\n",
       "10            R            9\n",
       "11            Y            9"
      ]
     },
     "execution_count": 70,
     "metadata": {},
     "output_type": "execute_result"
    }
   ],
   "source": [
    "eval_df = atom_df.groupby(atom_df['auth_asym_id'], as_index=False).agg({'auth_seq_id':'nunique'})\n",
    "eval_df"
   ]
  },
  {
   "cell_type": "code",
   "execution_count": 71,
   "metadata": {},
   "outputs": [],
   "source": [
    "temp_eval_df = eval_df.copy()"
   ]
  },
  {
   "cell_type": "code",
   "execution_count": 72,
   "metadata": {},
   "outputs": [
    {
     "name": "stdout",
     "output_type": "stream",
     "text": [
      "<class 'pandas.core.frame.DataFrame'>\n",
      "RangeIndex: 12 entries, 0 to 11\n",
      "Data columns (total 2 columns):\n",
      " #   Column        Non-Null Count  Dtype \n",
      "---  ------        --------------  ----- \n",
      " 0   auth_asym_id  12 non-null     object\n",
      " 1   auth_seq_id   12 non-null     int64 \n",
      "dtypes: int64(1), object(1)\n",
      "memory usage: 324.0+ bytes\n"
     ]
    }
   ],
   "source": [
    "temp_eval_df.info()"
   ]
  },
  {
   "cell_type": "code",
   "execution_count": 73,
   "metadata": {},
   "outputs": [],
   "source": [
    "sample_count_threshold = 10\n",
    "temp_eval_df['group'] = temp_eval_df['auth_seq_id'].apply(lambda x: 'protein' if x >= sample_count_threshold else 'peptide')"
   ]
  },
  {
   "cell_type": "code",
   "execution_count": 74,
   "metadata": {},
   "outputs": [
    {
     "data": {
      "text/html": [
       "<div>\n",
       "<style scoped>\n",
       "    .dataframe tbody tr th:only-of-type {\n",
       "        vertical-align: middle;\n",
       "    }\n",
       "\n",
       "    .dataframe tbody tr th {\n",
       "        vertical-align: top;\n",
       "    }\n",
       "\n",
       "    .dataframe thead th {\n",
       "        text-align: right;\n",
       "    }\n",
       "</style>\n",
       "<table border=\"1\" class=\"dataframe\">\n",
       "  <thead>\n",
       "    <tr style=\"text-align: right;\">\n",
       "      <th></th>\n",
       "      <th>auth_asym_id</th>\n",
       "      <th>auth_seq_id</th>\n",
       "      <th>group</th>\n",
       "    </tr>\n",
       "  </thead>\n",
       "  <tbody>\n",
       "    <tr>\n",
       "      <th>0</th>\n",
       "      <td>A</td>\n",
       "      <td>274</td>\n",
       "      <td>protein</td>\n",
       "    </tr>\n",
       "    <tr>\n",
       "      <th>1</th>\n",
       "      <td>B</td>\n",
       "      <td>100</td>\n",
       "      <td>protein</td>\n",
       "    </tr>\n",
       "    <tr>\n",
       "      <th>2</th>\n",
       "      <td>C</td>\n",
       "      <td>274</td>\n",
       "      <td>protein</td>\n",
       "    </tr>\n",
       "    <tr>\n",
       "      <th>3</th>\n",
       "      <td>D</td>\n",
       "      <td>100</td>\n",
       "      <td>protein</td>\n",
       "    </tr>\n",
       "    <tr>\n",
       "      <th>4</th>\n",
       "      <td>E</td>\n",
       "      <td>273</td>\n",
       "      <td>protein</td>\n",
       "    </tr>\n",
       "    <tr>\n",
       "      <th>5</th>\n",
       "      <td>F</td>\n",
       "      <td>100</td>\n",
       "      <td>protein</td>\n",
       "    </tr>\n",
       "    <tr>\n",
       "      <th>6</th>\n",
       "      <td>G</td>\n",
       "      <td>274</td>\n",
       "      <td>protein</td>\n",
       "    </tr>\n",
       "    <tr>\n",
       "      <th>7</th>\n",
       "      <td>H</td>\n",
       "      <td>100</td>\n",
       "      <td>protein</td>\n",
       "    </tr>\n",
       "    <tr>\n",
       "      <th>8</th>\n",
       "      <td>P</td>\n",
       "      <td>9</td>\n",
       "      <td>peptide</td>\n",
       "    </tr>\n",
       "    <tr>\n",
       "      <th>9</th>\n",
       "      <td>Q</td>\n",
       "      <td>9</td>\n",
       "      <td>peptide</td>\n",
       "    </tr>\n",
       "    <tr>\n",
       "      <th>10</th>\n",
       "      <td>R</td>\n",
       "      <td>9</td>\n",
       "      <td>peptide</td>\n",
       "    </tr>\n",
       "    <tr>\n",
       "      <th>11</th>\n",
       "      <td>Y</td>\n",
       "      <td>9</td>\n",
       "      <td>peptide</td>\n",
       "    </tr>\n",
       "  </tbody>\n",
       "</table>\n",
       "</div>"
      ],
      "text/plain": [
       "   auth_asym_id  auth_seq_id    group\n",
       "0             A          274  protein\n",
       "1             B          100  protein\n",
       "2             C          274  protein\n",
       "3             D          100  protein\n",
       "4             E          273  protein\n",
       "5             F          100  protein\n",
       "6             G          274  protein\n",
       "7             H          100  protein\n",
       "8             P            9  peptide\n",
       "9             Q            9  peptide\n",
       "10            R            9  peptide\n",
       "11            Y            9  peptide"
      ]
     },
     "execution_count": 74,
     "metadata": {},
     "output_type": "execute_result"
    }
   ],
   "source": [
    "temp_eval_df"
   ]
  },
  {
   "cell_type": "code",
   "execution_count": 88,
   "metadata": {},
   "outputs": [
    {
     "data": {
      "text/html": [
       "<div>\n",
       "<style scoped>\n",
       "    .dataframe tbody tr th:only-of-type {\n",
       "        vertical-align: middle;\n",
       "    }\n",
       "\n",
       "    .dataframe tbody tr th {\n",
       "        vertical-align: top;\n",
       "    }\n",
       "\n",
       "    .dataframe thead th {\n",
       "        text-align: right;\n",
       "    }\n",
       "</style>\n",
       "<table border=\"1\" class=\"dataframe\">\n",
       "  <thead>\n",
       "    <tr style=\"text-align: right;\">\n",
       "      <th></th>\n",
       "      <th>atom_id</th>\n",
       "      <th>B_iso_or_equiv</th>\n",
       "      <th>Cartn_x</th>\n",
       "      <th>Cartn_y</th>\n",
       "      <th>Cartn_z</th>\n",
       "      <th>auth_asym_id</th>\n",
       "      <th>auth_atom_id</th>\n",
       "      <th>auth_comp_id</th>\n",
       "      <th>auth_seq_id</th>\n",
       "      <th>group_PDB</th>\n",
       "      <th>label_asym_id</th>\n",
       "      <th>label_atom_id</th>\n",
       "      <th>label_comp_id</th>\n",
       "      <th>label_entity_id</th>\n",
       "      <th>label_seq_id</th>\n",
       "      <th>occupancy</th>\n",
       "      <th>pdbx_PDB_model_num</th>\n",
       "      <th>type_symbol</th>\n",
       "      <th>group</th>\n",
       "    </tr>\n",
       "  </thead>\n",
       "  <tbody>\n",
       "    <tr>\n",
       "      <th>0</th>\n",
       "      <td>1</td>\n",
       "      <td>43.83</td>\n",
       "      <td>21.937</td>\n",
       "      <td>-1.432</td>\n",
       "      <td>2.010</td>\n",
       "      <td>A</td>\n",
       "      <td>N</td>\n",
       "      <td>GLY</td>\n",
       "      <td>1</td>\n",
       "      <td>ATOM</td>\n",
       "      <td>A</td>\n",
       "      <td>N</td>\n",
       "      <td>GLY</td>\n",
       "      <td>1</td>\n",
       "      <td>1</td>\n",
       "      <td>1.0</td>\n",
       "      <td>1</td>\n",
       "      <td>N</td>\n",
       "      <td>protein</td>\n",
       "    </tr>\n",
       "    <tr>\n",
       "      <th>1</th>\n",
       "      <td>2</td>\n",
       "      <td>42.56</td>\n",
       "      <td>20.889</td>\n",
       "      <td>-2.346</td>\n",
       "      <td>2.424</td>\n",
       "      <td>A</td>\n",
       "      <td>CA</td>\n",
       "      <td>GLY</td>\n",
       "      <td>1</td>\n",
       "      <td>ATOM</td>\n",
       "      <td>A</td>\n",
       "      <td>CA</td>\n",
       "      <td>GLY</td>\n",
       "      <td>1</td>\n",
       "      <td>1</td>\n",
       "      <td>1.0</td>\n",
       "      <td>1</td>\n",
       "      <td>C</td>\n",
       "      <td>protein</td>\n",
       "    </tr>\n",
       "    <tr>\n",
       "      <th>2</th>\n",
       "      <td>3</td>\n",
       "      <td>37.44</td>\n",
       "      <td>20.228</td>\n",
       "      <td>-3.048</td>\n",
       "      <td>1.255</td>\n",
       "      <td>A</td>\n",
       "      <td>C</td>\n",
       "      <td>GLY</td>\n",
       "      <td>1</td>\n",
       "      <td>ATOM</td>\n",
       "      <td>A</td>\n",
       "      <td>C</td>\n",
       "      <td>GLY</td>\n",
       "      <td>1</td>\n",
       "      <td>1</td>\n",
       "      <td>1.0</td>\n",
       "      <td>1</td>\n",
       "      <td>C</td>\n",
       "      <td>protein</td>\n",
       "    </tr>\n",
       "    <tr>\n",
       "      <th>3</th>\n",
       "      <td>4</td>\n",
       "      <td>36.22</td>\n",
       "      <td>20.665</td>\n",
       "      <td>-2.909</td>\n",
       "      <td>0.113</td>\n",
       "      <td>A</td>\n",
       "      <td>O</td>\n",
       "      <td>GLY</td>\n",
       "      <td>1</td>\n",
       "      <td>ATOM</td>\n",
       "      <td>A</td>\n",
       "      <td>O</td>\n",
       "      <td>GLY</td>\n",
       "      <td>1</td>\n",
       "      <td>1</td>\n",
       "      <td>1.0</td>\n",
       "      <td>1</td>\n",
       "      <td>O</td>\n",
       "      <td>protein</td>\n",
       "    </tr>\n",
       "    <tr>\n",
       "      <th>4</th>\n",
       "      <td>5</td>\n",
       "      <td>34.06</td>\n",
       "      <td>19.171</td>\n",
       "      <td>-3.802</td>\n",
       "      <td>1.541</td>\n",
       "      <td>A</td>\n",
       "      <td>N</td>\n",
       "      <td>SER</td>\n",
       "      <td>2</td>\n",
       "      <td>ATOM</td>\n",
       "      <td>A</td>\n",
       "      <td>N</td>\n",
       "      <td>SER</td>\n",
       "      <td>1</td>\n",
       "      <td>2</td>\n",
       "      <td>1.0</td>\n",
       "      <td>1</td>\n",
       "      <td>N</td>\n",
       "      <td>protein</td>\n",
       "    </tr>\n",
       "    <tr>\n",
       "      <th>...</th>\n",
       "      <td>...</td>\n",
       "      <td>...</td>\n",
       "      <td>...</td>\n",
       "      <td>...</td>\n",
       "      <td>...</td>\n",
       "      <td>...</td>\n",
       "      <td>...</td>\n",
       "      <td>...</td>\n",
       "      <td>...</td>\n",
       "      <td>...</td>\n",
       "      <td>...</td>\n",
       "      <td>...</td>\n",
       "      <td>...</td>\n",
       "      <td>...</td>\n",
       "      <td>...</td>\n",
       "      <td>...</td>\n",
       "      <td>...</td>\n",
       "      <td>...</td>\n",
       "      <td>...</td>\n",
       "    </tr>\n",
       "    <tr>\n",
       "      <th>12539</th>\n",
       "      <td>12540</td>\n",
       "      <td>23.11</td>\n",
       "      <td>15.392</td>\n",
       "      <td>60.250</td>\n",
       "      <td>15.920</td>\n",
       "      <td>Y</td>\n",
       "      <td>CB</td>\n",
       "      <td>LEU</td>\n",
       "      <td>9</td>\n",
       "      <td>ATOM</td>\n",
       "      <td>L</td>\n",
       "      <td>CB</td>\n",
       "      <td>LEU</td>\n",
       "      <td>3</td>\n",
       "      <td>9</td>\n",
       "      <td>1.0</td>\n",
       "      <td>1</td>\n",
       "      <td>C</td>\n",
       "      <td>peptide</td>\n",
       "    </tr>\n",
       "    <tr>\n",
       "      <th>12540</th>\n",
       "      <td>12541</td>\n",
       "      <td>21.33</td>\n",
       "      <td>16.289</td>\n",
       "      <td>59.308</td>\n",
       "      <td>15.113</td>\n",
       "      <td>Y</td>\n",
       "      <td>CG</td>\n",
       "      <td>LEU</td>\n",
       "      <td>9</td>\n",
       "      <td>ATOM</td>\n",
       "      <td>L</td>\n",
       "      <td>CG</td>\n",
       "      <td>LEU</td>\n",
       "      <td>3</td>\n",
       "      <td>9</td>\n",
       "      <td>1.0</td>\n",
       "      <td>1</td>\n",
       "      <td>C</td>\n",
       "      <td>peptide</td>\n",
       "    </tr>\n",
       "    <tr>\n",
       "      <th>12541</th>\n",
       "      <td>12542</td>\n",
       "      <td>23.16</td>\n",
       "      <td>15.471</td>\n",
       "      <td>58.511</td>\n",
       "      <td>14.108</td>\n",
       "      <td>Y</td>\n",
       "      <td>CD1</td>\n",
       "      <td>LEU</td>\n",
       "      <td>9</td>\n",
       "      <td>ATOM</td>\n",
       "      <td>L</td>\n",
       "      <td>CD1</td>\n",
       "      <td>LEU</td>\n",
       "      <td>3</td>\n",
       "      <td>9</td>\n",
       "      <td>1.0</td>\n",
       "      <td>1</td>\n",
       "      <td>C</td>\n",
       "      <td>peptide</td>\n",
       "    </tr>\n",
       "    <tr>\n",
       "      <th>12542</th>\n",
       "      <td>12543</td>\n",
       "      <td>19.16</td>\n",
       "      <td>17.386</td>\n",
       "      <td>60.094</td>\n",
       "      <td>14.412</td>\n",
       "      <td>Y</td>\n",
       "      <td>CD2</td>\n",
       "      <td>LEU</td>\n",
       "      <td>9</td>\n",
       "      <td>ATOM</td>\n",
       "      <td>L</td>\n",
       "      <td>CD2</td>\n",
       "      <td>LEU</td>\n",
       "      <td>3</td>\n",
       "      <td>9</td>\n",
       "      <td>1.0</td>\n",
       "      <td>1</td>\n",
       "      <td>C</td>\n",
       "      <td>peptide</td>\n",
       "    </tr>\n",
       "    <tr>\n",
       "      <th>12543</th>\n",
       "      <td>12544</td>\n",
       "      <td>23.72</td>\n",
       "      <td>14.572</td>\n",
       "      <td>61.711</td>\n",
       "      <td>18.830</td>\n",
       "      <td>Y</td>\n",
       "      <td>OXT</td>\n",
       "      <td>LEU</td>\n",
       "      <td>9</td>\n",
       "      <td>ATOM</td>\n",
       "      <td>L</td>\n",
       "      <td>OXT</td>\n",
       "      <td>LEU</td>\n",
       "      <td>3</td>\n",
       "      <td>9</td>\n",
       "      <td>1.0</td>\n",
       "      <td>1</td>\n",
       "      <td>O</td>\n",
       "      <td>peptide</td>\n",
       "    </tr>\n",
       "  </tbody>\n",
       "</table>\n",
       "<p>12544 rows × 19 columns</p>\n",
       "</div>"
      ],
      "text/plain": [
       "       atom_id  B_iso_or_equiv  Cartn_x  Cartn_y  Cartn_z auth_asym_id  \\\n",
       "0            1           43.83   21.937   -1.432    2.010            A   \n",
       "1            2           42.56   20.889   -2.346    2.424            A   \n",
       "2            3           37.44   20.228   -3.048    1.255            A   \n",
       "3            4           36.22   20.665   -2.909    0.113            A   \n",
       "4            5           34.06   19.171   -3.802    1.541            A   \n",
       "...        ...             ...      ...      ...      ...          ...   \n",
       "12539    12540           23.11   15.392   60.250   15.920            Y   \n",
       "12540    12541           21.33   16.289   59.308   15.113            Y   \n",
       "12541    12542           23.16   15.471   58.511   14.108            Y   \n",
       "12542    12543           19.16   17.386   60.094   14.412            Y   \n",
       "12543    12544           23.72   14.572   61.711   18.830            Y   \n",
       "\n",
       "      auth_atom_id auth_comp_id  auth_seq_id group_PDB label_asym_id  \\\n",
       "0                N          GLY            1      ATOM             A   \n",
       "1               CA          GLY            1      ATOM             A   \n",
       "2                C          GLY            1      ATOM             A   \n",
       "3                O          GLY            1      ATOM             A   \n",
       "4                N          SER            2      ATOM             A   \n",
       "...            ...          ...          ...       ...           ...   \n",
       "12539           CB          LEU            9      ATOM             L   \n",
       "12540           CG          LEU            9      ATOM             L   \n",
       "12541          CD1          LEU            9      ATOM             L   \n",
       "12542          CD2          LEU            9      ATOM             L   \n",
       "12543          OXT          LEU            9      ATOM             L   \n",
       "\n",
       "      label_atom_id label_comp_id  label_entity_id label_seq_id  occupancy  \\\n",
       "0                 N           GLY                1            1        1.0   \n",
       "1                CA           GLY                1            1        1.0   \n",
       "2                 C           GLY                1            1        1.0   \n",
       "3                 O           GLY                1            1        1.0   \n",
       "4                 N           SER                1            2        1.0   \n",
       "...             ...           ...              ...          ...        ...   \n",
       "12539            CB           LEU                3            9        1.0   \n",
       "12540            CG           LEU                3            9        1.0   \n",
       "12541           CD1           LEU                3            9        1.0   \n",
       "12542           CD2           LEU                3            9        1.0   \n",
       "12543           OXT           LEU                3            9        1.0   \n",
       "\n",
       "       pdbx_PDB_model_num type_symbol    group  \n",
       "0                       1           N  protein  \n",
       "1                       1           C  protein  \n",
       "2                       1           C  protein  \n",
       "3                       1           O  protein  \n",
       "4                       1           N  protein  \n",
       "...                   ...         ...      ...  \n",
       "12539                   1           C  peptide  \n",
       "12540                   1           C  peptide  \n",
       "12541                   1           C  peptide  \n",
       "12542                   1           C  peptide  \n",
       "12543                   1           O  peptide  \n",
       "\n",
       "[12544 rows x 19 columns]"
      ]
     },
     "execution_count": 88,
     "metadata": {},
     "output_type": "execute_result"
    }
   ],
   "source": [
    "atom_df"
   ]
  },
  {
   "cell_type": "code",
   "execution_count": 75,
   "metadata": {},
   "outputs": [],
   "source": [
    "temp_atom_df = atom_df.copy()"
   ]
  },
  {
   "cell_type": "code",
   "execution_count": 76,
   "metadata": {},
   "outputs": [
    {
     "data": {
      "text/html": [
       "<div>\n",
       "<style scoped>\n",
       "    .dataframe tbody tr th:only-of-type {\n",
       "        vertical-align: middle;\n",
       "    }\n",
       "\n",
       "    .dataframe tbody tr th {\n",
       "        vertical-align: top;\n",
       "    }\n",
       "\n",
       "    .dataframe thead th {\n",
       "        text-align: right;\n",
       "    }\n",
       "</style>\n",
       "<table border=\"1\" class=\"dataframe\">\n",
       "  <thead>\n",
       "    <tr style=\"text-align: right;\">\n",
       "      <th></th>\n",
       "      <th>atom_id</th>\n",
       "      <th>B_iso_or_equiv</th>\n",
       "      <th>Cartn_x</th>\n",
       "      <th>Cartn_y</th>\n",
       "      <th>Cartn_z</th>\n",
       "      <th>auth_asym_id</th>\n",
       "      <th>auth_atom_id</th>\n",
       "      <th>auth_comp_id</th>\n",
       "      <th>auth_seq_id</th>\n",
       "      <th>group_PDB</th>\n",
       "      <th>label_asym_id</th>\n",
       "      <th>label_atom_id</th>\n",
       "      <th>label_comp_id</th>\n",
       "      <th>label_entity_id</th>\n",
       "      <th>label_seq_id</th>\n",
       "      <th>occupancy</th>\n",
       "      <th>pdbx_PDB_model_num</th>\n",
       "      <th>type_symbol</th>\n",
       "      <th>group</th>\n",
       "    </tr>\n",
       "  </thead>\n",
       "  <tbody>\n",
       "    <tr>\n",
       "      <th>0</th>\n",
       "      <td>1</td>\n",
       "      <td>43.83</td>\n",
       "      <td>21.937</td>\n",
       "      <td>-1.432</td>\n",
       "      <td>2.010</td>\n",
       "      <td>A</td>\n",
       "      <td>N</td>\n",
       "      <td>GLY</td>\n",
       "      <td>1</td>\n",
       "      <td>ATOM</td>\n",
       "      <td>A</td>\n",
       "      <td>N</td>\n",
       "      <td>GLY</td>\n",
       "      <td>1</td>\n",
       "      <td>1</td>\n",
       "      <td>1.0</td>\n",
       "      <td>1</td>\n",
       "      <td>N</td>\n",
       "      <td>protein</td>\n",
       "    </tr>\n",
       "    <tr>\n",
       "      <th>1</th>\n",
       "      <td>2</td>\n",
       "      <td>42.56</td>\n",
       "      <td>20.889</td>\n",
       "      <td>-2.346</td>\n",
       "      <td>2.424</td>\n",
       "      <td>A</td>\n",
       "      <td>CA</td>\n",
       "      <td>GLY</td>\n",
       "      <td>1</td>\n",
       "      <td>ATOM</td>\n",
       "      <td>A</td>\n",
       "      <td>CA</td>\n",
       "      <td>GLY</td>\n",
       "      <td>1</td>\n",
       "      <td>1</td>\n",
       "      <td>1.0</td>\n",
       "      <td>1</td>\n",
       "      <td>C</td>\n",
       "      <td>protein</td>\n",
       "    </tr>\n",
       "    <tr>\n",
       "      <th>2</th>\n",
       "      <td>3</td>\n",
       "      <td>37.44</td>\n",
       "      <td>20.228</td>\n",
       "      <td>-3.048</td>\n",
       "      <td>1.255</td>\n",
       "      <td>A</td>\n",
       "      <td>C</td>\n",
       "      <td>GLY</td>\n",
       "      <td>1</td>\n",
       "      <td>ATOM</td>\n",
       "      <td>A</td>\n",
       "      <td>C</td>\n",
       "      <td>GLY</td>\n",
       "      <td>1</td>\n",
       "      <td>1</td>\n",
       "      <td>1.0</td>\n",
       "      <td>1</td>\n",
       "      <td>C</td>\n",
       "      <td>protein</td>\n",
       "    </tr>\n",
       "    <tr>\n",
       "      <th>3</th>\n",
       "      <td>4</td>\n",
       "      <td>36.22</td>\n",
       "      <td>20.665</td>\n",
       "      <td>-2.909</td>\n",
       "      <td>0.113</td>\n",
       "      <td>A</td>\n",
       "      <td>O</td>\n",
       "      <td>GLY</td>\n",
       "      <td>1</td>\n",
       "      <td>ATOM</td>\n",
       "      <td>A</td>\n",
       "      <td>O</td>\n",
       "      <td>GLY</td>\n",
       "      <td>1</td>\n",
       "      <td>1</td>\n",
       "      <td>1.0</td>\n",
       "      <td>1</td>\n",
       "      <td>O</td>\n",
       "      <td>protein</td>\n",
       "    </tr>\n",
       "    <tr>\n",
       "      <th>4</th>\n",
       "      <td>5</td>\n",
       "      <td>34.06</td>\n",
       "      <td>19.171</td>\n",
       "      <td>-3.802</td>\n",
       "      <td>1.541</td>\n",
       "      <td>A</td>\n",
       "      <td>N</td>\n",
       "      <td>SER</td>\n",
       "      <td>2</td>\n",
       "      <td>ATOM</td>\n",
       "      <td>A</td>\n",
       "      <td>N</td>\n",
       "      <td>SER</td>\n",
       "      <td>1</td>\n",
       "      <td>2</td>\n",
       "      <td>1.0</td>\n",
       "      <td>1</td>\n",
       "      <td>N</td>\n",
       "      <td>protein</td>\n",
       "    </tr>\n",
       "    <tr>\n",
       "      <th>...</th>\n",
       "      <td>...</td>\n",
       "      <td>...</td>\n",
       "      <td>...</td>\n",
       "      <td>...</td>\n",
       "      <td>...</td>\n",
       "      <td>...</td>\n",
       "      <td>...</td>\n",
       "      <td>...</td>\n",
       "      <td>...</td>\n",
       "      <td>...</td>\n",
       "      <td>...</td>\n",
       "      <td>...</td>\n",
       "      <td>...</td>\n",
       "      <td>...</td>\n",
       "      <td>...</td>\n",
       "      <td>...</td>\n",
       "      <td>...</td>\n",
       "      <td>...</td>\n",
       "      <td>...</td>\n",
       "    </tr>\n",
       "    <tr>\n",
       "      <th>12539</th>\n",
       "      <td>12540</td>\n",
       "      <td>23.11</td>\n",
       "      <td>15.392</td>\n",
       "      <td>60.250</td>\n",
       "      <td>15.920</td>\n",
       "      <td>Y</td>\n",
       "      <td>CB</td>\n",
       "      <td>LEU</td>\n",
       "      <td>9</td>\n",
       "      <td>ATOM</td>\n",
       "      <td>L</td>\n",
       "      <td>CB</td>\n",
       "      <td>LEU</td>\n",
       "      <td>3</td>\n",
       "      <td>9</td>\n",
       "      <td>1.0</td>\n",
       "      <td>1</td>\n",
       "      <td>C</td>\n",
       "      <td>peptide</td>\n",
       "    </tr>\n",
       "    <tr>\n",
       "      <th>12540</th>\n",
       "      <td>12541</td>\n",
       "      <td>21.33</td>\n",
       "      <td>16.289</td>\n",
       "      <td>59.308</td>\n",
       "      <td>15.113</td>\n",
       "      <td>Y</td>\n",
       "      <td>CG</td>\n",
       "      <td>LEU</td>\n",
       "      <td>9</td>\n",
       "      <td>ATOM</td>\n",
       "      <td>L</td>\n",
       "      <td>CG</td>\n",
       "      <td>LEU</td>\n",
       "      <td>3</td>\n",
       "      <td>9</td>\n",
       "      <td>1.0</td>\n",
       "      <td>1</td>\n",
       "      <td>C</td>\n",
       "      <td>peptide</td>\n",
       "    </tr>\n",
       "    <tr>\n",
       "      <th>12541</th>\n",
       "      <td>12542</td>\n",
       "      <td>23.16</td>\n",
       "      <td>15.471</td>\n",
       "      <td>58.511</td>\n",
       "      <td>14.108</td>\n",
       "      <td>Y</td>\n",
       "      <td>CD1</td>\n",
       "      <td>LEU</td>\n",
       "      <td>9</td>\n",
       "      <td>ATOM</td>\n",
       "      <td>L</td>\n",
       "      <td>CD1</td>\n",
       "      <td>LEU</td>\n",
       "      <td>3</td>\n",
       "      <td>9</td>\n",
       "      <td>1.0</td>\n",
       "      <td>1</td>\n",
       "      <td>C</td>\n",
       "      <td>peptide</td>\n",
       "    </tr>\n",
       "    <tr>\n",
       "      <th>12542</th>\n",
       "      <td>12543</td>\n",
       "      <td>19.16</td>\n",
       "      <td>17.386</td>\n",
       "      <td>60.094</td>\n",
       "      <td>14.412</td>\n",
       "      <td>Y</td>\n",
       "      <td>CD2</td>\n",
       "      <td>LEU</td>\n",
       "      <td>9</td>\n",
       "      <td>ATOM</td>\n",
       "      <td>L</td>\n",
       "      <td>CD2</td>\n",
       "      <td>LEU</td>\n",
       "      <td>3</td>\n",
       "      <td>9</td>\n",
       "      <td>1.0</td>\n",
       "      <td>1</td>\n",
       "      <td>C</td>\n",
       "      <td>peptide</td>\n",
       "    </tr>\n",
       "    <tr>\n",
       "      <th>12543</th>\n",
       "      <td>12544</td>\n",
       "      <td>23.72</td>\n",
       "      <td>14.572</td>\n",
       "      <td>61.711</td>\n",
       "      <td>18.830</td>\n",
       "      <td>Y</td>\n",
       "      <td>OXT</td>\n",
       "      <td>LEU</td>\n",
       "      <td>9</td>\n",
       "      <td>ATOM</td>\n",
       "      <td>L</td>\n",
       "      <td>OXT</td>\n",
       "      <td>LEU</td>\n",
       "      <td>3</td>\n",
       "      <td>9</td>\n",
       "      <td>1.0</td>\n",
       "      <td>1</td>\n",
       "      <td>O</td>\n",
       "      <td>peptide</td>\n",
       "    </tr>\n",
       "  </tbody>\n",
       "</table>\n",
       "<p>12544 rows × 19 columns</p>\n",
       "</div>"
      ],
      "text/plain": [
       "       atom_id  B_iso_or_equiv  Cartn_x  Cartn_y  Cartn_z auth_asym_id  \\\n",
       "0            1           43.83   21.937   -1.432    2.010            A   \n",
       "1            2           42.56   20.889   -2.346    2.424            A   \n",
       "2            3           37.44   20.228   -3.048    1.255            A   \n",
       "3            4           36.22   20.665   -2.909    0.113            A   \n",
       "4            5           34.06   19.171   -3.802    1.541            A   \n",
       "...        ...             ...      ...      ...      ...          ...   \n",
       "12539    12540           23.11   15.392   60.250   15.920            Y   \n",
       "12540    12541           21.33   16.289   59.308   15.113            Y   \n",
       "12541    12542           23.16   15.471   58.511   14.108            Y   \n",
       "12542    12543           19.16   17.386   60.094   14.412            Y   \n",
       "12543    12544           23.72   14.572   61.711   18.830            Y   \n",
       "\n",
       "      auth_atom_id auth_comp_id  auth_seq_id group_PDB label_asym_id  \\\n",
       "0                N          GLY            1      ATOM             A   \n",
       "1               CA          GLY            1      ATOM             A   \n",
       "2                C          GLY            1      ATOM             A   \n",
       "3                O          GLY            1      ATOM             A   \n",
       "4                N          SER            2      ATOM             A   \n",
       "...            ...          ...          ...       ...           ...   \n",
       "12539           CB          LEU            9      ATOM             L   \n",
       "12540           CG          LEU            9      ATOM             L   \n",
       "12541          CD1          LEU            9      ATOM             L   \n",
       "12542          CD2          LEU            9      ATOM             L   \n",
       "12543          OXT          LEU            9      ATOM             L   \n",
       "\n",
       "      label_atom_id label_comp_id  label_entity_id label_seq_id  occupancy  \\\n",
       "0                 N           GLY                1            1        1.0   \n",
       "1                CA           GLY                1            1        1.0   \n",
       "2                 C           GLY                1            1        1.0   \n",
       "3                 O           GLY                1            1        1.0   \n",
       "4                 N           SER                1            2        1.0   \n",
       "...             ...           ...              ...          ...        ...   \n",
       "12539            CB           LEU                3            9        1.0   \n",
       "12540            CG           LEU                3            9        1.0   \n",
       "12541           CD1           LEU                3            9        1.0   \n",
       "12542           CD2           LEU                3            9        1.0   \n",
       "12543           OXT           LEU                3            9        1.0   \n",
       "\n",
       "       pdbx_PDB_model_num type_symbol    group  \n",
       "0                       1           N  protein  \n",
       "1                       1           C  protein  \n",
       "2                       1           C  protein  \n",
       "3                       1           O  protein  \n",
       "4                       1           N  protein  \n",
       "...                   ...         ...      ...  \n",
       "12539                   1           C  peptide  \n",
       "12540                   1           C  peptide  \n",
       "12541                   1           C  peptide  \n",
       "12542                   1           C  peptide  \n",
       "12543                   1           O  peptide  \n",
       "\n",
       "[12544 rows x 19 columns]"
      ]
     },
     "execution_count": 76,
     "metadata": {},
     "output_type": "execute_result"
    }
   ],
   "source": [
    "temp_merged_atom_df = temp_atom_df.merge(temp_eval_df[['auth_asym_id', 'group']], on='auth_asym_id', how='left')\n",
    "temp_merged_atom_df"
   ]
  },
  {
   "cell_type": "code",
   "execution_count": null,
   "metadata": {},
   "outputs": [],
   "source": []
  },
  {
   "cell_type": "code",
   "execution_count": 77,
   "metadata": {},
   "outputs": [
    {
     "data": {
      "text/plain": [
       "auth_asym_id\n",
       "A    [protein]\n",
       "B    [protein]\n",
       "C    [protein]\n",
       "D    [protein]\n",
       "E    [protein]\n",
       "F    [protein]\n",
       "G    [protein]\n",
       "H    [protein]\n",
       "P    [peptide]\n",
       "Q    [peptide]\n",
       "R    [peptide]\n",
       "Y    [peptide]\n",
       "Name: group, dtype: object"
      ]
     },
     "execution_count": 77,
     "metadata": {},
     "output_type": "execute_result"
    }
   ],
   "source": [
    "temp_merged_atom_df.groupby('auth_asym_id')['group'].unique()"
   ]
  },
  {
   "cell_type": "code",
   "execution_count": 78,
   "metadata": {},
   "outputs": [
    {
     "data": {
      "text/plain": [
       "array(['protein'], dtype=object)"
      ]
     },
     "execution_count": 78,
     "metadata": {},
     "output_type": "execute_result"
    }
   ],
   "source": [
    "temp_merged_atom_df.loc[temp_merged_atom_df['auth_asym_id'] == 'A', 'group'].unique()"
   ]
  },
  {
   "cell_type": "code",
   "execution_count": 79,
   "metadata": {},
   "outputs": [
    {
     "data": {
      "text/plain": [
       "auth_asym_id\n",
       "A    274\n",
       "B    100\n",
       "C    274\n",
       "D    100\n",
       "E    273\n",
       "F    100\n",
       "G    274\n",
       "H    100\n",
       "P      9\n",
       "Q      9\n",
       "R      9\n",
       "Y      9\n",
       "Name: auth_seq_id, dtype: int64"
      ]
     },
     "execution_count": 79,
     "metadata": {},
     "output_type": "execute_result"
    }
   ],
   "source": [
    "unique_counts = atom_df.groupby('auth_asym_id')['auth_seq_id'].nunique()\n",
    "unique_counts"
   ]
  },
  {
   "cell_type": "code",
   "execution_count": 80,
   "metadata": {},
   "outputs": [
    {
     "data": {
      "text/plain": [
       "np.int64(274)"
      ]
     },
     "execution_count": 80,
     "metadata": {},
     "output_type": "execute_result"
    }
   ],
   "source": [
    "unique_counts['A']"
   ]
  },
  {
   "cell_type": "markdown",
   "metadata": {},
   "source": [
    "#### 분류 최종 코드"
   ]
  },
  {
   "cell_type": "code",
   "execution_count": null,
   "metadata": {},
   "outputs": [
    {
     "name": "stderr",
     "output_type": "stream",
     "text": [
      "C:\\Users\\kbjoo\\AppData\\Local\\Temp\\ipykernel_5440\\353595904.py:7: SettingWithCopyWarning:\n",
      "\n",
      "\n",
      "A value is trying to be set on a copy of a slice from a DataFrame.\n",
      "Try using .loc[row_indexer,col_indexer] = value instead\n",
      "\n",
      "See the caveats in the documentation: https://pandas.pydata.org/pandas-docs/stable/user_guide/indexing.html#returning-a-view-versus-a-copy\n",
      "\n"
     ]
    },
    {
     "data": {
      "text/html": [
       "<div>\n",
       "<style scoped>\n",
       "    .dataframe tbody tr th:only-of-type {\n",
       "        vertical-align: middle;\n",
       "    }\n",
       "\n",
       "    .dataframe tbody tr th {\n",
       "        vertical-align: top;\n",
       "    }\n",
       "\n",
       "    .dataframe thead th {\n",
       "        text-align: right;\n",
       "    }\n",
       "</style>\n",
       "<table border=\"1\" class=\"dataframe\">\n",
       "  <thead>\n",
       "    <tr style=\"text-align: right;\">\n",
       "      <th></th>\n",
       "      <th>atom_id</th>\n",
       "      <th>B_iso_or_equiv</th>\n",
       "      <th>Cartn_x</th>\n",
       "      <th>Cartn_y</th>\n",
       "      <th>Cartn_z</th>\n",
       "      <th>auth_asym_id</th>\n",
       "      <th>auth_atom_id</th>\n",
       "      <th>auth_comp_id</th>\n",
       "      <th>auth_seq_id</th>\n",
       "      <th>group_PDB</th>\n",
       "      <th>label_asym_id</th>\n",
       "      <th>label_atom_id</th>\n",
       "      <th>label_comp_id</th>\n",
       "      <th>label_entity_id</th>\n",
       "      <th>label_seq_id</th>\n",
       "      <th>occupancy</th>\n",
       "      <th>pdbx_PDB_model_num</th>\n",
       "      <th>type_symbol</th>\n",
       "      <th>group</th>\n",
       "    </tr>\n",
       "  </thead>\n",
       "  <tbody>\n",
       "    <tr>\n",
       "      <th>0</th>\n",
       "      <td>1</td>\n",
       "      <td>43.83</td>\n",
       "      <td>21.937</td>\n",
       "      <td>-1.432</td>\n",
       "      <td>2.010</td>\n",
       "      <td>A</td>\n",
       "      <td>N</td>\n",
       "      <td>GLY</td>\n",
       "      <td>1</td>\n",
       "      <td>ATOM</td>\n",
       "      <td>A</td>\n",
       "      <td>N</td>\n",
       "      <td>GLY</td>\n",
       "      <td>1</td>\n",
       "      <td>1</td>\n",
       "      <td>1.0</td>\n",
       "      <td>1</td>\n",
       "      <td>N</td>\n",
       "      <td>protein</td>\n",
       "    </tr>\n",
       "    <tr>\n",
       "      <th>1</th>\n",
       "      <td>2</td>\n",
       "      <td>42.56</td>\n",
       "      <td>20.889</td>\n",
       "      <td>-2.346</td>\n",
       "      <td>2.424</td>\n",
       "      <td>A</td>\n",
       "      <td>CA</td>\n",
       "      <td>GLY</td>\n",
       "      <td>1</td>\n",
       "      <td>ATOM</td>\n",
       "      <td>A</td>\n",
       "      <td>CA</td>\n",
       "      <td>GLY</td>\n",
       "      <td>1</td>\n",
       "      <td>1</td>\n",
       "      <td>1.0</td>\n",
       "      <td>1</td>\n",
       "      <td>C</td>\n",
       "      <td>protein</td>\n",
       "    </tr>\n",
       "    <tr>\n",
       "      <th>2</th>\n",
       "      <td>3</td>\n",
       "      <td>37.44</td>\n",
       "      <td>20.228</td>\n",
       "      <td>-3.048</td>\n",
       "      <td>1.255</td>\n",
       "      <td>A</td>\n",
       "      <td>C</td>\n",
       "      <td>GLY</td>\n",
       "      <td>1</td>\n",
       "      <td>ATOM</td>\n",
       "      <td>A</td>\n",
       "      <td>C</td>\n",
       "      <td>GLY</td>\n",
       "      <td>1</td>\n",
       "      <td>1</td>\n",
       "      <td>1.0</td>\n",
       "      <td>1</td>\n",
       "      <td>C</td>\n",
       "      <td>protein</td>\n",
       "    </tr>\n",
       "    <tr>\n",
       "      <th>3</th>\n",
       "      <td>4</td>\n",
       "      <td>36.22</td>\n",
       "      <td>20.665</td>\n",
       "      <td>-2.909</td>\n",
       "      <td>0.113</td>\n",
       "      <td>A</td>\n",
       "      <td>O</td>\n",
       "      <td>GLY</td>\n",
       "      <td>1</td>\n",
       "      <td>ATOM</td>\n",
       "      <td>A</td>\n",
       "      <td>O</td>\n",
       "      <td>GLY</td>\n",
       "      <td>1</td>\n",
       "      <td>1</td>\n",
       "      <td>1.0</td>\n",
       "      <td>1</td>\n",
       "      <td>O</td>\n",
       "      <td>protein</td>\n",
       "    </tr>\n",
       "    <tr>\n",
       "      <th>4</th>\n",
       "      <td>5</td>\n",
       "      <td>34.06</td>\n",
       "      <td>19.171</td>\n",
       "      <td>-3.802</td>\n",
       "      <td>1.541</td>\n",
       "      <td>A</td>\n",
       "      <td>N</td>\n",
       "      <td>SER</td>\n",
       "      <td>2</td>\n",
       "      <td>ATOM</td>\n",
       "      <td>A</td>\n",
       "      <td>N</td>\n",
       "      <td>SER</td>\n",
       "      <td>1</td>\n",
       "      <td>2</td>\n",
       "      <td>1.0</td>\n",
       "      <td>1</td>\n",
       "      <td>N</td>\n",
       "      <td>protein</td>\n",
       "    </tr>\n",
       "  </tbody>\n",
       "</table>\n",
       "</div>"
      ],
      "text/plain": [
       "   atom_id  B_iso_or_equiv  Cartn_x  Cartn_y  Cartn_z auth_asym_id  \\\n",
       "0        1           43.83   21.937   -1.432    2.010            A   \n",
       "1        2           42.56   20.889   -2.346    2.424            A   \n",
       "2        3           37.44   20.228   -3.048    1.255            A   \n",
       "3        4           36.22   20.665   -2.909    0.113            A   \n",
       "4        5           34.06   19.171   -3.802    1.541            A   \n",
       "\n",
       "  auth_atom_id auth_comp_id  auth_seq_id group_PDB label_asym_id  \\\n",
       "0            N          GLY            1      ATOM             A   \n",
       "1           CA          GLY            1      ATOM             A   \n",
       "2            C          GLY            1      ATOM             A   \n",
       "3            O          GLY            1      ATOM             A   \n",
       "4            N          SER            2      ATOM             A   \n",
       "\n",
       "  label_atom_id label_comp_id  label_entity_id label_seq_id  occupancy  \\\n",
       "0             N           GLY                1            1        1.0   \n",
       "1            CA           GLY                1            1        1.0   \n",
       "2             C           GLY                1            1        1.0   \n",
       "3             O           GLY                1            1        1.0   \n",
       "4             N           SER                1            2        1.0   \n",
       "\n",
       "   pdbx_PDB_model_num type_symbol    group  \n",
       "0                   1           N  protein  \n",
       "1                   1           C  protein  \n",
       "2                   1           C  protein  \n",
       "3                   1           O  protein  \n",
       "4                   1           N  protein  "
      ]
     },
     "execution_count": 81,
     "metadata": {},
     "output_type": "execute_result"
    }
   ],
   "source": [
    "sample_count_threshold = 10\n",
    "\n",
    "# auth_asym_id별 auth_seq_id의 유니크 개수 계산\n",
    "unique_counts = atom_df.groupby('auth_asym_id')['auth_seq_id'].nunique()\n",
    "\n",
    "# 조건에 따라 'protein' 또는 'peptide' 값을 할당\n",
    "atom_df.loc[:, 'group'] = atom_df['auth_asym_id'].map(lambda x: 'protein' if unique_counts[x] >= sample_count_threshold else 'peptide') # apply도 동일한 기능이나 샘플이 많아지면 map의 속도가 빠름.\n",
    "\n",
    "# 결과 확인\n",
    "atom_df.head()"
   ]
  },
  {
   "cell_type": "code",
   "execution_count": 82,
   "metadata": {},
   "outputs": [
    {
     "data": {
      "text/plain": [
       "auth_asym_id\n",
       "A    [protein]\n",
       "B    [protein]\n",
       "C    [protein]\n",
       "D    [protein]\n",
       "E    [protein]\n",
       "F    [protein]\n",
       "G    [protein]\n",
       "H    [protein]\n",
       "P    [peptide]\n",
       "Q    [peptide]\n",
       "R    [peptide]\n",
       "Y    [peptide]\n",
       "Name: group, dtype: object"
      ]
     },
     "execution_count": 82,
     "metadata": {},
     "output_type": "execute_result"
    }
   ],
   "source": [
    "atom_df.groupby('auth_asym_id')['group'].unique()"
   ]
  },
  {
   "cell_type": "code",
   "execution_count": null,
   "metadata": {},
   "outputs": [],
   "source": []
  },
  {
   "cell_type": "markdown",
   "metadata": {},
   "source": [
    "# END"
   ]
  }
 ],
 "metadata": {
  "kernelspec": {
   "display_name": "aisys",
   "language": "python",
   "name": "python3"
  },
  "language_info": {
   "codemirror_mode": {
    "name": "ipython",
    "version": 3
   },
   "file_extension": ".py",
   "mimetype": "text/x-python",
   "name": "python",
   "nbconvert_exporter": "python",
   "pygments_lexer": "ipython3",
   "version": "3.11.13"
  }
 },
 "nbformat": 4,
 "nbformat_minor": 2
}
