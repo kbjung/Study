{
 "cells": [
  {
   "cell_type": "markdown",
   "id": "cbbe8233",
   "metadata": {},
   "source": [
    "# 노트북1: ProtGPT2로 펩타이드 후보 생성 및 FASTA 파일 저장"
   ]
  },
  {
   "cell_type": "code",
   "execution_count": null,
   "id": "38a02767",
   "metadata": {},
   "outputs": [],
   "source": [
    "\n",
    "!pip install --upgrade transformers sentencepiece\n",
    "\n",
    "from transformers import AutoTokenizer, AutoModelForCausalLM\n",
    "import torch\n",
    "\n",
    "tokenizer = AutoTokenizer.from_pretrained(\"nferruz/ProtGPT2\")\n",
    "model = AutoModelForCausalLM.from_pretrained(\"nferruz/ProtGPT2\").to(\"cuda\" if torch.cuda.is_available() else \"cpu\")\n",
    "\n",
    "N = 5  # 생성할 후보 수 (원하는 만큼 변경)\n",
    "peptides = []\n",
    "\n",
    "for _ in range(N):\n",
    "    input_ids = tokenizer(\"generate:\", return_tensors=\"pt\").input_ids.to(model.device)\n",
    "    output = model.generate(input_ids, max_length=30, num_return_sequences=1, do_sample=True, top_k=950, top_p=0.96)\n",
    "    sequence = tokenizer.decode(output[0], skip_special_tokens=True).replace(\"generate:\", \"\").strip()\n",
    "    peptides.append(sequence)\n",
    "\n",
    "# 펩타이드 FASTA 파일 저장\n",
    "for i, pep in enumerate(peptides):\n",
    "    with open(f\"peptide_{i}.fasta\", \"w\") as f:\n",
    "        f.write(f\">pep{i}\\n{pep}\\n\")\n",
    "\n",
    "print(\"✅ 생성된 펩타이드 후보:\")\n",
    "for i, seq in enumerate(peptides):\n",
    "    print(f\"[{i}] {seq}\")\n"
   ]
  }
 ],
 "metadata": {},
 "nbformat": 4,
 "nbformat_minor": 5
}
