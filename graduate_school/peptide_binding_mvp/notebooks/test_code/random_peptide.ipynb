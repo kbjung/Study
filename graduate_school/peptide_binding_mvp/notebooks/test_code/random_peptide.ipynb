{
 "cells": [
  {
   "cell_type": "code",
   "execution_count": 3,
   "metadata": {},
   "outputs": [
    {
     "name": "stdout",
     "output_type": "stream",
     "text": [
      "SVPNASYWSYDR\n",
      "HLAMKQHSHFGD\n",
      "ITTMPAMFLKWE\n",
      "LVYILIHITDAS\n",
      "LPAKLIRRLDPT\n"
     ]
    }
   ],
   "source": [
    "import random\n",
    "\n",
    "def generate_random_peptide(length=12):\n",
    "    amino_acids = \"ACDEFGHIKLMNPQRSTVWY\"\n",
    "    return ''.join(random.choices(amino_acids, k=length))\n",
    "\n",
    "# 예시 생성\n",
    "for _ in range(5):\n",
    "    print(generate_random_peptide())\n"
   ]
  },
  {
   "cell_type": "code",
   "execution_count": null,
   "metadata": {},
   "outputs": [],
   "source": []
  }
 ],
 "metadata": {
  "kernelspec": {
   "display_name": "aisys",
   "language": "python",
   "name": "python3"
  },
  "language_info": {
   "codemirror_mode": {
    "name": "ipython",
    "version": 3
   },
   "file_extension": ".py",
   "mimetype": "text/x-python",
   "name": "python",
   "nbconvert_exporter": "python",
   "pygments_lexer": "ipython3",
   "version": "3.11.13"
  }
 },
 "nbformat": 4,
 "nbformat_minor": 2
}
