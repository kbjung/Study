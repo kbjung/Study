{
 "cells": [
  {
   "cell_type": "markdown",
   "id": "e2282a7a",
   "metadata": {},
   "source": [
    "# 1. 환경 준비"
   ]
  },
  {
   "cell_type": "code",
   "execution_count": null,
   "id": "0dbe1464",
   "metadata": {},
   "outputs": [],
   "source": [
    "\n",
    "!pip install biopython\n",
    "!pip install transformers accelerate\n",
    "!pip install -q git+https://github.com/RosettaCommons/RFdiffusion.git@main\n"
   ]
  },
  {
   "cell_type": "markdown",
   "id": "8223d163",
   "metadata": {},
   "source": [
    "# 2. 펩타이드 서열 생성 (ProtGPT2)"
   ]
  },
  {
   "cell_type": "code",
   "execution_count": null,
   "id": "70d7c087",
   "metadata": {},
   "outputs": [],
   "source": [
    "\n",
    "from transformers import AutoTokenizer, AutoModelForCausalLM\n",
    "\n",
    "tokenizer = AutoTokenizer.from_pretrained(\"nferruz/ProtGPT2\")\n",
    "model = AutoModelForCausalLM.from_pretrained(\"nferruz/ProtGPT2\")\n",
    "\n",
    "inputs = tokenizer(\"Generate peptide: \", return_tensors=\"pt\")\n",
    "outputs = model.generate(**inputs, max_new_tokens=20, do_sample=True, top_k=50)\n",
    "print(tokenizer.decode(outputs[0]))\n"
   ]
  },
  {
   "cell_type": "markdown",
   "id": "87a772a0",
   "metadata": {},
   "source": [
    "# 3. 펩타이드 구조 예측 (RFdiffusion)"
   ]
  },
  {
   "cell_type": "code",
   "execution_count": null,
   "id": "781985ae",
   "metadata": {},
   "outputs": [],
   "source": [
    "\n",
    "# 사용자 환경에 따라 실행 환경 준비 필요\n",
    "# RFdiffusion은 생성된 서열을 구조로 변환\n",
    "# 현재는 실행 구조만 기술\n",
    "print(\"RFdiffusion 구조 예측은 GPU와 고사양 환경 필요\")\n"
   ]
  },
  {
   "cell_type": "markdown",
   "id": "dfdea45f",
   "metadata": {},
   "source": [
    "# 4. 도킹 수행 (ZDOCK)"
   ]
  },
  {
   "cell_type": "code",
   "execution_count": null,
   "id": "7e975be1",
   "metadata": {},
   "outputs": [],
   "source": [
    "\n",
    "# ZDOCK은 웹 기반 도구이므로 결과 파일(.pdb, .out)을 Google Drive에서 업로드 후 분석\n",
    "from google.colab import drive\n",
    "drive.mount('/content/drive')\n"
   ]
  },
  {
   "cell_type": "markdown",
   "id": "68504fab",
   "metadata": {},
   "source": [
    "# 5. 도킹 점수 파싱"
   ]
  },
  {
   "cell_type": "code",
   "execution_count": null,
   "id": "e264c007",
   "metadata": {},
   "outputs": [],
   "source": [
    "\n",
    "zdock_out_path = '/content/drive/MyDrive/path_to_zdock/job.XXXXX.out'\n",
    "\n",
    "with open(zdock_out_path, 'r') as file:\n",
    "    lines = file.readlines()\n",
    "    scores = [(i+1, float(line.split()[-1])) for i, line in enumerate(lines)]\n",
    "\n",
    "# 상위 10개 출력\n",
    "top_scores = sorted(scores, key=lambda x: x[1], reverse=True)[:10]\n",
    "for rank, score in top_scores:\n",
    "    print(f\"Rank {rank}: Score {score}\")\n"
   ]
  },
  {
   "cell_type": "markdown",
   "id": "b81f5c0e",
   "metadata": {},
   "source": [
    "# 6. 구조 시각화 (ChimeraX는 로컬에서 사용)"
   ]
  },
  {
   "cell_type": "code",
   "execution_count": null,
   "id": "e433aa0f",
   "metadata": {},
   "outputs": [],
   "source": [
    "\n",
    "print(\"ChimeraX를 통해 target.pdb 및 model_xx.pdb 파일을 시각화할 수 있습니다.\")\n",
    "print(\"명령어 예시: open target.pdb; open model_01.pdb; matchmaker model_01 target\")\n"
   ]
  },
  {
   "cell_type": "markdown",
   "id": "9bf230c1",
   "metadata": {},
   "source": [
    "# ✅ 파이프라인 요약"
   ]
  },
  {
   "cell_type": "code",
   "execution_count": null,
   "id": "42182f6e",
   "metadata": {},
   "outputs": [],
   "source": [
    "\n",
    "print(\"1) ProtGPT2로 서열 생성 → 2) RFdiffusion 구조 예측 → 3) ZDOCK 도킹 수행 → 4) 상위 후보 선정\")\n"
   ]
  }
 ],
 "metadata": {},
 "nbformat": 4,
 "nbformat_minor": 5
}
