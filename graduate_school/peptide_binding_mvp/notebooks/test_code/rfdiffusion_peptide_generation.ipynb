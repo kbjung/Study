{
  "cells": [
    {
      "cell_type": "markdown",
      "metadata": {},
      "source": [
        "# \ud83e\uddec RFdiffusion Peptide Structure Generation (MVP Test)\n",
        "This notebook generates a random peptide sequence and predicts its 3D structure using the RFdiffusion model.\n"
      ]
    },
    {
      "cell_type": "code",
      "execution_count": null,
      "metadata": {},
      "outputs": [],
      "source": [
        "# \u2705 1. Install RFdiffusion and Biopython\n",
        "!pip install git+https://github.com/RosettaCommons/RFdiffusion.git@main\n",
        "!pip install biopython"
      ]
    },
    {
      "cell_type": "code",
      "execution_count": null,
      "metadata": {},
      "outputs": [],
      "source": [
        "# \u2705 2. Load RFdiffusion model and helper functions\n",
        "from rf_diffusion.inference import inference_runner\n",
        "from rf_diffusion.utils import make_random_sequence\n",
        "import torch\n",
        "\n",
        "device = torch.device(\"cuda\" if torch.cuda.is_available() else \"cpu\")"
      ]
    },
    {
      "cell_type": "code",
      "execution_count": null,
      "metadata": {},
      "outputs": [],
      "source": [
        "# \u2705 3. Generate random peptide sequence\n",
        "peptide_length = 10  # You can change the length here\n",
        "peptide_seq = make_random_sequence(peptide_length)\n",
        "print(\"\ud83c\udfaf Generated Peptide Sequence:\", peptide_seq)"
      ]
    },
    {
      "cell_type": "code",
      "execution_count": null,
      "metadata": {},
      "outputs": [],
      "source": [
        "# \u2705 4. Generate structure using RFdiffusion\n",
        "runner = inference_runner.get_runner(device=device)\n",
        "out = runner.sample_single_chain(sequence=peptide_seq, num_samples=1)\n",
        "\n",
        "# \u2705 5. Save the structure\n",
        "out['pdbs'][0].write_pdb(\"peptide.pdb\")\n",
        "print(\"\ud83d\udce6 Structure saved as peptide.pdb\")"
      ]
    }
  ],
  "metadata": {
    "kernelspec": {
      "display_name": "Python 3",
      "language": "python",
      "name": "python3"
    },
    "language_info": {
      "name": "python",
      "version": "3.10"
    }
  },
  "nbformat": 4,
  "nbformat_minor": 2
}