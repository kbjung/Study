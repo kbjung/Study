{
 "cells": [
  {
   "cell_type": "markdown",
   "id": "3fa309c7",
   "metadata": {},
   "source": [
    "# 🧬 ProtGPT2 + AlphaFold-Multimer 기반 펩타이드-단백질 결합 예측 파이프라인"
   ]
  },
  {
   "cell_type": "markdown",
   "id": "12b55c24",
   "metadata": {},
   "source": [
    "## 📁 1. Google Drive 마운트"
   ]
  },
  {
   "cell_type": "code",
   "execution_count": null,
   "id": "72f478c0",
   "metadata": {},
   "outputs": [],
   "source": [
    "from google.colab import drive\n",
    "import os\n",
    "\n",
    "drive.mount('/content/drive')\n",
    "work_dir = \"/content/drive/MyDrive/peptide_docking_pipeline\"\n",
    "os.makedirs(work_dir, exist_ok=True)\n",
    "os.chdir(work_dir)\n",
    "print(f\"Working directory: {work_dir}\")"
   ]
  },
  {
   "cell_type": "markdown",
   "id": "cdfa6d3a",
   "metadata": {},
   "source": [
    "## 🧠 2. ProtGPT2 모델로 펩타이드 서열 생성"
   ]
  },
  {
   "cell_type": "code",
   "execution_count": null,
   "id": "262b63f2",
   "metadata": {},
   "outputs": [],
   "source": [
    "!pip install transformers sentencepiece\n",
    "\n",
    "from transformers import AutoTokenizer, AutoModelForCausalLM\n",
    "import torch\n",
    "\n",
    "tokenizer = AutoTokenizer.from_pretrained(\"nferruz/ProtGPT2\")\n",
    "model = AutoModelForCausalLM.from_pretrained(\"nferruz/ProtGPT2\")\n",
    "\n",
    "input_ids = tokenizer(\"generate:\", return_tensors=\"pt\").input_ids.to(\"cuda\" if torch.cuda.is_available() else \"cpu\")\n",
    "output = model.generate(input_ids, max_length=30, num_return_sequences=1, do_sample=True, top_k=950, top_p=0.96)\n",
    "sequence = tokenizer.decode(output[0], skip_special_tokens=True).replace(\"generate:\", \"\").strip()\n",
    "\n",
    "print(\"🔹 생성된 펩타이드 서열:\", sequence)\n",
    "peptide_sequence = sequence\n",
    "\n",
    "# fasta 저장\n",
    "with open(\"peptide.fasta\", \"w\") as f:\n",
    "    f.write(\">peptide\\n\" + peptide_sequence)\n"
   ]
  },
  {
   "cell_type": "markdown",
   "id": "0c66d14c",
   "metadata": {},
   "source": [
    "## 🔮 3. AlphaFold-Multimer (ColabFold) 구조 예측"
   ]
  },
  {
   "cell_type": "code",
   "execution_count": null,
   "id": "5f5e85fb",
   "metadata": {},
   "outputs": [],
   "source": [
    "# ColabFold 설치 (AlphaFold-Multimer 경량 실행)\n",
    "!pip install -q colabfold batchfold\n",
    "!colabfold_download\n",
    "\n",
    "# 예시용 단백질 서열 수동 입력 (실제 단백질 fasta 업로드 필요)\n",
    "protein_sequence = \"MSEQNNTEMTFQIQRIYTKDISFEAPNAPHVFQKDWLD...\"\n",
    "\n",
    "with open(\"protein.fasta\", \"w\") as f:\n",
    "    f.write(\">protein\\n\" + protein_sequence)\n",
    "\n",
    "# 입력 파일 병합 (peptide + protein)\n",
    "with open(\"complex.fasta\", \"w\") as out, open(\"peptide.fasta\") as pep, open(\"protein.fasta\") as pro:\n",
    "    out.writelines(pro.readlines())\n",
    "    out.writelines(pep.readlines())\n",
    "\n",
    "# 구조 예측 실행\n",
    "!colabfold_batch complex.fasta complex_prediction\n"
   ]
  },
  {
   "cell_type": "markdown",
   "id": "083e5010",
   "metadata": {},
   "source": [
    "## 📂 4. 예측된 구조 파일 선택"
   ]
  },
  {
   "cell_type": "code",
   "execution_count": null,
   "id": "a41d2320",
   "metadata": {},
   "outputs": [],
   "source": [
    "# best rank 모델 파일 이름: complex_prediction/complex_0.pdb\n",
    "!cp complex_prediction/complex_0.pdb complex.pdb\n",
    "\n",
    "# 분리: receptor.pdb (protein), ligand.pdb (peptide) 수동 분리 필요 또는 체인 기준으로 분리\n",
    "# 예시: PyMOL이나 BioPython 사용 가능\n"
   ]
  },
  {
   "cell_type": "markdown",
   "id": "98c4e0ae",
   "metadata": {},
   "source": [
    "## 🔄 5. 구조 변환 (pdb → pdbqt)"
   ]
  },
  {
   "cell_type": "code",
   "execution_count": null,
   "id": "57c19cba",
   "metadata": {},
   "outputs": [],
   "source": [
    "!apt-get install -y openbabel\n",
    "!obabel receptor.pdb -O receptor.pdbqt\n",
    "!obabel ligand.pdb -O ligand.pdbqt"
   ]
  },
  {
   "cell_type": "markdown",
   "id": "5c02f267",
   "metadata": {},
   "source": [
    "## 🚀 6. AutoDock Vina 도킹 실행"
   ]
  },
  {
   "cell_type": "code",
   "execution_count": null,
   "id": "da13f06a",
   "metadata": {},
   "outputs": [],
   "source": [
    "!wget -q https://github.com/ccsb-scripps/AutoDock-Vina/releases/download/v1.2.3/vina_1.2.3_linux_x86_64.zip\n",
    "!unzip -q vina_1.2.3_linux_x86_64.zip\n",
    "!chmod +x vina_1.2.3_linux_x86_64/vina\n",
    "\n",
    "!vina_1.2.3_linux_x86_64/vina \\\n",
    "    --receptor receptor.pdbqt \\\n",
    "    --ligand ligand.pdbqt \\\n",
    "    --center_x 0 --center_y 0 --center_z 0 \\\n",
    "    --size_x 20 --size_y 20 --size_z 20 \\\n",
    "    --out output.pdbqt --log log.txt\n",
    "\n",
    "with open(\"log.txt\") as f:\n",
    "    lines = f.readlines()\n",
    "vina_score = None\n",
    "for line in lines:\n",
    "    if \"REMARK VINA RESULT\" in line:\n",
    "        vina_score = float(line.strip().split()[3])\n",
    "        break\n",
    "print(f\"AutoDock Vina ΔG: {vina_score} kcal/mol\")"
   ]
  },
  {
   "cell_type": "markdown",
   "id": "b6356529",
   "metadata": {},
   "source": [
    "## 🔬 7. PLIP 상호작용 분석"
   ]
  },
  {
   "cell_type": "code",
   "execution_count": null,
   "id": "95f46f69",
   "metadata": {},
   "outputs": [],
   "source": [
    "!pip install -q plip\n",
    "from plip.structure.preparation import PDBComplex\n",
    "structure = PDBComplex()\n",
    "structure.load_pdb(\"output.pdbqt\")\n",
    "structure.analyze()\n",
    "\n",
    "interaction_count = 0\n",
    "for ligand in structure.ligands:\n",
    "    inter = structure.interaction_sets[ligand]\n",
    "    interaction_count += len(inter.hbonds) + len(inter.hydrophobic_contacts) + len(inter.saltbridge_ligands)\n",
    "print(f\"총 상호작용 수: {interaction_count}\")"
   ]
  },
  {
   "cell_type": "markdown",
   "id": "92d3d5a4",
   "metadata": {},
   "source": [
    "## 🧠 8. Pafnucy 예측"
   ]
  },
  {
   "cell_type": "code",
   "execution_count": null,
   "id": "c76fa691",
   "metadata": {},
   "outputs": [],
   "source": [
    "!git clone https://github.com/oddt/pafnucy.git\n",
    "%cd pafnucy\n",
    "!pip install -q -r requirements.txt\n",
    "%cd ..\n",
    "\n",
    "!obabel output.pdbqt -O complex_final.pdb\n",
    "\n",
    "!python pafnucy/predict.py --pdb complex_final.pdb --out affinity.csv\n",
    "\n",
    "import pandas as pd\n",
    "pafnucy_df = pd.read_csv(\"affinity.csv\")\n",
    "pafnucy_affinity = float(pafnucy_df[\"predicted_affinity\"].iloc[0])\n",
    "print(f\"Pafnucy 예측 ΔG: {pafnucy_affinity}\")"
   ]
  },
  {
   "cell_type": "markdown",
   "id": "81a17302",
   "metadata": {},
   "source": [
    "## ✅ 9. 최종 종합 점수 계산"
   ]
  },
  {
   "cell_type": "code",
   "execution_count": null,
   "id": "9e945d89",
   "metadata": {},
   "outputs": [],
   "source": [
    "final_score = (-1 * vina_score) + (-1 * pafnucy_affinity) + (0.5 * interaction_count)\n",
    "print(f\"\\n✅ 최종 종합 점수: {final_score:.2f}\")"
   ]
  }
 ],
 "metadata": {},
 "nbformat": 4,
 "nbformat_minor": 5
}
