{
 "cells": [
  {
   "cell_type": "markdown",
   "id": "9994a50b",
   "metadata": {},
   "source": [
    "# 노트북2: ColabFold 구조 예측 (FASTA → PDB)"
   ]
  },
  {
   "cell_type": "code",
   "execution_count": null,
   "id": "2051c365",
   "metadata": {},
   "outputs": [],
   "source": [
    "\n",
    "!pip install --upgrade --quiet \"colabfold[alphafold]\"\n",
    "\n",
    "import os\n",
    "\n",
    "# protein.fasta와 peptide_0.fasta ~ peptide_N-1.fasta가 같은 폴더에 있다고 가정\n",
    "protein_fasta = \"protein.fasta\"\n",
    "N = 5  # 펩타이드 후보 개수에 맞게 수정\n",
    "\n",
    "merged_files = []\n",
    "pred_dirs = []\n",
    "\n",
    "for i in range(N):\n",
    "    fname = f\"complex_{i}.fasta\"\n",
    "    with open(fname, \"w\") as out, open(protein_fasta) as pro, open(f\"peptide_{i}.fasta\") as pep:\n",
    "        out.writelines(pro.readlines())\n",
    "        out.writelines(pep.readlines())\n",
    "    merged_files.append(fname)\n",
    "    pred_dirs.append(f\"prediction_complex_{i}\")\n",
    "\n",
    "for fasta_file, out_dir in zip(merged_files, pred_dirs):\n",
    "    print(f\"Running colabfold_batch for {fasta_file} → {out_dir}\")\n",
    "    !colabfold_batch {fasta_file} {out_dir}\n",
    "\n",
    "# 생성된 PDB 파일 리스트 출력\n",
    "for i, pred_dir in enumerate(pred_dirs):\n",
    "    pdb_file = f\"{pred_dir}/complex_{i}_0.pdb\"\n",
    "    if os.path.exists(pdb_file):\n",
    "        print(f\"[{i}] 구조 예측 완료: {pdb_file}\")\n",
    "    else:\n",
    "        print(f\"[{i}] ❌ 예측 실패 또는 누락: {pdb_file}\")\n"
   ]
  }
 ],
 "metadata": {},
 "nbformat": 4,
 "nbformat_minor": 5
}
