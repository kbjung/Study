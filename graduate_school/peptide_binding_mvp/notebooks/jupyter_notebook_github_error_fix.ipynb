{
 "cells": [
  {
   "cell_type": "code",
   "execution_count": 2,
   "metadata": {},
   "outputs": [],
   "source": [
    "# Jupyter에서 실행\n",
    "import json\n",
    "import nbformat\n",
    "\n",
    "# 노트북 로드\n",
    "note_book_name = '펩_파이프라인03(pTM_Vina_PLIP_PPI)'\n",
    "\n",
    "nb = nbformat.read(f'{note_book_name}.ipynb', as_version=4)\n",
    "\n",
    "# 위젯 메타데이터 제거\n",
    "if 'widgets' in nb.metadata:\n",
    "    del nb.metadata['widgets']\n",
    "\n",
    "# 저장\n",
    "nbformat.write(nb, f'{note_book_name}.ipynb')"
   ]
  },
  {
   "cell_type": "code",
   "execution_count": null,
   "metadata": {},
   "outputs": [],
   "source": []
  }
 ],
 "metadata": {
  "kernelspec": {
   "display_name": "base",
   "language": "python",
   "name": "python3"
  },
  "language_info": {
   "codemirror_mode": {
    "name": "ipython",
    "version": 3
   },
   "file_extension": ".py",
   "mimetype": "text/x-python",
   "name": "python",
   "nbconvert_exporter": "python",
   "pygments_lexer": "ipython3",
   "version": "3.12.7"
  }
 },
 "nbformat": 4,
 "nbformat_minor": 2
}
